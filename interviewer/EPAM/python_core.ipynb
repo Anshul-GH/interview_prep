{
 "cells": [
  {
   "cell_type": "code",
   "execution_count": null,
   "metadata": {},
   "outputs": [],
   "source": [
    "# What will be the output:\n",
    "sample = 'hello',\n",
    "print(type(sample))\n",
    "\n",
    "# What will be the output:\n",
    "t2 = ([1,2,3,4], [5,6,7,8])\n",
    "t2[0].append(10)\n",
    "print(t2)\n",
    "\n",
    "# What will be the output:\n",
    "a = set('abracadabra')\n",
    "print(a)\n",
    "\n",
    "# Given a list, use list slicing to get the expected output:\n",
    "lst = [1,2,3,4,5]\n",
    "# Expected Output: [5, 3, 1]"
   ]
  },
  {
   "cell_type": "code",
   "execution_count": 1,
   "metadata": {},
   "outputs": [
    {
     "data": {
      "text/plain": [
       "[]"
      ]
     },
     "execution_count": 1,
     "metadata": {},
     "output_type": "execute_result"
    }
   ],
   "source": [
    "lst = [1,2,3,4,5]\n",
    "# lst[::2][::-1]\n",
    "# lst [::-1][::2]\n",
    "# lst[::-2]\n",
    "lst[-1:-5:2]"
   ]
  },
  {
   "cell_type": "code",
   "execution_count": 2,
   "metadata": {},
   "outputs": [
    {
     "data": {
      "text/plain": [
       "[5, 3, 1]"
      ]
     },
     "execution_count": 2,
     "metadata": {},
     "output_type": "execute_result"
    }
   ],
   "source": [
    "lst[::-2]"
   ]
  },
  {
   "cell_type": "code",
   "execution_count": null,
   "metadata": {},
   "outputs": [],
   "source": []
  }
 ],
 "metadata": {
  "interpreter": {
   "hash": "aaa5c832b63eae91981a2a50352553a3961fa32ff189f781a6f1ad2872196c19"
  },
  "kernelspec": {
   "display_name": "Python 3.10.4 64-bit",
   "language": "python",
   "name": "python3"
  },
  "language_info": {
   "codemirror_mode": {
    "name": "ipython",
    "version": 3
   },
   "file_extension": ".py",
   "mimetype": "text/x-python",
   "name": "python",
   "nbconvert_exporter": "python",
   "pygments_lexer": "ipython3",
   "version": "3.10.4"
  },
  "orig_nbformat": 4
 },
 "nbformat": 4,
 "nbformat_minor": 2
}
