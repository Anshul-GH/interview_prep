{
 "metadata": {
  "language_info": {
   "codemirror_mode": {
    "name": "ipython",
    "version": 3
   },
   "file_extension": ".py",
   "mimetype": "text/x-python",
   "name": "python",
   "nbconvert_exporter": "python",
   "pygments_lexer": "ipython3",
   "version": "3.8.3"
  },
  "orig_nbformat": 2,
  "kernelspec": {
   "name": "python3",
   "display_name": "Python 3.8.3 64-bit ('base': conda)"
  },
  "interpreter": {
   "hash": "916e78022459d02449eb0e919933c0dffe7558a101efc3cf53aea168c8e1e9f5"
  }
 },
 "nbformat": 4,
 "nbformat_minor": 2,
 "cells": [
  {
   "cell_type": "code",
   "execution_count": null,
   "source": [
    "# numpy, pandas and pytest"
   ],
   "outputs": [],
   "metadata": {}
  },
  {
   "cell_type": "markdown",
   "source": [
    "## Question-1"
   ],
   "metadata": {}
  },
  {
   "cell_type": "code",
   "execution_count": null,
   "source": [
    "# 1. Given a list:\n",
    "[1,2,3,4,6,7,8,9,12,4,2,5,7,2,5,2,1,4,6,3]\n",
    "# Push all the even numbers to the front and odd numbers to the back\n",
    "# Output:\n",
    "[2,4,6,8,12,4,2,2,2,4,6,1,3,7,9,5,7,5,1,3]"
   ],
   "outputs": [],
   "metadata": {}
  },
  {
   "cell_type": "code",
   "execution_count": 1,
   "source": [
    "## Answer ##\n",
    "lst = [1,2,3,4,6,7,8,9,12,4,2,5,7,2,5,2,1,4,6,3]\n",
    "srtd = sorted(lst, key=lambda x: x % 2)\n",
    "print(srtd)\n",
    "\n",
    "sorted(lst, key=?)\n",
    "\n",
    "\n",
    "inp_arr = [1,2,3,4,6,7,8,9,12,4,2,5,7,2,5,2,1,4,6,3]\n",
    "\n",
    "\n",
    "def rearrange_list(in_arr):\n",
    "    start = 0\n",
    "    end = len(in_arr) - 1\n",
    "    \n",
    "    while start <= end:\n",
    "        if in_arr[start] % 2 == 0:\n",
    "            start += 1\n",
    "        elif in_arr[end] % 2 != 0:\n",
    "            end -= 1\n",
    "        else:\n",
    "            in_arr[start], in_arr[end] = in_arr[end], in_arr[start]\n",
    "            start += 1\n",
    "            end -= 1\n",
    "    return in_arr\n",
    "\n",
    "def using_sorted(in_arr):\n",
    "    return sorted(in_arr, key=lambda x: x % 2)"
   ],
   "outputs": [
    {
     "output_type": "stream",
     "name": "stdout",
     "text": [
      "[2, 4, 6, 8, 12, 4, 2, 2, 2, 4, 6, 1, 3, 7, 9, 5, 7, 5, 1, 3]\n"
     ]
    }
   ],
   "metadata": {}
  },
  {
   "cell_type": "markdown",
   "source": [
    "## Question-2"
   ],
   "metadata": {}
  },
  {
   "cell_type": "code",
   "execution_count": 2,
   "source": [
    "# 2. What will be the output:\n",
    "singleton = 'hello',\n",
    "print(type(singleton))"
   ],
   "outputs": [
    {
     "output_type": "stream",
     "name": "stdout",
     "text": [
      "<class 'tuple'>\n"
     ]
    }
   ],
   "metadata": {}
  },
  {
   "cell_type": "markdown",
   "source": [
    "## Question-3"
   ],
   "metadata": {}
  },
  {
   "cell_type": "code",
   "execution_count": 3,
   "source": [
    "# 3. Tuple containing values\n",
    "t2 = ([1,2,3,4], [5,6,7,8])\n",
    "# What will be the output\n",
    "t2[0].append(10)\n",
    "\n",
    "print(t2)"
   ],
   "outputs": [
    {
     "output_type": "stream",
     "name": "stdout",
     "text": [
      "([1, 2, 3, 4, 10], [5, 6, 7, 8])\n"
     ]
    }
   ],
   "metadata": {}
  },
  {
   "cell_type": "markdown",
   "source": [
    "## Question-4"
   ],
   "metadata": {}
  },
  {
   "cell_type": "code",
   "execution_count": 4,
   "source": [
    "# 4. what will be the output\r\n",
    "a = set('abracadabra')\r\n",
    "print(a)"
   ],
   "outputs": [
    {
     "output_type": "stream",
     "name": "stdout",
     "text": [
      "{'b', 'c', 'a', 'd', 'r'}\n"
     ]
    }
   ],
   "metadata": {}
  },
  {
   "cell_type": "markdown",
   "source": [
    "## Question-5"
   ],
   "metadata": {}
  },
  {
   "cell_type": "code",
   "execution_count": 1,
   "source": [
    "# 5. given a list, reverse the order using list slicing\r\n",
    "lst = [1,2,3,4,5]\r\n",
    "\r\n",
    "# Expected Output\r\n",
    "# [5,3,1]"
   ],
   "outputs": [],
   "metadata": {}
  },
  {
   "cell_type": "code",
   "execution_count": 5,
   "source": [
    "lst[::-1]\r\n",
    "# lst[::-2]"
   ],
   "outputs": [
    {
     "output_type": "execute_result",
     "data": {
      "text/plain": [
       "[5, 4, 3, 2, 1]"
      ]
     },
     "metadata": {},
     "execution_count": 5
    }
   ],
   "metadata": {}
  },
  {
   "cell_type": "markdown",
   "source": [
    "## Question-6"
   ],
   "metadata": {}
  },
  {
   "cell_type": "code",
   "execution_count": 2,
   "source": [
    "# 6. Write a code to merge two lists iteratively in such a way that:\r\n",
    "# * For each iteration, one element will be picked up from each list and added to the output list\r\n",
    "# * After each iteration, the result in the output list should always be sorted\r\n",
    "# The lists can be of different lengths so if one gets exhausted, continue the iteration with the remaining elements of the other list\r\n",
    "# Example:\r\n",
    "# Iteration1: [11,90]\r\n",
    "# Iteration2: [4,11,55,90]\r\n",
    "# Iteration3: [4,11,55,66,88,90]\r\n",
    "# Iteration4: [4,11,33,55,66,66,88,90]\r\n",
    "# Iteration5: [4,11,22,33,55,66,66,88,90]\r\n",
    "# Iteration6: [4,11,22,33,55,66,66,88,90,99]\r\n",
    "list1 = [11, 4, 88, 66]\r\n",
    "list2 = [90, 55, 66, 33, 22, 99]"
   ],
   "outputs": [],
   "metadata": {}
  },
  {
   "cell_type": "code",
   "execution_count": null,
   "source": [
    "def mergeList(lst1,lst2):\r\n",
    "    result = []\r\n",
    "    i=j=0\r\n",
    "\r\n",
    "    while i < len(lst1) and j < len(lst2):\r\n",
    "        if lst1[i]< lst2[j]:\r\n",
    "            result.append(lst1[i])\r\n",
    "            i+=1\r\n",
    "        else:\r\n",
    "            result.append(lst2[j])\r\n",
    "            j+=1\r\n",
    "    while i < len(lst1):\r\n",
    "        result.append(lst1[i])\r\n",
    "        i+=1\r\n",
    "    while j < len(lst2):\r\n",
    "        result.append(lst2[j])\r\n",
    "        j+=1"
   ],
   "outputs": [],
   "metadata": {}
  },
  {
   "cell_type": "markdown",
   "source": [
    "## Question-7"
   ],
   "metadata": {}
  },
  {
   "cell_type": "code",
   "execution_count": null,
   "source": [
    "# 7. Write a program to find two numbers that they add up to the target.\r\n",
    "Example: \r\n",
    "l1 = [3, 5, 10, 2, 90, 9, 6]\r\n",
    "target = 12\r\n",
    "Output: [[10, 2], [3,9]]"
   ],
   "outputs": [],
   "metadata": {}
  },
  {
   "cell_type": "code",
   "execution_count": null,
   "source": [
    "def find_all_nums_for_target(L, target):\r\n",
    "    D = {}\r\n",
    "    n = len(L)\r\n",
    "    \r\n",
    "    out = list()\r\n",
    "    \r\n",
    "    for i in range(n):\r\n",
    "        diff = target - L[i]\r\n",
    "        if diff in D:\r\n",
    "            out.append(L[i], diff)\r\n",
    "        D[L[i]] = True\r\n",
    "    return out\r\n",
    "    "
   ],
   "outputs": [],
   "metadata": {}
  },
  {
   "cell_type": "code",
   "execution_count": 1,
   "source": [
    "l1 = [3, 5, 10, 2, 90, 9]\r\n",
    "\r\n",
    "out_l = [[a,b] for a in l1 for b in l1 if a+b==12]"
   ],
   "outputs": [],
   "metadata": {}
  },
  {
   "cell_type": "code",
   "execution_count": 2,
   "source": [
    "out_l = [sorted([a,b]) for a in l1 for b in l1 if a+b==12]"
   ],
   "outputs": [],
   "metadata": {}
  },
  {
   "cell_type": "code",
   "execution_count": 5,
   "source": [
    "out_l.sort()"
   ],
   "outputs": [
    {
     "output_type": "execute_result",
     "data": {
      "text/plain": [
       "[[3, 9], [2, 10], [2, 10], [3, 9]]"
      ]
     },
     "metadata": {},
     "execution_count": 5
    }
   ],
   "metadata": {}
  },
  {
   "cell_type": "code",
   "execution_count": 7,
   "source": [
    "# out_l.sort()\r\n",
    "out_l"
   ],
   "outputs": [
    {
     "output_type": "execute_result",
     "data": {
      "text/plain": [
       "[[2, 10], [2, 10], [3, 9], [3, 9]]"
      ]
     },
     "metadata": {},
     "execution_count": 7
    }
   ],
   "metadata": {}
  },
  {
   "cell_type": "code",
   "execution_count": null,
   "source": [
    "for idx, val in enumerate(out_l):\n",
    "    if out_l[idx] == out_l[idx+1]:\n",
    "        "
   ],
   "outputs": [],
   "metadata": {}
  },
  {
   "cell_type": "markdown",
   "source": [
    "# Theoritical Questions"
   ],
   "metadata": {}
  },
  {
   "cell_type": "markdown",
   "source": [
    "1. What are python iterators? <br />\n",
    "Iterators are objects which can be traversed though or iterated upon.\n",
    "\n",
    "2. What is the difference between range & xrange? <br />\n",
    "Xrange doesn’t actually generate a static list at run-time like range does. It creates the values as you need them with a special technique called yielding. This technique is used with a type of object known as generators. That means that if you have a really gigantic range you’d like to generate a list for, say one billion, xrange is the function to use.\n",
    "\n",
    "3. What does this mean: *args, **kwargs? And why would we use it? <br />\n",
    "We use *args when we aren’t sure how many arguments are going to be passed to a function, or if we want to pass a stored list or tuple of arguments to a function. **kwargs is used when we don’t know how many keyword arguments will be passed to a function, or it can be used to pass the values of a dictionary as keyword arguments. The identifiers args and kwargs are a convention, you could also use *bob and **billy but that would not be wise.\n",
    "\n",
    "4. How is Multithreading achieved in Python? <br />\n",
    "Python has a multi-threading package but if you want to multi-thread to speed your code up, then it’s usually not a good idea to use it.\n",
    "Python has a construct called the Global Interpreter Lock (GIL). The GIL makes sure that only one of your ‘threads’ can execute at any one time. A thread acquires the GIL, does a little work, then passes the GIL onto the next thread.\n",
    "This happens very quickly so to the human eye it may seem like your threads are executing in parallel, but they are really just taking turns using the same CPU core.\n",
    "All this GIL passing adds overhead to execution. This means that if you want to make your code run faster then using the threading package often isn’t a good idea.\n",
    "\n",
    "\n"
   ],
   "metadata": {}
  },
  {
   "cell_type": "markdown",
   "source": [
    "- Coding style - best practices\n",
    "- Unit Testing\n",
    "- Best Practices\n",
    "- Codility - Classmarko Testing"
   ],
   "metadata": {}
  },
  {
   "cell_type": "markdown",
   "source": [
    "## Question-8"
   ],
   "metadata": {}
  },
  {
   "cell_type": "code",
   "execution_count": 7,
   "source": [
    "# 8. Which of the following is the correct indentation structure?\n",
    "a. foo = long_function_name(var_one, var_two,\n",
    "                         var_three, var_four)\n",
    "b. foo = long_function_name(var_one, var_two,\n",
    "    var_three, var_four)"
   ],
   "outputs": [],
   "metadata": {}
  },
  {
   "cell_type": "code",
   "execution_count": null,
   "source": [
    "# 6 (a)"
   ],
   "outputs": [],
   "metadata": {}
  },
  {
   "cell_type": "code",
   "execution_count": null,
   "source": [
    "# 9. Which of the following is the correct indentation structure?\r\n",
    "a.\r\n",
    "def long_function_name(\r\n",
    "    var_one, var_two, var_three,\r\n",
    "    var_four):\r\n",
    "    print(var_one)\r\n",
    "\r\n",
    "b.\r\n",
    "def long_function_name(\r\n",
    "        var_one, var_two, var_three,\r\n",
    "        var_four):\r\n",
    "    print(var_one)"
   ],
   "outputs": [],
   "metadata": {}
  },
  {
   "cell_type": "code",
   "execution_count": 8,
   "source": [
    "# 7 (b)"
   ],
   "outputs": [],
   "metadata": {}
  },
  {
   "cell_type": "markdown",
   "source": [
    "## Question-9"
   ],
   "metadata": {}
  },
  {
   "cell_type": "code",
   "execution_count": null,
   "source": [
    "# 10. Fibonacci Series Using Generators"
   ],
   "outputs": [],
   "metadata": {}
  },
  {
   "cell_type": "code",
   "execution_count": null,
   "source": [
    "import itertools as it\r\n",
    "\r\n",
    "num_iterations = int(raw_input('How many? '))\r\n",
    "def fib():\r\n",
    "    a,b = 0,1\r\n",
    "    while True:\r\n",
    "        yield a\r\n",
    "        b = a+b\r\n",
    "        yield b\r\n",
    "        a = a+b\r\n",
    "\r\n",
    "for x in it.islice(fib(), num_iterations):\r\n",
    "    print x"
   ],
   "outputs": [],
   "metadata": {}
  },
  {
   "cell_type": "code",
   "execution_count": 2,
   "source": [
    "def foo(n):\r\n",
    "    for x in range(n):\r\n",
    "        yield x**3\r\n",
    "\r\n",
    "for x in foo(5):\r\n",
    "    print x,"
   ],
   "outputs": [
    {
     "output_type": "error",
     "ename": "SyntaxError",
     "evalue": "Missing parentheses in call to 'print'. Did you mean print(x, end=\" \")? (<ipython-input-2-75bf51be6350>, line 6)",
     "traceback": [
      "\u001b[1;36m  File \u001b[1;32m\"<ipython-input-2-75bf51be6350>\"\u001b[1;36m, line \u001b[1;32m6\u001b[0m\n\u001b[1;33m    print x,\u001b[0m\n\u001b[1;37m          ^\u001b[0m\n\u001b[1;31mSyntaxError\u001b[0m\u001b[1;31m:\u001b[0m Missing parentheses in call to 'print'. Did you mean print(x, end=\" \")?\n"
     ]
    }
   ],
   "metadata": {}
  },
  {
   "cell_type": "code",
   "execution_count": 3,
   "source": [
    "b = [0,1,2,3,4,5,6,7,8,9]\r\n",
    "b[::3]"
   ],
   "outputs": [
    {
     "output_type": "execute_result",
     "data": {
      "text/plain": [
       "[0, 3, 6, 9]"
      ]
     },
     "metadata": {},
     "execution_count": 3
    }
   ],
   "metadata": {}
  },
  {
   "cell_type": "code",
   "execution_count": 6,
   "source": [
    "obj = [1, 15, 'hello', '30']"
   ],
   "outputs": [],
   "metadata": {}
  },
  {
   "cell_type": "code",
   "execution_count": 7,
   "source": [
    "type(obj)"
   ],
   "outputs": [
    {
     "output_type": "execute_result",
     "data": {
      "text/plain": [
       "list"
      ]
     },
     "metadata": {},
     "execution_count": 7
    }
   ],
   "metadata": {}
  },
  {
   "cell_type": "code",
   "execution_count": 8,
   "source": [
    "word = 'positive'\r\n",
    "word[:2]"
   ],
   "outputs": [
    {
     "output_type": "execute_result",
     "data": {
      "text/plain": [
       "'po'"
      ]
     },
     "metadata": {},
     "execution_count": 8
    }
   ],
   "metadata": {}
  },
  {
   "cell_type": "code",
   "execution_count": null,
   "source": [],
   "outputs": [],
   "metadata": {}
  }
 ]
}