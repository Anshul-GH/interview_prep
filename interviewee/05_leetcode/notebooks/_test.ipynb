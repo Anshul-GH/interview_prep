{
 "cells": [
  {
   "cell_type": "code",
   "execution_count": 7,
   "metadata": {},
   "outputs": [],
   "source": [
    "digits = [4,3,2,1]\n",
    "\n",
    "def increment_number(digits):\n",
    "    rev = digits[::-1]\n",
    "    int_num = 0\n",
    "    dec = 0\n",
    "    for num in rev:\n",
    "        int_num += num * (10**dec)\n",
    "        dec += 1\n",
    "    \n",
    "    # increment the number by 1\n",
    "    int_num += 1\n",
    "\n",
    "    # convert number into a list\n",
    "    new_digits = str(int_num)\n",
    "    new_digits = [int(digit) for digit in new_digits]\n",
    "    \n",
    "    return new_digits"
   ]
  },
  {
   "cell_type": "code",
   "execution_count": 11,
   "metadata": {},
   "outputs": [
    {
     "name": "stdout",
     "output_type": "stream",
     "text": [
      "[4, 0, 0, 0]\n"
     ]
    }
   ],
   "source": [
    "digits = [3,9,9,9]\n",
    "number = increment_number(digits)\n",
    "print(number)"
   ]
  },
  {
   "cell_type": "code",
   "execution_count": 1,
   "metadata": {},
   "outputs": [],
   "source": [
    "nums = [0,1,0,3,12]\n"
   ]
  },
  {
   "cell_type": "code",
   "execution_count": 10,
   "metadata": {},
   "outputs": [],
   "source": [
    "nums = [0,1,0,3,12] # [0] # [0,1,0,3,12]\n",
    "nums = sorted(nums, key=lambda x:x==0)"
   ]
  },
  {
   "cell_type": "code",
   "execution_count": 11,
   "metadata": {},
   "outputs": [
    {
     "data": {
      "text/plain": [
       "[1, 3, 12, 0, 0]"
      ]
     },
     "execution_count": 11,
     "metadata": {},
     "output_type": "execute_result"
    }
   ],
   "source": [
    "nums"
   ]
  },
  {
   "cell_type": "code",
   "execution_count": 12,
   "metadata": {},
   "outputs": [],
   "source": [
    "nums = [0,1,0,3,12]\n",
    "nums.sort(key=lambda x:x==0)"
   ]
  },
  {
   "cell_type": "code",
   "execution_count": 13,
   "metadata": {},
   "outputs": [
    {
     "data": {
      "text/plain": [
       "[1, 3, 12, 0, 0]"
      ]
     },
     "execution_count": 13,
     "metadata": {},
     "output_type": "execute_result"
    }
   ],
   "source": [
    "nums"
   ]
  },
  {
   "cell_type": "code",
   "execution_count": 30,
   "metadata": {},
   "outputs": [],
   "source": [
    "nums = [3,3] #[3,2,4] #[2,7,11,15]\n",
    "target = 6 #9"
   ]
  },
  {
   "cell_type": "code",
   "execution_count": 31,
   "metadata": {},
   "outputs": [],
   "source": [
    "for idx, val in enumerate(nums):\n",
    "    remain_num = target - val\n",
    "    remain_nums = nums[:idx] + nums[idx+1:] \n",
    "    if remain_num in remain_nums:\n",
    "        pair = [idx, remain_nums.index(remain_num)+1]\n",
    "        break"
   ]
  },
  {
   "cell_type": "code",
   "execution_count": 32,
   "metadata": {},
   "outputs": [
    {
     "data": {
      "text/plain": [
       "[0, 1]"
      ]
     },
     "execution_count": 32,
     "metadata": {},
     "output_type": "execute_result"
    }
   ],
   "source": [
    "pair"
   ]
  },
  {
   "cell_type": "code",
   "execution_count": 26,
   "metadata": {},
   "outputs": [
    {
     "data": {
      "text/plain": [
       "[7, 11, 15]"
      ]
     },
     "execution_count": 26,
     "metadata": {},
     "output_type": "execute_result"
    }
   ],
   "source": [
    "remain_nums"
   ]
  },
  {
   "cell_type": "code",
   "execution_count": 36,
   "metadata": {},
   "outputs": [
    {
     "data": {
      "text/plain": [
       "[]"
      ]
     },
     "execution_count": 36,
     "metadata": {},
     "output_type": "execute_result"
    }
   ],
   "source": [
    "nums[5:]"
   ]
  },
  {
   "cell_type": "code",
   "execution_count": 26,
   "metadata": {},
   "outputs": [],
   "source": [
    "# board = [\n",
    "#     [\"5\",\"3\",\".\",\".\",\"7\",\".\",\".\",\".\",\".\"]\n",
    "#     ,[\"6\",\".\",\".\",\"1\",\"9\",\"5\",\".\",\".\",\".\"]\n",
    "#     ,[\".\",\"9\",\"8\",\".\",\".\",\".\",\".\",\"6\",\".\"]\n",
    "#     ,[\"8\",\".\",\".\",\".\",\"6\",\".\",\".\",\".\",\"3\"]\n",
    "#     ,[\"4\",\".\",\".\",\"8\",\".\",\"3\",\".\",\".\",\"1\"]\n",
    "#     ,[\"7\",\".\",\".\",\".\",\"2\",\".\",\".\",\".\",\"6\"]\n",
    "#     ,[\".\",\"6\",\".\",\".\",\".\",\".\",\"2\",\"8\",\".\"]\n",
    "#     ,[\".\",\".\",\".\",\"4\",\"1\",\"9\",\".\",\".\",\"5\"]\n",
    "#     ,[\".\",\".\",\".\",\".\",\"8\",\".\",\".\",\"7\",\"9\"]\n",
    "# ]\n",
    "\n",
    "board = [[\"8\",\"3\",\".\",\".\",\"7\",\".\",\".\",\".\",\".\"]\n",
    ",[\"6\",\".\",\".\",\"1\",\"9\",\"5\",\".\",\".\",\".\"]\n",
    ",[\".\",\"9\",\"8\",\".\",\".\",\".\",\".\",\"6\",\".\"]\n",
    ",[\"8\",\".\",\".\",\".\",\"6\",\".\",\".\",\".\",\"3\"]\n",
    ",[\"4\",\".\",\".\",\"8\",\".\",\"3\",\".\",\".\",\"1\"]\n",
    ",[\"7\",\".\",\".\",\".\",\"2\",\".\",\".\",\".\",\"6\"]\n",
    ",[\".\",\"6\",\".\",\".\",\".\",\".\",\"2\",\"8\",\".\"]\n",
    ",[\".\",\".\",\".\",\"4\",\"1\",\"9\",\".\",\".\",\"5\"]\n",
    ",[\".\",\".\",\".\",\".\",\"8\",\".\",\".\",\"7\",\"9\"]]"
   ]
  },
  {
   "cell_type": "code",
   "execution_count": 27,
   "metadata": {},
   "outputs": [
    {
     "name": "stdout",
     "output_type": "stream",
     "text": [
      "False\n"
     ]
    }
   ],
   "source": [
    "# checking horizontal rows\n",
    "valid = True\n",
    "for row in board:\n",
    "    trimmed_num = [int(num) for num in row if num.isdigit()]\n",
    "    # print(trimmed_num)\n",
    "    if any((x > 9 for x in trimmed_num)):\n",
    "        valid = False\n",
    "        break\n",
    "    if len(set(trimmed_num)) != len(trimmed_num):\n",
    "        valid = False\n",
    "        break\n",
    "\n",
    "# if above test is pass, checking vertical rows\n",
    "if valid:\n",
    "    for row in board:\n",
    "        trimmed_num = [int(num) for num in row if num.isdigit()]\n",
    "        # print(trimmed_num)\n",
    "        if any((x > 9 for x in trimmed_num)):\n",
    "            valid = False\n",
    "            break\n",
    "        if len(set(trimmed_num)) != len(trimmed_num):\n",
    "            valid = False\n",
    "            break\n",
    "\n",
    "# if above test is pass, check for individual 3X3 matrix to be valid\n",
    "if valid:\n",
    "    for k in range(3):    \n",
    "        for i in range(3):\n",
    "            row = []\n",
    "            h_shft = i*3\n",
    "            for j in range(3):\n",
    "                v_shft = j*1 + k*3\n",
    "                row += board[v_shft][h_shft:h_shft+3]\n",
    "                trimmed_num = [int(num) for num in row if num.isdigit()]\n",
    "                if any((x > 9 for x in trimmed_num)):\n",
    "                    valid = False\n",
    "                    break\n",
    "                if len(set(trimmed_num)) != len(trimmed_num):\n",
    "                    valid = False\n",
    "                    break\n",
    "\n",
    "print(valid)\n",
    "    \n"
   ]
  },
  {
   "cell_type": "code",
   "execution_count": 23,
   "metadata": {},
   "outputs": [
    {
     "name": "stdout",
     "output_type": "stream",
     "text": [
      "['5', '3', '.', '6', '.', '.', '.', '9', '8']\n",
      "-------------\n",
      "['.', '7', '.', '1', '9', '5', '.', '.', '.']\n",
      "-------------\n",
      "['.', '.', '.', '.', '.', '.', '.', '6', '.']\n",
      "-------------\n",
      "['8', '.', '.', '4', '.', '.', '7', '.', '.']\n",
      "-------------\n",
      "['.', '6', '.', '8', '.', '3', '.', '2', '.']\n",
      "-------------\n",
      "['.', '.', '3', '.', '.', '1', '.', '.', '6']\n",
      "-------------\n",
      "['.', '6', '.', '.', '.', '.', '.', '.', '.']\n",
      "-------------\n",
      "['.', '.', '.', '4', '1', '9', '.', '8', '.']\n",
      "-------------\n",
      "['2', '8', '.', '.', '.', '5', '.', '7', '9']\n",
      "-------------\n"
     ]
    }
   ],
   "source": [
    "# # checking each 3X3 matrix\n",
    "# valid = True\n",
    "# h_shft = 0\n",
    "# v_shft = 3*2\n",
    "# # for h_shift in range(3):\n",
    "# #     matrix = board[3*h_shft:3*h_shft+3][v_shft:v_shft+3]\n",
    "# #     print(matrix)\n",
    "\n",
    "# # while h_shft <= 9 & v_shft <= 9:\n",
    "# #     for i in range(3):\n",
    "# #         matrix = board[i*h_shft:h_shft+3][v_shft:v_shft+3]\n",
    "# #         print(matrix)\n",
    "\n",
    "# while h_shft < 3:\n",
    "#     print(board[h_shft][v_shft:v_shft+3])\n",
    "#     h_shft = h_shft+1\n",
    "\n"
   ]
  },
  {
   "cell_type": "code",
   "execution_count": 18,
   "metadata": {},
   "outputs": [
    {
     "name": "stdout",
     "output_type": "stream",
     "text": [
      "1\n",
      "2\n",
      "3\n"
     ]
    }
   ],
   "source": [
    "for k in range(1,4):\n",
    "    print(k)"
   ]
  },
  {
   "cell_type": "code",
   "execution_count": null,
   "metadata": {},
   "outputs": [],
   "source": [
    "# ['5', '3', '.']\n",
    "# ['6', '.', '.']\n",
    "# ['.', '9', '8']\n",
    "\n",
    "# ['.', '7', '.']\n",
    "# ['1', '9', '5']\n",
    "# ['.', '.', '.']\n",
    "\n",
    "# ['.', '.', '.']\n",
    "# ['.', '.', '.']\n",
    "# ['.', '6', '.']"
   ]
  },
  {
   "cell_type": "code",
   "execution_count": 1,
   "metadata": {},
   "outputs": [],
   "source": [
    "board = [\n",
    "    [\".\",\".\",\"4\",\".\",\".\",\".\",\"6\",\"3\",\".\"],\n",
    "    [\".\",\".\",\".\",\".\",\".\",\".\",\".\",\".\",\".\"],\n",
    "    [\"5\",\".\",\".\",\".\",\".\",\".\",\".\",\"9\",\".\"],\n",
    "    [\".\",\".\",\".\",\"5\",\"6\",\".\",\".\",\".\",\".\"],\n",
    "    [\"4\",\".\",\"3\",\".\",\".\",\".\",\".\",\".\",\"1\"],\n",
    "    [\".\",\".\",\".\",\"7\",\".\",\".\",\".\",\".\",\".\"],\n",
    "    [\".\",\".\",\".\",\"5\",\".\",\".\",\".\",\".\",\".\"],\n",
    "    [\".\",\".\",\".\",\".\",\".\",\".\",\".\",\".\",\".\"],\n",
    "    [\".\",\".\",\".\",\".\",\".\",\".\",\".\",\".\",\".\"]\n",
    "]\n",
    "\n",
    "# [\n",
    "#     [\".\",\".\",\"4\",\".\",\".\",\".\",\"6\",\"3\",\".\"],\n",
    "#     [\".\",\".\",\".\",\".\",\".\",\".\",\".\",\".\",\".\"],\n",
    "#     [\"5\",\".\",\".\",\".\",\".\",\".\",\".\",\"9\",\".\"],\n",
    "#     [\".\",\".\",\".\",\"5\",\"6\",\".\",\".\",\".\",\".\"],\n",
    "#     [\"4\",\".\",\"3\",\".\",\".\",\".\",\".\",\".\",\"1\"],\n",
    "#     [\".\",\".\",\".\",\"7\",\".\",\".\",\".\",\".\",\".\"],\n",
    "#     [\".\",\".\",\".\",\"5\",\".\",\".\",\".\",\".\",\".\"],\n",
    "#     [\".\",\".\",\".\",\".\",\".\",\".\",\".\",\".\",\".\"],\n",
    "#     [\".\",\".\",\".\",\".\",\".\",\".\",\".\",\".\",\".\"]\n",
    "# ]"
   ]
  },
  {
   "cell_type": "code",
   "execution_count": 8,
   "metadata": {},
   "outputs": [],
   "source": [
    "def transpose(A,B):\n",
    "    N = len(A)\n",
    "    for i in range(N):\n",
    "        for j in range(N):\n",
    "            B[i][j] = A[j][i]\n",
    "    "
   ]
  },
  {
   "cell_type": "code",
   "execution_count": 9,
   "metadata": {},
   "outputs": [],
   "source": [
    "board_t = board[:][:]\n",
    "\n",
    "transpose(board, board_t)"
   ]
  },
  {
   "cell_type": "code",
   "execution_count": 7,
   "metadata": {},
   "outputs": [
    {
     "data": {
      "text/plain": [
       "9"
      ]
     },
     "execution_count": 7,
     "metadata": {},
     "output_type": "execute_result"
    }
   ],
   "source": [
    "len(board)"
   ]
  },
  {
   "cell_type": "code",
   "execution_count": 10,
   "metadata": {},
   "outputs": [
    {
     "data": {
      "text/plain": [
       "[['.', '.', '5', '.', '4', '.', '.', '.', '.'],\n",
       " ['.', '.', '.', '.', '.', '.', '.', '.', '.'],\n",
       " ['5', '.', '.', '.', '3', '.', '.', '.', '.'],\n",
       " ['.', '.', '.', '5', '.', '7', '5', '.', '.'],\n",
       " ['4', '.', '3', '.', '.', '.', '.', '.', '.'],\n",
       " ['.', '.', '.', '7', '.', '.', '.', '.', '.'],\n",
       " ['.', '.', '.', '5', '.', '.', '.', '.', '.'],\n",
       " ['.', '.', '.', '.', '.', '.', '.', '.', '.'],\n",
       " ['.', '.', '.', '.', '.', '.', '.', '.', '.']]"
      ]
     },
     "execution_count": 10,
     "metadata": {},
     "output_type": "execute_result"
    }
   ],
   "source": [
    "board_t"
   ]
  },
  {
   "cell_type": "code",
   "execution_count": 21,
   "metadata": {},
   "outputs": [],
   "source": [
    "board = [\n",
    "    [\".\",\".\",\"4\",\".\",\".\",\".\",\"6\",\"3\",\".\"],\n",
    "    [\".\",\".\",\".\",\".\",\".\",\".\",\".\",\".\",\".\"],\n",
    "    [\"5\",\".\",\".\",\".\",\".\",\".\",\".\",\"9\",\".\"],\n",
    "    [\".\",\".\",\".\",\"5\",\"6\",\".\",\".\",\".\",\".\"],\n",
    "    [\"4\",\".\",\"3\",\".\",\".\",\".\",\".\",\".\",\"1\"],\n",
    "    [\".\",\".\",\".\",\"7\",\".\",\".\",\".\",\".\",\".\"],\n",
    "    [\".\",\".\",\".\",\"5\",\".\",\".\",\".\",\".\",\".\"],\n",
    "    [\".\",\".\",\".\",\".\",\".\",\".\",\".\",\".\",\".\"],\n",
    "    [\".\",\".\",\".\",\".\",\".\",\".\",\".\",\".\",\".\"]\n",
    "]"
   ]
  },
  {
   "cell_type": "code",
   "execution_count": 22,
   "metadata": {},
   "outputs": [
    {
     "name": "stdout",
     "output_type": "stream",
     "text": [
      "False\n"
     ]
    }
   ],
   "source": [
    "# checking horizontal rows\n",
    "valid = True\n",
    "for row in board:\n",
    "    trimmed_num = [int(num) for num in row if num.isdigit()]\n",
    "    if any((x > 9 for x in trimmed_num)):\n",
    "        valid = False\n",
    "        break\n",
    "    if len(set(trimmed_num)) != len(trimmed_num):\n",
    "        valid = False\n",
    "        break\n",
    "\n",
    "# if above test is pass, checking vertical rows\n",
    "if valid:\n",
    "    # transpose the matrix\n",
    "    board_t = [[board[j][i] for j in range(len(board))] for i in range(len(board[0]))]\n",
    "    for row in board_t:\n",
    "        trimmed_num = [int(num) for num in row if num.isdigit()]\n",
    "        if any((x > 9 for x in trimmed_num)):\n",
    "            valid = False\n",
    "            break\n",
    "        if len(set(trimmed_num)) != len(trimmed_num):\n",
    "            valid = False\n",
    "            break\n",
    "\n",
    "# if above test is pass, check for individual 3X3 matrix to be valid\n",
    "if valid:\n",
    "    for k in range(3):    \n",
    "        for i in range(3):\n",
    "            row = []\n",
    "            h_shft = i*3\n",
    "            for j in range(3):\n",
    "                v_shft = j*1 + k*3\n",
    "                row += board[v_shft][h_shft:h_shft+3]\n",
    "                trimmed_num = [int(num) for num in row if num.isdigit()]\n",
    "                if any((x > 9 for x in trimmed_num)):\n",
    "                    valid = False\n",
    "                    break\n",
    "                if len(set(trimmed_num)) != len(trimmed_num):\n",
    "                    valid = False\n",
    "                    break\n",
    "\n",
    "print(valid)"
   ]
  },
  {
   "cell_type": "code",
   "execution_count": null,
   "metadata": {},
   "outputs": [],
   "source": []
  },
  {
   "cell_type": "code",
   "execution_count": 17,
   "metadata": {},
   "outputs": [],
   "source": [
    "board_t = [[board[j][i] for j in range(len(board))] for i in range(len(board[0]))]"
   ]
  },
  {
   "cell_type": "code",
   "execution_count": 18,
   "metadata": {},
   "outputs": [
    {
     "data": {
      "text/plain": [
       "[['.', '.', '5', '.', '4', '.', '.', '.', '.'],\n",
       " ['.', '.', '.', '.', '.', '.', '.', '.', '.'],\n",
       " ['4', '.', '.', '.', '3', '.', '.', '.', '.'],\n",
       " ['.', '.', '.', '5', '.', '7', '5', '.', '.'],\n",
       " ['.', '.', '.', '6', '.', '.', '.', '.', '.'],\n",
       " ['.', '.', '.', '.', '.', '.', '.', '.', '.'],\n",
       " ['6', '.', '.', '.', '.', '.', '.', '.', '.'],\n",
       " ['3', '.', '9', '.', '.', '.', '.', '.', '.'],\n",
       " ['.', '.', '.', '.', '1', '.', '.', '.', '.']]"
      ]
     },
     "execution_count": 18,
     "metadata": {},
     "output_type": "execute_result"
    }
   ],
   "source": [
    "board_t"
   ]
  },
  {
   "cell_type": "code",
   "execution_count": 14,
   "metadata": {},
   "outputs": [
    {
     "name": "stdout",
     "output_type": "stream",
     "text": [
      "['.', '.', '5', '.', '4', '.', '.', '.', '.']\n",
      "['.', '.', '.', '.', '.', '.', '.', '.', '.']\n",
      "['5', '.', '.', '.', '3', '.', '.', '.', '.']\n",
      "['.', '.', '.', '5', '.', '7', '5', '.', '.']\n",
      "['4', '.', '3', '.', '.', '.', '.', '.', '.']\n",
      "['.', '.', '.', '7', '.', '.', '.', '.', '.']\n",
      "['.', '.', '.', '5', '.', '.', '.', '.', '.']\n",
      "['.', '.', '.', '.', '.', '.', '.', '.', '.']\n",
      "['.', '.', '.', '.', '.', '.', '.', '.', '.']\n"
     ]
    }
   ],
   "source": [
    "for r in board_t:\n",
    "    print(r)"
   ]
  },
  {
   "cell_type": "code",
   "execution_count": 15,
   "metadata": {},
   "outputs": [
    {
     "name": "stdout",
     "output_type": "stream",
     "text": [
      "['.', '.', '5', '.', '4', '.', '.', '.', '.']\n",
      "['.', '.', '.', '.', '.', '.', '.', '.', '.']\n",
      "['5', '.', '.', '.', '3', '.', '.', '.', '.']\n",
      "['.', '.', '.', '5', '.', '7', '5', '.', '.']\n",
      "['4', '.', '3', '.', '.', '.', '.', '.', '.']\n",
      "['.', '.', '.', '7', '.', '.', '.', '.', '.']\n",
      "['.', '.', '.', '5', '.', '.', '.', '.', '.']\n",
      "['.', '.', '.', '.', '.', '.', '.', '.', '.']\n",
      "['.', '.', '.', '.', '.', '.', '.', '.', '.']\n"
     ]
    }
   ],
   "source": [
    "for r in board:\n",
    "    print(r)"
   ]
  },
  {
   "cell_type": "code",
   "execution_count": 33,
   "metadata": {},
   "outputs": [],
   "source": [
    "mat = [[5,1,9,11],[2,4,8,10],[13,3,6,7],[15,14,12,16]] #[[1,2],[3,4]]"
   ]
  },
  {
   "cell_type": "code",
   "execution_count": 34,
   "metadata": {},
   "outputs": [],
   "source": [
    "mat_t = [[mat[j][i] for j in range(len(mat))][::-1] for i in range(len(mat[0]))]\n"
   ]
  },
  {
   "cell_type": "code",
   "execution_count": 35,
   "metadata": {},
   "outputs": [
    {
     "data": {
      "text/plain": [
       "[[15, 13, 2, 5], [14, 3, 4, 1], [12, 6, 8, 9], [16, 7, 10, 11]]"
      ]
     },
     "execution_count": 35,
     "metadata": {},
     "output_type": "execute_result"
    }
   ],
   "source": [
    "mat_t"
   ]
  },
  {
   "cell_type": "code",
   "execution_count": 36,
   "metadata": {},
   "outputs": [
    {
     "name": "stdout",
     "output_type": "stream",
     "text": [
      "[5, 1, 9, 11]\n",
      "[2, 4, 8, 10]\n",
      "[13, 3, 6, 7]\n",
      "[15, 14, 12, 16]\n"
     ]
    }
   ],
   "source": [
    "for val in mat:\n",
    "    print(val)"
   ]
  },
  {
   "cell_type": "code",
   "execution_count": 37,
   "metadata": {},
   "outputs": [
    {
     "name": "stdout",
     "output_type": "stream",
     "text": [
      "[15, 13, 2, 5]\n",
      "[14, 3, 4, 1]\n",
      "[12, 6, 8, 9]\n",
      "[16, 7, 10, 11]\n"
     ]
    }
   ],
   "source": [
    "for val in mat_t:\n",
    "    print(val)"
   ]
  },
  {
   "cell_type": "code",
   "execution_count": 38,
   "metadata": {},
   "outputs": [
    {
     "name": "stdout",
     "output_type": "stream",
     "text": [
      "[[5, 1, 9, 11], [2, 4, 8, 10], [13, 3, 6, 7], [15, 14, 12, 16]]\n",
      "[[15, 13, 2, 5], [14, 3, 4, 1], [12, 6, 8, 9], [16, 7, 10, 11]]\n"
     ]
    }
   ],
   "source": [
    "matrix = [[5,1,9,11],[2,4,8,10],[13,3,6,7],[15,14,12,16]]\n",
    "print(matrix)\n",
    "matrix = [[matrix[j][i] for j in range(len(matrix))][::-1] for i in range(len(matrix[0]))]\n",
    "print(matrix)"
   ]
  },
  {
   "cell_type": "code",
   "execution_count": 2,
   "metadata": {},
   "outputs": [],
   "source": [
    "# remove duplicates in sorted array\n",
    "nums = [0,0,1,1,1,2,2,3,3,4] # [1,1,2]\n",
    "# nums.sort(key=lambda x:)"
   ]
  },
  {
   "cell_type": "code",
   "execution_count": 5,
   "metadata": {},
   "outputs": [],
   "source": [
    "mask = [(lambda idx:nums[idx] != nums[idx+1])(idx) for idx in range(len(nums)-1)] + [True]"
   ]
  },
  {
   "cell_type": "code",
   "execution_count": 6,
   "metadata": {},
   "outputs": [
    {
     "data": {
      "text/plain": [
       "[False, True, False, False, True, False, True, False, True, True]"
      ]
     },
     "execution_count": 6,
     "metadata": {},
     "output_type": "execute_result"
    }
   ],
   "source": [
    "mask"
   ]
  },
  {
   "cell_type": "code",
   "execution_count": 10,
   "metadata": {},
   "outputs": [
    {
     "ename": "SyntaxError",
     "evalue": "Generator expression must be parenthesized (<ipython-input-10-753536e440da>, line 1)",
     "output_type": "error",
     "traceback": [
      "\u001b[1;36m  File \u001b[1;32m\"<ipython-input-10-753536e440da>\"\u001b[1;36m, line \u001b[1;32m1\u001b[0m\n\u001b[1;33m    list(filter((lambda idx:nums[idx] != nums[idx+1])(idx) for idx in range(len(nums)-1), nums))\u001b[0m\n\u001b[1;37m                ^\u001b[0m\n\u001b[1;31mSyntaxError\u001b[0m\u001b[1;31m:\u001b[0m Generator expression must be parenthesized\n"
     ]
    }
   ],
   "source": [
    "list(filter((lambda idx:nums[idx] != nums[idx+1])(idx) for idx in range(len(nums)-1), nums))"
   ]
  },
  {
   "cell_type": "code",
   "execution_count": null,
   "metadata": {},
   "outputs": [],
   "source": []
  },
  {
   "cell_type": "code",
   "execution_count": null,
   "metadata": {},
   "outputs": [],
   "source": []
  },
  {
   "cell_type": "code",
   "execution_count": null,
   "metadata": {},
   "outputs": [],
   "source": []
  },
  {
   "cell_type": "code",
   "execution_count": 6,
   "metadata": {},
   "outputs": [
    {
     "data": {
      "text/plain": [
       "[0, 1, 4, 9, 16, 25, 36, 49, 64, 81]"
      ]
     },
     "execution_count": 6,
     "metadata": {},
     "output_type": "execute_result"
    }
   ],
   "source": [
    "f = lambda x: x*x\n",
    "[f(x) for x in range(10)]"
   ]
  },
  {
   "cell_type": "code",
   "execution_count": 7,
   "metadata": {},
   "outputs": [
    {
     "data": {
      "text/plain": [
       "[<function __main__.<listcomp>.<lambda>(x)>,\n",
       " <function __main__.<listcomp>.<lambda>(x)>,\n",
       " <function __main__.<listcomp>.<lambda>(x)>,\n",
       " <function __main__.<listcomp>.<lambda>(x)>,\n",
       " <function __main__.<listcomp>.<lambda>(x)>,\n",
       " <function __main__.<listcomp>.<lambda>(x)>,\n",
       " <function __main__.<listcomp>.<lambda>(x)>,\n",
       " <function __main__.<listcomp>.<lambda>(x)>,\n",
       " <function __main__.<listcomp>.<lambda>(x)>,\n",
       " <function __main__.<listcomp>.<lambda>(x)>]"
      ]
     },
     "execution_count": 7,
     "metadata": {},
     "output_type": "execute_result"
    }
   ],
   "source": [
    "[lambda x: x*x for x in range(10)]"
   ]
  },
  {
   "cell_type": "code",
   "execution_count": 1,
   "metadata": {},
   "outputs": [],
   "source": [
    "# stock trading\n",
    "prices = [7,1,5,3,6,4]"
   ]
  },
  {
   "cell_type": "code",
   "execution_count": 4,
   "metadata": {},
   "outputs": [],
   "source": [
    "diff_dict = {}\n",
    "\n",
    "for idx, val in enumerate(prices):\n",
    "    diff_dict[val] = [0]*len(prices)\n",
    "    for i in range(idx+1, len(prices)):\n",
    "        diff_dict[val][i] = prices[i] - val"
   ]
  },
  {
   "cell_type": "code",
   "execution_count": 5,
   "metadata": {},
   "outputs": [
    {
     "data": {
      "text/plain": [
       "{7: [0, -6, -2, -4, -1, -3],\n",
       " 1: [0, 0, 4, 2, 5, 3],\n",
       " 5: [0, 0, 0, -2, 1, -1],\n",
       " 3: [0, 0, 0, 0, 3, 1],\n",
       " 6: [0, 0, 0, 0, 0, -2],\n",
       " 4: [0, 0, 0, 0, 0, 0]}"
      ]
     },
     "execution_count": 5,
     "metadata": {},
     "output_type": "execute_result"
    }
   ],
   "source": [
    "diff_dict"
   ]
  },
  {
   "cell_type": "code",
   "execution_count": 11,
   "metadata": {},
   "outputs": [],
   "source": [
    "mat = [[5,1,9,11],[2,4,8,10],[13,3,6,7],[15,14,12,16]]"
   ]
  },
  {
   "cell_type": "code",
   "execution_count": 7,
   "metadata": {},
   "outputs": [
    {
     "data": {
      "text/plain": [
       "<map at 0x1ff5bdfcac0>"
      ]
     },
     "execution_count": 7,
     "metadata": {},
     "output_type": "execute_result"
    }
   ],
   "source": [
    "map(list, zip(*mat))"
   ]
  },
  {
   "cell_type": "code",
   "execution_count": 9,
   "metadata": {},
   "outputs": [],
   "source": [
    "mat.sort()"
   ]
  },
  {
   "cell_type": "code",
   "execution_count": 10,
   "metadata": {},
   "outputs": [
    {
     "data": {
      "text/plain": [
       "[[2, 4, 8, 10], [5, 1, 9, 11], [13, 3, 6, 7], [15, 14, 12, 16]]"
      ]
     },
     "execution_count": 10,
     "metadata": {},
     "output_type": "execute_result"
    }
   ],
   "source": [
    "mat"
   ]
  },
  {
   "cell_type": "code",
   "execution_count": 1,
   "metadata": {},
   "outputs": [],
   "source": [
    "s = [\"h\",\"e\",\"l\",\"l\",\"o\"]"
   ]
  },
  {
   "cell_type": "code",
   "execution_count": 2,
   "metadata": {},
   "outputs": [],
   "source": [
    "s.reverse()"
   ]
  },
  {
   "cell_type": "code",
   "execution_count": 3,
   "metadata": {},
   "outputs": [
    {
     "data": {
      "text/plain": [
       "['o', 'l', 'l', 'e', 'h']"
      ]
     },
     "execution_count": 3,
     "metadata": {},
     "output_type": "execute_result"
    }
   ],
   "source": [
    "s"
   ]
  },
  {
   "cell_type": "code",
   "execution_count": 11,
   "metadata": {},
   "outputs": [],
   "source": [
    "x = 123\n",
    "\n",
    "# x_rev = int(''.join(list(str(x)).reverse()))"
   ]
  },
  {
   "cell_type": "code",
   "execution_count": 23,
   "metadata": {},
   "outputs": [
    {
     "name": "stdout",
     "output_type": "stream",
     "text": [
      "-4294967296\n",
      "0\n"
     ]
    }
   ],
   "source": [
    "x = -2**32 #210 # 123\n",
    "print(x)\n",
    "if x < 0:\n",
    "    neg = True\n",
    "x_rev = list(str(abs(x)))\n",
    "x_rev.reverse()\n",
    "x_rev = int(''.join(x_rev))\n",
    "if neg:\n",
    "    x_rev = x_rev*-1\n",
    "if (-0xffffffff) < abs(x_rev) < (0xffffffff - 1):\n",
    "    print(x_rev)\n",
    "else:\n",
    "    print(0)"
   ]
  },
  {
   "cell_type": "code",
   "execution_count": 17,
   "metadata": {},
   "outputs": [],
   "source": [
    "def reverse_num(x):\n",
    "    neg = False\n",
    "    if x < 0:\n",
    "        neg = True\n",
    "    x_rev = list(str(abs(x)))\n",
    "    x_rev.reverse()\n",
    "    x_rev = int(''.join(x_rev))\n",
    "    if neg:\n",
    "        x_rev = x_rev*-1\n",
    "    if (-0xffffffff) < abs(x_rev) < (0xffffffff - 1):\n",
    "        return x_rev\n",
    "    else:\n",
    "        return 0\n"
   ]
  },
  {
   "cell_type": "code",
   "execution_count": 18,
   "metadata": {},
   "outputs": [],
   "source": [
    "num = 1563847412\n",
    "rev = reverse_num(num)"
   ]
  },
  {
   "cell_type": "code",
   "execution_count": 19,
   "metadata": {},
   "outputs": [
    {
     "data": {
      "text/plain": [
       "2147483651"
      ]
     },
     "execution_count": 19,
     "metadata": {},
     "output_type": "execute_result"
    }
   ],
   "source": [
    "rev"
   ]
  },
  {
   "cell_type": "code",
   "execution_count": null,
   "metadata": {},
   "outputs": [],
   "source": [
    "# Input: s = \"leetcode\"\n",
    "# Output: 0\n",
    "\n",
    "# Example 2:\n",
    "\n",
    "# Input: s = \"loveleetcode\"\n",
    "# Output: 2\n",
    "\n",
    "# Example 3:\n",
    "\n",
    "# Input: s = \"aabb\"\n",
    "# Output: -1"
   ]
  },
  {
   "cell_type": "code",
   "execution_count": 12,
   "metadata": {},
   "outputs": [],
   "source": [
    "import pandas as pd\n",
    "\n",
    "s = 'loveleetcode'\n",
    "s_list = list(s)\n",
    "s_copy = s_list.copy()\n",
    "s_copy.sort()"
   ]
  },
  {
   "cell_type": "code",
   "execution_count": 10,
   "metadata": {},
   "outputs": [],
   "source": [
    "def get_unique(arr):\n",
    "    uniq_lst = []\n",
    "    n = len(arr)\n",
    "    if arr[0] != arr[1]:\n",
    "        uniq_lst.append(arr[0])\n",
    " \n",
    "    # Check for all the elements\n",
    "    # if it is different its\n",
    "    # adjacent elements\n",
    "    for i in range(1, n - 1):\n",
    "        if (arr[i] != arr[i + 1] and\n",
    "            arr[i] != arr[i - 1]):\n",
    "            uniq_lst.append(arr[i])\n",
    " \n",
    "    # Check for the last element\n",
    "    if arr[n - 2] != arr[n - 1]:\n",
    "        uniq_lst.append(arr[n-1])\n",
    "\n",
    "    return uniq_lst"
   ]
  },
  {
   "cell_type": "code",
   "execution_count": 13,
   "metadata": {},
   "outputs": [],
   "source": [
    "s_uniq = get_unique(s_copy)"
   ]
  },
  {
   "cell_type": "code",
   "execution_count": 14,
   "metadata": {},
   "outputs": [
    {
     "data": {
      "text/plain": [
       "['c', 'd', 't', 'v']"
      ]
     },
     "execution_count": 14,
     "metadata": {},
     "output_type": "execute_result"
    }
   ],
   "source": [
    "s_uniq"
   ]
  },
  {
   "cell_type": "code",
   "execution_count": 15,
   "metadata": {},
   "outputs": [
    {
     "name": "stdout",
     "output_type": "stream",
     "text": [
      "2\n"
     ]
    }
   ],
   "source": [
    "for idx, val in enumerate(s_list):\n",
    "    if val in s_uniq:\n",
    "        print(idx)\n",
    "        break"
   ]
  },
  {
   "cell_type": "code",
   "execution_count": 2,
   "metadata": {},
   "outputs": [],
   "source": [
    "def firstUniqChar(s):\n",
    "    def get_unique(arr):\n",
    "        uniq_lst = []\n",
    "        n = len(arr)\n",
    "        if arr[0] != arr[1]:\n",
    "            uniq_lst.append(arr[0])\n",
    "\n",
    "        # Check for all the elements\n",
    "        # if it is different its\n",
    "        # adjacent elements\n",
    "        for i in range(1, n - 1):\n",
    "            if (arr[i] != arr[i + 1] and\n",
    "                arr[i] != arr[i - 1]):\n",
    "                uniq_lst.append(arr[i])\n",
    "\n",
    "        # Check for the last element\n",
    "        if arr[n - 2] != arr[n - 1]:\n",
    "            uniq_lst.append(arr[n-1])\n",
    "\n",
    "        return uniq_lst\n",
    "    \n",
    "    if len(s) > 1:\n",
    "        s_list = list(s)\n",
    "        s_copy = s_list.copy()\n",
    "        s_copy.sort()\n",
    "\n",
    "        s_uniq = get_unique(s_copy)\n",
    "\n",
    "        pos = -1\n",
    "        for idx, val in enumerate(s_list):\n",
    "            if val in s_uniq:\n",
    "                pos = idx\n",
    "                break\n",
    "    elif len(s) == 1:\n",
    "        pos = 0\n",
    "    else:\n",
    "        pos = -1\n",
    "    return pos\n"
   ]
  },
  {
   "cell_type": "code",
   "execution_count": 3,
   "metadata": {},
   "outputs": [
    {
     "name": "stdout",
     "output_type": "stream",
     "text": [
      "0\n"
     ]
    }
   ],
   "source": [
    "# s = 'loveleetcode'\n",
    "s = 'z'\n",
    "pos = firstUniqChar(s)\n",
    "print(pos)"
   ]
  },
  {
   "cell_type": "code",
   "execution_count": 6,
   "metadata": {},
   "outputs": [],
   "source": [
    "for i in range(1,1):\n",
    "    print(i)"
   ]
  },
  {
   "cell_type": "code",
   "execution_count": 5,
   "metadata": {},
   "outputs": [],
   "source": [
    "## anagram\n",
    "s = \"anagram\"\n",
    "t = \"nagaram\"\n",
    "\n",
    "s_sort = sorted(s)\n",
    "t_sort = sorted(t)"
   ]
  },
  {
   "cell_type": "code",
   "execution_count": 7,
   "metadata": {},
   "outputs": [
    {
     "name": "stdout",
     "output_type": "stream",
     "text": [
      "['a', 'a', 'a', 'g', 'm', 'n', 'r']\n",
      "['a', 'a', 'a', 'g', 'm', 'n', 'r']\n",
      "True\n"
     ]
    }
   ],
   "source": [
    "print(s_sort)\n",
    "print(t_sort)\n",
    "\n",
    "print(s_sort == t_sort)\n"
   ]
  },
  {
   "cell_type": "code",
   "execution_count": 8,
   "metadata": {},
   "outputs": [],
   "source": [
    "def isAnagram(s, t):\n",
    "    s_sort = sorted(s)\n",
    "    t_sort = sorted(t)\n",
    "\n",
    "    return (s_sort == t_sort)"
   ]
  },
  {
   "cell_type": "code",
   "execution_count": 10,
   "metadata": {},
   "outputs": [
    {
     "data": {
      "text/plain": [
       "False"
      ]
     },
     "execution_count": 10,
     "metadata": {},
     "output_type": "execute_result"
    }
   ],
   "source": [
    "## anagram\n",
    "s = 'rat' #\"anagram\"\n",
    "t = 'cat' #\"nagaram\"\n",
    "\n",
    "s_sort = sorted(s)\n",
    "t_sort = sorted(t)\n",
    "\n",
    "isAnagram(s,t)"
   ]
  },
  {
   "cell_type": "code",
   "execution_count": 4,
   "metadata": {},
   "outputs": [
    {
     "ename": "TypeError",
     "evalue": "unhashable type: 'list'",
     "output_type": "error",
     "traceback": [
      "\u001b[0;31m---------------------------------------------------------------------------\u001b[0m",
      "\u001b[0;31mTypeError\u001b[0m                                 Traceback (most recent call last)",
      "Cell \u001b[0;32mIn[4], line 2\u001b[0m\n\u001b[1;32m      1\u001b[0m lsts \u001b[38;5;241m=\u001b[39m [[\u001b[38;5;241m0\u001b[39m,\u001b[38;5;241m1\u001b[39m,\u001b[38;5;241m-\u001b[39m\u001b[38;5;241m1\u001b[39m],[\u001b[38;5;241m-\u001b[39m\u001b[38;5;241m1\u001b[39m,\u001b[38;5;241m0\u001b[39m,\u001b[38;5;241m1\u001b[39m],[\u001b[38;5;241m-\u001b[39m\u001b[38;5;241m1\u001b[39m,\u001b[38;5;241m2\u001b[39m,\u001b[38;5;241m-\u001b[39m\u001b[38;5;241m1\u001b[39m]]\n\u001b[0;32m----> 2\u001b[0m set_lsts \u001b[38;5;241m=\u001b[39m \u001b[38;5;28;43mset\u001b[39;49m\u001b[43m(\u001b[49m\u001b[43mlsts\u001b[49m\u001b[43m)\u001b[49m\n",
      "\u001b[0;31mTypeError\u001b[0m: unhashable type: 'list'"
     ]
    }
   ],
   "source": [
    "lsts = [[0,1,-1],[-1,0,1],[-1,2,-1]]\n",
    "set_lsts = set(lsts)"
   ]
  },
  {
   "cell_type": "code",
   "execution_count": 5,
   "metadata": {},
   "outputs": [],
   "source": [
    "def threeSum(nums):\n",
    "    valid_triplets = set()\n",
    "\n",
    "    # iterate over all possible triplets\n",
    "    len_nums = len(nums)\n",
    "    for i in range(len_nums):\n",
    "        for j in range(i+1, len_nums):\n",
    "            for k in range(j+1, len_nums):\n",
    "                if nums[i] + nums[j] + nums[k] == 0:\n",
    "                    valid_triplets.add((nums[i], nums[j], nums[k]))\n",
    "\n",
    "    return list(valid_triplets)"
   ]
  },
  {
   "cell_type": "code",
   "execution_count": 7,
   "metadata": {},
   "outputs": [
    {
     "name": "stdout",
     "output_type": "stream",
     "text": [
      "[(0, 1, -1), (-1, 0, 1), (-1, 2, -1)]\n"
     ]
    }
   ],
   "source": [
    "nums = [-1,0,1,2,-1,-4]\n",
    "\n",
    "print(threeSum(nums))"
   ]
  },
  {
   "cell_type": "code",
   "execution_count": 9,
   "metadata": {},
   "outputs": [
    {
     "data": {
      "text/plain": [
       "{(-1, 0, 1), (-1, 2, -1), (0, 1, -1)}"
      ]
     },
     "execution_count": 9,
     "metadata": {},
     "output_type": "execute_result"
    }
   ],
   "source": [
    "test = [(0, 1, -1), (-1, 0, 1), (-1, 2, -1)]\n",
    "set(test)"
   ]
  },
  {
   "cell_type": "code",
   "execution_count": null,
   "metadata": {},
   "outputs": [],
   "source": []
  }
 ],
 "metadata": {
  "interpreter": {
   "hash": "fc384f7e1c802d762e8ae2d35493986cf4d8dfda21fbfcf3845d3480326ba56e"
  },
  "kernelspec": {
   "display_name": "Python 3.8.8 ('base')",
   "language": "python",
   "name": "python3"
  },
  "language_info": {
   "codemirror_mode": {
    "name": "ipython",
    "version": 3
   },
   "file_extension": ".py",
   "mimetype": "text/x-python",
   "name": "python",
   "nbconvert_exporter": "python",
   "pygments_lexer": "ipython3",
   "version": "3.8.8"
  },
  "orig_nbformat": 4
 },
 "nbformat": 4,
 "nbformat_minor": 2
}
