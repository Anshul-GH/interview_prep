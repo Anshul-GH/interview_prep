{
 "cells": [
  {
   "cell_type": "code",
   "execution_count": null,
   "metadata": {},
   "outputs": [],
   "source": [
    "# 1. How do we define a static function within a class? Can you write the syntax?\n",
    "# 2. Multilevel and Multiple Inheritance?\n",
    "# 3. What is the use of super keyword?\n",
    "# 4. What is the famous diamond shaped problem with inheritance?\n",
    "\n",
    "# 5. Can you identify the issue with the code below:\n",
    "class Employee:\n",
    "    def employeeDetails():\n",
    "        self.name = 'Matthew'\n",
    "        print(\"Name: \", self.name)\n",
    "        self.age = 30\n",
    "        print(\"Age: \", self.age)\n",
    "\n",
    "if __name__ == \"__main__\":\n",
    "    employee = Employee()\n",
    "    Employee.employeeDetails(employee)"
   ]
  },
  {
   "cell_type": "markdown",
   "metadata": {},
   "source": [
    "class A\n",
    "def m1():\n",
    "    a=1\n",
    "    b=2\n",
    "    return a + b\n",
    "\n",
    "class B(A)\n",
    "def m1()\n",
    "    a=1\n",
    "    b=2\n",
    "    return a - b\n",
    "\n",
    "class C(A)\n",
    "def m1():\n",
    "    a=1\n",
    "    b=2\n",
    "    return a % b\n",
    "\n",
    "class D(B, C)\n",
    "def m2():\n",
    "    pass\n",
    "\n",
    "obj_D = D()\n",
    "obj_D.m1()"
   ]
  }
 ],
 "metadata": {
  "language_info": {
   "name": "python"
  },
  "orig_nbformat": 4
 },
 "nbformat": 4,
 "nbformat_minor": 2
}
