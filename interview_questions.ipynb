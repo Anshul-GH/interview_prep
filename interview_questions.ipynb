{
 "metadata": {
  "language_info": {
   "codemirror_mode": {
    "name": "ipython",
    "version": 3
   },
   "file_extension": ".py",
   "mimetype": "text/x-python",
   "name": "python",
   "nbconvert_exporter": "python",
   "pygments_lexer": "ipython3",
   "version": "3.8.2-final"
  },
  "orig_nbformat": 2,
  "kernelspec": {
   "name": "python38264bitpy38conda74b30bb8bfed4d658f77b9f4e62a4da3",
   "display_name": "Python 3.8.2 64-bit ('py38': conda)"
  }
 },
 "nbformat": 4,
 "nbformat_minor": 2,
 "cells": [
  {
   "cell_type": "code",
   "execution_count": 1,
   "metadata": {},
   "outputs": [
    {
     "output_type": "execute_result",
     "data": {
      "text/plain": [
       "[2, 4, 6, 8, 12, 4, 2, 2, 2, 4, 6, 1, 3, 7, 9, 5, 7, 5, 1, 3]"
      ]
     },
     "metadata": {},
     "execution_count": 1
    }
   ],
   "source": [
    "# 1. Given a list:\n",
    "[1,2,3,4,6,7,8,9,12,4,2,5,7,2,5,2,1,4,6,3]\n",
    "# Push all the even numbers to the front and odd numbers to the back\n",
    "# Output:\n",
    "[2,4,6,8,12,4,2,2,2,4,6,1,3,7,9,5,7,5,1,3]"
   ]
  },
  {
   "cell_type": "code",
   "execution_count": 2,
   "metadata": {},
   "outputs": [],
   "source": [
    "# 2. What will be the output:\n",
    "singleton = 'hello',\n",
    "print(type(singleton))"
   ]
  },
  {
   "cell_type": "code",
   "execution_count": 3,
   "metadata": {},
   "outputs": [],
   "source": [
    "# 3. tuples can contain lists\n",
    "t2 = ([1,2,3,4], [5,6,7,8])\n",
    "# What will be the output\n",
    "t2[0].append(10)\n",
    "\n",
    "print(t2)"
   ]
  },
  {
   "cell_type": "code",
   "execution_count": 4,
   "metadata": {},
   "outputs": [
    {
     "output_type": "stream",
     "name": "stdout",
     "text": [
      "{'b', 'r', 'd', 'a', 'c'}\n"
     ]
    }
   ],
   "source": [
    "# 4. what will be the output\n",
    "a = set('abracadabra')\n",
    "print(a)"
   ]
  },
  {
   "cell_type": "code",
   "execution_count": null,
   "metadata": {},
   "outputs": [],
   "source": []
  }
 ]
}