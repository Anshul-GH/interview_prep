{
 "cells": [
  {
   "cell_type": "code",
   "execution_count": 4,
   "metadata": {},
   "outputs": [],
   "source": [
    "def flag_duplicates(arr):\n",
    "    uniq_arr = list(set(arr))\n",
    "\n",
    "    if len(arr) == len(uniq_arr):\n",
    "        return True\n",
    "    else:\n",
    "        return False"
   ]
  },
  {
   "cell_type": "code",
   "execution_count": 5,
   "metadata": {},
   "outputs": [
    {
     "data": {
      "text/plain": [
       "True"
      ]
     },
     "execution_count": 5,
     "metadata": {},
     "output_type": "execute_result"
    }
   ],
   "source": [
    "arr = [1,2,3,4,5,6,7,0,9,8,7,6,5,4,3]\n",
    "arr = [1,2,3,4,5]\n",
    "\n",
    "flag_duplicates(arr)"
   ]
  },
  {
   "cell_type": "code",
   "execution_count": 6,
   "metadata": {},
   "outputs": [],
   "source": [
    "# Example 1:\n",
    "# Input: nums1 = [1,2,2,1], nums2 = [2,2]\n",
    "# Output: [2,2]"
   ]
  },
  {
   "cell_type": "code",
   "execution_count": 1,
   "metadata": {},
   "outputs": [],
   "source": [
    "def find_common(arr1, arr2):\n",
    "    arr1.sort()\n",
    "    arr2.sort()\n",
    "\n",
    "    intersect = []\n",
    "\n",
    "    if len(arr1) < len(arr2):\n",
    "        for num in arr1:\n",
    "            if num in arr2:\n",
    "                intersect.append(num)\n",
    "                arr2.remove(num)\n",
    "    else:\n",
    "        for num in arr2:\n",
    "            if num in arr1:\n",
    "                intersect.append(num)\n",
    "                arr1.remove(num)\n",
    "\n",
    "    return intersect\n"
   ]
  },
  {
   "cell_type": "code",
   "execution_count": 2,
   "metadata": {},
   "outputs": [
    {
     "name": "stdout",
     "output_type": "stream",
     "text": [
      "[2, 2]\n"
     ]
    }
   ],
   "source": [
    "nums1 = [1,2,2,1]\n",
    "nums2 = [2,2]\n",
    "\n",
    "print(find_common(nums1, nums2))"
   ]
  },
  {
   "cell_type": "code",
   "execution_count": 27,
   "metadata": {},
   "outputs": [],
   "source": [
    "# find missing number\n",
    "def find_missing_number(nums):\n",
    "    nums.sort()\n",
    "    idx = 0    \n",
    "    while(idx < len(nums) and idx == nums[idx]):\n",
    "        idx += 1\n",
    "        continue\n",
    "\n",
    "    # if idx <= len(nums):\n",
    "    #     return idx\n",
    "    # else:\n",
    "    #     return -1\n",
    "    return idx\n"
   ]
  },
  {
   "cell_type": "code",
   "execution_count": 31,
   "metadata": {},
   "outputs": [
    {
     "name": "stdout",
     "output_type": "stream",
     "text": [
      "2\n"
     ]
    }
   ],
   "source": [
    "nums = [3,0,1]\n",
    "# nums = [0,1]\n",
    "# nums = [9,6,4,2,3,5,7,0,1]\n",
    "# nums=[1,2]\n",
    "print(find_missing_number(nums))"
   ]
  },
  {
   "cell_type": "code",
   "execution_count": 35,
   "metadata": {},
   "outputs": [
    {
     "data": {
      "text/plain": [
       "[1, 2, 5, 6, 3, 6, 8, 9, 6, 2, 5, 0, 0, 0, 0, 0]"
      ]
     },
     "execution_count": 35,
     "metadata": {},
     "output_type": "execute_result"
    }
   ],
   "source": [
    "nums = [1,0,2,5,6,0,3,0,6,8,9,0,6,2,0,5]\n",
    "nums.sort(key=lambda x:x==0)\n",
    "\n",
    "nums"
   ]
  },
  {
   "cell_type": "code",
   "execution_count": 13,
   "metadata": {},
   "outputs": [],
   "source": [
    "def increment_number(digits):\n",
    "    dec = 0\n",
    "    numb = 0\n",
    "    for i in range(1, len(digits)+1):\n",
    "        numb += digits[-i]*(10**dec)\n",
    "        dec += 1\n",
    "\n",
    "    numb += 1\n",
    "\n",
    "    new_numb = list(str(numb))\n",
    "    new_numb = [int(val) for val in new_numb]\n",
    "    \n",
    "    return new_numb\n",
    "\n"
   ]
  },
  {
   "cell_type": "code",
   "execution_count": 16,
   "metadata": {},
   "outputs": [
    {
     "data": {
      "text/plain": [
       "[1, 0, 0, 0]"
      ]
     },
     "execution_count": 16,
     "metadata": {},
     "output_type": "execute_result"
    }
   ],
   "source": [
    "# digits = [1,2,3]\n",
    "# digits = [9,8,7,6,5,4]\n",
    "digits = [9,9,9]\n",
    "increment_number(digits)"
   ]
  },
  {
   "cell_type": "code",
   "execution_count": 17,
   "metadata": {},
   "outputs": [],
   "source": [
    "nums = [0,0,1,1,1,2,2,3,3,4]\n",
    "\n",
    "def remove_duplicates(nums):\n",
    "    unique = list(set(nums))\n",
    "    unique.sort()\n",
    "    diff_count = len(nums) - len(unique)\n",
    "    unique.extend(['_']*diff_count)\n",
    "\n",
    "    return unique\n"
   ]
  },
  {
   "cell_type": "code",
   "execution_count": 18,
   "metadata": {},
   "outputs": [
    {
     "name": "stdout",
     "output_type": "stream",
     "text": [
      "[0, 1, 2, 3, 4, '_', '_', '_', '_', '_']\n"
     ]
    }
   ],
   "source": [
    "print(remove_duplicates(nums))"
   ]
  },
  {
   "cell_type": "code",
   "execution_count": 19,
   "metadata": {},
   "outputs": [],
   "source": [
    "nums = [1,2,3,4,5,6,7]\n",
    "# k = 3\n",
    "# Output: [5,6,7,1,2,3,4]"
   ]
  },
  {
   "cell_type": "code",
   "execution_count": 3,
   "metadata": {},
   "outputs": [],
   "source": [
    "def rotate_array(nums, k):\n",
    "    # reduce k\n",
    "    k = k % len(nums)\n",
    "\n",
    "    print(nums[k+1:]+nums[:k+1])\n",
    "\n"
   ]
  },
  {
   "cell_type": "code",
   "execution_count": 4,
   "metadata": {},
   "outputs": [
    {
     "name": "stdout",
     "output_type": "stream",
     "text": [
      "[5, 6, 7, 1, 2, 3, 4]\n"
     ]
    }
   ],
   "source": [
    "nums = [1,2,3,4,5,6,7]\n",
    "k = 3\n",
    "rotate_array(nums, k)"
   ]
  },
  {
   "cell_type": "code",
   "execution_count": 8,
   "metadata": {},
   "outputs": [],
   "source": [
    "# rotate matrix\n",
    "matrix = [[5,1,9,11],[2,4,8,10],[13,3,6,7],[15,14,12,16]]\n",
    "\n",
    "def rotate(matrix):\n",
    "    matrix.reverse()\n",
    "\n",
    "    # transpose\n",
    "    for i in range(len(matrix)):\n",
    "        for j in range(i):\n",
    "            matrix[j][i], matrix[i][j] = matrix[i][j], matrix[j][i]\n",
    "\n",
    "    # return matrix"
   ]
  },
  {
   "cell_type": "code",
   "execution_count": 9,
   "metadata": {},
   "outputs": [],
   "source": [
    "matr = [[1,2,3],[4,5,6],[7,8,9]]\n",
    "\n",
    "rotate(matr)"
   ]
  },
  {
   "cell_type": "code",
   "execution_count": 10,
   "metadata": {},
   "outputs": [
    {
     "data": {
      "text/plain": [
       "[[7, 4, 1], [8, 5, 2], [9, 6, 3]]"
      ]
     },
     "execution_count": 10,
     "metadata": {},
     "output_type": "execute_result"
    }
   ],
   "source": [
    "matr"
   ]
  },
  {
   "cell_type": "code",
   "execution_count": 1,
   "metadata": {},
   "outputs": [],
   "source": [
    "# maximum profit questions\n",
    "\n",
    "def maxm_profit(prices):\n",
    "    profit = 0\n",
    "\n",
    "    for i in range(1, len(prices)):\n",
    "        if prices[i] > prices[i-1]:\n",
    "            profit += prices[i] - prices[i-1]\n",
    "\n",
    "    return profit\n"
   ]
  },
  {
   "cell_type": "code",
   "execution_count": 3,
   "metadata": {},
   "outputs": [
    {
     "name": "stdout",
     "output_type": "stream",
     "text": [
      "7\n"
     ]
    }
   ],
   "source": [
    "# prices = [7,1,5,3,6,4]\n",
    "prices = [1,5,3,6,4]\n",
    "print(maxm_profit(prices))"
   ]
  },
  {
   "cell_type": "code",
   "execution_count": 1,
   "metadata": {},
   "outputs": [],
   "source": [
    "def find_primes(n):\n",
    "    sieve = [True]*n\n",
    "    primes = []\n",
    "    for i in range(2, n):\n",
    "        if sieve[i]:\n",
    "            primes.append(i)\n",
    "            for j in range(i,n,i):\n",
    "                sieve[j] = False\n",
    "\n",
    "    return primes"
   ]
  },
  {
   "cell_type": "code",
   "execution_count": 5,
   "metadata": {},
   "outputs": [
    {
     "name": "stdout",
     "output_type": "stream",
     "text": [
      "[2, 3, 5, 7, 11, 13, 17, 19, 23, 29]\n"
     ]
    }
   ],
   "source": [
    "print(find_primes(30))"
   ]
  },
  {
   "cell_type": "code",
   "execution_count": 11,
   "metadata": {},
   "outputs": [],
   "source": [
    "def fizz_buzz(n):\n",
    "    out = []\n",
    "    for i in range(1, n+1):\n",
    "        data = ''\n",
    "        if i % 3 == 0:\n",
    "            data += 'Fizz'\n",
    "        if i % 5 == 0:\n",
    "            data += 'Buzz'\n",
    "        if data == '':\n",
    "            data = str(i)\n",
    "        out.append(data)\n",
    "\n",
    "    return out"
   ]
  },
  {
   "cell_type": "code",
   "execution_count": 12,
   "metadata": {},
   "outputs": [
    {
     "name": "stdout",
     "output_type": "stream",
     "text": [
      "['1', '2', 'Fizz', '4', 'Buzz', 'Fizz', '7', '8', 'Fizz', 'Buzz', '11', 'Fizz', '13', '14', 'FizzBuzz']\n"
     ]
    }
   ],
   "source": [
    "print(fizz_buzz(15))"
   ]
  },
  {
   "cell_type": "code",
   "execution_count": null,
   "metadata": {},
   "outputs": [],
   "source": [
    "# # pascal's triange\n",
    "# def pascal_triangle(rows):\n",
    "#     pas_tri = []\n",
    "#     layer = []\n",
    "\n",
    "#     # base case, pinnacle [1]\n",
    "#     layer.append(1)\n",
    "#     pas_tri.append(layer)\n",
    "\n",
    "#     # 2nd layer onwards\n",
    "#     layer_count = rows - 1\n",
    "\n",
    "#     for i in range(layer_count-1):\n",
    "\n",
    "\n",
    "\n",
    "    "
   ]
  },
  {
   "cell_type": "code",
   "execution_count": null,
   "metadata": {},
   "outputs": [],
   "source": [
    "def pascals_triangle(rows):\n",
    "    pas_trg = []\n",
    "    counter = 0\n",
    "    while counter < rows:\n",
    "        layer = []\n",
    "\n",
    "        # base case\n",
    "        if counter == 0:\n",
    "            layer.append(1)\n",
    "            pas_trg.append(layer)\n",
    "            counter += 1\n",
    "        else:\n",
    "            for i in range(rows-1):\n",
    "                \n"
   ]
  }
 ],
 "metadata": {
  "interpreter": {
   "hash": "fc384f7e1c802d762e8ae2d35493986cf4d8dfda21fbfcf3845d3480326ba56e"
  },
  "kernelspec": {
   "display_name": "Python 3.8.8 64-bit ('base': conda)",
   "language": "python",
   "name": "python3"
  },
  "language_info": {
   "codemirror_mode": {
    "name": "ipython",
    "version": 3
   },
   "file_extension": ".py",
   "mimetype": "text/x-python",
   "name": "python",
   "nbconvert_exporter": "python",
   "pygments_lexer": "ipython3",
   "version": "3.8.8"
  },
  "orig_nbformat": 4
 },
 "nbformat": 4,
 "nbformat_minor": 2
}
