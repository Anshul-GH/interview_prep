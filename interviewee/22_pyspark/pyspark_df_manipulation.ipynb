{
 "cells": [
  {
   "cell_type": "code",
   "execution_count": 1,
   "metadata": {},
   "outputs": [],
   "source": [
    "from pyspark.sql import SparkSession"
   ]
  },
  {
   "cell_type": "code",
   "execution_count": 2,
   "metadata": {},
   "outputs": [
    {
     "name": "stderr",
     "output_type": "stream",
     "text": [
      "Setting default log level to \"WARN\".\n",
      "To adjust logging level use sc.setLogLevel(newLevel). For SparkR, use setLogLevel(newLevel).\n"
     ]
    },
    {
     "name": "stdout",
     "output_type": "stream",
     "text": [
      "22/10/19 22:40:00 WARN NativeCodeLoader: Unable to load native-hadoop library for your platform... using builtin-java classes where applicable\n"
     ]
    }
   ],
   "source": [
    "spark = SparkSession.builder.appName('Practice').getOrCreate()"
   ]
  },
  {
   "cell_type": "code",
   "execution_count": 39,
   "metadata": {},
   "outputs": [],
   "source": [
    "df_pyspark = spark.read.csv(\"test2.csv\", header=True, inferSchema=True)\n",
    "# df_pyspark = spark.read.csv(\"test2.csv\", header=True)"
   ]
  },
  {
   "cell_type": "code",
   "execution_count": 40,
   "metadata": {},
   "outputs": [
    {
     "name": "stdout",
     "output_type": "stream",
     "text": [
      "+------+----+----------+------+\n",
      "|  Name| Age|Experience|Salary|\n",
      "+------+----+----------+------+\n",
      "|Anshul|  37|        15|250000|\n",
      "| Rohan|  33|        11|450000|\n",
      "|Poorva|  35|         4| 10000|\n",
      "|Saloni|  31|         1|  9000|\n",
      "|  null|null|         1|  8000|\n",
      "|Ruchir|   5|         0|  null|\n",
      "|Cheeku|   1|      null|     0|\n",
      "+------+----+----------+------+\n",
      "\n"
     ]
    }
   ],
   "source": [
    "df_pyspark.show()"
   ]
  },
  {
   "cell_type": "code",
   "execution_count": 41,
   "metadata": {},
   "outputs": [
    {
     "name": "stdout",
     "output_type": "stream",
     "text": [
      "+----+----------+------+\n",
      "| Age|Experience|Salary|\n",
      "+----+----------+------+\n",
      "|  37|        15|250000|\n",
      "|  33|        11|450000|\n",
      "|  35|         4| 10000|\n",
      "|  31|         1|  9000|\n",
      "|null|         1|  8000|\n",
      "|   5|         0|  null|\n",
      "|   1|      null|     0|\n",
      "+----+----------+------+\n",
      "\n"
     ]
    }
   ],
   "source": [
    "# drop columns\n",
    "df_pyspark.drop('Name').show()"
   ]
  },
  {
   "cell_type": "code",
   "execution_count": 42,
   "metadata": {},
   "outputs": [
    {
     "name": "stdout",
     "output_type": "stream",
     "text": [
      "+------+----+----------+------+\n",
      "|  Name| Age|Experience|Salary|\n",
      "+------+----+----------+------+\n",
      "|Anshul|  37|        15|250000|\n",
      "| Rohan|  33|        11|450000|\n",
      "|Poorva|  35|         4| 10000|\n",
      "|Saloni|  31|         1|  9000|\n",
      "|  null|null|         1|  8000|\n",
      "|Ruchir|   5|         0|  null|\n",
      "|Cheeku|   1|      null|     0|\n",
      "+------+----+----------+------+\n",
      "\n"
     ]
    }
   ],
   "source": [
    "df_pyspark.show()"
   ]
  },
  {
   "cell_type": "code",
   "execution_count": 43,
   "metadata": {},
   "outputs": [
    {
     "name": "stdout",
     "output_type": "stream",
     "text": [
      "+------+---+----------+------+\n",
      "|  Name|Age|Experience|Salary|\n",
      "+------+---+----------+------+\n",
      "|Anshul| 37|        15|250000|\n",
      "| Rohan| 33|        11|450000|\n",
      "|Poorva| 35|         4| 10000|\n",
      "|Saloni| 31|         1|  9000|\n",
      "+------+---+----------+------+\n",
      "\n"
     ]
    }
   ],
   "source": [
    "# drop null values\n",
    "df_pyspark.na.drop().show()"
   ]
  },
  {
   "cell_type": "code",
   "execution_count": 44,
   "metadata": {},
   "outputs": [
    {
     "name": "stdout",
     "output_type": "stream",
     "text": [
      "+------+----+----------+------+\n",
      "|  Name| Age|Experience|Salary|\n",
      "+------+----+----------+------+\n",
      "|Anshul|  37|        15|250000|\n",
      "| Rohan|  33|        11|450000|\n",
      "|Poorva|  35|         4| 10000|\n",
      "|Saloni|  31|         1|  9000|\n",
      "|  null|null|         1|  8000|\n",
      "|Ruchir|   5|         0|  null|\n",
      "|Cheeku|   1|      null|     0|\n",
      "+------+----+----------+------+\n",
      "\n"
     ]
    }
   ],
   "source": [
    "df_pyspark.na.drop(how='all').show()"
   ]
  },
  {
   "cell_type": "code",
   "execution_count": 45,
   "metadata": {},
   "outputs": [
    {
     "name": "stdout",
     "output_type": "stream",
     "text": [
      "+------+---+----------+------+\n",
      "|  Name|Age|Experience|Salary|\n",
      "+------+---+----------+------+\n",
      "|Anshul| 37|        15|250000|\n",
      "| Rohan| 33|        11|450000|\n",
      "|Poorva| 35|         4| 10000|\n",
      "|Saloni| 31|         1|  9000|\n",
      "|Ruchir|  5|         0|  null|\n",
      "|Cheeku|  1|      null|     0|\n",
      "+------+---+----------+------+\n",
      "\n"
     ]
    }
   ],
   "source": [
    "## threshold\n",
    "df_pyspark.na.drop(how='any', thresh=3).show()"
   ]
  },
  {
   "cell_type": "code",
   "execution_count": 46,
   "metadata": {},
   "outputs": [
    {
     "name": "stdout",
     "output_type": "stream",
     "text": [
      "+------+----+----------+------+\n",
      "|  Name| Age|Experience|Salary|\n",
      "+------+----+----------+------+\n",
      "|Anshul|  37|        15|250000|\n",
      "| Rohan|  33|        11|450000|\n",
      "|Poorva|  35|         4| 10000|\n",
      "|Saloni|  31|         1|  9000|\n",
      "|  null|null|         1|  8000|\n",
      "|Ruchir|   5|         0|  null|\n",
      "+------+----+----------+------+\n",
      "\n"
     ]
    }
   ],
   "source": [
    "## subset\n",
    "df_pyspark.na.drop(how='any', subset=['Experience']).show()"
   ]
  },
  {
   "cell_type": "code",
   "execution_count": 47,
   "metadata": {},
   "outputs": [
    {
     "name": "stdout",
     "output_type": "stream",
     "text": [
      "+-------+----+----------+------+\n",
      "|   Name| Age|Experience|Salary|\n",
      "+-------+----+----------+------+\n",
      "| Anshul|  37|        15|250000|\n",
      "|  Rohan|  33|        11|450000|\n",
      "| Poorva|  35|         4| 10000|\n",
      "| Saloni|  31|         1|  9000|\n",
      "|missing|null|         1|  8000|\n",
      "| Ruchir|   5|         0|  null|\n",
      "| Cheeku|   1|      null|     0|\n",
      "+-------+----+----------+------+\n",
      "\n"
     ]
    }
   ],
   "source": [
    "# fill\n",
    "df_pyspark.na.fill(\"missing\").show()"
   ]
  },
  {
   "cell_type": "code",
   "execution_count": 48,
   "metadata": {},
   "outputs": [
    {
     "name": "stdout",
     "output_type": "stream",
     "text": [
      "+------+----+----------+------+\n",
      "|  Name| Age|Experience|Salary|\n",
      "+------+----+----------+------+\n",
      "|Anshul|  37|        15|250000|\n",
      "| Rohan|  33|        11|450000|\n",
      "|Poorva|  35|         4| 10000|\n",
      "|Saloni|  31|         1|  9000|\n",
      "|  null|null|         1|  8000|\n",
      "|Ruchir|   5|         0|  null|\n",
      "|Cheeku|   1|      null|     0|\n",
      "+------+----+----------+------+\n",
      "\n"
     ]
    }
   ],
   "source": [
    "df_pyspark.na.fill(\"missing\", [\"Experience\", 'Salary']).show()"
   ]
  },
  {
   "cell_type": "code",
   "execution_count": 49,
   "metadata": {},
   "outputs": [],
   "source": [
    "# replace missing with mean/median values\n",
    "from pyspark.ml.feature import Imputer\n",
    "\n",
    "col_list = ['Age', 'Experience', 'Salary']\n",
    "\n",
    "imputer = Imputer(\n",
    "    inputCols = col_list,\n",
    "    outputCols = [\"{}_imputed\".format(c) for c in col_list]\n",
    ").setStrategy(\"mean\")"
   ]
  },
  {
   "cell_type": "code",
   "execution_count": 50,
   "metadata": {},
   "outputs": [
    {
     "name": "stdout",
     "output_type": "stream",
     "text": [
      "+------+----+----------+------+-----------+------------------+--------------+\n",
      "|  Name| Age|Experience|Salary|Age_imputed|Experience_imputed|Salary_imputed|\n",
      "+------+----+----------+------+-----------+------------------+--------------+\n",
      "|Anshul|  37|        15|250000|         37|                15|        250000|\n",
      "| Rohan|  33|        11|450000|         33|                11|        450000|\n",
      "|Poorva|  35|         4| 10000|         35|                 4|         10000|\n",
      "|Saloni|  31|         1|  9000|         31|                 1|          9000|\n",
      "|  null|null|         1|  8000|         23|                 1|          8000|\n",
      "|Ruchir|   5|         0|  null|          5|                 0|        121166|\n",
      "|Cheeku|   1|      null|     0|          1|                 5|             0|\n",
      "+------+----+----------+------+-----------+------------------+--------------+\n",
      "\n"
     ]
    }
   ],
   "source": [
    "imputer.fit(df_pyspark).transform(df_pyspark).show()"
   ]
  },
  {
   "cell_type": "code",
   "execution_count": 51,
   "metadata": {},
   "outputs": [],
   "source": [
    "imputer = Imputer(\n",
    "    inputCols = col_list,\n",
    "    outputCols = [\"{}_imputed\".format(c) for c in col_list]\n",
    ").setStrategy(\"median\")"
   ]
  },
  {
   "cell_type": "code",
   "execution_count": 52,
   "metadata": {},
   "outputs": [
    {
     "name": "stdout",
     "output_type": "stream",
     "text": [
      "+------+----+----------+------+-----------+------------------+--------------+\n",
      "|  Name| Age|Experience|Salary|Age_imputed|Experience_imputed|Salary_imputed|\n",
      "+------+----+----------+------+-----------+------------------+--------------+\n",
      "|Anshul|  37|        15|250000|         37|                15|        250000|\n",
      "| Rohan|  33|        11|450000|         33|                11|        450000|\n",
      "|Poorva|  35|         4| 10000|         35|                 4|         10000|\n",
      "|Saloni|  31|         1|  9000|         31|                 1|          9000|\n",
      "|  null|null|         1|  8000|         31|                 1|          8000|\n",
      "|Ruchir|   5|         0|  null|          5|                 0|          9000|\n",
      "|Cheeku|   1|      null|     0|          1|                 1|             0|\n",
      "+------+----+----------+------+-----------+------------------+--------------+\n",
      "\n"
     ]
    }
   ],
   "source": [
    "imputer.fit(df_pyspark).transform(df_pyspark).show()"
   ]
  },
  {
   "cell_type": "code",
   "execution_count": null,
   "metadata": {},
   "outputs": [],
   "source": []
  }
 ],
 "metadata": {
  "kernelspec": {
   "display_name": "Python 3.10.6 ('personal')",
   "language": "python",
   "name": "python3"
  },
  "language_info": {
   "codemirror_mode": {
    "name": "ipython",
    "version": 3
   },
   "file_extension": ".py",
   "mimetype": "text/x-python",
   "name": "python",
   "nbconvert_exporter": "python",
   "pygments_lexer": "ipython3",
   "version": "3.10.6"
  },
  "orig_nbformat": 4,
  "vscode": {
   "interpreter": {
    "hash": "7103ac3e843d64edb2a01a0947b583bb371afd138bfd75a92d5272d4409032de"
   }
  }
 },
 "nbformat": 4,
 "nbformat_minor": 2
}
