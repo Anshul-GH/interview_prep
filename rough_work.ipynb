{
 "cells": [
  {
   "cell_type": "code",
   "execution_count": null,
   "source": [],
   "outputs": [],
   "metadata": {}
  },
  {
   "cell_type": "code",
   "execution_count": 3,
   "source": [
    "def two_sum(nums, target):\r\n",
    "    for i in range(len(nums)):\r\n",
    "        num = nums[i]\r\n",
    "        rem_lst = nums[0:i] + nums[i+1:]\r\n",
    "        if (target - num) in rem_lst:\r\n",
    "            return [nums.index(num), nums.index(target - num)]\r\n",
    "        else:\r\n",
    "            continue"
   ],
   "outputs": [],
   "metadata": {}
  },
  {
   "cell_type": "code",
   "execution_count": 6,
   "source": [
    "nums = [3,3] # [3,2,4] # [2,7,11,15]\r\n",
    "target = 6 #9\r\n",
    "\r\n",
    "# [2,7,11,15]\r\n",
    "# 9\r\n",
    "# [3,2,4]\r\n",
    "# 6\r\n",
    "# [3,3]\r\n",
    "# 6\r\n",
    "\r\n",
    "result = two_sum(nums, target)\r\n",
    "print(result)"
   ],
   "outputs": [
    {
     "output_type": "stream",
     "name": "stdout",
     "text": [
      "[0, 0]\n"
     ]
    }
   ],
   "metadata": {}
  },
  {
   "cell_type": "code",
   "execution_count": 9,
   "source": [
    "prices = [7,6,4,3,1]"
   ],
   "outputs": [],
   "metadata": {}
  },
  {
   "cell_type": "code",
   "execution_count": null,
   "source": [
    "def maxProfit(prices):\r\n",
    "    max_profit = 0\r\n",
    "    buy = True\r\n",
    "    for val in prices:\r\n",
    "        "
   ],
   "outputs": [],
   "metadata": {}
  },
  {
   "cell_type": "code",
   "execution_count": 2,
   "source": [
    "prices - 7"
   ],
   "outputs": [
    {
     "output_type": "error",
     "ename": "TypeError",
     "evalue": "unsupported operand type(s) for -: 'list' and 'int'",
     "traceback": [
      "\u001b[1;31m---------------------------------------------------------------------------\u001b[0m",
      "\u001b[1;31mTypeError\u001b[0m                                 Traceback (most recent call last)",
      "\u001b[1;32m<ipython-input-2-0d71bf5c4630>\u001b[0m in \u001b[0;36m<module>\u001b[1;34m\u001b[0m\n\u001b[1;32m----> 1\u001b[1;33m \u001b[0mprices\u001b[0m \u001b[1;33m-\u001b[0m \u001b[1;36m7\u001b[0m\u001b[1;33m\u001b[0m\u001b[1;33m\u001b[0m\u001b[0m\n\u001b[0m",
      "\u001b[1;31mTypeError\u001b[0m: unsupported operand type(s) for -: 'list' and 'int'"
     ]
    }
   ],
   "metadata": {}
  },
  {
   "cell_type": "code",
   "execution_count": 4,
   "source": [
    "prices_mod = [(val - 7) for val in prices]"
   ],
   "outputs": [],
   "metadata": {}
  },
  {
   "cell_type": "code",
   "execution_count": 5,
   "source": [
    "prices_mod"
   ],
   "outputs": [
    {
     "output_type": "execute_result",
     "data": {
      "text/plain": [
       "[0, -1, -3, -4, -6]"
      ]
     },
     "metadata": {},
     "execution_count": 5
    }
   ],
   "metadata": {}
  },
  {
   "cell_type": "code",
   "execution_count": 20,
   "source": [
    "# prices = [7,6,4,3,1]\r\n",
    "prices = [7,1,5,3,6,4]\r\n",
    "\r\n",
    "max_profit = 0\r\n",
    "for idx,val in enumerate(prices):\r\n",
    "    max_profit = max(max_profit, max([(amt - val) for amt in prices[idx:]]))\r\n",
    "\r\n",
    "print(max_profit)"
   ],
   "outputs": [
    {
     "output_type": "stream",
     "name": "stdout",
     "text": [
      "6\n"
     ]
    }
   ],
   "metadata": {}
  },
  {
   "cell_type": "code",
   "execution_count": 21,
   "source": [
    "for idx, val in enumerate(prices):\r\n",
    "    tmp = [(amt - val) for amt in prices[idx:]]\r\n",
    "    print(tmp)"
   ],
   "outputs": [
    {
     "output_type": "stream",
     "name": "stdout",
     "text": [
      "[0, -6, -2, -4, -1, -3]\n",
      "[0, 4, 2, 5, 3]\n",
      "[0, -2, 1, -1]\n",
      "[0, 3, 1]\n",
      "[0, -2]\n",
      "[0]\n"
     ]
    }
   ],
   "metadata": {}
  },
  {
   "cell_type": "code",
   "execution_count": 17,
   "source": [
    "tmp"
   ],
   "outputs": [
    {
     "output_type": "execute_result",
     "data": {
      "text/plain": [
       "[0]"
      ]
     },
     "metadata": {},
     "execution_count": 17
    }
   ],
   "metadata": {}
  },
  {
   "cell_type": "code",
   "execution_count": 22,
   "source": [],
   "outputs": [],
   "metadata": {}
  },
  {
   "cell_type": "code",
   "execution_count": 28,
   "source": [
    "nums = [1,2,3,4,5,6,7]\r\n",
    "k = 3\r\n",
    "for i in range(k):\r\n",
    "    nums.insert(0, nums[-1])\r\n",
    "    nums.pop()\r\n",
    "    "
   ],
   "outputs": [],
   "metadata": {}
  },
  {
   "cell_type": "code",
   "execution_count": 29,
   "source": [
    "nums"
   ],
   "outputs": [
    {
     "output_type": "execute_result",
     "data": {
      "text/plain": [
       "[5, 6, 7, 1, 2, 3, 4]"
      ]
     },
     "metadata": {},
     "execution_count": 29
    }
   ],
   "metadata": {}
  },
  {
   "cell_type": "code",
   "execution_count": 30,
   "source": [
    "def containsDuplicate(nums):\r\n",
    "    mod_nums = list(set(nums))\r\n",
    "    if len(mod_nums) == len(nums):\r\n",
    "        return False\r\n",
    "    else:\r\n",
    "        return True"
   ],
   "outputs": [],
   "metadata": {}
  },
  {
   "cell_type": "code",
   "execution_count": 33,
   "source": [
    "nums = [1,2,3,1] #[1,2,3,4] #[1,1,1,3,3,4,3,2,4,2]\r\n",
    "containsDuplicate(nums)"
   ],
   "outputs": [
    {
     "output_type": "execute_result",
     "data": {
      "text/plain": [
       "True"
      ]
     },
     "metadata": {},
     "execution_count": 33
    }
   ],
   "metadata": {}
  },
  {
   "cell_type": "code",
   "execution_count": 34,
   "source": [
    "nums = [4,1,2,1,2]"
   ],
   "outputs": [],
   "metadata": {}
  },
  {
   "cell_type": "code",
   "execution_count": 35,
   "source": [
    "nums.sort()"
   ],
   "outputs": [],
   "metadata": {}
  },
  {
   "cell_type": "code",
   "execution_count": 36,
   "source": [
    "nums"
   ],
   "outputs": [
    {
     "output_type": "execute_result",
     "data": {
      "text/plain": [
       "[1, 1, 2, 2, 4]"
      ]
     },
     "metadata": {},
     "execution_count": 36
    }
   ],
   "metadata": {}
  },
  {
   "cell_type": "code",
   "execution_count": 41,
   "source": [
    "nums = [1] #[4,1,2,1,2] #[2,2,1]\r\n",
    "nums.sort()\r\n",
    "\r\n",
    "unique = -1\r\n",
    "count = 0\r\n",
    "\r\n",
    "while count<len(nums)-1:\r\n",
    "    if nums[count] == nums[count+1]:\r\n",
    "        count += 2\r\n",
    "        continue\r\n",
    "    else:\r\n",
    "        unique = nums[count]\r\n",
    "        break\r\n",
    "\r\n",
    "if unique == -1:\r\n",
    "    unique = nums[-1]\r\n",
    "\r\n",
    "print(unique)"
   ],
   "outputs": [
    {
     "output_type": "stream",
     "name": "stdout",
     "text": [
      "1\n"
     ]
    }
   ],
   "metadata": {}
  },
  {
   "cell_type": "code",
   "execution_count": 8,
   "source": [
    "def intersect(nums1, nums2):\r\n",
    "    len1 = len(nums1)\r\n",
    "    len2 = len(nums2)\r\n",
    "    \r\n",
    "    intersec = []\r\n",
    "    if len1 < len2:\r\n",
    "        for val in nums1:\r\n",
    "            if val in nums2:\r\n",
    "                intersec.append(val)\r\n",
    "                nums2.remove(val)\r\n",
    "    else:\r\n",
    "        for val in nums2:\r\n",
    "            if val in nums1:\r\n",
    "                intersec.append(val)\r\n",
    "                nums1.remove(val)\r\n",
    "    \r\n",
    "    return intersec\r\n"
   ],
   "outputs": [],
   "metadata": {}
  },
  {
   "cell_type": "code",
   "execution_count": 11,
   "source": [
    "nums1 = [4,9,5] #[1,2] #[4,9,5] #[1,2,2,1]\r\n",
    "nums2 = [9,4,9,8,4] #[1,1] #[9,4,9,8,4] # [2,2]\r\n",
    "\r\n",
    "inter = intersect(nums1, nums2)"
   ],
   "outputs": [],
   "metadata": {}
  },
  {
   "cell_type": "code",
   "execution_count": 12,
   "source": [
    "inter"
   ],
   "outputs": [
    {
     "output_type": "execute_result",
     "data": {
      "text/plain": [
       "[4, 9]"
      ]
     },
     "metadata": {},
     "execution_count": 12
    }
   ],
   "metadata": {}
  },
  {
   "cell_type": "code",
   "execution_count": 13,
   "source": [
    "def plusOne(digits):\r\n",
    "    rem = (digit[-1]+1) % 10\r\n",
    "    carry = int((digit[-1]+1) / 10)\r\n",
    "    digits[-1] = rem\r\n",
    "    \r\n",
    "    return digits"
   ],
   "outputs": [],
   "metadata": {}
  },
  {
   "cell_type": "code",
   "execution_count": 19,
   "source": [
    "digits = [9] #[0] #[1,2,3] #[4,3,2,1]\r\n",
    "next_digits = plusOne(digits)\r\n",
    "next_digits"
   ],
   "outputs": [
    {
     "output_type": "execute_result",
     "data": {
      "text/plain": [
       "[10]"
      ]
     },
     "metadata": {},
     "execution_count": 19
    }
   ],
   "metadata": {}
  },
  {
   "cell_type": "code",
   "execution_count": 22,
   "source": [
    "int(10/10)"
   ],
   "outputs": [
    {
     "output_type": "execute_result",
     "data": {
      "text/plain": [
       "1"
      ]
     },
     "metadata": {},
     "execution_count": 22
    }
   ],
   "metadata": {}
  },
  {
   "cell_type": "code",
   "execution_count": 1,
   "source": [
    "input_data = {\r\n",
    "\t'instances': [\r\n",
    "\t\t{\r\n",
    "\t\t\t'src_img_uri': 'gs://trn03-us-east1-open-bucket//bfs_redact//roi-detection/images//bus.jpg', \r\n",
    "\t\t\t'des_dir': 'gs://trn03-us-east1-open-bucket//bfs_redact//roi-detection//results'\r\n",
    "\t\t}\r\n",
    "\t]\r\n",
    "}\r\n",
    "\r\n",
    "files = input_data['instances']\r\n",
    "\r\n",
    "print(files)"
   ],
   "outputs": [
    {
     "output_type": "stream",
     "name": "stdout",
     "text": [
      "[{'src_img_uri': 'gs://trn03-us-east1-open-bucket//bfs_redact//roi-detection/images//bus.jpg', 'des_dir': 'gs://trn03-us-east1-open-bucket//bfs_redact//roi-detection//results'}]\n"
     ]
    }
   ],
   "metadata": {}
  },
  {
   "cell_type": "code",
   "execution_count": 2,
   "source": [
    "import json\r\n",
    "\r\n",
    "data = json.dumps({\"instances\": files})"
   ],
   "outputs": [],
   "metadata": {}
  },
  {
   "cell_type": "code",
   "execution_count": 3,
   "source": [
    "data"
   ],
   "outputs": [
    {
     "output_type": "execute_result",
     "data": {
      "text/plain": [
       "'{\"instances\": [{\"src_img_uri\": \"gs://trn03-us-east1-open-bucket//bfs_redact//roi-detection/images//bus.jpg\", \"des_dir\": \"gs://trn03-us-east1-open-bucket//bfs_redact//roi-detection//results\"}]}'"
      ]
     },
     "metadata": {},
     "execution_count": 3
    }
   ],
   "metadata": {}
  },
  {
   "cell_type": "code",
   "execution_count": null,
   "source": [],
   "outputs": [],
   "metadata": {}
  }
 ],
 "metadata": {
  "orig_nbformat": 4,
  "language_info": {
   "name": "python",
   "version": "3.8.3",
   "mimetype": "text/x-python",
   "codemirror_mode": {
    "name": "ipython",
    "version": 3
   },
   "pygments_lexer": "ipython3",
   "nbconvert_exporter": "python",
   "file_extension": ".py"
  },
  "kernelspec": {
   "name": "python3",
   "display_name": "Python 3.8.3 64-bit ('base': conda)"
  },
  "interpreter": {
   "hash": "916e78022459d02449eb0e919933c0dffe7558a101efc3cf53aea168c8e1e9f5"
  }
 },
 "nbformat": 4,
 "nbformat_minor": 2
}