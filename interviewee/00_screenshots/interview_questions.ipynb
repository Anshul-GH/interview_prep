{
 "metadata": {
  "language_info": {
   "codemirror_mode": {
    "name": "ipython",
    "version": 3
   },
   "file_extension": ".py",
   "mimetype": "text/x-python",
   "name": "python",
   "nbconvert_exporter": "python",
   "pygments_lexer": "ipython3",
   "version": "3.8.5"
  },
  "orig_nbformat": 4,
  "kernelspec": {
   "name": "python3",
   "display_name": "Python 3.8.5 64-bit ('base': conda)"
  },
  "interpreter": {
   "hash": "27c864c23e117f40a7a4f2f1a3201837d7329c7e3e4f87e64f2d40e2cb9d4f12"
  }
 },
 "nbformat": 4,
 "nbformat_minor": 2,
 "cells": [
  {
   "source": [
    "## Question:\n",
    "Write code that acquires in input some text, represented as a single string, and prints out the 10 most frequent words in the text. A word is a sequence of characters delimited by whitespace. For simplicity, let’s not consider punctuation and capitalisation.\n",
    "e.g.\n",
    "histogram(“count the words in this sample text and print words count for the 10 most frequent words”)\n",
    "words 3\n",
    "count 2\n",
    "the 2\n",
    "this 1"
   ],
   "cell_type": "markdown",
   "metadata": {}
  },
  {
   "cell_type": "code",
   "execution_count": 1,
   "metadata": {},
   "outputs": [],
   "source": [
    "sample_text = 'count the words in this sample text and print words count for the 10 most frequent words'"
   ]
  },
  {
   "cell_type": "code",
   "execution_count": 2,
   "metadata": {},
   "outputs": [],
   "source": [
    "list_words = sample_text.split()"
   ]
  },
  {
   "cell_type": "code",
   "execution_count": 3,
   "metadata": {},
   "outputs": [
    {
     "output_type": "execute_result",
     "data": {
      "text/plain": [
       "['count',\n",
       " 'the',\n",
       " 'words',\n",
       " 'in',\n",
       " 'this',\n",
       " 'sample',\n",
       " 'text',\n",
       " 'and',\n",
       " 'print',\n",
       " 'words',\n",
       " 'count',\n",
       " 'for',\n",
       " 'the',\n",
       " '10',\n",
       " 'most',\n",
       " 'frequent',\n",
       " 'words']"
      ]
     },
     "metadata": {},
     "execution_count": 3
    }
   ],
   "source": [
    "list_words"
   ]
  },
  {
   "cell_type": "code",
   "execution_count": 4,
   "metadata": {},
   "outputs": [],
   "source": [
    "distinct_words = list(set(list_words))"
   ]
  },
  {
   "cell_type": "code",
   "execution_count": 16,
   "metadata": {},
   "outputs": [
    {
     "output_type": "stream",
     "name": "stdout",
     "text": [
      "{'count': 2, 'the': 2, 'words': 3, 'in': 1, 'this': 1, 'sample': 1, 'text': 1, 'and': 1, 'print': 1, 'for': 1, '10': 1, 'most': 1, 'frequent': 1}\n"
     ]
    }
   ],
   "source": [
    "word_counts = {}\n",
    "\n",
    "for word in list_words:\n",
    "    if word in distinct_words:\n",
    "        # if word_counts:\n",
    "        if word not in word_counts.keys():\n",
    "            word_counts[word] = 1\n",
    "        else:\n",
    "            word_counts[word] += 1\n",
    "        # else:\n",
    "        #     word_counts[word] = 1\n",
    "\n",
    "print(word_counts)"
   ]
  },
  {
   "cell_type": "code",
   "execution_count": 18,
   "metadata": {},
   "outputs": [
    {
     "output_type": "execute_result",
     "data": {
      "text/plain": [
       "{'count': 2,\n",
       " 'the': 2,\n",
       " 'words': 3,\n",
       " 'in': 1,\n",
       " 'this': 1,\n",
       " 'sample': 1,\n",
       " 'text': 1,\n",
       " 'and': 1,\n",
       " 'print': 1,\n",
       " 'for': 1,\n",
       " '10': 1,\n",
       " 'most': 1,\n",
       " 'frequent': 1}"
      ]
     },
     "metadata": {},
     "execution_count": 18
    }
   ],
   "source": [
    "word_counts"
   ]
  },
  {
   "cell_type": "code",
   "execution_count": 22,
   "metadata": {},
   "outputs": [
    {
     "output_type": "stream",
     "name": "stdout",
     "text": [
      "Help on built-in function sorted in module builtins:\n\nsorted(iterable, /, *, key=None, reverse=False)\n    Return a new list containing all items from the iterable in ascending order.\n    \n    A custom key function can be supplied to customize the sort order, and the\n    reverse flag can be set to request the result in descending order.\n\n"
     ]
    }
   ],
   "source": [
    "# for key in word_counts.keys():\n",
    "\n",
    "help(sorted)"
   ]
  },
  {
   "cell_type": "code",
   "execution_count": 27,
   "metadata": {},
   "outputs": [
    {
     "output_type": "execute_result",
     "data": {
      "text/plain": [
       "['words',\n",
       " 'this',\n",
       " 'the',\n",
       " 'text',\n",
       " 'sample',\n",
       " 'print',\n",
       " 'most',\n",
       " 'in',\n",
       " 'frequent',\n",
       " 'for',\n",
       " 'count',\n",
       " 'and',\n",
       " '10']"
      ]
     },
     "metadata": {},
     "execution_count": 27
    }
   ],
   "source": [
    "sorted(word_counts, reverse=True)"
   ]
  },
  {
   "cell_type": "code",
   "execution_count": 31,
   "metadata": {},
   "outputs": [],
   "source": [
    "sorted_list = sorted(word_counts.items(), key=lambda x: x[1], reverse=True)"
   ]
  },
  {
   "cell_type": "code",
   "execution_count": 32,
   "metadata": {},
   "outputs": [
    {
     "output_type": "execute_result",
     "data": {
      "text/plain": [
       "[('words', 3),\n",
       " ('count', 2),\n",
       " ('the', 2),\n",
       " ('in', 1),\n",
       " ('this', 1),\n",
       " ('sample', 1),\n",
       " ('text', 1),\n",
       " ('and', 1),\n",
       " ('print', 1),\n",
       " ('for', 1),\n",
       " ('10', 1),\n",
       " ('most', 1),\n",
       " ('frequent', 1)]"
      ]
     },
     "metadata": {},
     "execution_count": 32
    }
   ],
   "source": [
    "sorted_list"
   ]
  },
  {
   "cell_type": "code",
   "execution_count": 34,
   "metadata": {},
   "outputs": [
    {
     "output_type": "stream",
     "name": "stdout",
     "text": [
      "words 3\ncount 2\nthe 2\nin 1\nthis 1\nsample 1\ntext 1\nand 1\nprint 1\nfor 1\n"
     ]
    }
   ],
   "source": [
    "counter = 0\n",
    "\n",
    "if len(sorted_list) > 10:\n",
    "    for tup in sorted_list[:10]:\n",
    "        print(tup[0], tup[1])\n",
    "else:\n",
    "    for tup in sorted_list:\n",
    "        print(tup[0], tup[1])\n",
    "\n",
    "# for tup in sorted_list:\n",
    "    \n",
    "#         while counter < 10:\n",
    "#             print(tup[0], tup[1])\n",
    "#             counter += 1\n",
    "#     else:\n",
    "#         print(tup[0], tup[1])"
   ]
  },
  {
   "cell_type": "code",
   "execution_count": null,
   "metadata": {},
   "outputs": [],
   "source": []
  },
  {
   "cell_type": "code",
   "execution_count": 29,
   "metadata": {},
   "outputs": [
    {
     "output_type": "execute_result",
     "data": {
      "text/plain": [
       "[('count', 2),\n",
       " ('the', 2),\n",
       " ('words', 3),\n",
       " ('in', 1),\n",
       " ('this', 1),\n",
       " ('sample', 1),\n",
       " ('text', 1),\n",
       " ('and', 1),\n",
       " ('print', 1),\n",
       " ('for', 1),\n",
       " ('10', 1),\n",
       " ('most', 1),\n",
       " ('frequent', 1)]"
      ]
     },
     "metadata": {},
     "execution_count": 29
    }
   ],
   "source": [
    "list(word_counts.items())"
   ]
  },
  {
   "cell_type": "code",
   "execution_count": 12,
   "metadata": {},
   "outputs": [],
   "source": [
    "if not word_counts:\n",
    "    print('True')"
   ]
  },
  {
   "cell_type": "code",
   "execution_count": 13,
   "metadata": {},
   "outputs": [
    {
     "output_type": "execute_result",
     "data": {
      "text/plain": [
       "dict_keys(['most', 'this', 'print', 'in', 'the', '10', 'for', 'text', 'sample', 'and', 'frequent', 'count', 'words'])"
      ]
     },
     "metadata": {},
     "execution_count": 13
    }
   ],
   "source": [
    "word_counts.keys()"
   ]
  },
  {
   "cell_type": "code",
   "execution_count": 14,
   "metadata": {},
   "outputs": [
    {
     "output_type": "execute_result",
     "data": {
      "text/plain": [
       "['count',\n",
       " 'the',\n",
       " 'words',\n",
       " 'in',\n",
       " 'this',\n",
       " 'sample',\n",
       " 'text',\n",
       " 'and',\n",
       " 'print',\n",
       " 'words',\n",
       " 'count',\n",
       " 'for',\n",
       " 'the',\n",
       " '10',\n",
       " 'most',\n",
       " 'frequent',\n",
       " 'words']"
      ]
     },
     "metadata": {},
     "execution_count": 14
    }
   ],
   "source": [
    "list_words"
   ]
  },
  {
   "cell_type": "code",
   "execution_count": null,
   "metadata": {},
   "outputs": [],
   "source": [
    "list_words."
   ]
  }
 ]
}