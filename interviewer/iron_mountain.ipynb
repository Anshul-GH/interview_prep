{
 "cells": [
  {
   "cell_type": "code",
   "execution_count": null,
   "metadata": {},
   "outputs": [],
   "source": []
  },
  {
   "cell_type": "markdown",
   "metadata": {},
   "source": [
    "Given two sorted lists, create a function to return one list with combined sorted values.\n",
    "\n",
    "Do not use any of the built-in python functions.\n",
    "\n",
    " \n",
    "\n",
    "--------\n",
    "\n",
    "Given: a class with properties name, age , salary\n",
    "\n",
    "need to create a function to update salary.\n",
    "\n",
    "\n"
   ]
  }
 ],
 "metadata": {
  "language_info": {
   "name": "python"
  },
  "orig_nbformat": 4
 },
 "nbformat": 4,
 "nbformat_minor": 2
}
