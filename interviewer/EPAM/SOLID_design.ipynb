{
 "cells": [
  {
   "cell_type": "code",
   "execution_count": null,
   "metadata": {},
   "outputs": [],
   "source": [
    "# 1. What are SOLID principles?\n",
    "#  SOLID Principles is an acronym of 5 principles in Object Oriented Design (OOD). \n",
    "#     S - Single Responsibility Principle - every module or class should be responsible for single functionality\n",
    "#     O - Open Closed Principle - a class, component or entity should be open for extension but close for modification\n",
    "#     L - Liskov Substitution Principle - objects in a program can be replaced by the instances of their subtypes without modifying the correctness of a program\n",
    "#     I - Interface Segregation Principle - use many client specific interfaces instead of one general purpose interface\n",
    "#     D - Dependency Inversion Principle - high level modules should not depend on low level modules; both should depend on abstractions"
   ]
  }
 ],
 "metadata": {
  "language_info": {
   "name": "python"
  },
  "orig_nbformat": 4
 },
 "nbformat": 4,
 "nbformat_minor": 2
}
