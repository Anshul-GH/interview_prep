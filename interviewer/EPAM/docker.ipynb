{
 "cells": [
  {
   "cell_type": "code",
   "execution_count": null,
   "metadata": {},
   "outputs": [],
   "source": [
    "# What is a Container?\n",
    "# A container is a standard unit of software bundled with dependencies so that applications can be deployed fast and reliably b/w different computing platforms.\n",
    "\n",
    "#     Docker can be visualized as a big ship (docker) carrying huge boxes of products (containers).\n",
    "#     Docker container doesn’t require the installation of a separate operating system. Docker just relies or makes use of the kernel’s resources and its functionality to allocate them for the CPU and memory it relies on the kernel’s functionality and uses resource isolation for CPU and memory, and separate namespaces to isolate the application’s view of the OS (operating system).\n",
    "\n"
   ]
  }
 ],
 "metadata": {
  "language_info": {
   "name": "python"
  },
  "orig_nbformat": 4
 },
 "nbformat": 4,
 "nbformat_minor": 2
}
