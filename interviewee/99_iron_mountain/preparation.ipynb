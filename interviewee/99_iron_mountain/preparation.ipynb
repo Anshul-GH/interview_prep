{
 "cells": [
  {
   "cell_type": "markdown",
   "source": [
    "## Operator Overloading"
   ],
   "metadata": {}
  },
  {
   "cell_type": "code",
   "execution_count": 1,
   "source": [
    "## Operator Overloading\r\n",
    "\r\n",
    "# add operator\r\n",
    "\r\n",
    "class A:\r\n",
    "    def __init__(self, a):\r\n",
    "        self.a = a\r\n",
    "\r\n",
    "    # adding two objects\r\n",
    "    def __add__(self, o):\r\n",
    "        return self.a + o.a\r\n",
    "\r\n",
    "\r\n",
    "obj1 = A(1)\r\n",
    "obj2 = A(2)\r\n",
    "\r\n",
    "obj3 = A(\"Hello \")\r\n",
    "obj4 = A(\"World !!\")"
   ],
   "outputs": [],
   "metadata": {}
  },
  {
   "cell_type": "code",
   "execution_count": 2,
   "source": [
    "print(obj1 + obj2)"
   ],
   "outputs": [
    {
     "output_type": "stream",
     "name": "stdout",
     "text": [
      "3\n"
     ]
    }
   ],
   "metadata": {}
  },
  {
   "cell_type": "code",
   "execution_count": 3,
   "source": [
    "print(obj3 + obj4)"
   ],
   "outputs": [
    {
     "output_type": "stream",
     "name": "stdout",
     "text": [
      "Hello World !!\n"
     ]
    }
   ],
   "metadata": {}
  },
  {
   "cell_type": "code",
   "execution_count": 4,
   "source": [
    "# addition for complex numbers\r\n",
    "\r\n",
    "class Complex:\r\n",
    "    def __init__(self, a, b):\r\n",
    "        self.a = a\r\n",
    "        self.b = b\r\n",
    "\r\n",
    "    def __add__(self, other):\r\n",
    "        real = self.a + other.a\r\n",
    "        imj = self.b + other.b\r\n",
    "\r\n",
    "        return real, imj\r\n",
    "\r\n",
    "    def __sub__(self, other):\r\n",
    "        real = self.a - other.a\r\n",
    "        imj = self.b - other.b\r\n",
    "\r\n",
    "        return real, imj"
   ],
   "outputs": [],
   "metadata": {}
  },
  {
   "cell_type": "code",
   "execution_count": 6,
   "source": [
    "obj1 = Complex(5, 3)\r\n",
    "obj2 = Complex(3, 1)\r\n",
    "\r\n",
    "print(obj1 + obj2)\r\n",
    "print(obj1 - obj2)"
   ],
   "outputs": [
    {
     "output_type": "stream",
     "name": "stdout",
     "text": [
      "(8, 4)\n",
      "(2, 2)\n"
     ]
    }
   ],
   "metadata": {}
  },
  {
   "cell_type": "code",
   "execution_count": 7,
   "source": [
    "obj1 = Complex(2, 0)\r\n",
    "obj2 = Complex(4, 4)\r\n",
    "\r\n",
    "print(obj1 + obj2)\r\n",
    "print(obj1 - obj2)"
   ],
   "outputs": [
    {
     "output_type": "stream",
     "name": "stdout",
     "text": [
      "(6, 4)\n",
      "(-2, -4)\n"
     ]
    }
   ],
   "metadata": {}
  },
  {
   "cell_type": "markdown",
   "source": [
    "## Unit Tests"
   ],
   "metadata": {}
  },
  {
   "cell_type": "code",
   "execution_count": 10,
   "source": [
    "import unittest\r\n",
    "\r\n",
    "class Testmethods(unittest.TestCase):\r\n",
    "    def test_upper(self):\r\n",
    "        self.assertEqual('foo'.upper(), 'FOO')\r\n",
    "\r\n",
    "    def test_isupper(self):\r\n",
    "        self.assertTrue('FOO'.isupper())\r\n",
    "        self.assertFalse('Foo'.isupper())"
   ],
   "outputs": [],
   "metadata": {}
  },
  {
   "cell_type": "markdown",
   "source": [
    "## Sorting a dictionary on key/value"
   ],
   "metadata": {}
  },
  {
   "cell_type": "code",
   "execution_count": 12,
   "source": [
    "mydict = {'carl':40,\r\n",
    "          'alan':2,\r\n",
    "          'bob':1,\r\n",
    "          'danny':3}"
   ],
   "outputs": [],
   "metadata": {}
  },
  {
   "cell_type": "code",
   "execution_count": 32,
   "source": [
    "###### Answer #####\r\n",
    "dict(sorted(mydict.items(), key=lambda x: x[1]))"
   ],
   "outputs": [
    {
     "output_type": "execute_result",
     "data": {
      "text/plain": [
       "{'bob': 1, 'alan': 2, 'danny': 3, 'carl': 40}"
      ]
     },
     "metadata": {},
     "execution_count": 32
    }
   ],
   "metadata": {}
  },
  {
   "cell_type": "code",
   "execution_count": 33,
   "source": [
    "# mydict.sorted(key=keys())\r\n",
    "# sorted(mydict, key=list(mydict.keys()), reverse=False) # lambda x: [x for x in \r\n",
    "# sorted(mydict, key=lambda x: [x for x in mydict.values()]) # list(mydict.values())\r\n",
    "\r\n",
    "# for key in sorted(mydict):\r\n",
    "#     print(key, mydict[key])\r\n",
    "\r\n",
    "# for item in mydict.items():\r\n",
    "#     print(item)\r\n"
   ],
   "outputs": [],
   "metadata": {}
  },
  {
   "cell_type": "markdown",
   "source": [
    "## Tuples vs Lists"
   ],
   "metadata": {}
  },
  {
   "cell_type": "markdown",
   "source": [
    "- Python allocates memory to tuples in terms of larger blocks with a low overhead because they are immutable. \r\n",
    "- On the other hand, for lists, Pythons allocates small memory blocks. \r\n",
    "- At the end of it, the tuple will have a smaller memory compared to the list. \r\n",
    "- This makes tuples a bit faster than lists when you have a large number of elements."
   ],
   "metadata": {}
  },
  {
   "cell_type": "code",
   "execution_count": 34,
   "source": [
    "tuple_names = ('Nicholas', 'Michelle', 'Alex')\r\n",
    "list_names = ['Nicholas', 'Michelle', 'Alex']\r\n",
    "print(tuple_names.__sizeof__())\r\n",
    "print(list_names.__sizeof__())"
   ],
   "outputs": [
    {
     "output_type": "stream",
     "name": "stdout",
     "text": [
      "48\n",
      "64\n"
     ]
    }
   ],
   "metadata": {}
  },
  {
   "cell_type": "markdown",
   "source": [],
   "metadata": {}
  },
  {
   "cell_type": "markdown",
   "source": [
    "## Identify all the elements of a list where index = value"
   ],
   "metadata": {}
  },
  {
   "cell_type": "code",
   "execution_count": 35,
   "source": [
    "lst = [0,2,1,3,5,5,6,8,7,9]"
   ],
   "outputs": [],
   "metadata": {}
  },
  {
   "cell_type": "code",
   "execution_count": 37,
   "source": [
    "for key, val in enumerate(lst):\r\n",
    "    if key == val:\r\n",
    "        print(key, val, True)\r\n",
    "    else:\r\n",
    "        print(key, val, False)"
   ],
   "outputs": [
    {
     "output_type": "stream",
     "name": "stdout",
     "text": [
      "0 0 True\n",
      "1 2 False\n",
      "2 1 False\n",
      "3 3 True\n",
      "4 5 False\n",
      "5 5 True\n",
      "6 6 True\n",
      "7 8 False\n",
      "8 7 False\n",
      "9 9 True\n"
     ]
    }
   ],
   "metadata": {}
  },
  {
   "cell_type": "code",
   "execution_count": 41,
   "source": [
    "for i in range(len(lst)):\r\n",
    "    if i == lst[i]:\r\n",
    "        print(i, lst[i], True)\r\n",
    "    else:\r\n",
    "        print(i, lst[i], False)"
   ],
   "outputs": [
    {
     "output_type": "stream",
     "name": "stdout",
     "text": [
      "0 0 True\n",
      "1 2 False\n",
      "2 1 False\n",
      "3 3 True\n",
      "4 5 False\n",
      "5 5 True\n",
      "6 6 True\n",
      "7 8 False\n",
      "8 7 False\n",
      "9 9 True\n"
     ]
    }
   ],
   "metadata": {}
  },
  {
   "cell_type": "code",
   "execution_count": 42,
   "source": [
    "[True if i == lst[i] else False for i in range(len(lst))]"
   ],
   "outputs": [
    {
     "output_type": "execute_result",
     "data": {
      "text/plain": [
       "[True, False, False, True, False, True, True, False, False, True]"
      ]
     },
     "metadata": {},
     "execution_count": 42
    }
   ],
   "metadata": {}
  },
  {
   "cell_type": "markdown",
   "source": [
    "## Merge two lists to get only the unique elements"
   ],
   "metadata": {}
  },
  {
   "cell_type": "code",
   "execution_count": 43,
   "source": [
    "lst1 = [1,2,3,4,5,6]\r\n",
    "lst2 = [9,8,7,6,5,4]"
   ],
   "outputs": [],
   "metadata": {}
  },
  {
   "cell_type": "code",
   "execution_count": 44,
   "source": [
    "merged = list(set(lst1+lst2))\r\n",
    "merged"
   ],
   "outputs": [],
   "metadata": {}
  },
  {
   "cell_type": "markdown",
   "source": [
    "## Merge two sorted lists"
   ],
   "metadata": {}
  },
  {
   "cell_type": "code",
   "execution_count": 46,
   "source": [
    "lst1 = [1,3,5,7,9]\r\n",
    "lst2 = [2,4,6,8,10]"
   ],
   "outputs": [],
   "metadata": {}
  },
  {
   "cell_type": "code",
   "execution_count": 49,
   "source": [
    "len1 = len(lst1)\r\n",
    "len2 = len(lst2)\r\n",
    "\r\n",
    "result = []\r\n",
    "i, j = 0, 0\r\n",
    "\r\n",
    "while i < len1 and j < len2:\r\n",
    "    if lst1[i] < lst2[j]:\r\n",
    "        result.append(lst1[i])\r\n",
    "        i += 1\r\n",
    "    else:\r\n",
    "        result.append(lst2[j])\r\n",
    "        j += 1\r\n",
    "    \r\n",
    "result = result + lst1[i:] + lst2[j:]"
   ],
   "outputs": [],
   "metadata": {}
  },
  {
   "cell_type": "code",
   "execution_count": 50,
   "source": [
    "result"
   ],
   "outputs": [
    {
     "output_type": "execute_result",
     "data": {
      "text/plain": [
       "[1, 2, 3, 4, 5, 6, 7, 8, 9, 10]"
      ]
     },
     "metadata": {},
     "execution_count": 50
    }
   ],
   "metadata": {}
  },
  {
   "cell_type": "markdown",
   "source": [
    "## Create an update function for the class"
   ],
   "metadata": {}
  },
  {
   "cell_type": "code",
   "execution_count": 52,
   "source": [
    "class Employee:\r\n",
    "    def __init__(self, name, age, salary):\r\n",
    "        self.name = name\r\n",
    "        self.age = age\r\n",
    "        self.salary = salary\r\n",
    "\r\n",
    "    def update_salary(self, new_sal):\r\n",
    "        self.salary = new_sal\r\n",
    "\r\n",
    "    def display_details(self):\r\n",
    "        print(f'Employee Details: ')\r\n",
    "        print(f'Name: {self.name}')\r\n",
    "        print(f'Age: {self.age}')\r\n",
    "        print(f'Salary: {self.salary}')"
   ],
   "outputs": [],
   "metadata": {}
  },
  {
   "cell_type": "code",
   "execution_count": 53,
   "source": [
    "emp1 = Employee('Mark', 42, 100000)"
   ],
   "outputs": [],
   "metadata": {}
  },
  {
   "cell_type": "code",
   "execution_count": 54,
   "source": [
    "emp1.display_details()"
   ],
   "outputs": [
    {
     "output_type": "stream",
     "name": "stdout",
     "text": [
      "Employee Details: \n",
      "Name: Mark\n",
      "Age: 42\n",
      "Salary: 100000\n"
     ]
    }
   ],
   "metadata": {}
  },
  {
   "cell_type": "code",
   "execution_count": 55,
   "source": [
    "emp1.update_salary(23456)"
   ],
   "outputs": [],
   "metadata": {}
  },
  {
   "cell_type": "code",
   "execution_count": 57,
   "source": [
    "emp1.display_details()"
   ],
   "outputs": [
    {
     "output_type": "stream",
     "name": "stdout",
     "text": [
      "Employee Details: \n",
      "Name: Mark\n",
      "Age: 42\n",
      "Salary: 23456\n"
     ]
    }
   ],
   "metadata": {}
  }
 ],
 "metadata": {
  "orig_nbformat": 4,
  "language_info": {
   "name": "python",
   "version": "3.8.3",
   "mimetype": "text/x-python",
   "codemirror_mode": {
    "name": "ipython",
    "version": 3
   },
   "pygments_lexer": "ipython3",
   "nbconvert_exporter": "python",
   "file_extension": ".py"
  },
  "kernelspec": {
   "name": "python3",
   "display_name": "Python 3.8.3 64-bit ('base': conda)"
  },
  "interpreter": {
   "hash": "916e78022459d02449eb0e919933c0dffe7558a101efc3cf53aea168c8e1e9f5"
  }
 },
 "nbformat": 4,
 "nbformat_minor": 2
}