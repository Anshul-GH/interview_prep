{
 "cells": [
  {
   "cell_type": "code",
   "execution_count": null,
   "metadata": {},
   "outputs": [],
   "source": [
    "# 1. How do we define a static function within a class? Can you write the syntax?\n",
    "# 2. Multilevel and Multiple Inheritance?\n",
    "# 3. What is the use of super keyword?\n",
    "# 4. What is the famous diamond shaped problem with inheritance?\n",
    "\n",
    "# 5. Can you identify the issue with the code below:\n",
    "class Employee:\n",
    "    def employeeDetails():\n",
    "        self.name = 'Matthew'\n",
    "        print(\"Name: \", self.name)\n",
    "        self.age = 30\n",
    "        print(\"Age: \", self.age)\n",
    "\n",
    "if __name__ == \"__main__\":\n",
    "    employee = Employee()\n",
    "    Employee.employeeDetails(employee)"
   ]
  },
  {
   "cell_type": "markdown",
   "metadata": {},
   "source": [
    "class A\n",
    "def m1(self):\n",
    "    a=1\n",
    "    b=2\n",
    "    return a + b\n",
    "\n",
    "class B(A)\n",
    "def m1(self)\n",
    "    a=1\n",
    "    b=2\n",
    "    return a - b\n",
    "\n",
    "class C(A)\n",
    "def m1(self):\n",
    "    a=1\n",
    "    b=2\n",
    "    return a % b\n",
    "\n",
    "class D(B, C)\n",
    "def m2(self):\n",
    "    pass\n",
    "\n",
    "obj_D = D()\n",
    "obj_D.m1()"
   ]
  }
 ],
 "metadata": {
  "kernelspec": {
   "display_name": "Python 3.10.4 64-bit",
   "language": "python",
   "name": "python3"
  },
  "language_info": {
   "name": "python",
   "version": "3.10.4"
  },
  "orig_nbformat": 4,
  "vscode": {
   "interpreter": {
    "hash": "aaa5c832b63eae91981a2a50352553a3961fa32ff189f781a6f1ad2872196c19"
   }
  }
 },
 "nbformat": 4,
 "nbformat_minor": 2
}
