{
 "cells": [
  {
   "cell_type": "code",
   "execution_count": null,
   "metadata": {},
   "outputs": [],
   "source": [
    "Python, \n",
    "Django, Flask, JavaScript, \n",
    "SQL, Strong SQL - relational DB design, performance, stored procedures, and views\n",
    "CI/CD\n",
    "Backend understanding\n",
    "REST APIs\n",
    "Unit Testing\n",
    "Strong Knowledge of data structures and algorithms\n",
    "Strong Knowledge of OOP and design patterns\n",
    "Excellent English communication skills\n",
    "Solid SDLC understanding and agile delivery\n",
    "Self-management and capable of working in agile environment without significant supervision"
   ]
  }
 ],
 "metadata": {
  "language_info": {
   "name": "python"
  },
  "orig_nbformat": 4
 },
 "nbformat": 4,
 "nbformat_minor": 2
}
