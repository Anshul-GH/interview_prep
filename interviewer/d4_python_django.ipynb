{
 "cells": [
  {
   "cell_type": "markdown",
   "source": [
    "1. Problem Solving (DS & Algo) - Expert"
   ],
   "metadata": {}
  },
  {
   "cell_type": "code",
   "execution_count": null,
   "source": [
    "# 1. Given a list:\r\n",
    "[1,2,3,4,6,7,8,9,12,4,2,5,7,2,5,2,1,4,6,3]\r\n",
    "# Push all the even numbers to the front and odd numbers to the back\r\n",
    "# Output:\r\n",
    "[2,4,6,8,12,4,2,2,2,4,6,1,3,7,9,5,7,5,1,3]"
   ],
   "outputs": [],
   "metadata": {}
  },
  {
   "cell_type": "code",
   "execution_count": 9,
   "source": [
    "# lst = [1,2,3,4,6,7,8,9,12,4,2,5,7,2,5,2,1,4,6,3]\r\n",
    "# # sorted(lst, key=lambda x: x % 2)\r\n",
    "# print(lst.sort())\r\n",
    "\r\n",
    "l = [1,2,3,4,6,7,8,9,12,4,2,5,7,2,5,2,1,4,6,3]\r\n",
    "\r\n",
    "l_even = list(filter(lambda i:i%2==0, l))\r\n",
    "l_odd = list(filter(lambda i:i%2!=0, l))\r\n",
    "\r\n",
    "# l_final = l_even.extend(l_odd)\r\n",
    "l_even.extend(l_odd)\r\n",
    "\r\n",
    "print(l_even)"
   ],
   "outputs": [
    {
     "output_type": "stream",
     "name": "stdout",
     "text": [
      "[2, 4, 6, 8, 12, 4, 2, 2, 2, 4, 6, 1, 3, 7, 9, 5, 7, 5, 1, 3]\n"
     ]
    }
   ],
   "metadata": {}
  },
  {
   "cell_type": "code",
   "execution_count": 3,
   "source": [
    "input_list = [1,2,3,4,6,7,8,9,12,4,2,5,7,2,5,2,1,4,6,3]\r\n",
    "even_list=list(filter(lambda x:x%2==0,input_list))\r\n",
    "even_list"
   ],
   "outputs": [
    {
     "output_type": "execute_result",
     "data": {
      "text/plain": [
       "[2, 4, 6, 8, 12, 4, 2, 2, 2, 4, 6]"
      ]
     },
     "metadata": {},
     "execution_count": 3
    }
   ],
   "metadata": {}
  },
  {
   "cell_type": "code",
   "execution_count": 8,
   "source": [
    "nums = [1,2,3,4,6,7,8,9,12,4,2,5,7,2,5,2,1,4,6,3]\r\n",
    "# Alternate Solution:\r\n",
    "# even_nums = list(filter(lambda x:x%2!=0, nums))\r\n",
    "# odd_nums = list(filter(lambda x:x%2==0, nums))\r\n",
    "# print(even_nums)\r\n",
    "# print(odd_nums)\r\n",
    "\r\n",
    "# Alternate Solution:\r\n",
    "# nums.sort(key=lambda x: x%2)\r\n",
    "\r\n",
    "# Alternate Solution:\r\n",
    "# for i in range(len(nums)):\r\n",
    "#     if nums[i] % 2 != 0:\r\n",
    "#         temp = nums.pop(i)\r\n",
    "#         nums.append(temp)\r\n",
    "\r\n",
    "# print(nums)"
   ],
   "outputs": [
    {
     "output_type": "stream",
     "name": "stdout",
     "text": [
      "[2, 4, 6, 8, 12, 4, 2, 7, 2, 2, 4, 6, 1, 7, 5, 1, 3, 5, 9, 3]\n"
     ]
    }
   ],
   "metadata": {}
  },
  {
   "cell_type": "code",
   "execution_count": 5,
   "source": [
    "nums"
   ],
   "outputs": [
    {
     "output_type": "execute_result",
     "data": {
      "text/plain": [
       "[2, 4, 6, 8, 12, 4, 2, 2, 2, 4, 6, 1, 3, 7, 9, 5, 7, 5, 1, 3]"
      ]
     },
     "metadata": {},
     "execution_count": 5
    }
   ],
   "metadata": {}
  },
  {
   "cell_type": "code",
   "execution_count": 8,
   "source": [
    "# a = [1,2,3,4]\r\n",
    "# b = [5,6,7,8]\r\n",
    "# ex = a.extend(b)"
   ],
   "outputs": [],
   "metadata": {}
  },
  {
   "cell_type": "code",
   "execution_count": 9,
   "source": [
    "ex"
   ],
   "outputs": [],
   "metadata": {}
  },
  {
   "cell_type": "code",
   "execution_count": 10,
   "source": [
    "# 2a. Write a code to merge two lists iteratively in such a way that:\r\n",
    "# * For each iteration, one element will be picked up from each list and added to the output list\r\n",
    "# * After each iteration, the result in the output list should always be sorted\r\n",
    "# The lists can be of different lengths so if one gets exhausted, continue the iteration with the remaining elements of the other list\r\n",
    "# Example:\r\n",
    "# Iteration1: [11,90]\r\n",
    "# Iteration2: [4,11,55,90]\r\n",
    "# Iteration3: [4,11,55,66,88,90]\r\n",
    "# Iteration4: [4,11,33,55,66,66,88,90]\r\n",
    "# Iteration5: [4,11,22,33,55,66,66,88,90]\r\n",
    "# Iteration6: [4,11,22,33,55,66,66,88,90,99]\r\n",
    "list1 = [11, 4, 88, 66]\r\n",
    "list2 = [90, 55, 66, 33, 22, 99]"
   ],
   "outputs": [],
   "metadata": {}
  },
  {
   "cell_type": "code",
   "execution_count": 15,
   "source": [
    "l1 = [11, 4, 88, 66]\r\n",
    "l2 = [90, 55, 66, 33, 22, 99]\r\n",
    "\r\n",
    "n1 = len(l1)\r\n",
    "n2 = len(l2)\r\n",
    "n = n1 if n1>n2 else n2\r\n",
    "l_final = []\r\n",
    "\r\n",
    "for i in range(n):\r\n",
    "    if i<n1:\r\n",
    "        l_final.append(l1[i])\r\n",
    "    \r\n",
    "    if i<n2:\r\n",
    "        l_final.append(l2[i])\r\n",
    "\r\n",
    "    l_final = sorted(l_final)"
   ],
   "outputs": [],
   "metadata": {}
  },
  {
   "cell_type": "code",
   "execution_count": 16,
   "source": [
    "l_final"
   ],
   "outputs": [
    {
     "output_type": "execute_result",
     "data": {
      "text/plain": [
       "[4, 11, 22, 33, 55, 66, 66, 88, 90, 99]"
      ]
     },
     "metadata": {},
     "execution_count": 16
    }
   ],
   "metadata": {}
  },
  {
   "cell_type": "code",
   "execution_count": null,
   "source": [
    "# len_l1 = len(list1)\r\n",
    "# len_l2 = len(list2)\r\n",
    "\r\n",
    "# for i in range(len_l2):\r\n"
   ],
   "outputs": [],
   "metadata": {}
  },
  {
   "cell_type": "code",
   "execution_count": 2,
   "source": [
    "# 2b. Write a program to find two numbers such that they add up to the target.\r\n",
    "# Example:\r\n",
    "l1 = [3, 5, 10, 2, 90, 9, 6, 12, 7, 6]\r\n",
    "target = 12\r\n",
    "# Output: [[10,2], [3,9], [6,6], [5,7]]"
   ],
   "outputs": [],
   "metadata": {}
  },
  {
   "cell_type": "code",
   "execution_count": 6,
   "source": [
    "# out=[[x,y] for x,y in l1 if x+y==12]"
   ],
   "outputs": [
    {
     "output_type": "error",
     "ename": "TypeError",
     "evalue": "cannot unpack non-iterable int object",
     "traceback": [
      "\u001b[1;31m---------------------------------------------------------------------------\u001b[0m",
      "\u001b[1;31mTypeError\u001b[0m                                 Traceback (most recent call last)",
      "\u001b[1;32m<ipython-input-6-2e7ffea0eba6>\u001b[0m in \u001b[0;36m<module>\u001b[1;34m\u001b[0m\n\u001b[1;32m----> 1\u001b[1;33m \u001b[0mout\u001b[0m\u001b[1;33m=\u001b[0m\u001b[1;33m[\u001b[0m\u001b[1;33m[\u001b[0m\u001b[0mx\u001b[0m\u001b[1;33m,\u001b[0m\u001b[0my\u001b[0m\u001b[1;33m]\u001b[0m \u001b[1;32mfor\u001b[0m \u001b[0mx\u001b[0m\u001b[1;33m,\u001b[0m\u001b[0my\u001b[0m \u001b[1;32min\u001b[0m \u001b[0ml1\u001b[0m \u001b[1;32mif\u001b[0m \u001b[0mx\u001b[0m\u001b[1;33m+\u001b[0m\u001b[0my\u001b[0m\u001b[1;33m==\u001b[0m\u001b[1;36m12\u001b[0m\u001b[1;33m]\u001b[0m\u001b[1;33m\u001b[0m\u001b[1;33m\u001b[0m\u001b[0m\n\u001b[0m",
      "\u001b[1;32m<ipython-input-6-2e7ffea0eba6>\u001b[0m in \u001b[0;36m<listcomp>\u001b[1;34m(.0)\u001b[0m\n\u001b[1;32m----> 1\u001b[1;33m \u001b[0mout\u001b[0m\u001b[1;33m=\u001b[0m\u001b[1;33m[\u001b[0m\u001b[1;33m[\u001b[0m\u001b[0mx\u001b[0m\u001b[1;33m,\u001b[0m\u001b[0my\u001b[0m\u001b[1;33m]\u001b[0m \u001b[1;32mfor\u001b[0m \u001b[0mx\u001b[0m\u001b[1;33m,\u001b[0m\u001b[0my\u001b[0m \u001b[1;32min\u001b[0m \u001b[0ml1\u001b[0m \u001b[1;32mif\u001b[0m \u001b[0mx\u001b[0m\u001b[1;33m+\u001b[0m\u001b[0my\u001b[0m\u001b[1;33m==\u001b[0m\u001b[1;36m12\u001b[0m\u001b[1;33m]\u001b[0m\u001b[1;33m\u001b[0m\u001b[1;33m\u001b[0m\u001b[0m\n\u001b[0m",
      "\u001b[1;31mTypeError\u001b[0m: cannot unpack non-iterable int object"
     ]
    }
   ],
   "metadata": {}
  },
  {
   "cell_type": "code",
   "execution_count": 4,
   "source": [
    "from itertools import combinations\r\n",
    "\r\n",
    "pair_list=list(combinations(input_list,2))\r\n",
    "sum=12\r\n",
    "\r\n",
    "for i in pair_list:\r\n",
    "    if i[0]+i[1] ==12:\r\n",
    "        print(i)"
   ],
   "outputs": [
    {
     "output_type": "stream",
     "name": "stdout",
     "text": [
      "(3, 9)\n",
      "(4, 8)\n",
      "(6, 6)\n",
      "(7, 5)\n",
      "(7, 5)\n",
      "(8, 4)\n",
      "(8, 4)\n",
      "(9, 3)\n",
      "(5, 7)\n",
      "(7, 5)\n"
     ]
    }
   ],
   "metadata": {}
  },
  {
   "cell_type": "markdown",
   "source": [],
   "metadata": {}
  },
  {
   "cell_type": "code",
   "execution_count": null,
   "source": [
    "# 2c. Fibonacci Series Using Generators\r\n",
    "# Solution:\r\n",
    "import itertools as it\r\n",
    "\r\n",
    "num_iterations = int(raw_input('How many? '))\r\n",
    "def fib():\r\n",
    "    a,b = 0,1\r\n",
    "    while True:\r\n",
    "        yield a\r\n",
    "        b = a+b\r\n",
    "        yield b\r\n",
    "        a = a+b\r\n",
    "\r\n",
    "for x in it.islice(fib(), num_iterations):\r\n",
    "    print x"
   ],
   "outputs": [],
   "metadata": {}
  },
  {
   "cell_type": "code",
   "execution_count": 1,
   "source": [
    "## Recursion\r\n",
    "def fibo(n):\r\n",
    "    if n<0:\r\n",
    "        return False\r\n",
    "    elif n ==0 :\r\n",
    "        return 0\r\n",
    "    elif n == 1 or n==2:\r\n",
    "        return 1\r\n",
    "    else:\r\n",
    "        return fibo(n-1) + fibo(n-2)"
   ],
   "outputs": [],
   "metadata": {}
  },
  {
   "cell_type": "code",
   "execution_count": null,
   "source": [
    "def fib(n):\r\n",
    "    a,b=0,1\r\n",
    "    while True:\r\n",
    "        yield a\r\n",
    "        a,b=b,a+b"
   ],
   "outputs": [],
   "metadata": {}
  },
  {
   "cell_type": "markdown",
   "source": [
    "2. Core Python - Expert"
   ],
   "metadata": {}
  },
  {
   "cell_type": "code",
   "execution_count": null,
   "source": [
    "# 3. What will be the output:\r\n",
    "attrib = 'hello',\r\n",
    "print(type(attrib))"
   ],
   "outputs": [],
   "metadata": {}
  },
  {
   "cell_type": "code",
   "execution_count": null,
   "source": [
    "# 4. Tuple containing values\r\n",
    "t2 = ([1,2,3,4], [5,6,7,8])\r\n",
    "# What will be the output\r\n",
    "t2[0].append(10)\r\n",
    "\r\n",
    "print(t2)"
   ],
   "outputs": [],
   "metadata": {}
  },
  {
   "cell_type": "code",
   "execution_count": null,
   "source": [
    "# 5. what will be the output\r\n",
    "a = set('abracadabra')\r\n",
    "print(a)"
   ],
   "outputs": [],
   "metadata": {}
  },
  {
   "cell_type": "code",
   "execution_count": 17,
   "source": [
    "# 6. given a list, reverse the order using list slicing\r\n",
    "lst = [1,2,3,4,5]\r\n",
    "\r\n",
    "# Expected Output\r\n",
    "# [5,3,1]"
   ],
   "outputs": [],
   "metadata": {}
  },
  {
   "cell_type": "code",
   "execution_count": 21,
   "source": [
    "lst[0:5:-2]"
   ],
   "outputs": [
    {
     "output_type": "execute_result",
     "data": {
      "text/plain": [
       "[]"
      ]
     },
     "metadata": {},
     "execution_count": 21
    }
   ],
   "metadata": {}
  },
  {
   "cell_type": "code",
   "execution_count": 7,
   "source": [
    "lst = [1,2,3,4,5]\r\n",
    "lst[::-2]\r\n",
    "# lst[::2]\r\n",
    "# lst[::3]\r\n",
    "\r\n",
    "# lst[-1:0:-2]\r\n",
    "lst[-1:-4:-2]"
   ],
   "outputs": [
    {
     "output_type": "execute_result",
     "data": {
      "text/plain": [
       "[5, 3]"
      ]
     },
     "metadata": {},
     "execution_count": 7
    }
   ],
   "metadata": {}
  },
  {
   "cell_type": "markdown",
   "source": [
    "3. OOP Concepts - Expert"
   ],
   "metadata": {}
  },
  {
   "cell_type": "code",
   "execution_count": 4,
   "source": [
    "# 7. What will be the output\r\n",
    "class Employee:\r\n",
    "    def __init__(self):\r\n",
    "        pass\r\n",
    "    \r\n",
    "    def employeeDetails():\r\n",
    "        self.name = 'Matthew'\r\n",
    "        print(\"Name: \", self.name)\r\n",
    "        self.age = 30\r\n",
    "        print(\"Age: \", self.age)\r\n",
    "\r\n",
    "if __name__ == \"__main__\":\r\n",
    "    employee = Employee()\r\n",
    "    employee.employeeDetails()"
   ],
   "outputs": [],
   "metadata": {}
  },
  {
   "cell_type": "code",
   "execution_count": null,
   "source": [
    "# 8. What will be the output:\r\n",
    "class Employee:\r\n",
    "    def employeeDetails(self):\r\n",
    "        self.name = 'Matthew'\r\n",
    "        print(\"Name: \", self.name)\r\n",
    "        self.age = 30\r\n",
    "        print(\"Age: \", self.age)\r\n",
    "\r\n",
    "if __name__ == \"__main__\":\r\n",
    "    employee = Employee()\r\n",
    "    Employee.employeeDetails(employee)\r\n",
    "    employee.employeeDetails()"
   ],
   "outputs": [],
   "metadata": {}
  },
  {
   "cell_type": "code",
   "execution_count": null,
   "source": [
    "# 9. How do we define a static function within a class?\r\n",
    "\r\n",
    "\r\n",
    "# Example:\r\n",
    "class Employee:\r\n",
    "    def employeeDetails(self):\r\n",
    "        self.name = 'Ben'\r\n",
    "\r\n",
    "    @staticmethod\r\n",
    "    def welcomeMessage():\r\n",
    "        print('Welcome to our organization!')"
   ],
   "outputs": [],
   "metadata": {}
  },
  {
   "cell_type": "code",
   "execution_count": null,
   "source": [
    "# 10. Multilevel and Multiple Inheritance?"
   ],
   "outputs": [],
   "metadata": {}
  },
  {
   "cell_type": "code",
   "execution_count": null,
   "source": [
    "# 11. What is the use of super keyword?"
   ],
   "outputs": [],
   "metadata": {}
  },
  {
   "cell_type": "markdown",
   "source": [
    "4. Advance Python - Expert"
   ],
   "metadata": {}
  },
  {
   "cell_type": "markdown",
   "source": [
    "1. What are python iterators? <br />\n",
    "    Iterators are objects which can be traversed though or iterated upon.\n",
    "\n",
    "2. What is the difference between range & xrange? <br />\n",
    "    Xrange doesn’t actually generate a static list at run-time like range does. It creates the values as you need them with a special technique called yielding. This technique is used with a type of object known as generators. That means that if you have a really gigantic range you’d like to generate a list for, say one billion, xrange is the function to use.\n",
    "\n",
    "3. What does this mean: args, **kwargs? And why would we use it? <br />\n",
    "    We use args when we aren’t sure how many arguments are going to be passed to a function, or if we want to pass a stored list or tuple of arguments to a function. kwargs is used when we don’t know how many keyword arguments will be passed to a function, or it can be used to pass the values of a dictionary as keyword arguments. The identifiers args and kwargs are a convention, you could also use *bob and billy but that would not be wise.\n",
    "\n",
    "4. How is Multithreading achieved in Python? <br />\n",
    "    Python has a multi-threading package but if you want to multi-thread to speed your code up, then it’s usually not a good idea to use it. Python has a construct called the Global Interpreter Lock (GIL). The GIL makes sure that only one of your ‘threads’ can execute at any one time. A thread acquires the GIL, does a little work, then passes the GIL onto the next thread. This happens very quickly so to the human eye it may seem like your threads are executing in parallel, but they are really just taking turns using the same CPU core. All this GIL passing adds overhead to execution. This means that if you want to make your code run faster then using the threading package often isn’t a good idea."
   ],
   "metadata": {}
  },
  {
   "cell_type": "markdown",
   "source": [
    "5. Testing (TDD) - Expert\n",
    "- Unit Testing\n",
    "- Integration Testing\n",
    "- Load Testing"
   ],
   "metadata": {}
  },
  {
   "cell_type": "markdown",
   "source": [
    "Solutions: Amit Khetan (Below):"
   ],
   "metadata": {}
  },
  {
   "cell_type": "code",
   "execution_count": null,
   "source": [
    "# 1. Given a list:[1,2,3,4,6,7,8,9,12,4,2,5,7,2,5,2,1,4,6,3]\r\n",
    "# Push all the even numbers to the front and odd numbers to the back\r\n",
    "# Output:[2,4,6,8,12,4,2,2,2,4,6,1,3,7,9,5,7,5,1,3]\r\n",
    "\r\n",
    "# Start #1\r\n",
    "list_of_numbers = [1, 2, 3, 4, 6, 7, 8, 9, 12, 4, 2, 5, 7, 2, 5, 2, 1, 4, 6, 3]  # INPUT\r\n",
    "sorted_array = []  # OUTPUT\r\n",
    "for number in list_of_numbers:\r\n",
    "    if number % 2 == 0:\r\n",
    "        sorted_array.insert(0, number)\r\n",
    "    else:\r\n",
    "        sorted_array.append(number)\r\n",
    "print(f\"SORTED ARRAY: {sorted_array}\")\r\n",
    "\r\n",
    "# Start #2\r\n",
    "# 2a. Write a code to merge two lists iteratively in such a way that\r\n",
    "# :# * For each iteration, one element will be picked up from each list and added to the output list\r\n",
    "# * After each iteration, the result in the output list should always be sorted\r\n",
    "# The lists can be of different lengths so if one gets exhausted, continue the iteration with the\r\n",
    "# remaining elements of the other list\r\n",
    "# Example:\r\n",
    "# Iteration1: [11,90]\r\n",
    "# Iteration2: [4,11,55,90]\r\n",
    "# Iteration3: [4,11,55,66,88,90]\r\n",
    "# Iteration4: [4,11,33,55,66,66,88,90]\r\n",
    "# Iteration5: [4,11,22,33,55,66,66,88,90]\r\n",
    "# Iteration6: [4,11,22,33,55,66,66,88,90,99]\r\n",
    "\r\n",
    "list1 = [11, 4, 88, 66]\r\n",
    "list2 = [90, 55, 66, 33, 22, 99]\r\n",
    "# merge two list\r\n",
    "merged_sorted_list = []\r\n",
    "# the larger list\r\n",
    "if len(list1) < len(list2):\r\n",
    "    for index, list_2_element in enumerate(list2):\r\n",
    "        if index < len(list1):\r\n",
    "            merged_sorted_list.extend([list1[index], list_2_element])\r\n",
    "        else:\r\n",
    "            merged_sorted_list.append(list_2_element)\r\n",
    "        merged_sorted_list.sort()\r\n",
    "        print(f\"#Iteration:{index + 1} {merged_sorted_list}\")\r\n",
    "else:\r\n",
    "    for index, list_1_element in enumerate(list1):\r\n",
    "        if index < len(list2):\r\n",
    "            merged_sorted_list.extend([list2[index], list_1_element])\r\n",
    "        else:\r\n",
    "            merged_sorted_list.append(list2[index])\r\n",
    "        merged_sorted_list.sort()\r\n",
    "        print(f\"#Iteration:{index + 1} {merged_sorted_list}\")\r\n",
    "\r\n",
    "\r\n",
    "\r\n",
    "\r\n",
    "\"\"\"\r\n",
    "Fibonacci Series\r\n",
    "1, 1, (n + (n-1))\r\n",
    "\"\"\"\r\n",
    "\r\n",
    "def generate_fibonacci_series(n) -> [int, bool, bool]:\r\n",
    "    last_number = 1\r\n",
    "    last_but_one_number = 1\r\n",
    "    for i in range(n):\r\n",
    "        if i == 0:\r\n",
    "            yield last_number\r\n",
    "        elif i == 1:\r\n",
    "            yield last_but_one_number\r\n",
    "        else:\r\n",
    "            new_last_number = last_number + last_but_one_number\r\n",
    "            last_but_one_number = last_number\r\n",
    "            last_number = new_last_number\r\n",
    "            yield new_last_number\r\n",
    "\r\n",
    "print(\"CHECK FIBONACCI SERIES\")\r\n",
    "for number in generate_fibonacci_series(10):\r\n",
    "    print(number)\r\n",
    "\r\n",
    "\r\n",
    "\r\n",
    "# 3. What will be the output:\r\n",
    "# singleton = 'hello',\r\n",
    "# print(type(singleton))\r\n",
    "\r\n",
    "\r\n",
    "# 4: tuple containing values\r\n",
    "t2 = ([1, 2, 3, 4], [5, 6, 7, 8])\r\n",
    "# What will be the output\r\n",
    "t2[0].append(10)\r\n",
    "print(t2)\r\n",
    "# ([1, 2, 3, 4, 10], [5, 6, 7, 8])\r\n",
    "# t1 = (1, 2, 3)\r\n",
    "# [1:02 PM] Anshul Jain\r\n",
    "\r\n",
    "\r\n",
    "# 6. given a list, reverse the order using list slicing\r\n",
    "lst = [1, 2, 3, 4, 5]\r\n",
    "# Expected Output\r\n",
    "# [5, 3, 1]\r\n",
    "print(\"6TH\")\r\n",
    "print(lst[len(lst) - 1: 0: -2])"
   ],
   "outputs": [],
   "metadata": {}
  }
 ],
 "metadata": {
  "interpreter": {
   "hash": "916e78022459d02449eb0e919933c0dffe7558a101efc3cf53aea168c8e1e9f5"
  },
  "kernelspec": {
   "name": "python3",
   "display_name": "Python 3.8.3 64-bit ('base': conda)"
  },
  "language_info": {
   "codemirror_mode": {
    "name": "ipython",
    "version": 3
   },
   "file_extension": ".py",
   "mimetype": "text/x-python",
   "name": "python",
   "nbconvert_exporter": "python",
   "pygments_lexer": "ipython3",
   "version": "3.8.3"
  },
  "orig_nbformat": 4
 },
 "nbformat": 4,
 "nbformat_minor": 2
}