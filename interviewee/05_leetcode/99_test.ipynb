{
 "cells": [
  {
   "cell_type": "code",
   "execution_count": 7,
   "source": [
    "digits = [4,3,2,1]\r\n",
    "\r\n",
    "def increment_number(digits):\r\n",
    "    rev = digits[::-1]\r\n",
    "    int_num = 0\r\n",
    "    dec = 0\r\n",
    "    for num in rev:\r\n",
    "        int_num += num * (10**dec)\r\n",
    "        dec += 1\r\n",
    "    \r\n",
    "    # increment the number by 1\r\n",
    "    int_num += 1\r\n",
    "\r\n",
    "    # convert number into a list\r\n",
    "    new_digits = str(int_num)\r\n",
    "    new_digits = [int(digit) for digit in new_digits]\r\n",
    "    \r\n",
    "    return new_digits"
   ],
   "outputs": [],
   "metadata": {}
  },
  {
   "cell_type": "code",
   "execution_count": 11,
   "source": [
    "digits = [3,9,9,9]\r\n",
    "number = increment_number(digits)\r\n",
    "print(number)"
   ],
   "outputs": [
    {
     "output_type": "stream",
     "name": "stdout",
     "text": [
      "[4, 0, 0, 0]\n"
     ]
    }
   ],
   "metadata": {}
  },
  {
   "cell_type": "code",
   "execution_count": 1,
   "source": [
    "nums = [0,1,0,3,12]\r\n"
   ],
   "outputs": [],
   "metadata": {}
  },
  {
   "cell_type": "code",
   "execution_count": 10,
   "source": [
    "nums = [0,1,0,3,12] # [0] # [0,1,0,3,12]\r\n",
    "nums = sorted(nums, key=lambda x:x==0)"
   ],
   "outputs": [],
   "metadata": {}
  },
  {
   "cell_type": "code",
   "execution_count": 11,
   "source": [
    "nums"
   ],
   "outputs": [
    {
     "output_type": "execute_result",
     "data": {
      "text/plain": [
       "[1, 3, 12, 0, 0]"
      ]
     },
     "metadata": {},
     "execution_count": 11
    }
   ],
   "metadata": {}
  },
  {
   "cell_type": "code",
   "execution_count": 12,
   "source": [
    "nums = [0,1,0,3,12]\r\n",
    "nums.sort(key=lambda x:x==0)"
   ],
   "outputs": [],
   "metadata": {}
  },
  {
   "cell_type": "code",
   "execution_count": 13,
   "source": [
    "nums"
   ],
   "outputs": [
    {
     "output_type": "execute_result",
     "data": {
      "text/plain": [
       "[1, 3, 12, 0, 0]"
      ]
     },
     "metadata": {},
     "execution_count": 13
    }
   ],
   "metadata": {}
  },
  {
   "cell_type": "code",
   "execution_count": 30,
   "source": [
    "nums = [3,3] #[3,2,4] #[2,7,11,15]\r\n",
    "target = 6 #9"
   ],
   "outputs": [],
   "metadata": {}
  },
  {
   "cell_type": "code",
   "execution_count": 31,
   "source": [
    "for idx, val in enumerate(nums):\r\n",
    "    remain_num = target - val\r\n",
    "    remain_nums = nums[:idx] + nums[idx+1:] \r\n",
    "    if remain_num in remain_nums:\r\n",
    "        pair = [idx, remain_nums.index(remain_num)+1]\r\n",
    "        break"
   ],
   "outputs": [],
   "metadata": {}
  },
  {
   "cell_type": "code",
   "execution_count": 32,
   "source": [
    "pair"
   ],
   "outputs": [
    {
     "output_type": "execute_result",
     "data": {
      "text/plain": [
       "[0, 1]"
      ]
     },
     "metadata": {},
     "execution_count": 32
    }
   ],
   "metadata": {}
  },
  {
   "cell_type": "code",
   "execution_count": 26,
   "source": [
    "remain_nums"
   ],
   "outputs": [
    {
     "output_type": "execute_result",
     "data": {
      "text/plain": [
       "[7, 11, 15]"
      ]
     },
     "metadata": {},
     "execution_count": 26
    }
   ],
   "metadata": {}
  },
  {
   "cell_type": "code",
   "execution_count": 36,
   "source": [
    "nums[5:]"
   ],
   "outputs": [
    {
     "output_type": "execute_result",
     "data": {
      "text/plain": [
       "[]"
      ]
     },
     "metadata": {},
     "execution_count": 36
    }
   ],
   "metadata": {}
  },
  {
   "cell_type": "code",
   "execution_count": 26,
   "source": [
    "# board = [\r\n",
    "#     [\"5\",\"3\",\".\",\".\",\"7\",\".\",\".\",\".\",\".\"]\r\n",
    "#     ,[\"6\",\".\",\".\",\"1\",\"9\",\"5\",\".\",\".\",\".\"]\r\n",
    "#     ,[\".\",\"9\",\"8\",\".\",\".\",\".\",\".\",\"6\",\".\"]\r\n",
    "#     ,[\"8\",\".\",\".\",\".\",\"6\",\".\",\".\",\".\",\"3\"]\r\n",
    "#     ,[\"4\",\".\",\".\",\"8\",\".\",\"3\",\".\",\".\",\"1\"]\r\n",
    "#     ,[\"7\",\".\",\".\",\".\",\"2\",\".\",\".\",\".\",\"6\"]\r\n",
    "#     ,[\".\",\"6\",\".\",\".\",\".\",\".\",\"2\",\"8\",\".\"]\r\n",
    "#     ,[\".\",\".\",\".\",\"4\",\"1\",\"9\",\".\",\".\",\"5\"]\r\n",
    "#     ,[\".\",\".\",\".\",\".\",\"8\",\".\",\".\",\"7\",\"9\"]\r\n",
    "# ]\r\n",
    "\r\n",
    "board = [[\"8\",\"3\",\".\",\".\",\"7\",\".\",\".\",\".\",\".\"]\r\n",
    ",[\"6\",\".\",\".\",\"1\",\"9\",\"5\",\".\",\".\",\".\"]\r\n",
    ",[\".\",\"9\",\"8\",\".\",\".\",\".\",\".\",\"6\",\".\"]\r\n",
    ",[\"8\",\".\",\".\",\".\",\"6\",\".\",\".\",\".\",\"3\"]\r\n",
    ",[\"4\",\".\",\".\",\"8\",\".\",\"3\",\".\",\".\",\"1\"]\r\n",
    ",[\"7\",\".\",\".\",\".\",\"2\",\".\",\".\",\".\",\"6\"]\r\n",
    ",[\".\",\"6\",\".\",\".\",\".\",\".\",\"2\",\"8\",\".\"]\r\n",
    ",[\".\",\".\",\".\",\"4\",\"1\",\"9\",\".\",\".\",\"5\"]\r\n",
    ",[\".\",\".\",\".\",\".\",\"8\",\".\",\".\",\"7\",\"9\"]]"
   ],
   "outputs": [],
   "metadata": {}
  },
  {
   "cell_type": "code",
   "execution_count": 27,
   "source": [
    "# checking horizontal rows\r\n",
    "valid = True\r\n",
    "for row in board:\r\n",
    "    trimmed_num = [int(num) for num in row if num.isdigit()]\r\n",
    "    # print(trimmed_num)\r\n",
    "    if any((x > 9 for x in trimmed_num)):\r\n",
    "        valid = False\r\n",
    "        break\r\n",
    "    if len(set(trimmed_num)) != len(trimmed_num):\r\n",
    "        valid = False\r\n",
    "        break\r\n",
    "\r\n",
    "# if above test is pass, check for individual 3X3 matrix to be valid\r\n",
    "if valid:\r\n",
    "    for k in range(3):    \r\n",
    "        for i in range(3):\r\n",
    "            row = []\r\n",
    "            h_shft = i*3\r\n",
    "            for j in range(3):\r\n",
    "                v_shft = j*1 + k*3\r\n",
    "                row += board[v_shft][h_shft:h_shft+3]\r\n",
    "                trimmed_num = [int(num) for num in row if num.isdigit()]\r\n",
    "                if any((x > 9 for x in trimmed_num)):\r\n",
    "                    valid = False\r\n",
    "                    break\r\n",
    "                if len(set(trimmed_num)) != len(trimmed_num):\r\n",
    "                    valid = False\r\n",
    "                    break\r\n",
    "\r\n",
    "print(valid)\r\n",
    "    \r\n"
   ],
   "outputs": [
    {
     "output_type": "stream",
     "name": "stdout",
     "text": [
      "False\n"
     ]
    }
   ],
   "metadata": {}
  },
  {
   "cell_type": "code",
   "execution_count": 23,
   "source": [
    "# # checking each 3X3 matrix\r\n",
    "# valid = True\r\n",
    "# h_shft = 0\r\n",
    "# v_shft = 3*2\r\n",
    "# # for h_shift in range(3):\r\n",
    "# #     matrix = board[3*h_shft:3*h_shft+3][v_shft:v_shft+3]\r\n",
    "# #     print(matrix)\r\n",
    "\r\n",
    "# # while h_shft <= 9 & v_shft <= 9:\r\n",
    "# #     for i in range(3):\r\n",
    "# #         matrix = board[i*h_shft:h_shft+3][v_shft:v_shft+3]\r\n",
    "# #         print(matrix)\r\n",
    "\r\n",
    "# while h_shft < 3:\r\n",
    "#     print(board[h_shft][v_shft:v_shft+3])\r\n",
    "#     h_shft = h_shft+1\r\n",
    "\r\n"
   ],
   "outputs": [
    {
     "output_type": "stream",
     "name": "stdout",
     "text": [
      "['5', '3', '.', '6', '.', '.', '.', '9', '8']\n",
      "-------------\n",
      "['.', '7', '.', '1', '9', '5', '.', '.', '.']\n",
      "-------------\n",
      "['.', '.', '.', '.', '.', '.', '.', '6', '.']\n",
      "-------------\n",
      "['8', '.', '.', '4', '.', '.', '7', '.', '.']\n",
      "-------------\n",
      "['.', '6', '.', '8', '.', '3', '.', '2', '.']\n",
      "-------------\n",
      "['.', '.', '3', '.', '.', '1', '.', '.', '6']\n",
      "-------------\n",
      "['.', '6', '.', '.', '.', '.', '.', '.', '.']\n",
      "-------------\n",
      "['.', '.', '.', '4', '1', '9', '.', '8', '.']\n",
      "-------------\n",
      "['2', '8', '.', '.', '.', '5', '.', '7', '9']\n",
      "-------------\n"
     ]
    }
   ],
   "metadata": {}
  },
  {
   "cell_type": "code",
   "execution_count": 18,
   "source": [
    "for k in range(1,4):\r\n",
    "    print(k)"
   ],
   "outputs": [
    {
     "output_type": "stream",
     "name": "stdout",
     "text": [
      "1\n",
      "2\n",
      "3\n"
     ]
    }
   ],
   "metadata": {}
  },
  {
   "cell_type": "code",
   "execution_count": null,
   "source": [
    "# ['5', '3', '.']\r\n",
    "# ['6', '.', '.']\r\n",
    "# ['.', '9', '8']\r\n",
    "\r\n",
    "# ['.', '7', '.']\r\n",
    "# ['1', '9', '5']\r\n",
    "# ['.', '.', '.']\r\n",
    "\r\n",
    "# ['.', '.', '.']\r\n",
    "# ['.', '.', '.']\r\n",
    "# ['.', '6', '.']"
   ],
   "outputs": [],
   "metadata": {}
  },
  {
   "cell_type": "code",
   "execution_count": null,
   "source": [
    "[\r\n",
    "    [\".\",\".\",\"4\",\".\",\".\",\".\",\"6\",\"3\",\".\"],\r\n",
    "    [\".\",\".\",\".\",\".\",\".\",\".\",\".\",\".\",\".\"],\r\n",
    "    [\"5\",\".\",\".\",\".\",\".\",\".\",\".\",\"9\",\".\"],\r\n",
    "    [\".\",\".\",\".\",\"5\",\"6\",\".\",\".\",\".\",\".\"],\r\n",
    "    [\"4\",\".\",\"3\",\".\",\".\",\".\",\".\",\".\",\"1\"],\r\n",
    "    [\".\",\".\",\".\",\"7\",\".\",\".\",\".\",\".\",\".\"],\r\n",
    "    [\".\",\".\",\".\",\"5\",\".\",\".\",\".\",\".\",\".\"],\r\n",
    "    [\".\",\".\",\".\",\".\",\".\",\".\",\".\",\".\",\".\"],\r\n",
    "    [\".\",\".\",\".\",\".\",\".\",\".\",\".\",\".\",\".\"]\r\n",
    "]"
   ],
   "outputs": [],
   "metadata": {}
  }
 ],
 "metadata": {
  "orig_nbformat": 4,
  "language_info": {
   "name": "python",
   "version": "3.8.8",
   "mimetype": "text/x-python",
   "codemirror_mode": {
    "name": "ipython",
    "version": 3
   },
   "pygments_lexer": "ipython3",
   "nbconvert_exporter": "python",
   "file_extension": ".py"
  },
  "kernelspec": {
   "name": "python3",
   "display_name": "Python 3.8.8 64-bit ('base': conda)"
  },
  "interpreter": {
   "hash": "fb2ca98df18ba1f3c1db60bd7435d0a612e6157c1ffca13c86bf86151280787f"
  }
 },
 "nbformat": 4,
 "nbformat_minor": 2
}