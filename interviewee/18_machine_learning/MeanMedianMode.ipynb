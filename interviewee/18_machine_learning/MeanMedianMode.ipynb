{
 "cells": [
  {
   "cell_type": "markdown",
   "metadata": {},
   "source": [
    "# Mean, Median, Mode, and introducing NumPy"
   ]
  },
  {
   "cell_type": "markdown",
   "metadata": {},
   "source": [
    "## Mean vs. Median"
   ]
  },
  {
   "cell_type": "markdown",
   "metadata": {},
   "source": [
    "Let's create some fake income data, centered around 27,000 with a normal distribution and standard deviation of 15,000, with 10,000 data points. (We'll discuss those terms more later, if you're not familiar with them.)\n",
    "\n",
    "Then, compute the mean (average) - it should be close to 27,000:"
   ]
  },
  {
   "cell_type": "code",
   "execution_count": 1,
   "metadata": {},
   "outputs": [
    {
     "data": {
      "text/plain": [
       "26789.06948677743"
      ]
     },
     "execution_count": 1,
     "metadata": {},
     "output_type": "execute_result"
    }
   ],
   "source": [
    "import numpy as np\n",
    "\n",
    "incomes = np.random.normal(27000, 15000, 10000)\n",
    "np.mean(incomes)"
   ]
  },
  {
   "cell_type": "markdown",
   "metadata": {},
   "source": [
    "We can segment the income data into 50 buckets, and plot it as a histogram:"
   ]
  },
  {
   "cell_type": "code",
   "execution_count": 2,
   "metadata": {},
   "outputs": [
    {
     "data": {
      "image/png": "[encoded data removed]",
      "text/plain": [
       "<Figure size 432x288 with 1 Axes>"
      ]
     },
     "metadata": {
      "needs_background": "light"
     },
     "output_type": "display_data"
    }
   ],
   "source": [
    "%matplotlib inline\n",
    "import matplotlib.pyplot as plt\n",
    "plt.hist(incomes, 50)\n",
    "plt.show()"
   ]
  },
  {
   "cell_type": "markdown",
   "metadata": {},
   "source": [
    "Now compute the median - since we have a nice, even distribution it too should be close to 27,000:"
   ]
  },
  {
   "cell_type": "code",
   "execution_count": 3,
   "metadata": {},
   "outputs": [
    {
     "data": {
      "text/plain": [
       "26679.954792492754"
      ]
     },
     "execution_count": 3,
     "metadata": {},
     "output_type": "execute_result"
    }
   ],
   "source": [
    "np.median(incomes)"
   ]
  },
  {
   "cell_type": "markdown",
   "metadata": {},
   "source": [
    "Now we'll add Jeff Bezos into the mix. Darn income inequality!"
   ]
  },
  {
   "cell_type": "code",
   "execution_count": 4,
   "metadata": {},
   "outputs": [],
   "source": [
    "incomes = np.append(incomes, [1000000000])"
   ]
  },
  {
   "cell_type": "markdown",
   "metadata": {},
   "source": [
    "The median won't change much, but the mean does:"
   ]
  },
  {
   "cell_type": "code",
   "execution_count": 5,
   "metadata": {},
   "outputs": [
    {
     "data": {
      "text/plain": [
       "26680.38443028494"
      ]
     },
     "execution_count": 5,
     "metadata": {},
     "output_type": "execute_result"
    }
   ],
   "source": [
    "np.median(incomes)"
   ]
  },
  {
   "cell_type": "code",
   "execution_count": 6,
   "metadata": {},
   "outputs": [
    {
     "data": {
      "text/plain": [
       "126776.39184759266"
      ]
     },
     "execution_count": 6,
     "metadata": {},
     "output_type": "execute_result"
    }
   ],
   "source": [
    "np.mean(incomes)"
   ]
  },
  {
   "cell_type": "markdown",
   "metadata": {},
   "source": [
    "## Mode"
   ]
  },
  {
   "cell_type": "markdown",
   "metadata": {},
   "source": [
    "Next, let's generate some fake age data for 500 people:"
   ]
  },
  {
   "cell_type": "code",
   "execution_count": 7,
   "metadata": {},
   "outputs": [
    {
     "data": {
      "text/plain": [
       "array([49, 58, 48, 71, 49, 45, 27, 75, 48, 88, 23, 18, 84, 18, 41, 23, 48,\n",
       "       28, 66, 66, 27, 87, 81, 47, 29, 72, 43, 63, 29, 24, 82, 44, 29, 71,\n",
       "       82, 59, 48, 81, 44, 32, 36, 51, 87, 71, 29, 82, 57, 67, 64, 61, 30,\n",
       "       74, 55, 73, 76, 42, 62, 49, 25, 74, 23, 64, 37, 25, 25, 26, 71, 22,\n",
       "       18, 55, 87, 44, 65, 70, 85, 63, 31, 38, 80, 18, 82, 86, 52, 86, 29,\n",
       "       78, 85, 25, 32, 42, 61, 56, 80, 25, 69, 68, 62, 80, 61, 60, 42, 84,\n",
       "       71, 57, 44, 34, 82, 49, 54, 64, 56, 83, 42, 60, 46, 28, 83, 62, 56,\n",
       "       86, 81, 85, 69, 57, 60, 26, 45, 24, 71, 18, 80, 61, 78, 20, 48, 64,\n",
       "       35, 58, 40, 37, 32, 26, 24, 37, 52, 30, 86, 26, 27, 76, 54, 44, 59,\n",
       "       38, 34, 82, 58, 86, 57, 77, 57, 86, 46, 19, 64, 84, 31, 37, 67, 39,\n",
       "       48, 20, 53, 61, 34, 67, 37, 87, 55, 71, 36, 85, 52, 53, 18, 29, 85,\n",
       "       19, 62, 67, 85, 86, 22, 88, 58, 46, 30, 55, 18, 33, 38, 88, 29, 51,\n",
       "       44, 89, 23, 79, 88, 55, 20, 67, 47, 57, 30, 27, 39, 53, 51, 26, 52,\n",
       "       33, 53, 67, 21, 86, 23, 37, 80, 71, 76, 20, 47, 79, 80, 65, 58, 32,\n",
       "       65, 23, 85, 85, 33, 55, 24, 71, 37, 22, 40, 31, 44, 51, 66, 73, 61,\n",
       "       59, 27, 57, 38, 71, 31, 41, 83, 86, 64, 77, 83, 26, 75, 88, 72, 61,\n",
       "       46, 64, 84, 28, 37, 27, 85, 39, 76, 82, 59, 64, 72, 42, 19, 89, 56,\n",
       "       63, 88, 77, 38, 54, 23, 62, 25, 60, 55, 70, 85, 42, 28, 62, 60, 88,\n",
       "       67, 63, 37, 58, 28, 31, 30, 79, 84, 77, 65, 39, 41, 21, 24, 73, 24,\n",
       "       52, 18, 53, 61, 43, 18, 87, 51, 65, 67, 35, 87, 53, 24, 33, 81, 81,\n",
       "       71, 77, 66, 83, 30, 60, 85, 24, 68, 49, 44, 27, 19, 63, 64, 58, 41,\n",
       "       67, 57, 27, 40, 74, 87, 67, 64, 74, 37, 62, 64, 21, 31, 46, 20, 73,\n",
       "       53, 36, 51, 81, 64, 75, 35, 63, 55, 39, 72, 45, 21, 32, 50, 83, 29,\n",
       "       37, 67, 66, 46, 56, 24, 31, 86, 57, 32, 32, 68, 29, 36, 83, 47, 44,\n",
       "       26, 30, 45, 82, 25, 43, 53, 41, 21, 76, 53, 71, 62, 41, 36, 52, 75,\n",
       "       65, 79, 20, 36, 31, 30, 29, 65, 74, 71, 52, 24, 78, 58, 31, 88, 58,\n",
       "       84, 51, 27, 48, 21, 73, 62, 68, 85, 35, 73, 61, 72, 36, 84, 55, 29,\n",
       "       68, 72, 26, 24, 23, 57, 59, 39, 66, 77, 61, 81, 60, 89, 24, 69, 86,\n",
       "       84, 34, 72, 34, 75, 68, 39, 24, 46, 46, 18, 52, 27, 68, 86, 69, 29,\n",
       "       75, 39, 33, 48, 43, 84, 59])"
      ]
     },
     "execution_count": 7,
     "metadata": {},
     "output_type": "execute_result"
    }
   ],
   "source": [
    "ages = np.random.randint(18, high=90, size=500)\n",
    "ages"
   ]
  },
  {
   "cell_type": "code",
   "execution_count": 8,
   "metadata": {},
   "outputs": [
    {
     "data": {
      "text/plain": [
       "ModeResult(mode=array([24]), count=array([13]))"
      ]
     },
     "execution_count": 8,
     "metadata": {},
     "output_type": "execute_result"
    }
   ],
   "source": [
    "from scipy import stats\n",
    "stats.mode(ages)"
   ]
  },
  {
   "cell_type": "code",
   "execution_count": null,
   "metadata": {},
   "outputs": [],
   "source": []
  }
 ],
 "metadata": {
  "kernelspec": {
   "display_name": "Python 3.9.12 ('base')",
   "language": "python",
   "name": "python3"
  },
  "language_info": {
   "codemirror_mode": {
    "name": "ipython",
    "version": 3
   },
   "file_extension": ".py",
   "mimetype": "text/x-python",
   "name": "python",
   "nbconvert_exporter": "python",
   "pygments_lexer": "ipython3",
   "version": "3.9.12"
  },
  "vscode": {
   "interpreter": {
    "hash": "0e52070d4b81082243dbff9dce5218bc772acaf751673494d2244e64e0ce79b2"
   }
  }
 },
 "nbformat": 4,
 "nbformat_minor": 1
}
