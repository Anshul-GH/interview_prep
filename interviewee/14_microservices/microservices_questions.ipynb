{
 "cells": [
  {
   "cell_type": "code",
   "execution_count": null,
   "metadata": {},
   "outputs": [],
   "source": [
    "# 1. What are microservices?\n",
    "# Microservices, also known as Microservices Architecture,\n",
    "# is basically an SDLC approach in which large applications\n",
    "# are built as a collection of small functional modules.\n",
    "\n",
    "######################################################\n",
    "\n",
    "# 2. What is the difference between Monolithic, SOA and Microservices Architecture.\n",
    "# * Monolithic Architecture: It is \"like a big container\" where all the software\n",
    "# components of an application are bundled together tightly.  It is usually built\n",
    "# as one large system and is one code-base.\n",
    "\n",
    "# * SOA (Service-Oriented Architecture): It is a group of services interacting or\n",
    "# communicating with each other. Depending on the nature of the communication, it\n",
    "# can be simple data exchange or it could involve several services coordinating\n",
    "# some activity.\n",
    "\n",
    "# * Microservice Architecture: It involves structuring an application in the form\n",
    "# of a cluster of small, autonomous services modeled around a business domain. The\n",
    "# functional modules can be deployed independently, are scalable, are aimed at\n",
    "# achieving specific business goals, and communicate with each other over standard\n",
    "# protocols.\n",
    "\n",
    "######################################################\n",
    "\n"
   ]
  }
 ],
 "metadata": {
  "kernelspec": {
   "display_name": "Python 3.9.12 ('base')",
   "language": "python",
   "name": "python3"
  },
  "language_info": {
   "name": "python",
   "version": "3.9.12"
  },
  "orig_nbformat": 4,
  "vscode": {
   "interpreter": {
    "hash": "0e52070d4b81082243dbff9dce5218bc772acaf751673494d2244e64e0ce79b2"
   }
  }
 },
 "nbformat": 4,
 "nbformat_minor": 2
}
