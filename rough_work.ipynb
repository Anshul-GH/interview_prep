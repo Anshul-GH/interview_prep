{
 "cells": [
  {
   "cell_type": "code",
   "execution_count": null,
   "metadata": {},
   "outputs": [],
   "source": []
  },
  {
   "cell_type": "code",
   "execution_count": 3,
   "metadata": {},
   "outputs": [],
   "source": [
    "def two_sum(nums, target):\n",
    "    for i in range(len(nums)):\n",
    "        num = nums[i]\n",
    "        rem_lst = nums[0:i] + nums[i+1:]\n",
    "        if (target - num) in rem_lst:\n",
    "            return [nums.index(num), nums.index(target - num)]\n",
    "        else:\n",
    "            continue"
   ]
  },
  {
   "cell_type": "code",
   "execution_count": 6,
   "metadata": {},
   "outputs": [
    {
     "name": "stdout",
     "output_type": "stream",
     "text": [
      "[0, 0]\n"
     ]
    }
   ],
   "source": [
    "nums = [3,3] # [3,2,4] # [2,7,11,15]\n",
    "target = 6 #9\n",
    "\n",
    "# [2,7,11,15]\n",
    "# 9\n",
    "# [3,2,4]\n",
    "# 6\n",
    "# [3,3]\n",
    "# 6\n",
    "\n",
    "result = two_sum(nums, target)\n",
    "print(result)"
   ]
  },
  {
   "cell_type": "code",
   "execution_count": 9,
   "metadata": {},
   "outputs": [],
   "source": [
    "prices = [7,6,4,3,1]"
   ]
  },
  {
   "cell_type": "code",
   "execution_count": null,
   "metadata": {},
   "outputs": [],
   "source": [
    "def maxProfit(prices):\n",
    "    max_profit = 0\n",
    "    buy = True\n",
    "    for val in prices:\n",
    "        "
   ]
  },
  {
   "cell_type": "code",
   "execution_count": 2,
   "metadata": {},
   "outputs": [
    {
     "ename": "TypeError",
     "evalue": "unsupported operand type(s) for -: 'list' and 'int'",
     "output_type": "error",
     "traceback": [
      "\u001b[1;31m---------------------------------------------------------------------------\u001b[0m",
      "\u001b[1;31mTypeError\u001b[0m                                 Traceback (most recent call last)",
      "\u001b[1;32m<ipython-input-2-0d71bf5c4630>\u001b[0m in \u001b[0;36m<module>\u001b[1;34m\u001b[0m\n\u001b[1;32m----> 1\u001b[1;33m \u001b[0mprices\u001b[0m \u001b[1;33m-\u001b[0m \u001b[1;36m7\u001b[0m\u001b[1;33m\u001b[0m\u001b[1;33m\u001b[0m\u001b[0m\n\u001b[0m",
      "\u001b[1;31mTypeError\u001b[0m: unsupported operand type(s) for -: 'list' and 'int'"
     ]
    }
   ],
   "source": []
  },
  {
   "cell_type": "code",
   "execution_count": 4,
   "metadata": {},
   "outputs": [],
   "source": [
    "prices_mod = [(val - 7) for val in prices]"
   ]
  },
  {
   "cell_type": "code",
   "execution_count": 5,
   "metadata": {},
   "outputs": [
    {
     "data": {
      "text/plain": [
       "[0, -1, -3, -4, -6]"
      ]
     },
     "execution_count": 5,
     "metadata": {},
     "output_type": "execute_result"
    }
   ],
   "source": [
    "prices_mod"
   ]
  },
  {
   "cell_type": "code",
   "execution_count": 20,
   "metadata": {},
   "outputs": [
    {
     "name": "stdout",
     "output_type": "stream",
     "text": [
      "6\n"
     ]
    }
   ],
   "source": [
    "# prices = [7,6,4,3,1]\n",
    "prices = [7,1,5,3,6,4]\n",
    "\n",
    "max_profit = 0\n",
    "for idx,val in enumerate(prices):\n",
    "    max_profit = max(max_profit, max([(amt - val) for amt in prices[idx:]]))\n",
    "\n",
    "print(max_profit)"
   ]
  },
  {
   "cell_type": "code",
   "execution_count": 21,
   "metadata": {},
   "outputs": [
    {
     "name": "stdout",
     "output_type": "stream",
     "text": [
      "[0, -6, -2, -4, -1, -3]\n",
      "[0, 4, 2, 5, 3]\n",
      "[0, -2, 1, -1]\n",
      "[0, 3, 1]\n",
      "[0, -2]\n",
      "[0]\n"
     ]
    }
   ],
   "source": [
    "for idx, val in enumerate(prices):\n",
    "    tmp = [(amt - val) for amt in prices[idx:]]\n",
    "    print(tmp)"
   ]
  },
  {
   "cell_type": "code",
   "execution_count": 17,
   "metadata": {},
   "outputs": [
    {
     "data": {
      "text/plain": [
       "[0]"
      ]
     },
     "execution_count": 17,
     "metadata": {},
     "output_type": "execute_result"
    }
   ],
   "source": [
    "tmp"
   ]
  },
  {
   "cell_type": "code",
   "execution_count": 22,
   "metadata": {},
   "outputs": [],
   "source": []
  },
  {
   "cell_type": "code",
   "execution_count": 28,
   "metadata": {},
   "outputs": [],
   "source": [
    "nums = [1,2,3,4,5,6,7]\n",
    "k = 3\n",
    "for i in range(k):\n",
    "    nums.insert(0, nums[-1])\n",
    "    nums.pop()\n",
    "    "
   ]
  },
  {
   "cell_type": "code",
   "execution_count": 29,
   "metadata": {},
   "outputs": [
    {
     "data": {
      "text/plain": [
       "[5, 6, 7, 1, 2, 3, 4]"
      ]
     },
     "execution_count": 29,
     "metadata": {},
     "output_type": "execute_result"
    }
   ],
   "source": [
    "nums"
   ]
  },
  {
   "cell_type": "code",
   "execution_count": 30,
   "metadata": {},
   "outputs": [],
   "source": [
    "def containsDuplicate(nums):\n",
    "    mod_nums = list(set(nums))\n",
    "    if len(mod_nums) == len(nums):\n",
    "        return False\n",
    "    else:\n",
    "        return True"
   ]
  },
  {
   "cell_type": "code",
   "execution_count": 33,
   "metadata": {},
   "outputs": [
    {
     "data": {
      "text/plain": [
       "True"
      ]
     },
     "execution_count": 33,
     "metadata": {},
     "output_type": "execute_result"
    }
   ],
   "source": [
    "nums = [1,2,3,1] #[1,2,3,4] #[1,1,1,3,3,4,3,2,4,2]\n",
    "containsDuplicate(nums)"
   ]
  },
  {
   "cell_type": "code",
   "execution_count": 34,
   "metadata": {},
   "outputs": [],
   "source": [
    "nums = [4,1,2,1,2]"
   ]
  },
  {
   "cell_type": "code",
   "execution_count": 35,
   "metadata": {},
   "outputs": [],
   "source": [
    "nums.sort()"
   ]
  },
  {
   "cell_type": "code",
   "execution_count": 36,
   "metadata": {},
   "outputs": [
    {
     "data": {
      "text/plain": [
       "[1, 1, 2, 2, 4]"
      ]
     },
     "execution_count": 36,
     "metadata": {},
     "output_type": "execute_result"
    }
   ],
   "source": [
    "nums"
   ]
  },
  {
   "cell_type": "code",
   "execution_count": 41,
   "metadata": {},
   "outputs": [
    {
     "name": "stdout",
     "output_type": "stream",
     "text": [
      "1\n"
     ]
    }
   ],
   "source": [
    "nums = [1] #[4,1,2,1,2] #[2,2,1]\n",
    "nums.sort()\n",
    "\n",
    "unique = -1\n",
    "count = 0\n",
    "\n",
    "while count<len(nums)-1:\n",
    "    if nums[count] == nums[count+1]:\n",
    "        count += 2\n",
    "        continue\n",
    "    else:\n",
    "        unique = nums[count]\n",
    "        break\n",
    "\n",
    "if unique == -1:\n",
    "    unique = nums[-1]\n",
    "\n",
    "print(unique)"
   ]
  },
  {
   "cell_type": "code",
   "execution_count": 8,
   "metadata": {},
   "outputs": [],
   "source": [
    "def intersect(nums1, nums2):\n",
    "    len1 = len(nums1)\n",
    "    len2 = len(nums2)\n",
    "    \n",
    "    intersec = []\n",
    "    if len1 < len2:\n",
    "        for val in nums1:\n",
    "            if val in nums2:\n",
    "                intersec.append(val)\n",
    "                nums2.remove(val)\n",
    "    else:\n",
    "        for val in nums2:\n",
    "            if val in nums1:\n",
    "                intersec.append(val)\n",
    "                nums1.remove(val)\n",
    "    \n",
    "    return intersec\n"
   ]
  },
  {
   "cell_type": "code",
   "execution_count": 11,
   "metadata": {},
   "outputs": [],
   "source": [
    "nums1 = [4,9,5] #[1,2] #[4,9,5] #[1,2,2,1]\n",
    "nums2 = [9,4,9,8,4] #[1,1] #[9,4,9,8,4] # [2,2]\n",
    "\n",
    "inter = intersect(nums1, nums2)"
   ]
  },
  {
   "cell_type": "code",
   "execution_count": 12,
   "metadata": {},
   "outputs": [
    {
     "data": {
      "text/plain": [
       "[4, 9]"
      ]
     },
     "execution_count": 12,
     "metadata": {},
     "output_type": "execute_result"
    }
   ],
   "source": [
    "inter"
   ]
  },
  {
   "cell_type": "code",
   "execution_count": 13,
   "metadata": {},
   "outputs": [],
   "source": [
    "def plusOne(digits):\n",
    "    rem = (digit[-1]+1) % 10\n",
    "    carry = int((digit[-1]+1) / 10)\n",
    "    digits[-1] = rem\n",
    "    \n",
    "    return digits"
   ]
  },
  {
   "cell_type": "code",
   "execution_count": 19,
   "metadata": {},
   "outputs": [
    {
     "data": {
      "text/plain": [
       "[10]"
      ]
     },
     "execution_count": 19,
     "metadata": {},
     "output_type": "execute_result"
    }
   ],
   "source": [
    "digits = [9] #[0] #[1,2,3] #[4,3,2,1]\n",
    "next_digits = plusOne(digits)\n",
    "next_digits"
   ]
  },
  {
   "cell_type": "code",
   "execution_count": 22,
   "metadata": {},
   "outputs": [
    {
     "data": {
      "text/plain": [
       "1"
      ]
     },
     "execution_count": 22,
     "metadata": {},
     "output_type": "execute_result"
    }
   ],
   "source": [
    "int(10/10)"
   ]
  },
  {
   "cell_type": "code",
   "execution_count": 1,
   "metadata": {},
   "outputs": [
    {
     "name": "stdout",
     "output_type": "stream",
     "text": [
      "[{'src_img_uri': 'gs://trn03-us-east1-open-bucket//bfs_redact//roi-detection/images//bus.jpg', 'des_dir': 'gs://trn03-us-east1-open-bucket//bfs_redact//roi-detection//results'}]\n"
     ]
    }
   ],
   "source": [
    "input_data = {\n",
    "\t'instances': [\n",
    "\t\t{\n",
    "\t\t\t'src_img_uri': 'gs://trn03-us-east1-open-bucket//bfs_redact//roi-detection/images//bus.jpg', \n",
    "\t\t\t'des_dir': 'gs://trn03-us-east1-open-bucket//bfs_redact//roi-detection//results'\n",
    "\t\t}\n",
    "\t]\n",
    "}\n",
    "\n",
    "files = input_data['instances']\n",
    "\n",
    "print(files)"
   ]
  },
  {
   "cell_type": "code",
   "execution_count": 2,
   "metadata": {},
   "outputs": [],
   "source": [
    "import json\n",
    "\n",
    "data = json.dumps({\"instances\": files})"
   ]
  },
  {
   "cell_type": "code",
   "execution_count": 3,
   "metadata": {},
   "outputs": [
    {
     "data": {
      "text/plain": [
       "'{\"instances\": [{\"src_img_uri\": \"gs://trn03-us-east1-open-bucket//bfs_redact//roi-detection/images//bus.jpg\", \"des_dir\": \"gs://trn03-us-east1-open-bucket//bfs_redact//roi-detection//results\"}]}'"
      ]
     },
     "execution_count": 3,
     "metadata": {},
     "output_type": "execute_result"
    }
   ],
   "source": [
    "data"
   ]
  },
  {
   "cell_type": "code",
   "execution_count": 22,
   "metadata": {},
   "outputs": [],
   "source": [
    "# def myAtoi(s):\n",
    "#     int_range = (-2**31, 2**31 -1)\n",
    "\n",
    "#     # int_range[0]\n",
    "#     # int_range[-1]\n",
    "\n",
    "#     # eliminate white spaces\n",
    "#     s = s.strip()\n",
    "\n",
    "#     # preserve the sign\n",
    "#     negative = False\n",
    "\n",
    "#     if len(s) > 1:\n",
    "#         if s[0] == '-':\n",
    "#             negative = True\n",
    "#             s = s[1:]\n",
    "\n",
    "#     if not negative:\n",
    "#         number = ''\n",
    "#     else:\n",
    "#         number = '-'\n",
    "\n",
    "#     digit_found = False\n",
    "\n",
    "#     count = 0\n",
    "#     chr = s[count]\n",
    "#     number += chr\n",
    "#     while chr.isdigit() and count < len(s)-1:\n",
    "#         count += 1        \n",
    "#         chr = s[count]\n",
    "#         number += chr\n",
    "\n",
    "#     print(number)      \n"
   ]
  },
  {
   "cell_type": "code",
   "execution_count": 26,
   "metadata": {},
   "outputs": [
    {
     "name": "stdout",
     "output_type": "stream",
     "text": [
      "4193 \n",
      "w\n"
     ]
    }
   ],
   "source": [
    "# # myAtoi('-10293')\n",
    "# # myAtoi(\"   -42\")\n",
    "# # myAtoi(\"4193 with words\")\n",
    "# myAtoi()"
   ]
  },
  {
   "cell_type": "code",
   "execution_count": 44,
   "metadata": {},
   "outputs": [],
   "source": [
    "\n",
    "def myAtoi(strg):\n",
    "    strg = strg.strip()\n",
    "    int_range = (-2**31, 2**31 -1)    \n",
    "    number = '0'\n",
    "\n",
    "    count = 0\n",
    "    if len(strg) > 0:\n",
    "        while count < len(strg):\n",
    "            if ord(strg[count]) == 45 and strg[count+1].isdigit():                \n",
    "                number = '-'\n",
    "                count += 1\n",
    "            elif 48 <= ord(strg[count]) <= 57:\n",
    "                if number == '0':\n",
    "                    number = strg[count]\n",
    "                else:\n",
    "                    number += strg[count]\n",
    "                count += 1\n",
    "                while count < len(strg) and 48 <= ord(strg[count]) <= 57:\n",
    "                    number += strg[count]\n",
    "                    count += 1\n",
    "                break\n",
    "            else:\n",
    "                # count += 1\n",
    "                break\n",
    "\n",
    "    number = int(number)\n",
    "    if int(number) < int_range[0]:\n",
    "        number = int_range[0]\n",
    "    elif int(number) > int_range[-1]:\n",
    "        number = int_range[-1]\n",
    "\n",
    "    return number\n"
   ]
  },
  {
   "cell_type": "code",
   "execution_count": 45,
   "metadata": {},
   "outputs": [
    {
     "data": {
      "text/plain": [
       "0"
      ]
     },
     "execution_count": 45,
     "metadata": {},
     "output_type": "execute_result"
    }
   ],
   "source": [
    "s = \"words and 987 test txt\"\n",
    "# s = '-10293'\n",
    "# s = \"   -42\"\n",
    "# s = \"4193 with words\"\n",
    "# s = \"-91283472332\"\n",
    "# s = \" ajdalsdj lanmd lajd jasldl aljdj alsl dslad 2147483648 aldjaslj daklsdal dldj aklsdl a\"\n",
    "\n",
    "myAtoi(s)"
   ]
  },
  {
   "cell_type": "code",
   "execution_count": 47,
   "metadata": {},
   "outputs": [
    {
     "name": "stdout",
     "output_type": "stream",
     "text": [
      "-42\n"
     ]
    }
   ],
   "source": [
    "s = '    -42'\n",
    "s = s.strip()\n",
    "\n",
    "print(s)"
   ]
  },
  {
   "cell_type": "code",
   "execution_count": 5,
   "metadata": {},
   "outputs": [],
   "source": [
    "haystack = \"hello\"\n",
    "needle = \"ll\"\n",
    "\n",
    "def strStr(haystack, needle):\n",
    "    found = False\n",
    "    if len(needle) == 0:\n",
    "        found = True\n",
    "        index = 0\n",
    "    else:\n",
    "        length = len(needle)\n",
    "        index = 0        \n",
    "        while (index + length < len(haystack)):\n",
    "            if haystack[index:index + length] == needle:\n",
    "                found = True\n",
    "                break\n",
    "            else:\n",
    "                index += 1\n",
    "    \n",
    "    if not found:\n",
    "        index = -1\n",
    "\n",
    "    return index\n",
    "        "
   ]
  },
  {
   "cell_type": "code",
   "execution_count": 9,
   "metadata": {},
   "outputs": [
    {
     "name": "stdout",
     "output_type": "stream",
     "text": [
      "0\n"
     ]
    }
   ],
   "source": [
    "haystack = \"hello\"\n",
    "needle = \"ll\"\n",
    "\n",
    "haystack = \"aaaaa\"\n",
    "needle = \"bba\"\n",
    "\n",
    "haystack = \"\"\n",
    "needle = \"\"\n",
    "\n",
    "print(strStr(haystack, needle))"
   ]
  },
  {
   "cell_type": "code",
   "execution_count": 13,
   "metadata": {},
   "outputs": [],
   "source": [
    "def say_the_number(num):    \n",
    "    number_to_say = ''\n",
    "    counter = 1\n",
    "\n",
    "    for idx, val in enumerate(num):\n",
    "        if idx < len(num)-1 and val == num[idx+1]:\n",
    "            counter += 1\n",
    "        else:\n",
    "            number_to_say += str(counter) + str(num[idx])\n",
    "            counter = 1\n",
    "\n",
    "    return number_to_say\n",
    "\n",
    "def countAndSay(n):\n",
    "    counter = 1\n",
    "    number = str(counter)\n",
    "    while counter < n:\n",
    "        number = say_the_number(number)\n",
    "        counter += 1\n",
    "\n",
    "    return number\n",
    "        \n",
    "    \n",
    "\n",
    "        \n",
    "\n",
    "#     for intj in num:\n",
    "#         num_to_be_said[int]\n",
    "\n",
    "\n",
    "# def countAndSay(n):\n",
    "#     if n == 1:\n",
    "#         return \"1\"\n",
    "#     else:\n",
    "#         return countAndSay(n-1)"
   ]
  },
  {
   "cell_type": "code",
   "execution_count": 6,
   "metadata": {},
   "outputs": [
    {
     "name": "stdout",
     "output_type": "stream",
     "text": [
      "111221\n"
     ]
    }
   ],
   "source": [
    "# # num = '1211'\n",
    "# num = '1'\n",
    "# num = '11'\n",
    "# num = '21'\n",
    "# num = '1211'\n",
    "# say_the_number(num)"
   ]
  },
  {
   "cell_type": "code",
   "execution_count": 14,
   "metadata": {},
   "outputs": [
    {
     "name": "stdout",
     "output_type": "stream",
     "text": [
      "1\n",
      "11\n",
      "21\n",
      "1211\n"
     ]
    }
   ],
   "source": [
    "print(countAndSay(1))\n",
    "print(countAndSay(2))\n",
    "print(countAndSay(3))\n",
    "print(countAndSay(4))"
   ]
  },
  {
   "cell_type": "code",
   "execution_count": 25,
   "metadata": {},
   "outputs": [],
   "source": [
    "strs = [\"flight\",\"flower\",\"flow\"]\n",
    "\n",
    "strs_len = [len(txt) for txt in strs]\n"
   ]
  },
  {
   "cell_type": "code",
   "execution_count": 26,
   "metadata": {},
   "outputs": [],
   "source": [
    "min_len = min(strs_len)"
   ]
  },
  {
   "cell_type": "code",
   "execution_count": 27,
   "metadata": {},
   "outputs": [
    {
     "name": "stdout",
     "output_type": "stream",
     "text": [
      "flig\n"
     ]
    }
   ],
   "source": [
    "lcp = ''\n",
    "for i in (range(min_len)):\n",
    "    for j in range(len(strs)-1):\n",
    "        if strs[j][i] != strs[j+1][i]:\n",
    "            break\n",
    "    lcp += strs[j][i]\n",
    "            \n",
    "\n",
    "print(lcp)"
   ]
  },
  {
   "cell_type": "code",
   "execution_count": 31,
   "metadata": {},
   "outputs": [],
   "source": [
    "lcp = ''\n",
    "strs = [\"flight\",\"flower\",\"flow\"]\n",
    "strs = [\"dog\",\"racecar\",\"car\"]\n",
    "\n",
    "min_len = min([len(txt) for txt in strs])\n",
    "\n",
    "for i in range(min_len):    \n",
    "    result = all(txt[:i] == strs[0][:i] for txt in strs)\n",
    "    if result:\n",
    "        lcp = strs[0][:i]\n",
    "    else:\n",
    "        break"
   ]
  },
  {
   "cell_type": "code",
   "execution_count": 32,
   "metadata": {},
   "outputs": [
    {
     "name": "stdout",
     "output_type": "stream",
     "text": [
      "\n"
     ]
    }
   ],
   "source": [
    "print(lcp)"
   ]
  },
  {
   "cell_type": "code",
   "execution_count": 1,
   "metadata": {},
   "outputs": [],
   "source": [
    "class ListNode:\n",
    "    def __init__(self, x):\n",
    "        self.val = x\n",
    "        self.next = None\n",
    "\n",
    "\n",
    "\n",
    "# class Solution:\n",
    "#     def deleteNode(self, node):\n",
    "#         \"\"\"\n",
    "#         :type node: ListNode\n",
    "#         :rtype: void Do not return anything, modify node in-place instead.\n",
    "#         \"\"\""
   ]
  },
  {
   "cell_type": "code",
   "execution_count": 2,
   "metadata": {},
   "outputs": [
    {
     "ename": "SyntaxError",
     "evalue": "unexpected EOF while parsing (<ipython-input-2-b07a12330658>, line 6)",
     "output_type": "error",
     "traceback": [
      "\u001b[0;36m  File \u001b[0;32m\"<ipython-input-2-b07a12330658>\"\u001b[0;36m, line \u001b[0;32m6\u001b[0m\n\u001b[0;31m    for element in head:\u001b[0m\n\u001b[0m                        ^\u001b[0m\n\u001b[0;31mSyntaxError\u001b[0m\u001b[0;31m:\u001b[0m unexpected EOF while parsing\n"
     ]
    }
   ],
   "source": [
    "head = [1,2,3,4]\n",
    "\n",
    "# tail element \n",
    "my_lst = ListNode(1)\n",
    "\n",
    "for element in head:\n",
    "    my_list = ListNode(element)\n",
    "    my_lst.next = my_list\n",
    "    \n"
   ]
  },
  {
   "cell_type": "code",
   "execution_count": 8,
   "metadata": {},
   "outputs": [],
   "source": [
    "class Node:\n",
    "    def __init__(self, val=None):\n",
    "        self.val = val\n",
    "        self.next = None\n",
    "\n",
    "\n",
    "class SingleLinkedList:\n",
    "    def __init__(self):\n",
    "        self.head = None\n",
    "    \n",
    "    def traverse_list(self):\n",
    "        if self.head is None:\n",
    "            print('List is empty.')\n",
    "        else:\n",
    "            print_node = self.head\n",
    "            while print_node is not None:\n",
    "                print(print_node.val)\n",
    "                print_node = print_node.next\n",
    "\n",
    "    def delete_nth_last_node(self, n):\n",
    "        counter = 0\n",
    "        current_node = self.head\n",
    "\n",
    "        while current_node.next is not None:\n",
    "            current_node = current_node.next\n",
    "            counter += 1\n",
    "        \n",
    "        print(f\"Number of elements in the list: {counter}\")\n",
    "\n",
    "        \n",
    "        position = counter - n\n",
    "        count = 0\n",
    "        previous_node = self.head\n",
    "        current_node = self.head\n",
    "\n",
    "        while count <= position:\n",
    "            previous_node = current_node\n",
    "            current_node = current_node.next\n",
    "            count += 1\n",
    "        \n",
    "        previous_node.next = current_node.next\n",
    "\n",
    "\n",
    "    def delete_nth_last_node_mod(self, n):\n",
    "        \n",
    "        # if the list only has one element\n",
    "        if self.head.next is None and n == 1:\n",
    "            self.head = None\n",
    "        else:\n",
    "            counter = 0\n",
    "            current_node = self.head\n",
    "            node_to_delete = self.head\n",
    "\n",
    "            while current_node is not None:\n",
    "                if counter < n:\n",
    "                    print(\"current_node:\", current_node.val) #\n",
    "                    current_node = current_node.next\n",
    "                    counter += 1\n",
    "                elif counter == n:\n",
    "                    node_to_delete = self.head\n",
    "                    print(\"node_to_delete:\", node_to_delete.val) #\n",
    "                    print(\"current_node:\", current_node.val) #\n",
    "                    current_node = current_node.next                    \n",
    "                    counter += 1\n",
    "                else:\n",
    "                    print(\"node_to_delete:\", node_to_delete.val) #\n",
    "                    print(\"current_node:\", current_node.val) #\n",
    "                    node_to_delete = node_to_delete.next\n",
    "                    current_node = current_node.next\n",
    "                    counter += 1\n",
    "            \n",
    "            # if node_to_delete.next is not None:\n",
    "            #     # node_to_delete = node_to_delete.next\n",
    "            node_to_delete.val = node_to_delete.next.val\n",
    "            node_to_delete.next = node_to_delete.next.next\n",
    "        \n",
    "        # return head\n",
    "        \n"
   ]
  },
  {
   "cell_type": "code",
   "execution_count": 9,
   "metadata": {},
   "outputs": [
    {
     "name": "stdout",
     "output_type": "stream",
     "text": [
      "Original List:\n",
      "1\n",
      "2\n",
      "Delete last node (new way):\n",
      "current_node: 1\n",
      "node_to_delete: 1\n",
      "current_node: 2\n",
      "2\n"
     ]
    }
   ],
   "source": [
    "singleLinkedList = SingleLinkedList()\n",
    "node1 = Node(1)\n",
    "node2 = Node(2)\n",
    "# node3 = Node(3)\n",
    "# node4 = Node(4)\n",
    "# node5 = Node(5)\n",
    "# node6 = Node(6)\n",
    "\n",
    "singleLinkedList.head = node1\n",
    "singleLinkedList.head.next = node2\n",
    "node2.next = None\n",
    "# node2.next = node3\n",
    "# node3.next = node4\n",
    "# node4.next = node5\n",
    "# node5.next = node6\n",
    "# node6.next = None\n",
    "\n",
    "print('Original List:')\n",
    "singleLinkedList.traverse_list()\n",
    "\n",
    "# print('Delete 2nd last node (old way):')\n",
    "# singleLinkedList.delete_nth_last_node(2)\n",
    "# singleLinkedList.traverse_list()\n",
    "# print('Delete 2nd last node (new way):')\n",
    "# singleLinkedList.delete_nth_last_node_mod(2)\n",
    "# singleLinkedList.traverse_list()\n",
    "\n",
    "print('Delete last node (new way):')\n",
    "# singleLinkedList.delete_nth_last_node_mod(1)\n",
    "singleLinkedList.delete_nth_last_node_mod(1)\n",
    "singleLinkedList.traverse_list()"
   ]
  },
  {
   "cell_type": "code",
   "execution_count": 17,
   "metadata": {},
   "outputs": [],
   "source": [
    "class Node:\n",
    "    def __init__(self, val=None):\n",
    "        self.val = val\n",
    "        self.next = None\n",
    "\n",
    "\n",
    "class SingleLinkedList:\n",
    "    def __init__(self):\n",
    "        self.head = None\n",
    "    \n",
    "    def traverse_list(self):\n",
    "        if self.head is None:\n",
    "            print('List is empty.')\n",
    "        else:\n",
    "            print_node = self.head\n",
    "            while print_node is not None:\n",
    "                print(print_node.val)\n",
    "                print_node = print_node.next\n",
    "\n",
    "    def delete_nth_last_node(self, head, n):\n",
    "        current_node = head\n",
    "        delete_node = head\n",
    "        prev_delete_node = head\n",
    "\n",
    "        counter = 0\n",
    "\n",
    "        while current_node.next is not None:\n",
    "            if counter < (n-1):            \n",
    "                current_node = current_node.next                \n",
    "            elif counter == n-1:\n",
    "                delete_node = current_node\n",
    "                current_node = current_node.next\n",
    "            else:\n",
    "                delete_node = delete_node.next\n",
    "                current_node = current_node.next\n",
    "            counter += 1\n",
    "\n",
    "        delete_node.val = delete_node.next.val\n",
    "        delete_node.next = delete_node.next.next\n"
   ]
  },
  {
   "cell_type": "code",
   "execution_count": 20,
   "metadata": {},
   "outputs": [
    {
     "name": "stdout",
     "output_type": "stream",
     "text": [
      "Original List:\n",
      "1\n",
      "2\n",
      "3\n",
      "4\n",
      "5\n",
      "6\n",
      "Delete last node (new way):\n",
      "1\n",
      "2\n",
      "3\n",
      "4\n",
      "6\n"
     ]
    }
   ],
   "source": [
    "singleLinkedList = SingleLinkedList()\n",
    "node1 = Node(1)\n",
    "node2 = Node(2)\n",
    "node3 = Node(3)\n",
    "node4 = Node(4)\n",
    "node5 = Node(5)\n",
    "node6 = Node(6)\n",
    "\n",
    "singleLinkedList.head = node1\n",
    "singleLinkedList.head.next = node2\n",
    "# node2.next = None\n",
    "node2.next = node3\n",
    "node3.next = node4\n",
    "node4.next = node5\n",
    "node5.next = node6\n",
    "node6.next = None\n",
    "\n",
    "print('Original List:')\n",
    "singleLinkedList.traverse_list()\n",
    "\n",
    "# print('Delete 2nd last node (old way):')\n",
    "# singleLinkedList.delete_nth_last_node(2)\n",
    "# singleLinkedList.traverse_list()\n",
    "# print('Delete 2nd last node (new way):')\n",
    "# singleLinkedList.delete_nth_last_node_mod(2)\n",
    "# singleLinkedList.traverse_list()\n",
    "\n",
    "print('Delete last node (new way):')\n",
    "# singleLinkedList.delete_nth_last_node_mod(1)\n",
    "singleLinkedList.delete_nth_last_node(singleLinkedList.head,3)\n",
    "singleLinkedList.traverse_list()"
   ]
  },
  {
   "cell_type": "code",
   "execution_count": 10,
   "metadata": {},
   "outputs": [],
   "source": [
    "class Node:\n",
    "    def __init__(self, val=None):\n",
    "        self.val = val\n",
    "        self.next = None\n",
    "\n",
    "\n",
    "class SingleLinkedList:\n",
    "    def __init__(self):\n",
    "        self.head = None\n",
    "    \n",
    "    def traverse_list(self):\n",
    "        if self.head is None:\n",
    "            print('List is empty.')\n",
    "        else:\n",
    "            print_node = self.head\n",
    "            while print_node is not None:\n",
    "                print(print_node.val, end=' -> ')\n",
    "                print_node = print_node.next\n",
    "\n",
    "    def delete_nth_last_node(self, head, n):\n",
    "        # reduce nth position for better readibility\n",
    "        # n = 0 means last node of the list (instead of n = 1)        \n",
    "        n = n-1\n",
    "        cntr = 0\n",
    "        delete_node = None\n",
    "        current_node = head\n",
    "        previous_node = None\n",
    "        while current_node:\n",
    "            if current_node.next:\n",
    "                previous_node = current_node\n",
    "            current_node = current_node.next\n",
    "            \n",
    "            if cntr == n:                \n",
    "                delete_node = head                \n",
    "            elif cntr > n:                \n",
    "                delete_node = delete_node.next\n",
    "            \n",
    "            cntr += 1\n",
    "       \n",
    "        if delete_node.next:\n",
    "            delete_node.val = delete_node.next.val\n",
    "            delete_node.next = delete_node.next.next\n",
    "        # if the list contains only 1 element and\n",
    "        # that 1 element needs to be deleted\n",
    "        elif n == 0 and cntr == 1:\n",
    "            head = None\n",
    "        # if its the last node needs to be deleted \n",
    "        # and list has more than 1 element\n",
    "        elif n == 0 and previous_node:\n",
    "            previous_node.next = None\n",
    "\n",
    "\n",
    "        return head\n",
    "\n",
    "    def reverse_list(self, head):\n",
    "        current_node = head\n",
    "        previous_node = None\n",
    "        next_node = None\n",
    "        while current_node:\n",
    "            next_node = current_node.next\n",
    "            current_node.next = previous_node\n",
    "            previous_node = current_node\n",
    "            current_node = next_node\n",
    "        \n",
    "        head = previous_node\n",
    "\n",
    "        return head\n",
    "\n",
    "    def merge_lst(self, list2):\n",
    "        merged_list = SingleLinkedList()\n",
    "        current_node1 = self.head\n",
    "        current_node2 = list2.head\n",
    "        current_node = None\n",
    "        while (current_node1 or current_node2):\n",
    "            if (current_node1 and current_node2):\n",
    "                if current_node1.val < current_node2.val:\n",
    "                    if not merged_list.head:\n",
    "                        merged_list.head = Node()\n",
    "                        merged_list.head.val = current_node1.val\n",
    "                        merged_list.head.next = None\n",
    "                    else:                        \n",
    "                        current_node = merged_list.head\n",
    "                        while current_node and (current_node.val < current_node1.val):\n",
    "                            current_node = current_node.next\n",
    "                        current_node = Node()\n",
    "                        current_node.val = current_node1.val\n",
    "                        current_node.next = None\n",
    "                else:\n",
    "                    if not merged_list.head:\n",
    "                        merged_list.head = Node()\n",
    "                        merged_list.head.val = current_node2.val\n",
    "                        merged_list.head.next = None\n",
    "                    else:\n",
    "                        current_node = merged_list.head\n",
    "                        while current_node and (current_node.val < current_node2.val):\n",
    "                            current_node = current_node.next\n",
    "                        current_node = Node()\n",
    "                        current_node.val = current_node2.val\n",
    "                        current_node.next = None\n",
    "                current_node1 = current_node1.next\n",
    "                current_node2 = current_node2.next\n",
    "            elif current_node1:\n",
    "                while current_node1:\n",
    "                    current_node.next.val = current_node1.val\n",
    "                    current_node.next.next = None\n",
    "                    current_node1 = current_node1.next\n",
    "            elif current_node2:\n",
    "                while current_node2:\n",
    "                    current_node.next.val = current_node1.val\n",
    "                    current_node.next.next = None\n",
    "                    current_node1 = current_node2.next\n",
    "\n",
    "        \n",
    "        return merged_list     \n"
   ]
  },
  {
   "cell_type": "code",
   "execution_count": 11,
   "metadata": {},
   "outputs": [
    {
     "name": "stdout",
     "output_type": "stream",
     "text": [
      "Given Lists:\n",
      "\n",
      "List 1: 1 -> 2 -> 4 -> \n",
      "List 2: 1 -> 3 -> 4 -> \n",
      "Merged List:\n",
      "1 -> "
     ]
    }
   ],
   "source": [
    "# singleLinkedList = SingleLinkedList()\n",
    "# node1 = Node(1)\n",
    "# node2 = Node(2)\n",
    "# node3 = Node(3)\n",
    "# node4 = Node(4)\n",
    "# node5 = Node(5)\n",
    "# node6 = Node(6)\n",
    "\n",
    "# singleLinkedList.head = node1\n",
    "# singleLinkedList.head.next = node2\n",
    "# # node2.next = None\n",
    "# node2.next = node3\n",
    "# node3.next = node4\n",
    "# node4.next = node5\n",
    "# node5.next = node6\n",
    "# node6.next = None\n",
    "\n",
    "# print('Original List:')\n",
    "# singleLinkedList.traverse_list()\n",
    "\n",
    "# # print('Delete last node (new way):')\n",
    "# # # singleLinkedList.delete_nth_last_node_mod(1)\n",
    "# # singleLinkedList.delete_nth_last_node(singleLinkedList.head,1)\n",
    "# # singleLinkedList.traverse_list()\n",
    "\n",
    "# print('Reversed List:')\n",
    "# singleLinkedList.reverse_list(singleLinkedList.head)\n",
    "# # singleLinkedList.reverse_list()\n",
    "# singleLinkedList.traverse_list()\n",
    "\n",
    "list1 = SingleLinkedList()\n",
    "node1 = Node(1)\n",
    "node2 = Node(2)\n",
    "node3 = Node(4)\n",
    "\n",
    "list1.head = node1\n",
    "list1.head.next = node2\n",
    "node2.next = node3\n",
    "node3.next = None\n",
    "\n",
    "\n",
    "list2 = SingleLinkedList()\n",
    "node4 = Node(1)\n",
    "node5 = Node(3)\n",
    "node6 = Node(4)\n",
    "\n",
    "list2.head = node4\n",
    "list2.head.next = node5\n",
    "node5.next = node6\n",
    "node6.next = None\n",
    "\n",
    "print('Given Lists:')\n",
    "print('\\nList 1:', end=' ')\n",
    "list1.traverse_list()\n",
    "print('\\nList 2:', end=' ')\n",
    "list2.traverse_list()\n",
    "\n",
    "print('\\nMerged List:')\n",
    "merged_list = list1.merge_lst(list2)\n",
    "merged_list.traverse_list()"
   ]
  },
  {
   "cell_type": "code",
   "execution_count": 82,
   "metadata": {},
   "outputs": [
    {
     "name": "stdout",
     "output_type": "stream",
     "text": [
      "Given Lists:\n",
      "\n",
      "List 1: 1 -> 2 -> 4 -> \n",
      "List 2: 1 -> 3 -> 4 -> \n",
      "Merged List:\n"
     ]
    },
    {
     "ename": "KeyboardInterrupt",
     "evalue": "",
     "output_type": "error",
     "traceback": [
      "\u001b[0;31m---------------------------------------------------------------------------\u001b[0m",
      "\u001b[0;31mKeyboardInterrupt\u001b[0m                         Traceback (most recent call last)",
      "\u001b[0;32m<ipython-input-82-ee77619e9077>\u001b[0m in \u001b[0;36m<module>\u001b[0;34m\u001b[0m\n\u001b[1;32m     27\u001b[0m \u001b[0;34m\u001b[0m\u001b[0m\n\u001b[1;32m     28\u001b[0m \u001b[0mprint\u001b[0m\u001b[0;34m(\u001b[0m\u001b[0;34m'\\nMerged List:'\u001b[0m\u001b[0;34m)\u001b[0m\u001b[0;34m\u001b[0m\u001b[0;34m\u001b[0m\u001b[0m\n\u001b[0;32m---> 29\u001b[0;31m \u001b[0mmerged_list\u001b[0m \u001b[0;34m=\u001b[0m \u001b[0mlist1\u001b[0m\u001b[0;34m.\u001b[0m\u001b[0mmerge_lst\u001b[0m\u001b[0;34m(\u001b[0m\u001b[0mlist2\u001b[0m\u001b[0;34m)\u001b[0m\u001b[0;34m\u001b[0m\u001b[0;34m\u001b[0m\u001b[0m\n\u001b[0m\u001b[1;32m     30\u001b[0m \u001b[0mmerged_list\u001b[0m\u001b[0;34m.\u001b[0m\u001b[0mtraverse_list\u001b[0m\u001b[0;34m(\u001b[0m\u001b[0;34m)\u001b[0m\u001b[0;34m\u001b[0m\u001b[0;34m\u001b[0m\u001b[0m\n",
      "\u001b[0;32m<ipython-input-81-0d093988903d>\u001b[0m in \u001b[0;36mmerge_lst\u001b[0;34m(self, list2)\u001b[0m\n\u001b[1;32m     73\u001b[0m         \u001b[0;32mwhile\u001b[0m \u001b[0;34m(\u001b[0m\u001b[0mcurrent_node1\u001b[0m \u001b[0;32mor\u001b[0m \u001b[0mcurrent_node2\u001b[0m\u001b[0;34m)\u001b[0m\u001b[0;34m:\u001b[0m\u001b[0;34m\u001b[0m\u001b[0;34m\u001b[0m\u001b[0m\n\u001b[1;32m     74\u001b[0m             \u001b[0;32mif\u001b[0m \u001b[0;34m(\u001b[0m\u001b[0mcurrent_node1\u001b[0m \u001b[0;32mand\u001b[0m \u001b[0mcurrent_node2\u001b[0m\u001b[0;34m)\u001b[0m\u001b[0;34m:\u001b[0m\u001b[0;34m\u001b[0m\u001b[0;34m\u001b[0m\u001b[0m\n\u001b[0;32m---> 75\u001b[0;31m                 \u001b[0;32mif\u001b[0m \u001b[0mcurrent_node1\u001b[0m\u001b[0;34m.\u001b[0m\u001b[0mval\u001b[0m \u001b[0;34m<\u001b[0m \u001b[0mcurrent_node2\u001b[0m\u001b[0;34m.\u001b[0m\u001b[0mval\u001b[0m\u001b[0;34m:\u001b[0m\u001b[0;34m\u001b[0m\u001b[0;34m\u001b[0m\u001b[0m\n\u001b[0m\u001b[1;32m     76\u001b[0m                     \u001b[0;32mif\u001b[0m \u001b[0;32mnot\u001b[0m \u001b[0mmerged_list\u001b[0m\u001b[0;34m.\u001b[0m\u001b[0mhead\u001b[0m\u001b[0;34m:\u001b[0m\u001b[0;34m\u001b[0m\u001b[0;34m\u001b[0m\u001b[0m\n\u001b[1;32m     77\u001b[0m                         \u001b[0mmerged_list\u001b[0m\u001b[0;34m.\u001b[0m\u001b[0mhead\u001b[0m\u001b[0;34m.\u001b[0m\u001b[0mval\u001b[0m \u001b[0;34m=\u001b[0m \u001b[0mcurrent_node1\u001b[0m\u001b[0;34m.\u001b[0m\u001b[0mval\u001b[0m\u001b[0;34m\u001b[0m\u001b[0;34m\u001b[0m\u001b[0m\n",
      "\u001b[0;31mKeyboardInterrupt\u001b[0m: "
     ]
    }
   ],
   "source": []
  },
  {
   "cell_type": "code",
   "execution_count": 3,
   "metadata": {},
   "outputs": [],
   "source": [
    "class Node:\n",
    "    def __init__(self, data) -> None:\n",
    "        self.left = None\n",
    "        self.right = None\n",
    "        self.val = data\n",
    "\n",
    "    def insert_node(self, data):\n",
    "        if self.val:\n",
    "            if data < self.val:\n",
    "                if not self.left:\n",
    "                    self.left = Node(data)\n",
    "                else:\n",
    "                    self.left.insert_node(data)\n",
    "            elif data > self.val:\n",
    "                if not self.right:\n",
    "                    self.right = Node(data)\n",
    "                else:\n",
    "                    self.right.insert_node(data)\n",
    "        else:\n",
    "            self.val = data\n",
    "\n",
    "    def traverse_tree(self):\n",
    "        if self.left:\n",
    "            self.left.traverse_tree()\n",
    "        print(self.val)\n",
    "        if self.right:\n",
    "            self.right.traverse_tree()\n",
    "\n",
    "    def get_depth(self):\n",
    "        depth = 0\n",
    "        if self.val:\n",
    "            depth += 1\n",
    "        # if self.left or self.right:\n",
    "        #     depth += 1\n",
    "        if self.left:\n",
    "            depth = depth + self.left.get_depth()\n",
    "        elif self.right:\n",
    "            depth = depth + self.right.get_depth()\n",
    "\n",
    "        return depth\n",
    "\n",
    "    def validate_bst(self):\n",
    "        valid = True\n",
    "        if not self:\n",
    "            valid = False\n",
    "        else:\n",
    "            value = self.val\n",
    "            if self.left:\n",
    "                if self.left.val > self.val:\n",
    "                    valid = False\n",
    "                else:\n",
    "                    valid = self.left.validate_bst()\n",
    "            if self.right:\n",
    "                if self.right.val < self.val:\n",
    "                    valid = False\n",
    "                else:\n",
    "                    valid = self.right.validate_bst()\n",
    "        \n",
    "        return valid\n",
    "                "
   ]
  },
  {
   "cell_type": "code",
   "execution_count": 4,
   "metadata": {},
   "outputs": [
    {
     "name": "stdout",
     "output_type": "stream",
     "text": [
      "True\n"
     ]
    }
   ],
   "source": [
    "# Use the insert method to add nodes\n",
    "root = Node(12)\n",
    "root.insert_node(6)\n",
    "root.insert_node(14)\n",
    "root.insert_node(3)\n",
    "# root.traverse_tree()\n",
    "# print(\"Depth: \", root.get_depth())\n",
    "print(root.validate_bst())"
   ]
  },
  {
   "cell_type": "code",
   "execution_count": 20,
   "metadata": {},
   "outputs": [
    {
     "name": "stdout",
     "output_type": "stream",
     "text": [
      "5.0990195135927845\n",
      "-1.7681918866447774\n"
     ]
    }
   ],
   "source": [
    "import re\n",
    "import cmath\n",
    "\n",
    "inp = '-1-5j'\n",
    "# inp = input()\n",
    "\n",
    "pattern = \"([-]*[0-9]+)([+-]{1})([0-9]+)[j]{1}$\"\n",
    "\n",
    "value = re.match(pattern, inp)\n",
    "\n",
    "x_val = int(value.groups()[0])\n",
    "y_val = int(value.groups()[-1])\n",
    "\n",
    "if value.groups()[1] == '-':\n",
    "    y_val = -y_val\n",
    "\n",
    "phase_val = cmath.phase(complex(x_val, y_val))\n",
    "abs_val = abs(complex(x_val, y_val))\n",
    "\n",
    "print(abs_val)\n",
    "print(phase_val)\n"
   ]
  },
  {
   "cell_type": "code",
   "execution_count": 25,
   "metadata": {},
   "outputs": [
    {
     "name": "stdout",
     "output_type": "stream",
     "text": [
      "['9', 'BANANA FRIES 12', 'POTATO CHIPS 30', 'APPLE JUICE 10', 'CANDY 5', 'APPLE JUICE 10', 'CANDY 5', 'CANDY 5', 'CANDY 5', 'POTATO CHIPS 30']\n"
     ]
    }
   ],
   "source": [
    "from collections import OrderedDict\n",
    "\n",
    "inp = '''9\n",
    "BANANA FRIES 12\n",
    "POTATO CHIPS 30\n",
    "APPLE JUICE 10\n",
    "CANDY 5\n",
    "APPLE JUICE 10\n",
    "CANDY 5\n",
    "CANDY 5\n",
    "CANDY 5\n",
    "POTATO CHIPS 30'''\n",
    "\n",
    "data = inp.split('\\n')\n",
    "\n",
    "print(data)"
   ]
  },
  {
   "cell_type": "code",
   "execution_count": 28,
   "metadata": {},
   "outputs": [],
   "source": [
    "def namestr(obj, namespace=globals()):\n",
    "    return [name for name in namespace if namespace[name] is obj]"
   ]
  },
  {
   "cell_type": "code",
   "execution_count": 30,
   "metadata": {},
   "outputs": [
    {
     "data": {
      "text/plain": [
       "['inp']"
      ]
     },
     "execution_count": 30,
     "metadata": {},
     "output_type": "execute_result"
    }
   ],
   "source": [
    "namestr(inp, globals())"
   ]
  },
  {
   "cell_type": "code",
   "execution_count": 5,
   "metadata": {},
   "outputs": [],
   "source": [
    "def merge_arrays(num1, m, num2, n):\n",
    "    # for i in range(n):\n",
    "    #     j = 0\n",
    "    #     while j < n:\n",
    "    #         if num2[j] < num1[i]:\n",
    "    #             num1[i+1:i+1+n] = num1[i:i+n]\n",
    "    #             num1[i] = num2[j]\n",
    "    #             j += 1\n",
    "    num1[m:m+n] = num2\n",
    "    num1.sort()\n"
   ]
  },
  {
   "cell_type": "code",
   "execution_count": 8,
   "metadata": {},
   "outputs": [
    {
     "name": "stdout",
     "output_type": "stream",
     "text": [
      "[1]\n"
     ]
    }
   ],
   "source": [
    "# nums1 = [1,2,3,0,0,0]\n",
    "# m = 3\n",
    "# nums2 = [2,5,6]\n",
    "# n = 3\n",
    "\n",
    "# nums1 = [1]\n",
    "# m = 1\n",
    "# nums2 = []\n",
    "# n = 0\n",
    "\n",
    "nums1 = [0]\n",
    "m = 0\n",
    "nums2 = [1]\n",
    "n = 1\n",
    "\n",
    "merge_arrays(nums1, m, nums2, n)\n",
    "print(nums1)"
   ]
  },
  {
   "cell_type": "code",
   "execution_count": 1,
   "metadata": {},
   "outputs": [
    {
     "data": {
      "text/plain": [
       "['flight', 'flow', 'flower']"
      ]
     },
     "execution_count": 1,
     "metadata": {},
     "output_type": "execute_result"
    }
   ],
   "source": [
    "strs = [\"flower\",\"flow\",\"flight\"]\n",
    "sorted(strs)"
   ]
  },
  {
   "cell_type": "code",
   "execution_count": 5,
   "metadata": {},
   "outputs": [
    {
     "name": "stdout",
     "output_type": "stream",
     "text": [
      "[2]\n"
     ]
    }
   ],
   "source": [
    "nums = [1,2,3,4,5,6,7]\n",
    "k = 3\n",
    "\n",
    "for i in range(k):\n",
    "    nums = [nums[-i+1]] + nums[:-i+1]\n",
    "\n",
    "print(nums)"
   ]
  },
  {
   "cell_type": "code",
   "execution_count": 1,
   "metadata": {},
   "outputs": [
    {
     "name": "stdout",
     "output_type": "stream",
     "text": [
      "[[1, 1, 1, 0, 0, 0], [0, 1, 0, 0, 0, 0], [1, 1, 1, 0, 0, 0], [0, 0, 0, 0, 0, 0], [0, 0, 0, 0, 0, 0], [0, 0, 0, 0, 0, 0]]\n"
     ]
    }
   ],
   "source": [
    "arr = [\n",
    "    [1,1,1,0,0,0],\n",
    "    [0,1,0,0,0,0],\n",
    "    [1,1,1,0,0,0],\n",
    "    [0,0,0,0,0,0],\n",
    "    [0,0,0,0,0,0],\n",
    "    [0,0,0,0,0,0]\n",
    "]\n",
    "\n",
    "print(arr)"
   ]
  },
  {
   "cell_type": "code",
   "execution_count": 24,
   "metadata": {},
   "outputs": [
    {
     "name": "stdout",
     "output_type": "stream",
     "text": [
      "7\n"
     ]
    }
   ],
   "source": [
    "# max_len = 6\n",
    "# window_l = 3\n",
    "# window_h = 3\n",
    "\n",
    "# shift_h = 0\n",
    "# while shift_h+window_h < max_len:\n",
    "#     shift_l = 0\n",
    "#     while shift_l+window_l < max_len:\n",
    "#         sub_arr = []\n",
    "#         sub_arr = arr[shift_h+shift_l:shift_l+window_l]\n",
    "#         hourglass = []\n",
    "\n",
    "#         for lst in sub_arr:\n",
    "#             hourglass.append(lst[shift_h+shift_l:shift_l+window_l])\n",
    "\n",
    "#         print(hourglass)\n",
    "#         shift_l += 1\n",
    "#     shift_h += 1\n",
    "# print(\"Set1:\")\n",
    "# subset = [val[0:3] for val in arr[0:3]]\n",
    "# print(subset)\n",
    "# subset = [val[1:4] for val in arr[0:3]]\n",
    "# print(subset)\n",
    "# subset = [val[2:5] for val in arr[0:3]]\n",
    "# print(subset)\n",
    "# print(\"Set2:\")\n",
    "# subset = [val[0:3] for val in arr[1:4]]\n",
    "# print(subset)\n",
    "# subset = [val[1:4] for val in arr[1:4]]\n",
    "# print(subset)\n",
    "# subset = [val[2:5] for val in arr[1:4]]\n",
    "# print(subset)\n",
    "# print(\"Set3:\")\n",
    "# subset = [val[0:3] for val in arr[2:5]]\n",
    "# print(subset)\n",
    "# subset = [val[1:4] for val in arr[2:5]]\n",
    "# print(subset)\n",
    "# subset = [val[2:5] for val in arr[2:5]]\n",
    "# print(subset)\n",
    "# print(\"Set4:\")\n",
    "# subset = [val[0:3] for val in arr[3:6]]\n",
    "# print(subset)\n",
    "# subset = [val[1:4] for val in arr[3:6]]\n",
    "# print(subset)\n",
    "# subset = [val[2:5] for val in arr[3:6]]\n",
    "# print(subset)\n",
    "\n",
    "def get_hg_sum(array):\n",
    "    total = 0\n",
    "    len_arr = len(array)\n",
    "    if len_arr == 3:\n",
    "        total = sum(array[0]) + sum(array[-1]) + array[1][1]\n",
    "    return total\n",
    "\n",
    "sum_collection = []\n",
    "\n",
    "width = 3\n",
    "count_outer = 0\n",
    "max_len = 6\n",
    "while (count_outer + width) <= max_len:\n",
    "    sub_arr = arr[count_outer:count_outer + width]\n",
    "    count_inner = 0\n",
    "    while (count_inner + width) <= max_len:\n",
    "        hourglass = [val[count_inner:count_inner + width] for val in sub_arr]\n",
    "        sum_collection.append(get_hg_sum(hourglass))\n",
    "        count_inner += 1\n",
    "    count_outer += 1\n",
    "\n",
    "return max(sum_collection)\n"
   ]
  },
  {
   "cell_type": "code",
   "execution_count": 25,
   "metadata": {},
   "outputs": [
    {
     "data": {
      "text/plain": [
       "6"
      ]
     },
     "execution_count": 25,
     "metadata": {},
     "output_type": "execute_result"
    }
   ],
   "source": [
    "len(arr)"
   ]
  },
  {
   "cell_type": "code",
   "execution_count": 26,
   "metadata": {},
   "outputs": [
    {
     "name": "stdout",
     "output_type": "stream",
     "text": [
      "[5, 1, 2, 3, 4]\n"
     ]
    }
   ],
   "source": [
    "def rotLeft(a, d):\n",
    "    return a[d:]+a[:d]\n",
    "\n",
    "arr = [1,2,3,4,5]\n",
    "rot=4\n",
    "print(rotLeft(arr, rot))"
   ]
  },
  {
   "cell_type": "code",
   "execution_count": 17,
   "metadata": {},
   "outputs": [
    {
     "name": "stdout",
     "output_type": "stream",
     "text": [
      "[0, 1, 1, 1, 2, 2, 3, 3, 4, '_'] 10\n",
      "[0, 1, 2, 2, 3, 3, 4, '_', '_', '_'] 10\n",
      "[0, 1, 2, 3, 3, 4, '_', '_', '_', '_'] 10\n",
      "[0, 1, 2, 3, 4, '_', '_', '_', '_', '_'] 10\n"
     ]
    }
   ],
   "source": [
    "# nums = [1,1,2]\n",
    "nums = [0,0,1,1,1,2,2,3,3,4]\n",
    "idx = 0\n",
    "restart = False\n",
    "while idx+1<len(nums):\n",
    "    window = 0    \n",
    "    if (nums[idx] == nums[idx+1]) and nums[idx] != '_':\n",
    "        # print(\"Before: \", nums)\n",
    "        while nums[idx+window] == nums[idx+window+1]:\n",
    "            window += 1\n",
    "        # print('Window: ', window)\n",
    "        nums[idx:-window] = nums[idx+window:]\n",
    "        # print('Mid: ', nums)\n",
    "        nums[-window:] = [\"_\"]*len(nums[-window:])\n",
    "        # print(\"After: \", nums)\n",
    "        print(nums, len(nums))\n",
    "    else:\n",
    "        idx +=1\n",
    "\n",
    "# k = 0\n",
    "# while k < len(nums) and nums[k] != '_':\n",
    "#     k += 1\n",
    "\n",
    "# print(k)\n",
    "# print(nums)"
   ]
  },
  {
   "cell_type": "code",
   "execution_count": 15,
   "metadata": {},
   "outputs": [
    {
     "data": {
      "text/plain": [
       "[4, '_']"
      ]
     },
     "execution_count": 15,
     "metadata": {},
     "output_type": "execute_result"
    }
   ],
   "source": [
    "# k = 0\n",
    "# while nums[k] != '_':\n",
    "#     k += 1\n",
    "# print(k)\n",
    "\n",
    "nums = [0, 1, 2, 2, 3, 3, 4, '_', 4, '_']\n",
    "nums[-2:]"
   ]
  },
  {
   "cell_type": "code",
   "execution_count": 9,
   "metadata": {},
   "outputs": [],
   "source": [
    "nums = []\n",
    "while nums:\n",
    "    print('inside')\n",
    "    break"
   ]
  },
  {
   "cell_type": "code",
   "execution_count": null,
   "metadata": {},
   "outputs": [],
   "source": [
    "idx = 0\n",
    "while idx+1<len(nums):\n",
    "    window = 0    \n",
    "    if (nums[idx] == nums[idx+1]) and nums[idx] != '_':        \n",
    "        while (idx+window+1) < len(nums) and (nums[idx+window] == nums[idx+window+1]):\n",
    "            window += 1        \n",
    "        nums[idx:-window] = nums[idx+window:]        \n",
    "        nums[-window:] = [\"_\"]*len(nums[-window:])        \n",
    "    else:\n",
    "        idx +=1\n",
    "k = 0\n",
    "while k < len(nums) and nums[k] != '_':\n",
    "    k += 1\n",
    "\n",
    "return k"
   ]
  },
  {
   "cell_type": "code",
   "execution_count": 22,
   "metadata": {},
   "outputs": [
    {
     "name": "stdout",
     "output_type": "stream",
     "text": [
      "{'0,0': 0, '1,4': 5, '2,4': 1, '3,4': 3, '4,0': 0, '5,0': 0}\n"
     ]
    }
   ],
   "source": [
    "arr = [7,1,5,3,6,4]\n",
    "profit_max = {}\n",
    "for i in range(len(arr)):\n",
    "    profit = 0\n",
    "    buy = arr[i]\n",
    "    remain = arr[i+1:]\n",
    "    pos = 0\n",
    "    for idx,val in enumerate(remain):\n",
    "        if (val - buy) > profit:\n",
    "            profit = (val - buy)\n",
    "            pos = idx+i+1\n",
    "    key = str(i)+','+str(pos)\n",
    "    profit_max[key] = profit\n",
    "\n",
    "print(profit_max)\n",
    "\n"
   ]
  },
  {
   "cell_type": "code",
   "execution_count": 26,
   "metadata": {},
   "outputs": [
    {
     "data": {
      "text/plain": [
       "0"
      ]
     },
     "execution_count": 26,
     "metadata": {},
     "output_type": "execute_result"
    }
   ],
   "source": [
    "arr = [7,6,4,3,1] # [1,2,3,4,5] # [7,1,5,3,6,4]\n",
    "\n",
    "max_profit = 0\n",
    "for i in range(1,len(arr)):\n",
    "    if arr[i] > arr[i-1]:\n",
    "        max_profit += arr[i] - arr[i-1]\n",
    "\n",
    "max_profit"
   ]
  },
  {
   "cell_type": "code",
   "execution_count": 8,
   "metadata": {},
   "outputs": [
    {
     "ename": "SyntaxError",
     "evalue": "invalid syntax (<ipython-input-8-94429f9cb477>, line 7)",
     "output_type": "error",
     "traceback": [
      "\u001b[0;36m  File \u001b[0;32m\"<ipython-input-8-94429f9cb477>\"\u001b[0;36m, line \u001b[0;32m7\u001b[0m\n\u001b[0;31m    temp_arr = [][]\u001b[0m\n\u001b[0m                  ^\u001b[0m\n\u001b[0;31mSyntaxError\u001b[0m\u001b[0;31m:\u001b[0m invalid syntax\n"
     ]
    }
   ],
   "source": [
    "# matrix = [[1,2,3],[4,5,6],[7,8,9]]\n",
    "matrix = [[5,1,9,11],[2,4,8,10],[13,3,6,7],[15,14,12,16]]\n",
    "\n",
    "len_mat = len(matrix)\n",
    "\n",
    "for i in range(len_mat):\n",
    "    temp_arr = []\n",
    "    for j in range(len_mat):\n",
    "        temp_arr[j].append(matrix[len_mat-1-j][i])\n",
    "    print(temp_arr)\n",
    "\n",
    "\n",
    "\n"
   ]
  },
  {
   "cell_type": "code",
   "execution_count": 13,
   "metadata": {},
   "outputs": [
    {
     "data": {
      "text/plain": [
       "[[1, 2, 3], [4, 5, 6], [7, 8, 9]]"
      ]
     },
     "execution_count": 13,
     "metadata": {},
     "output_type": "execute_result"
    }
   ],
   "source": [
    "matrix = [[1,2,3],[4,5,6],[7,8,9]]\n",
    "\n",
    "len_mat = len(matrix)\n",
    "\n",
    "for i in range(len_mat):\n",
    "    for j in range(len_mat):\n",
    "        matrix[i][j], matrix[i][len_mat-1-j] = matrix[i][len_mat-1-j], matrix[i][j]\n",
    "        a=a+b\n",
    "        b=a-b\n",
    "        a=a-b\n",
    "\n",
    "matrix"
   ]
  },
  {
   "cell_type": "code",
   "execution_count": 26,
   "metadata": {},
   "outputs": [
    {
     "name": "stdout",
     "output_type": "stream",
     "text": [
      "[[7, 4, 1], [8, 5, 2], [9, 6, 3]]\n"
     ]
    }
   ],
   "source": [
    "matrix = [[1,2,3],[4,5,6],[7,8,9]]\n",
    "# matrix = [[5,1,9,11],[2,4,8,10],[13,3,6,7],[15,14,12,16]]\n",
    "\n",
    "# reverse\n",
    "# matrix = matrix[::-1]\n",
    "# print(matrix)\n",
    "matrix.reverse()\n",
    "\n",
    "# transpose\n",
    "for i in range(len(matrix)):\n",
    "    for j in range(i):\n",
    "        matrix[i][j], matrix[j][i] = matrix[j][i], matrix[i][j]\n",
    "\n",
    "print(matrix)"
   ]
  },
  {
   "cell_type": "code",
   "execution_count": 18,
   "metadata": {},
   "outputs": [],
   "source": []
  },
  {
   "cell_type": "code",
   "execution_count": 19,
   "metadata": {},
   "outputs": [
    {
     "data": {
      "text/plain": [
       "[[1, 4, 7], [2, 5, 4], [3, 2, 1]]"
      ]
     },
     "execution_count": 19,
     "metadata": {},
     "output_type": "execute_result"
    }
   ],
   "source": [
    "matrix"
   ]
  },
  {
   "cell_type": "code",
   "execution_count": 3,
   "metadata": {},
   "outputs": [],
   "source": [
    "class Node:\n",
    "    def __init__(self, val=None):\n",
    "        self.val = val\n",
    "        self.next = None\n",
    "\n",
    "\n",
    "class SingleLinkedList:\n",
    "    def __init__(self):\n",
    "        self.head = None\n",
    "    \n",
    "    def traverse_list(self):\n",
    "        if self.head is None:\n",
    "            print('List is empty.')\n",
    "        else:\n",
    "            print_node = self.head\n",
    "            while print_node is not None:\n",
    "                print(print_node.val, end=' -> ')\n",
    "                print_node = print_node.next\n",
    "\n",
    "    def delete_nth_last_node(self, head, n):\n",
    "        # reduce nth position for better readibility\n",
    "        # n = 0 means last node of the list (instead of n = 1)        \n",
    "        n = n-1\n",
    "        cntr = 0\n",
    "        delete_node = None\n",
    "        current_node = head\n",
    "        previous_node = None\n",
    "        while current_node:\n",
    "            if current_node.next:\n",
    "                previous_node = current_node\n",
    "            current_node = current_node.next\n",
    "            \n",
    "            if cntr == n:                \n",
    "                delete_node = head                \n",
    "            elif cntr > n:                \n",
    "                delete_node = delete_node.next\n",
    "            \n",
    "            cntr += 1\n",
    "       \n",
    "        if delete_node.next:\n",
    "            delete_node.val = delete_node.next.val\n",
    "            delete_node.next = delete_node.next.next\n",
    "        # if the list contains only 1 element and\n",
    "        # that 1 element needs to be deleted\n",
    "        elif n == 0 and cntr == 1:\n",
    "            head = None\n",
    "        # if its the last node needs to be deleted \n",
    "        # and list has more than 1 element\n",
    "        elif n == 0 and previous_node:\n",
    "            previous_node.next = None\n",
    "\n",
    "\n",
    "        return head\n",
    "\n",
    "    def reverse_list(self, head):\n",
    "        current_node = head\n",
    "        previous_node = None\n",
    "        next_node = None\n",
    "        while current_node:\n",
    "            next_node = current_node.next\n",
    "            current_node.next = previous_node\n",
    "            previous_node = current_node\n",
    "            current_node = next_node\n",
    "        \n",
    "        head = previous_node\n",
    "\n",
    "        return head\n",
    "\n",
    "    def merge_lst(self, list2):\n",
    "        merged_list = SingleLinkedList()\n",
    "        current_node1 = self.head\n",
    "        current_node2 = list2.head\n",
    "        current_node = None\n",
    "        while (current_node1 or current_node2):\n",
    "            if (current_node1 and current_node2):\n",
    "                if current_node1.val < current_node2.val:\n",
    "                    if not merged_list.head:\n",
    "                        merged_list.head = Node()\n",
    "                        merged_list.head.val = current_node1.val\n",
    "                        merged_list.head.next = None\n",
    "                    else:                        \n",
    "                        current_node = merged_list.head\n",
    "                        while current_node and (current_node.val < current_node1.val):\n",
    "                            current_node = current_node.next\n",
    "                        current_node = Node()\n",
    "                        current_node.val = current_node1.val\n",
    "                        current_node.next = None\n",
    "                else:\n",
    "                    if not merged_list.head:\n",
    "                        merged_list.head = Node()\n",
    "                        merged_list.head.val = current_node2.val\n",
    "                        merged_list.head.next = None\n",
    "                    else:\n",
    "                        current_node = merged_list.head\n",
    "                        while current_node and (current_node.val < current_node2.val):\n",
    "                            current_node = current_node.next\n",
    "                        current_node = Node()\n",
    "                        current_node.val = current_node2.val\n",
    "                        current_node.next = None\n",
    "                current_node1 = current_node1.next\n",
    "                current_node2 = current_node2.next\n",
    "            elif current_node1:\n",
    "                while current_node1:\n",
    "                    current_node.next.val = current_node1.val\n",
    "                    current_node.next.next = None\n",
    "                    current_node1 = current_node1.next\n",
    "            elif current_node2:\n",
    "                while current_node2:\n",
    "                    current_node.next.val = current_node1.val\n",
    "                    current_node.next.next = None\n",
    "                    current_node1 = current_node2.next\n",
    "\n",
    "        \n",
    "        return merged_list     \n"
   ]
  },
  {
   "cell_type": "code",
   "execution_count": 27,
   "metadata": {},
   "outputs": [],
   "source": [
    "def merge_sorted_lsts(list1, list2):\n",
    "    merged_list = SingleLinkedList()\n",
    "    current_node1 = list1\n",
    "    current_node2 = list2\n",
    "    current_node = None\n",
    "    while (current_node1 or current_node2):\n",
    "        if (current_node1 and current_node2):\n",
    "            if current_node1.val < current_node2.val:\n",
    "                if not merged_list.head:\n",
    "                    merged_list.head = Node()\n",
    "                    merged_list.head.val = current_node1.val\n",
    "                    merged_list.head.next = None\n",
    "                else:                        \n",
    "                    current_node = merged_list.head\n",
    "                    while current_node and (current_node.val < current_node1.val):\n",
    "                        current_node = current_node.next\n",
    "                    current_node = Node()\n",
    "                    current_node.val = current_node1.val\n",
    "                    current_node.next = None\n",
    "            else:\n",
    "                if not merged_list.head:\n",
    "                    merged_list.head = Node()\n",
    "                    merged_list.head.val = current_node2.val\n",
    "                    merged_list.head.next = None\n",
    "                else:\n",
    "                    current_node = merged_list.head\n",
    "                    while current_node and (current_node.val < current_node2.val):\n",
    "                        current_node = current_node.next\n",
    "                    current_node = Node()\n",
    "                    current_node.val = current_node2.val\n",
    "                    current_node.next = None\n",
    "            current_node1 = current_node1.next\n",
    "            current_node2 = current_node2.next\n",
    "        elif current_node1:\n",
    "            while current_node1:\n",
    "                current_node.next.val = current_node1.val\n",
    "                current_node.next.next = None\n",
    "                current_node1 = current_node1.next\n",
    "        elif current_node2:\n",
    "            while current_node2:\n",
    "                current_node.next.val = current_node1.val\n",
    "                current_node.next.next = None\n",
    "                current_node1 = current_node2.next\n",
    "\n",
    "    \n",
    "    return merged_list"
   ]
  },
  {
   "cell_type": "code",
   "execution_count": 4,
   "metadata": {},
   "outputs": [],
   "source": [
    "def merge_sorted_lsts(list1, list2):\n",
    "    merged_list = SingleLinkedList()\n",
    "    current_node1 = list1.head\n",
    "    current_node2 = list2.head\n",
    "    while current_node1.next and current_node2.next:\n",
    "        if current_node1.val < current_node2.val:\n",
    "            if not merged_list.head:\n",
    "                merged_list.head = current_node1\n",
    "            else:\n",
    "                current_node = merged_list.head\n",
    "                while current_node.next and current_node.val < current_node1.val:\n",
    "                    current_node = current_node.next                \n",
    "                current_node1.next = current_node.next\n",
    "                current_node.next = current_node1\n",
    "            current_node1 = current_node1\n",
    "        else:\n",
    "            if not merged_list.head:\n",
    "                merged_list.head = current_node2\n",
    "            else:\n",
    "                current_node = merged_list.head\n",
    "                while current_node.next and current_node.val < current_node2.val:\n",
    "                    current_node = current_node.next                \n",
    "                current_node2.next = current_node.next\n",
    "                current_node.next = current_node2\n",
    "    \n",
    "    return merged_list\n",
    "\n",
    "                "
   ]
  },
  {
   "cell_type": "code",
   "execution_count": 5,
   "metadata": {},
   "outputs": [
    {
     "name": "stdout",
     "output_type": "stream",
     "text": [
      "List1:\n",
      "1 -> 2 -> 4 -> \n",
      "List2:\n",
      "1 -> 3 -> 4 -> "
     ]
    },
    {
     "ename": "KeyboardInterrupt",
     "evalue": "",
     "output_type": "error",
     "traceback": [
      "\u001b[0;31m---------------------------------------------------------------------------\u001b[0m",
      "\u001b[0;31mKeyboardInterrupt\u001b[0m                         Traceback (most recent call last)",
      "\u001b[0;32m<ipython-input-5-75e528f0a011>\u001b[0m in \u001b[0;36m<module>\u001b[0;34m\u001b[0m\n\u001b[1;32m     26\u001b[0m \u001b[0mlist2\u001b[0m\u001b[0;34m.\u001b[0m\u001b[0mtraverse_list\u001b[0m\u001b[0;34m(\u001b[0m\u001b[0;34m)\u001b[0m\u001b[0;34m\u001b[0m\u001b[0;34m\u001b[0m\u001b[0m\n\u001b[1;32m     27\u001b[0m \u001b[0;34m\u001b[0m\u001b[0m\n\u001b[0;32m---> 28\u001b[0;31m \u001b[0mlist3\u001b[0m \u001b[0;34m=\u001b[0m \u001b[0mmerge_sorted_lsts\u001b[0m\u001b[0;34m(\u001b[0m\u001b[0mlist1\u001b[0m\u001b[0;34m,\u001b[0m \u001b[0mlist2\u001b[0m\u001b[0;34m)\u001b[0m\u001b[0;34m\u001b[0m\u001b[0;34m\u001b[0m\u001b[0m\n\u001b[0m\u001b[1;32m     29\u001b[0m \u001b[0mlist3\u001b[0m\u001b[0;34m.\u001b[0m\u001b[0mtraverse_list\u001b[0m\u001b[0;34m(\u001b[0m\u001b[0;34m)\u001b[0m\u001b[0;34m\u001b[0m\u001b[0;34m\u001b[0m\u001b[0m\n",
      "\u001b[0;32m<ipython-input-4-7891b95d2c01>\u001b[0m in \u001b[0;36mmerge_sorted_lsts\u001b[0;34m(list1, list2)\u001b[0m\n\u001b[1;32m     18\u001b[0m             \u001b[0;32melse\u001b[0m\u001b[0;34m:\u001b[0m\u001b[0;34m\u001b[0m\u001b[0;34m\u001b[0m\u001b[0m\n\u001b[1;32m     19\u001b[0m                 \u001b[0mcurrent_node\u001b[0m \u001b[0;34m=\u001b[0m \u001b[0mmerged_list\u001b[0m\u001b[0;34m.\u001b[0m\u001b[0mhead\u001b[0m\u001b[0;34m\u001b[0m\u001b[0;34m\u001b[0m\u001b[0m\n\u001b[0;32m---> 20\u001b[0;31m                 \u001b[0;32mwhile\u001b[0m \u001b[0mcurrent_node\u001b[0m\u001b[0;34m.\u001b[0m\u001b[0mnext\u001b[0m \u001b[0;32mand\u001b[0m \u001b[0mcurrent_node\u001b[0m\u001b[0;34m.\u001b[0m\u001b[0mval\u001b[0m \u001b[0;34m<\u001b[0m \u001b[0mcurrent_node2\u001b[0m\u001b[0;34m.\u001b[0m\u001b[0mval\u001b[0m\u001b[0;34m:\u001b[0m\u001b[0;34m\u001b[0m\u001b[0;34m\u001b[0m\u001b[0m\n\u001b[0m\u001b[1;32m     21\u001b[0m                     \u001b[0mcurrent_node\u001b[0m \u001b[0;34m=\u001b[0m \u001b[0mcurrent_node\u001b[0m\u001b[0;34m.\u001b[0m\u001b[0mnext\u001b[0m\u001b[0;34m\u001b[0m\u001b[0;34m\u001b[0m\u001b[0m\n\u001b[1;32m     22\u001b[0m                 \u001b[0mcurrent_node2\u001b[0m\u001b[0;34m.\u001b[0m\u001b[0mnext\u001b[0m \u001b[0;34m=\u001b[0m \u001b[0mcurrent_node\u001b[0m\u001b[0;34m.\u001b[0m\u001b[0mnext\u001b[0m\u001b[0;34m\u001b[0m\u001b[0;34m\u001b[0m\u001b[0m\n",
      "\u001b[0;31mKeyboardInterrupt\u001b[0m: "
     ]
    }
   ],
   "source": [
    "list1 = SingleLinkedList()\n",
    "node1 = Node(1)\n",
    "node2 = Node(2)\n",
    "node3 = Node(4)\n",
    "\n",
    "list1.head = node1\n",
    "list1.head.next = node2\n",
    "node2.next = node3\n",
    "node3.next = None\n",
    "\n",
    "print('List1:')\n",
    "list1.traverse_list()\n",
    "\n",
    "\n",
    "list2 = SingleLinkedList()\n",
    "node4 = Node(1)\n",
    "node5 = Node(3)\n",
    "node6 = Node(4)\n",
    "\n",
    "list2.head = node4\n",
    "list2.head.next = node5\n",
    "node5.next = node6\n",
    "node6.next = None\n",
    "\n",
    "print('\\nList2:')\n",
    "list2.traverse_list()\n",
    "\n",
    "list3 = merge_sorted_lsts(list1, list2)\n",
    "list3.traverse_list()"
   ]
  },
  {
   "cell_type": "code",
   "execution_count": 10,
   "metadata": {},
   "outputs": [],
   "source": [
    "def fizzbuzz(n):\n",
    "    response = []\n",
    "    for i in range(1,n+1):\n",
    "        fizz = False\n",
    "        buzz = False\n",
    "        if i % 3 == 0:\n",
    "            fizz = True\n",
    "        if i % 5 == 0:\n",
    "            buzz = True\n",
    "        if fizz and buzz:\n",
    "            val = 'FizzBuzz'            \n",
    "        elif fizz:\n",
    "            val = 'Fizz'\n",
    "        elif buzz:\n",
    "            val = 'Buzz'\n",
    "        else:\n",
    "            val = str(i)\n",
    "        response.append(val)\n",
    "    \n",
    "    return response\n"
   ]
  },
  {
   "cell_type": "code",
   "execution_count": 11,
   "metadata": {},
   "outputs": [
    {
     "name": "stdout",
     "output_type": "stream",
     "text": [
      "['1', '2', 'Fizz', '4', 'Buzz', 'Fizz', '7', '8', 'Fizz', 'Buzz', '11', 'Fizz', '13', '14', 'FizzBuzz']\n"
     ]
    }
   ],
   "source": [
    "n = 15\n",
    "response = fizzbuzz(n)\n",
    "print(response)"
   ]
  },
  {
   "cell_type": "code",
   "execution_count": 18,
   "metadata": {},
   "outputs": [],
   "source": [
    "def fizzbuzz(n):\n",
    "    response = []\n",
    "    for i in range(1,n+1):\n",
    "        val = ''\n",
    "        if i % 3 == 0:\n",
    "            val += 'Fizz'\n",
    "        if i % 5 == 0:\n",
    "            val += 'Buzz'\n",
    "        if not val:\n",
    "            val = str(i)\n",
    "        response.append(val)\n",
    "    \n",
    "    return response"
   ]
  },
  {
   "cell_type": "code",
   "execution_count": 19,
   "metadata": {},
   "outputs": [
    {
     "name": "stdout",
     "output_type": "stream",
     "text": [
      "['1', '2', 'Fizz', '4', 'Buzz', 'Fizz', '7', '8', 'Fizz', 'Buzz', '11', 'Fizz', '13', '14', 'FizzBuzz']\n"
     ]
    }
   ],
   "source": [
    "n = 15\n",
    "response = fizzbuzz(n)\n",
    "print(response)"
   ]
  },
  {
   "cell_type": "code",
   "execution_count": 27,
   "metadata": {},
   "outputs": [],
   "source": [
    "def count_prime(n):\n",
    "    primes = 0\n",
    "    if n > 2:\n",
    "        # increment for '2' (base case)\n",
    "        primes += 1\n",
    "    \n",
    "    divisors = []\n",
    "    # considering only odd numbers    \n",
    "    for i in range(3,n,2):\n",
    "        not_prime = False\n",
    "        if not divisors:\n",
    "            divisors.append(i)\n",
    "            primes += 1\n",
    "        else:\n",
    "            counter = 0\n",
    "            while not not_prime and counter < len(divisors):\n",
    "                if i % divisors[counter] == 0:\n",
    "                    not_prime = True\n",
    "                counter += 1\n",
    "            if not not_prime:\n",
    "                primes += 1\n",
    "            divisors.append(i)\n",
    "    \n",
    "    return primes\n"
   ]
  },
  {
   "cell_type": "code",
   "execution_count": 31,
   "metadata": {},
   "outputs": [
    {
     "name": "stdout",
     "output_type": "stream",
     "text": [
      "10 4\n",
      "1 0\n",
      "0 0\n"
     ]
    },
    {
     "ename": "KeyboardInterrupt",
     "evalue": "",
     "output_type": "error",
     "traceback": [
      "\u001b[0;31m---------------------------------------------------------------------------\u001b[0m",
      "\u001b[0;31mKeyboardInterrupt\u001b[0m                         Traceback (most recent call last)",
      "\u001b[0;32m<ipython-input-31-1bd5a02f43e0>\u001b[0m in \u001b[0;36m<module>\u001b[0;34m\u001b[0m\n\u001b[1;32m      9\u001b[0m \u001b[0;34m\u001b[0m\u001b[0m\n\u001b[1;32m     10\u001b[0m \u001b[0mn\u001b[0m \u001b[0;34m=\u001b[0m \u001b[0;36m5000000\u001b[0m\u001b[0;34m\u001b[0m\u001b[0;34m\u001b[0m\u001b[0m\n\u001b[0;32m---> 11\u001b[0;31m \u001b[0mprint\u001b[0m\u001b[0;34m(\u001b[0m\u001b[0mn\u001b[0m\u001b[0;34m,\u001b[0m \u001b[0mcount_prime\u001b[0m\u001b[0;34m(\u001b[0m\u001b[0mn\u001b[0m\u001b[0;34m)\u001b[0m\u001b[0;34m)\u001b[0m\u001b[0;34m\u001b[0m\u001b[0;34m\u001b[0m\u001b[0m\n\u001b[0m",
      "\u001b[0;32m<ipython-input-27-23ea008cdc78>\u001b[0m in \u001b[0;36mcount_prime\u001b[0;34m(n)\u001b[0m\n\u001b[1;32m     14\u001b[0m         \u001b[0;32melse\u001b[0m\u001b[0;34m:\u001b[0m\u001b[0;34m\u001b[0m\u001b[0;34m\u001b[0m\u001b[0m\n\u001b[1;32m     15\u001b[0m             \u001b[0mcounter\u001b[0m \u001b[0;34m=\u001b[0m \u001b[0;36m0\u001b[0m\u001b[0;34m\u001b[0m\u001b[0;34m\u001b[0m\u001b[0m\n\u001b[0;32m---> 16\u001b[0;31m             \u001b[0;32mwhile\u001b[0m \u001b[0;32mnot\u001b[0m \u001b[0mnot_prime\u001b[0m \u001b[0;32mand\u001b[0m \u001b[0mcounter\u001b[0m \u001b[0;34m<\u001b[0m \u001b[0mlen\u001b[0m\u001b[0;34m(\u001b[0m\u001b[0mdivisors\u001b[0m\u001b[0;34m)\u001b[0m\u001b[0;34m:\u001b[0m\u001b[0;34m\u001b[0m\u001b[0;34m\u001b[0m\u001b[0m\n\u001b[0m\u001b[1;32m     17\u001b[0m                 \u001b[0;32mif\u001b[0m \u001b[0mi\u001b[0m \u001b[0;34m%\u001b[0m \u001b[0mdivisors\u001b[0m\u001b[0;34m[\u001b[0m\u001b[0mcounter\u001b[0m\u001b[0;34m]\u001b[0m \u001b[0;34m==\u001b[0m \u001b[0;36m0\u001b[0m\u001b[0;34m:\u001b[0m\u001b[0;34m\u001b[0m\u001b[0;34m\u001b[0m\u001b[0m\n\u001b[1;32m     18\u001b[0m                     \u001b[0mnot_prime\u001b[0m \u001b[0;34m=\u001b[0m \u001b[0;32mTrue\u001b[0m\u001b[0;34m\u001b[0m\u001b[0;34m\u001b[0m\u001b[0m\n",
      "\u001b[0;31mKeyboardInterrupt\u001b[0m: "
     ]
    }
   ],
   "source": [
    "n = 10\n",
    "print(n, count_prime(n))\n",
    "\n",
    "n = 1\n",
    "print(n, count_prime(n))\n",
    "\n",
    "n = 0\n",
    "print(n, count_prime(n))\n",
    "\n",
    "n = 5000000\n",
    "print(n, count_prime(n))"
   ]
  },
  {
   "cell_type": "code",
   "execution_count": 22,
   "metadata": {},
   "outputs": [
    {
     "name": "stdout",
     "output_type": "stream",
     "text": [
      "3\n",
      "5\n",
      "7\n",
      "9\n"
     ]
    }
   ],
   "source": [
    "for i in range(3,10,2):\n",
    "    print(i)"
   ]
  },
  {
   "cell_type": "code",
   "execution_count": 43,
   "metadata": {},
   "outputs": [],
   "source": [
    "def is_prime(n):\n",
    "    for i in range(3, int((n**0.5)+1), 2):\n",
    "        if n % i == 0:\n",
    "            return False\n",
    "    return True\n",
    "\n",
    "def count_prime(n):\n",
    "    counter = 0\n",
    "    if n > 2:\n",
    "        counter += 1\n",
    "    for num in range(3, n, 2):\n",
    "        if is_prime(num):\n",
    "            counter += 1\n",
    "    \n",
    "    return counter\n"
   ]
  },
  {
   "cell_type": "code",
   "execution_count": 45,
   "metadata": {},
   "outputs": [
    {
     "name": "stdout",
     "output_type": "stream",
     "text": [
      "5000000 348513\n"
     ]
    }
   ],
   "source": [
    "n = 5000000\n",
    "# n = 10\n",
    "print(n, count_prime(n))"
   ]
  },
  {
   "cell_type": "code",
   "execution_count": 55,
   "metadata": {},
   "outputs": [],
   "source": [
    "def count_prime(n):\n",
    "    out = []\n",
    "    sieve = [True] * (n)\n",
    "    for p in range(2, n):\n",
    "        if (sieve[p]):\n",
    "            out.append(p)\n",
    "            for i in range(p, n, p):\n",
    "                sieve[i] = False\n",
    "    return len(out)"
   ]
  },
  {
   "cell_type": "code",
   "execution_count": 56,
   "metadata": {},
   "outputs": [
    {
     "name": "stdout",
     "output_type": "stream",
     "text": [
      "5000000 348513\n"
     ]
    }
   ],
   "source": [
    "n = 10\n",
    "n = 5000000\n",
    "print(n, count_prime(n))"
   ]
  },
  {
   "cell_type": "code",
   "execution_count": 52,
   "metadata": {},
   "outputs": [
    {
     "name": "stdout",
     "output_type": "stream",
     "text": [
      "7\n"
     ]
    }
   ],
   "source": [
    "arr = [1,0,0,0,1,1,1,0,1,1,0,1,0]\n",
    "count = 0\n",
    "for val in arr:\n",
    "    if val:\n",
    "        count += 1\n",
    "\n",
    "print(count)\n"
   ]
  },
  {
   "cell_type": "code",
   "execution_count": null,
   "metadata": {},
   "outputs": [],
   "source": [
    "def count_prime(n):\n",
    "    out = []\n",
    "    sieve = [1] * (n)\n",
    "    for p in range(2, n):\n",
    "        if (sieve[p]):\n",
    "            out.append(p)\n",
    "            for i in range(p, n, p):\n",
    "                sieve[i] = 0\n",
    "    return len(out)"
   ]
  },
  {
   "cell_type": "code",
   "execution_count": null,
   "metadata": {},
   "outputs": [],
   "source": [
    "from random import randint\n",
    "nums = [randint(-109, 109) for i in range(105)]\n",
    "nums = [i for i in range(-109,109)]\n",
    "print(nums)\n",
    "\n",
    "flag = arr_contains_duplicates(nums)\n",
    "print(flag)"
   ]
  },
  {
   "cell_type": "code",
   "execution_count": 30,
   "metadata": {},
   "outputs": [],
   "source": [
    "# def count_prime(n):\n",
    "#     out = []\n",
    "#     sieve = [True] * (n)\n",
    "#     for p in range(2, n):\n",
    "#         if (sieve[p]):\n",
    "#             out.append(p)\n",
    "#             for i in range(p, n, p):\n",
    "#                 sieve[i] = False\n",
    "#     return len(out)\n",
    "\n",
    "# def sum_digits(n):\n",
    "#     digit_sum = 0\n",
    "#     while n % 10 != n:\n",
    "#         digit_sum += n % 10\n",
    "#         n = n//10\n",
    "    \n",
    "#     digit_sum += n\n",
    "\n",
    "#     if digit_sum > 9:\n",
    "#         digit_sum = sum_digits(digit_sum)       \n",
    "\n",
    "#     return digit_sum\n",
    "\n",
    "# def sum_digits(n):\n",
    "#     digit_sum = 0\n",
    "#     while n % 10 != n:\n",
    "#         digit_sum += n % 10\n",
    "#         n = n//10\n",
    "    \n",
    "#     digit_sum += n\n",
    "\n",
    "#     if digit_sum > 9:\n",
    "#         digit_sum = sum_digits(digit_sum)       \n",
    "\n",
    "#     return digit_sum\n",
    "\n",
    "\n",
    "\n",
    "def check_multiple_of_three(n):\n",
    "    flag = False\n",
    "    while (n%3 == 0) and (n//3 != 1):        \n",
    "        n = n//3\n",
    "    print(n)\n",
    "    if n == 3:\n",
    "        flag = True\n",
    "\n",
    "    return flag\n",
    "        \n",
    "\n",
    "\n",
    "def isPowerOfThree(n):\n",
    "    # check even or n=0\n",
    "    if abs(n) % 2 == 0 or n == 0:\n",
    "        return False\n",
    "    # exactly equal to 3\n",
    "    elif abs(n) == 3:\n",
    "        return True    \n",
    "    else:\n",
    "        return check_multiple_of_three(n)\n",
    "           "
   ]
  },
  {
   "cell_type": "code",
   "execution_count": 31,
   "metadata": {},
   "outputs": [
    {
     "name": "stdout",
     "output_type": "stream",
     "text": [
      "3\n",
      "True\n"
     ]
    }
   ],
   "source": [
    "n = 243\n",
    "print(isPowerOfThree(n))"
   ]
  },
  {
   "cell_type": "code",
   "execution_count": null,
   "metadata": {},
   "outputs": [],
   "source": [
    "def check_multiple_of_three(self, n):\n",
    "    flag = False\n",
    "    while (n%3 == 0) and (n//3 != 1):        \n",
    "        n = n//3\n",
    "    if n == 3:\n",
    "        flag = True\n",
    "\n",
    "    return flag\n",
    "\n",
    "def isPowerOfThree(self, n: int) -> bool:\n",
    "    # check even or n=0\n",
    "    if abs(n) % 2 == 0 or n == 0:\n",
    "        return False\n",
    "    # exactly equal to 3\n",
    "    elif n == 3 or n == 1:\n",
    "        return True    \n",
    "    else:\n",
    "        return self.check_multiple_of_three(n)\n"
   ]
  },
  {
   "cell_type": "code",
   "execution_count": 9,
   "metadata": {},
   "outputs": [],
   "source": [
    "def roman_to_integer(s):\n",
    "    mapping = {\n",
    "        'I': 1,\n",
    "        'V': 5,\n",
    "        'X': 10,\n",
    "        'L': 50,\n",
    "        'C': 100,\n",
    "        'D': 500,\n",
    "        'M': 1000,\n",
    "        'IV': 4,\n",
    "        'IX': 9,\n",
    "        'XL': 40,\n",
    "        'XC': 90,\n",
    "        'CD': 400,\n",
    "        'CM': 900\n",
    "\n",
    "    }\n",
    "    sum = 0\n",
    "    counter = 0\n",
    "    while counter < len(s):    \n",
    "        key = s[counter:counter+2]        \n",
    "        if key in mapping:            \n",
    "            sum += mapping[key]\n",
    "            counter += 2\n",
    "        else:\n",
    "            key = s[counter]\n",
    "            if key in mapping:                \n",
    "                sum += mapping[key]\n",
    "                counter += 1\n",
    "    \n",
    "    return sum\n"
   ]
  },
  {
   "cell_type": "code",
   "execution_count": 10,
   "metadata": {},
   "outputs": [
    {
     "name": "stdout",
     "output_type": "stream",
     "text": [
      "1994\n"
     ]
    }
   ],
   "source": [
    "# s = \"III\"\n",
    "# s = \"LVIII\"\n",
    "s = \"MCMXCIV\"\n",
    "intg = roman_to_integer(s)\n",
    "print(intg)"
   ]
  },
  {
   "cell_type": "code",
   "execution_count": 11,
   "metadata": {},
   "outputs": [
    {
     "data": {
      "text/plain": [
       "'M'"
      ]
     },
     "execution_count": 11,
     "metadata": {},
     "output_type": "execute_result"
    }
   ],
   "source": [
    "counter = 0\n",
    "s[counter:counter+1]"
   ]
  },
  {
   "cell_type": "code",
   "execution_count": 12,
   "metadata": {},
   "outputs": [
    {
     "data": {
      "text/plain": [
       "'M'"
      ]
     },
     "execution_count": 12,
     "metadata": {},
     "output_type": "execute_result"
    }
   ],
   "source": [
    "s[counter]"
   ]
  },
  {
   "cell_type": "code",
   "execution_count": 19,
   "metadata": {},
   "outputs": [
    {
     "ename": "SyntaxError",
     "evalue": "leading zeros in decimal integer literals are not permitted; use an 0o prefix for octal integers (<ipython-input-19-be74f9b2bc85>, line 1)",
     "output_type": "error",
     "traceback": [
      "\u001b[0;36m  File \u001b[0;32m\"<ipython-input-19-be74f9b2bc85>\"\u001b[0;36m, line \u001b[0;32m1\u001b[0m\n\u001b[0;31m    n = 00000000000000000000000000001011\u001b[0m\n\u001b[0m                                       ^\u001b[0m\n\u001b[0;31mSyntaxError\u001b[0m\u001b[0;31m:\u001b[0m leading zeros in decimal integer literals are not permitted; use an 0o prefix for octal integers\n"
     ]
    }
   ],
   "source": [
    "# n = 00000000000000000000000000001011\n",
    "# # n = 11111111111111111111111111111101\n",
    "# counter = 0\n",
    "# # strg = str(n)\n",
    "# # for num in strg:\n",
    "# #     if int(num):\n",
    "# #         counter += 1\n",
    "# # print(counter)\n",
    "# while n > 0:\n",
    "#     if n & 1:\n",
    "#         counter += 1\n",
    "#     n >>= 1\n",
    "\n",
    "# print(counter)"
   ]
  },
  {
   "cell_type": "code",
   "execution_count": 22,
   "metadata": {},
   "outputs": [
    {
     "name": "stdout",
     "output_type": "stream",
     "text": [
      "0b00001011\n"
     ]
    }
   ],
   "source": [
    "n = 11\n",
    "bin_num = f'{n:#010b}'\n",
    "print(bin_num)"
   ]
  },
  {
   "cell_type": "code",
   "execution_count": 23,
   "metadata": {},
   "outputs": [],
   "source": [
    "def hamming_wt(n):\n",
    "    counter = 0\n",
    "    # convert to 32 bit binary\n",
    "    bin_num = f'{n:#010b}'\n",
    "    # convert binary to string\n",
    "    str_num = str(bin_num)\n",
    "    for digt in str_num:\n",
    "        if digt == '1':\n",
    "            counter += 1\n",
    "\n",
    "    return counter"
   ]
  },
  {
   "cell_type": "code",
   "execution_count": 24,
   "metadata": {},
   "outputs": [
    {
     "name": "stdout",
     "output_type": "stream",
     "text": [
      "3\n"
     ]
    }
   ],
   "source": [
    "print(hamming_wt(11))"
   ]
  },
  {
   "cell_type": "code",
   "execution_count": 1,
   "metadata": {},
   "outputs": [],
   "source": [
    "# decorator function to convert to lowercase\n",
    "def lowercase_decorator(function):\n",
    "    def wrapper():\n",
    "        func = function()\n",
    "        string_lowercase = func.lower()\n",
    "        return string_lowercase\n",
    "    \n",
    "    return wrapper\n",
    "\n",
    "# decorator function to split string\n",
    "def splitter_decorator(function):\n",
    "    def wrapper():\n",
    "        func = function()\n",
    "        string_split = func.split()\n",
    "        return string_split\n",
    "    \n",
    "    return wrapper\n",
    "\n",
    "\n",
    "@splitter_decorator # this is executed second\n",
    "@lowercase_decorator # this is executed first\n",
    "def hello():\n",
    "    return 'Hello World'"
   ]
  },
  {
   "cell_type": "code",
   "execution_count": 2,
   "metadata": {},
   "outputs": [
    {
     "data": {
      "text/plain": [
       "['hello', 'world']"
      ]
     },
     "execution_count": 2,
     "metadata": {},
     "output_type": "execute_result"
    }
   ],
   "source": [
    "hello()"
   ]
  },
  {
   "cell_type": "code",
   "execution_count": 5,
   "metadata": {},
   "outputs": [],
   "source": [
    "# decorator function to capitalize names\n",
    "def name_decorator(function):\n",
    "    def wrapper(arg1, arg2):\n",
    "        arg1 = arg1.capitalize()\n",
    "        arg2 = arg2.capitalize()\n",
    "        string_hello = function(arg1, arg2)\n",
    "        return string_hello\n",
    "    \n",
    "    return wrapper\n",
    "\n",
    "@name_decorator\n",
    "def say_hello(name1, name2):\n",
    "    return \"Hello \" + name1 + \"! Hello \" + name2 + \"!\""
   ]
  },
  {
   "cell_type": "code",
   "execution_count": 7,
   "metadata": {},
   "outputs": [
    {
     "data": {
      "text/plain": [
       "'Hello Ricardo! Hello Powell!'"
      ]
     },
     "execution_count": 7,
     "metadata": {},
     "output_type": "execute_result"
    }
   ],
   "source": [
    "say_hello('ricardo', 'PoWeLl')"
   ]
  },
  {
   "cell_type": "code",
   "execution_count": 1,
   "metadata": {},
   "outputs": [],
   "source": [
    "def func_interset(nums1, nums2):\n",
    "    len1 = len(nums1)\n",
    "    len2 = len(nums2)\n",
    "\n",
    "    intersec = []\n",
    "    if len1 < len2:\n",
    "        for val in nums1:\n",
    "            if val in nums2:\n",
    "                intersec.append(val)\n",
    "                nums2.remove(val)\n",
    "    else:\n",
    "        for val in nums2:\n",
    "            if val in nums1:\n",
    "                intersec.append(val)\n",
    "                nums1.remove(val)\n",
    "\n",
    "    return intersec\n"
   ]
  },
  {
   "cell_type": "code",
   "execution_count": 2,
   "metadata": {},
   "outputs": [
    {
     "name": "stdout",
     "output_type": "stream",
     "text": [
      "[2, 2]\n"
     ]
    }
   ],
   "source": [
    "nums1 = [1,2,2,1]\n",
    "nums2 = [2,2]\n",
    "\n",
    "print(func_interset(nums1, nums2))\n",
    "\n",
    "nums1.remove()"
   ]
  },
  {
   "cell_type": "code",
   "execution_count": 9,
   "metadata": {},
   "outputs": [
    {
     "data": {
      "text/plain": [
       "'Remove first occurrence of value.\\n\\nRaises ValueError if the value is not present.'"
      ]
     },
     "execution_count": 9,
     "metadata": {},
     "output_type": "execute_result"
    }
   ],
   "source": [
    "nums1.remove.__doc__"
   ]
  },
  {
   "cell_type": "code",
   "execution_count": 12,
   "metadata": {},
   "outputs": [
    {
     "name": "stdout",
     "output_type": "stream",
     "text": [
      "[1]\n"
     ]
    }
   ],
   "source": [
    "digits = [0]\n",
    "rev = digits[::-1]\n",
    "int_num = 0\n",
    "dec = 0\n",
    "for num in rev:\n",
    "    int_num += num * (10**dec)\n",
    "    dec += 1\n",
    "\n",
    "# increment the number by 1\n",
    "int_num += 1\n",
    "\n",
    "# convert number into a list\n",
    "new_digits = str(int_num)\n",
    "new_digits = [int(digit) for digit in new_digits]\n",
    "\n",
    "print(new_digits)"
   ]
  },
  {
   "cell_type": "code",
   "execution_count": 18,
   "metadata": {},
   "outputs": [],
   "source": [
    "def decimal_to_binary(num):\n",
    "    binary = ''\n",
    "    while num >= 1:\n",
    "        binary += str(num%2)\n",
    "        num = num//2\n",
    "    return binary\n",
    "\n",
    "def hamming_distance(x, y):\n",
    "    x_bin = decimal_to_binary(x)\n",
    "    y_bin = decimal_to_binary(y)\n",
    "\n",
    "    h_dist = 0\n",
    "    if len(x_bin) < len(y_bin):\n",
    "        for idx, bit in enumerate(x_bin):\n",
    "            if x_bin[idx] != y_bin[idx]:\n",
    "                h_dist += 1\n",
    "        for bit in y_bin[len(x_bin):]:\n",
    "            if bit == '1':\n",
    "                h_dist += 1\n",
    "    else:\n",
    "        for idx, bit in enumerate(y_bin):\n",
    "            if x_bin[idx] != y_bin[idx]:\n",
    "                h_dist += 1\n",
    "        for bit in x_bin[len(y_bin):]:\n",
    "            if bit == '1':\n",
    "                h_dist += 1\n",
    "    \n",
    "    return h_dist\n"
   ]
  },
  {
   "cell_type": "code",
   "execution_count": 21,
   "metadata": {},
   "outputs": [
    {
     "name": "stdout",
     "output_type": "stream",
     "text": [
      "2\n",
      "1\n",
      "31\n"
     ]
    }
   ],
   "source": [
    "print(hamming_distance(1, 4))\n",
    "print(hamming_distance(3, 1))\n",
    "print(hamming_distance(0, (2**31-1)))"
   ]
  },
  {
   "cell_type": "code",
   "execution_count": null,
   "metadata": {},
   "outputs": [],
   "source": []
  },
  {
   "cell_type": "code",
   "execution_count": null,
   "metadata": {},
   "outputs": [],
   "source": []
  },
  {
   "cell_type": "code",
   "execution_count": 7,
   "metadata": {},
   "outputs": [
    {
     "name": "stdout",
     "output_type": "stream",
     "text": [
      "1\n",
      "11\n"
     ]
    }
   ],
   "source": [
    "# decimal_to_binary(18293)\n",
    "decimal_to_binary(1)\n",
    "decimal_to_binary(3)"
   ]
  },
  {
   "cell_type": "code",
   "execution_count": 5,
   "metadata": {},
   "outputs": [
    {
     "ename": "TypeError",
     "evalue": "unsupported operand type(s) for -: 'str' and 'str'",
     "output_type": "error",
     "traceback": [
      "\u001b[0;31m---------------------------------------------------------------------------\u001b[0m",
      "\u001b[0;31mTypeError\u001b[0m                                 Traceback (most recent call last)",
      "\u001b[0;32m<ipython-input-5-3a121d55a655>\u001b[0m in \u001b[0;36m<module>\u001b[0;34m\u001b[0m\n\u001b[1;32m      2\u001b[0m \u001b[0mst2\u001b[0m \u001b[0;34m=\u001b[0m \u001b[0;34m'0001'\u001b[0m\u001b[0;34m\u001b[0m\u001b[0;34m\u001b[0m\u001b[0m\n\u001b[1;32m      3\u001b[0m \u001b[0;34m\u001b[0m\u001b[0m\n\u001b[0;32m----> 4\u001b[0;31m \u001b[0mst1\u001b[0m \u001b[0;34m-\u001b[0m \u001b[0mst2\u001b[0m\u001b[0;34m\u001b[0m\u001b[0;34m\u001b[0m\u001b[0m\n\u001b[0m",
      "\u001b[0;31mTypeError\u001b[0m: unsupported operand type(s) for -: 'str' and 'str'"
     ]
    }
   ],
   "source": [
    "st1 = '0100'\n",
    "st2 = '0001'\n",
    "\n",
    "st1 - st2"
   ]
  },
  {
   "cell_type": "code",
   "execution_count": 29,
   "metadata": {},
   "outputs": [],
   "source": [
    "# Pascal's Triangle\n",
    "\n",
    "def pascals_triangle(n):\n",
    "    pas_tr = []\n",
    "    counter = 0\n",
    "    while counter < n:        \n",
    "        # base case\n",
    "        if counter == 0:\n",
    "            layer = [1]                        \n",
    "            pas_tr.append(layer)\n",
    "            counter += 1\n",
    "        else:            \n",
    "            # create the new layer based on previous one\n",
    "            layer = []\n",
    "            loop_len = len(pas_tr[counter-1])-1\n",
    "            for i in range(loop_len):\n",
    "                layer.append(pas_tr[counter-1][i]+pas_tr[counter-1][i+1])\n",
    "            \n",
    "            # add 1s at the edges of the layer\n",
    "            layer.insert(0, 1)\n",
    "            layer.append(1)\n",
    "            pas_tr.append(layer)\n",
    "            counter += 1           \n",
    "    \n",
    "    return pas_tr"
   ]
  },
  {
   "cell_type": "code",
   "execution_count": 32,
   "metadata": {},
   "outputs": [
    {
     "name": "stdout",
     "output_type": "stream",
     "text": [
      "[[1], [1, 1], [1, 2, 1], [1, 3, 3, 1], [1, 4, 6, 4, 1]]\n",
      "[[1]]\n",
      "[[1], [1, 1], [1, 2, 1], [1, 3, 3, 1], [1, 4, 6, 4, 1], [1, 5, 10, 10, 5, 1], [1, 6, 15, 20, 15, 6, 1], [1, 7, 21, 35, 35, 21, 7, 1], [1, 8, 28, 56, 70, 56, 28, 8, 1], [1, 9, 36, 84, 126, 126, 84, 36, 9, 1], [1, 10, 45, 120, 210, 252, 210, 120, 45, 10, 1], [1, 11, 55, 165, 330, 462, 462, 330, 165, 55, 11, 1], [1, 12, 66, 220, 495, 792, 924, 792, 495, 220, 66, 12, 1], [1, 13, 78, 286, 715, 1287, 1716, 1716, 1287, 715, 286, 78, 13, 1], [1, 14, 91, 364, 1001, 2002, 3003, 3432, 3003, 2002, 1001, 364, 91, 14, 1], [1, 15, 105, 455, 1365, 3003, 5005, 6435, 6435, 5005, 3003, 1365, 455, 105, 15, 1], [1, 16, 120, 560, 1820, 4368, 8008, 11440, 12870, 11440, 8008, 4368, 1820, 560, 120, 16, 1], [1, 17, 136, 680, 2380, 6188, 12376, 19448, 24310, 24310, 19448, 12376, 6188, 2380, 680, 136, 17, 1], [1, 18, 153, 816, 3060, 8568, 18564, 31824, 43758, 48620, 43758, 31824, 18564, 8568, 3060, 816, 153, 18, 1], [1, 19, 171, 969, 3876, 11628, 27132, 50388, 75582, 92378, 92378, 75582, 50388, 27132, 11628, 3876, 969, 171, 19, 1], [1, 20, 190, 1140, 4845, 15504, 38760, 77520, 125970, 167960, 184756, 167960, 125970, 77520, 38760, 15504, 4845, 1140, 190, 20, 1], [1, 21, 210, 1330, 5985, 20349, 54264, 116280, 203490, 293930, 352716, 352716, 293930, 203490, 116280, 54264, 20349, 5985, 1330, 210, 21, 1], [1, 22, 231, 1540, 7315, 26334, 74613, 170544, 319770, 497420, 646646, 705432, 646646, 497420, 319770, 170544, 74613, 26334, 7315, 1540, 231, 22, 1], [1, 23, 253, 1771, 8855, 33649, 100947, 245157, 490314, 817190, 1144066, 1352078, 1352078, 1144066, 817190, 490314, 245157, 100947, 33649, 8855, 1771, 253, 23, 1], [1, 24, 276, 2024, 10626, 42504, 134596, 346104, 735471, 1307504, 1961256, 2496144, 2704156, 2496144, 1961256, 1307504, 735471, 346104, 134596, 42504, 10626, 2024, 276, 24, 1], [1, 25, 300, 2300, 12650, 53130, 177100, 480700, 1081575, 2042975, 3268760, 4457400, 5200300, 5200300, 4457400, 3268760, 2042975, 1081575, 480700, 177100, 53130, 12650, 2300, 300, 25, 1], [1, 26, 325, 2600, 14950, 65780, 230230, 657800, 1562275, 3124550, 5311735, 7726160, 9657700, 10400600, 9657700, 7726160, 5311735, 3124550, 1562275, 657800, 230230, 65780, 14950, 2600, 325, 26, 1], [1, 27, 351, 2925, 17550, 80730, 296010, 888030, 2220075, 4686825, 8436285, 13037895, 17383860, 20058300, 20058300, 17383860, 13037895, 8436285, 4686825, 2220075, 888030, 296010, 80730, 17550, 2925, 351, 27, 1], [1, 28, 378, 3276, 20475, 98280, 376740, 1184040, 3108105, 6906900, 13123110, 21474180, 30421755, 37442160, 40116600, 37442160, 30421755, 21474180, 13123110, 6906900, 3108105, 1184040, 376740, 98280, 20475, 3276, 378, 28, 1], [1, 29, 406, 3654, 23751, 118755, 475020, 1560780, 4292145, 10015005, 20030010, 34597290, 51895935, 67863915, 77558760, 77558760, 67863915, 51895935, 34597290, 20030010, 10015005, 4292145, 1560780, 475020, 118755, 23751, 3654, 406, 29, 1]]\n"
     ]
    }
   ],
   "source": [
    "print(pascals_triangle(5))\n",
    "print(pascals_triangle(1))\n",
    "print(pascals_triangle(30))"
   ]
  },
  {
   "cell_type": "code",
   "execution_count": 24,
   "metadata": {},
   "outputs": [
    {
     "name": "stdout",
     "output_type": "stream",
     "text": [
      "[3, 3]\n"
     ]
    }
   ],
   "source": [
    "lst = [1,2,1]\n",
    "sum_lst = []\n",
    "for i in range(len(lst)-1):\n",
    "    sum_lst.append(lst[i]+lst[i+1])\n",
    "\n",
    "print(sum_lst)\n"
   ]
  },
  {
   "cell_type": "code",
   "execution_count": null,
   "metadata": {},
   "outputs": [],
   "source": [
    "def valid_parenthesis(strg):\n",
    "    # open_set = ['(', '{', '[']\n",
    "    # close_dict = {\n",
    "    #     '(': ')', \n",
    "    #     '{': '}', \n",
    "    #     '[': ']'\n",
    "    # }\n",
    "    # value_stack = []\n",
    "    # counter = 0\n",
    "    # value = strg[counter]\n",
    "    \n",
    "    # if value not in open_set:\n",
    "    #     return False\n",
    "    \n",
    "    # while value in open_set:\n",
    "    #     value_stack.append(val)\n",
    "    #     counter += 1\n",
    "    #     value = strg[counter]\n",
    "    \n",
    "    # if value != close_dict[value_stack[-1]]:\n",
    "    #     return False\n",
    "    # else:\n",
    "    #     value_stack.pop()\n",
    "    #     counter += 1\n",
    "\n",
    "\n",
    "    # for idx, val in enumerate(strg):        \n",
    "    #     while val in open_set and not invalid:\n",
    "    #         value_stack.append(val)\n",
    "    #     if idx < len(strg):\n",
    "    #         if val != close_dict[value_stack[-1]]:\n",
    "    #             invalid = True\n",
    "    #         else:\n",
    "    #             value_stack.pop()\n",
    "\n",
    "    open_set = ['(', '{', '[']\n",
    "    close_set = [')', '}', ']']\n",
    "\n",
    "    open_str = [val for val in strg if val in open_set]\n",
    "    close_str = [val for val in strg if val in close_set]\n",
    "\n",
    "    # revert the closed set\n",
    "    close_set = close_set[::-1]\n",
    "\n",
    "    print(open_set)\n",
    "    print(close_set)\n",
    "        "
   ]
  },
  {
   "cell_type": "code",
   "execution_count": 55,
   "metadata": {},
   "outputs": [],
   "source": [
    "\n",
    "# strg = r\"()[]{}\"\n",
    "def valid_parenthesis(strg):\n",
    "    match_dict = {\n",
    "        '(': ')',\n",
    "        '{': '}',\n",
    "        '[': ']',\n",
    "    }\n",
    "    open_set = list(match_dict.keys())\n",
    "    close_set = list(match_dict.values())\n",
    "\n",
    "    counter = 0\n",
    "    level = {}\n",
    "\n",
    "    if strg[0] not in open_set or strg[-1] not in close_set:\n",
    "        return False\n",
    "    else:\n",
    "        level[counter] = [strg[0]]\n",
    "\n",
    "    for val in strg[1:]:\n",
    "        if val in open_set:\n",
    "            counter += 1\n",
    "            if counter in level.keys():\n",
    "                level[counter].append(val)\n",
    "            else:\n",
    "                level[counter] = [val]\n",
    "        # cannot have a negative level - more closing brackets than opened\n",
    "        elif counter > -1:\n",
    "            level[counter].append(val)\n",
    "            counter -= 1\n",
    "        else:\n",
    "            return False\n",
    "    valid = True\n",
    "    print(level)\n",
    "    print(level.values())\n",
    "    for vals in level.values():\n",
    "        print(vals)\n",
    "        # if equal number of parenthesis \n",
    "        # are not available at same level\n",
    "        if len(vals) % 2 != 0:\n",
    "            return False\n",
    "        else:\n",
    "            cntr = 0\n",
    "            # if right pair of parenthesis are not at same level\n",
    "            print(match_dict[vals[cntr]], vals[cntr+1])\n",
    "            while cntr < (len(vals)-1) and match_dict[vals[cntr]] == vals[cntr+1]:\n",
    "                cntr += 2\n",
    "            if cntr == 0 or cntr < (len(vals)-1):\n",
    "                return False\n",
    "\n",
    "    return valid\n",
    "\n",
    "\n",
    "\n",
    "    # close_dict = {\n",
    "    #     '(': ')', \n",
    "    #     '{': '}', \n",
    "    #     '[': ']'\n",
    "    # }\n",
    "\n",
    "    # open_str = [close_dict[val] for val in strg if val in open_set]\n",
    "    # close_str = [val for val in strg if val in close_set]\n",
    "\n",
    "    # # revert the closed str\n",
    "    # close_str = close_str[::-1]\n",
    "\n",
    "    # print(open_str)\n",
    "    # print(close_str)"
   ]
  },
  {
   "cell_type": "code",
   "execution_count": 56,
   "metadata": {},
   "outputs": [
    {
     "name": "stdout",
     "output_type": "stream",
     "text": [
      "{0: ['{', '}', '{', '}', '{', '}', '{', '}', '{', '}', '{', ']'], 1: ['(', ')'], 2: ['(', ')'], 3: ['[', ']'], 4: ['[', ']']}\n",
      "dict_values([['{', '}', '{', '}', '{', '}', '{', '}', '{', '}', '{', ']'], ['(', ')'], ['(', ')'], ['[', ']'], ['[', ']']])\n",
      "['{', '}', '{', '}', '{', '}', '{', '}', '{', '}', '{', ']']\n",
      "} }\n",
      "False\n"
     ]
    }
   ],
   "source": [
    "# strg = r\"([){]}\"\n",
    "# strg = r\"{{{{[[[[(([](((({[{{[()]}}]})){}))[]))]]]]}}}}\"\n",
    "# strg = r\"()[]{}\"\n",
    "# strg = r\"(]\"\n",
    "# strg = r\"(){}}{\"\n",
    "strg = r\"{}{}{}{}{}{(([[]]))]\"\n",
    "print(valid_parenthesis(strg))"
   ]
  },
  {
   "cell_type": "code",
   "execution_count": 26,
   "metadata": {},
   "outputs": [
    {
     "name": "stdout",
     "output_type": "stream",
     "text": [
      "['(', '{', '[']\n",
      "[')', '}', ']']\n"
     ]
    }
   ],
   "source": [
    "match_dict = {\n",
    "    '(': ')',\n",
    "    '{': '}',\n",
    "    '[': ']',\n",
    "}\n",
    "\n",
    "print(list(match_dict.keys()))\n",
    "print(list(match_dict.values()))"
   ]
  },
  {
   "cell_type": "code",
   "execution_count": null,
   "metadata": {},
   "outputs": [],
   "source": [
    "['{', '}', '{', '}', '{', '}', '{', '}', '{', '}', '{', ']']\n",
    "\n",
    "while cntr < (len(vals)-1) and match_dict[vals[cntr]] == vals[cntr+1]:\n",
    "                cntr += 2\n",
    "            if cntr == 0 or cntr < (len(vals)-1):\n",
    "                return False"
   ]
  },
  {
   "cell_type": "code",
   "execution_count": 69,
   "metadata": {},
   "outputs": [],
   "source": [
    "def missing_number(nums):\n",
    "    # sort the array\n",
    "    nums.sort()\n",
    "    len_nums = len(nums)\n",
    "\n",
    "    idx = 0\n",
    "    while idx < len_nums-1:\n",
    "        if nums[idx+1] - nums[idx] != 1:\n",
    "            return (idx+1)\n",
    "        elif nums[len_nums-idx-1] - nums[len_nums-idx-2] != 1:\n",
    "            return (len_nums-idx-1)\n",
    "        idx += 1\n",
    "    \n",
    "    # last element in the list is missing\n",
    "    return len_nums"
   ]
  },
  {
   "cell_type": "code",
   "execution_count": 72,
   "metadata": {},
   "outputs": [
    {
     "name": "stdout",
     "output_type": "stream",
     "text": [
      "2\n"
     ]
    }
   ],
   "source": [
    "nums = [3,0,1]\n",
    "# nums = [0,1]\n",
    "# nums = [9,6,4,2,3,5,7,0,1]\n",
    "print(missing_number(nums))"
   ]
  },
  {
   "cell_type": "code",
   "execution_count": 1,
   "metadata": {},
   "outputs": [],
   "source": [
    "def reverse_bit(n):\n",
    "    return(int('{:032b}'.format(int(n))[::-1], 2))"
   ]
  },
  {
   "cell_type": "code",
   "execution_count": 8,
   "metadata": {},
   "outputs": [
    {
     "name": "stdout",
     "output_type": "stream",
     "text": [
      "318767104\n"
     ]
    }
   ],
   "source": [
    "n = 200\n",
    "\n",
    "n_rev = reverse_bit(n)\n",
    "print(n_rev)"
   ]
  },
  {
   "cell_type": "code",
   "execution_count": 2,
   "metadata": {},
   "outputs": [
    {
     "name": "stdout",
     "output_type": "stream",
     "text": [
      "[1, 2, 1, 4, 1]\n"
     ]
    }
   ],
   "source": [
    "# lst1 = [1,2,4]\n",
    "# lst2 = [1,3,4]\n",
    "\n",
    "# min_len = min(len(lst1), len(lst2))\n",
    "\n",
    "# counter = 0\n",
    "# for val2 in lst2:\n",
    "#     while counter < len(lst1):\n",
    "#         if val2 < lst1[counter]:\n",
    "#             lst1.insert(counter+1, val2)\n",
    "#         counter += 1\n",
    "\n",
    "# print(lst1)\n",
    "    "
   ]
  },
  {
   "cell_type": "code",
   "execution_count": 9,
   "metadata": {},
   "outputs": [],
   "source": [
    "# linked list base code\n",
    "class Node:\n",
    "    def __init__(self, value=None):\n",
    "        self.value = value\n",
    "        self.next = None\n",
    "\n",
    "\n",
    "class SingleLinkedList:\n",
    "    def __init__(self):\n",
    "        self.head = None\n",
    "    \n",
    "    def traverse_list(self):\n",
    "        if self.head is None:\n",
    "            print('List is empty.')\n",
    "        else:\n",
    "            print_node = self.head\n",
    "            while print_node.next is not None:\n",
    "                print(print_node.value, end='->')\n",
    "                print_node = print_node.next\n",
    "            \n",
    "            print(print_node.value)\n",
    "\n"
   ]
  },
  {
   "cell_type": "code",
   "execution_count": 23,
   "metadata": {},
   "outputs": [
    {
     "name": "stdout",
     "output_type": "stream",
     "text": [
      "1->2->4\n",
      "1->3->4\n"
     ]
    }
   ],
   "source": [
    "# linked list implementation\n",
    "\n",
    "list1 = SingleLinkedList()\n",
    "node1 = Node(1)\n",
    "node2 = Node(2)\n",
    "node3 = Node(4)\n",
    "list1.head = node1\n",
    "list1.head.next = node2\n",
    "node2.next = node3\n",
    "\n",
    "\n",
    "list2 = SingleLinkedList()\n",
    "node4 = Node(1)\n",
    "node5 = Node(3)\n",
    "node6 = Node(4)\n",
    "list2.head = node4\n",
    "list2.head.next = node5\n",
    "node5.next = node6\n",
    "\n",
    "list1.traverse_list()\n",
    "list2.traverse_list()"
   ]
  },
  {
   "cell_type": "code",
   "execution_count": 24,
   "metadata": {},
   "outputs": [
    {
     "name": "stdout",
     "output_type": "stream",
     "text": [
      "1->1->2->3->4->4\n"
     ]
    }
   ],
   "source": [
    "# merging list problem\n",
    "\n",
    "current_node1 = list1.head\n",
    "current_node2 = list2.head\n",
    "\n",
    "merged_list = SingleLinkedList()\n",
    "\n",
    "# assigning head to merged list\n",
    "if current_node1.value < current_node2.value:\n",
    "    merged_list.head = current_node1\n",
    "    merged_list.next = None\n",
    "    current_node1 = current_node1.next\n",
    "    current_merged = merged_list.head\n",
    "else:\n",
    "    merged_list.head = current_node2\n",
    "    merged_list.next = None\n",
    "    current_node2 = current_node2.next\n",
    "    current_merged = merged_list.head\n",
    "\n",
    "while current_node1 and current_node2:\n",
    "    if current_node1.value < current_node2.value:\n",
    "        current_merged.next = current_node1\n",
    "        current_node1 = current_node1.next\n",
    "        current_merged = current_merged.next\n",
    "        current_merged.next = None\n",
    "    else:\n",
    "        current_merged.next = current_node2\n",
    "        current_node2 = current_node2.next\n",
    "        current_merged = current_merged.next\n",
    "        current_merged.next = None\n",
    "\n",
    "while current_node1:\n",
    "    current_merged.next = current_node1\n",
    "    current_node1 = current_node1.next\n",
    "    current_merged = current_merged.next\n",
    "    current_merged.next = None\n",
    "\n",
    "while current_node2:\n",
    "    current_merged.next = current_node2\n",
    "    current_node2 = current_node2.next\n",
    "    current_merged = current_merged.next\n",
    "    current_merged.next = None\n",
    "\n",
    "\n",
    "merged_list.traverse_list()"
   ]
  },
  {
   "cell_type": "code",
   "execution_count": null,
   "metadata": {},
   "outputs": [],
   "source": [
    "def merge_two_lists(list1, list2):\n",
    "    current_node1 = list1\n",
    "    current_node2 = list2\n",
    "\n",
    "    merged_list = ListNode()\n",
    "\n",
    "    # assigning head to merged list\n",
    "    if current_node1.val < current_node2.val:\n",
    "        merged_list = ListNode(val=current_node1.val)    \n",
    "        current_node1 = current_node1.next\n",
    "        current_merged = merged_list\n",
    "    else:\n",
    "        merged_list = ListNode(val=current_node2.val) \n",
    "        current_node2 = current_node2.next\n",
    "        current_merged = merged_list\n",
    "\n",
    "    while current_node1 and current_node2:\n",
    "        if current_node1.val < current_node2.val:\n",
    "            current_merged.next = current_node1\n",
    "            current_node1 = current_node1.next\n",
    "            current_merged = current_merged.next\n",
    "            current_merged.next = None\n",
    "        else:\n",
    "            current_merged.next = current_node2\n",
    "            current_node2 = current_node2.next\n",
    "            current_merged = current_merged.next\n",
    "            current_merged.next = None\n",
    "\n",
    "    while current_node1:\n",
    "        current_merged.next = current_node1\n",
    "        current_node1 = current_node1.next\n",
    "        current_merged = current_merged.next\n",
    "        current_merged.next = None\n",
    "\n",
    "    while current_node2:\n",
    "        current_merged.next = current_node2\n",
    "        current_node2 = current_node2.next\n",
    "        current_merged = current_merged.next\n",
    "        current_merged.next = None\n",
    "\n",
    "\n",
    "    return merged_list"
   ]
  },
  {
   "cell_type": "code",
   "execution_count": null,
   "metadata": {},
   "outputs": [],
   "source": [
    "# Definition for singly-linked list.\n",
    "# class ListNode:\n",
    "#     def __init__(self, val=0, next=None):\n",
    "#         self.val = val\n",
    "#         self.next = next\n",
    "class Solution:\n",
    "    def mergeTwoLists(self, list1: Optional[ListNode], list2: Optional[ListNode]) -> Optional[ListNode]:\n",
    "        if list1 and list2:        \n",
    "            current_node1 = list1\n",
    "            current_node2 = list2\n",
    "\n",
    "            merged_list = ListNode()\n",
    "\n",
    "            # assigning head to merged list\n",
    "            if current_node1.val < current_node2.val:\n",
    "                merged_list = ListNode(val=current_node1.val)    \n",
    "                current_node1 = current_node1.next\n",
    "                current_merged = merged_list\n",
    "            else:\n",
    "                merged_list = ListNode(val=current_node2.val) \n",
    "                current_node2 = current_node2.next\n",
    "                current_merged = merged_list\n",
    "\n",
    "            while current_node1 and current_node2:\n",
    "                if current_node1.val < current_node2.val:\n",
    "                    current_merged.next = current_node1\n",
    "                    current_node1 = current_node1.next\n",
    "                    current_merged = current_merged.next\n",
    "                    current_merged.next = None\n",
    "                else:\n",
    "                    current_merged.next = current_node2\n",
    "                    current_node2 = current_node2.next\n",
    "                    current_merged = current_merged.next\n",
    "                    current_merged.next = None\n",
    "\n",
    "            while current_node1:\n",
    "                current_merged.next = current_node1\n",
    "                current_node1 = current_node1.next\n",
    "                current_merged = current_merged.next\n",
    "                current_merged.next = None\n",
    "\n",
    "            while current_node2:\n",
    "                current_merged.next = current_node2\n",
    "                current_node2 = current_node2.next\n",
    "                current_merged = current_merged.next\n",
    "                current_merged.next = None\n",
    "        elif list1:\n",
    "            merged_list = list1\n",
    "        else:\n",
    "            merged_list = list2\n",
    "\n",
    "\n",
    "        return merged_list\n"
   ]
  },
  {
   "cell_type": "code",
   "execution_count": 61,
   "metadata": {},
   "outputs": [],
   "source": [
    "# linked list base code\n",
    "class Node:\n",
    "    def __init__(self, value=None):\n",
    "        self.val = value\n",
    "        self.next = None\n",
    "\n",
    "\n",
    "class SingleLinkedList:\n",
    "    def __init__(self):\n",
    "        self.head = None\n",
    "    \n",
    "    def traverse_list(self):\n",
    "        if self.head is None:\n",
    "            print('List is empty.')\n",
    "        else:\n",
    "            print_node = self.head\n",
    "            while print_node.next is not None:\n",
    "                print(print_node.val, end='->')\n",
    "                print_node = print_node.next\n",
    "            \n",
    "            print(print_node.val)"
   ]
  },
  {
   "cell_type": "code",
   "execution_count": 65,
   "metadata": {},
   "outputs": [
    {
     "name": "stdout",
     "output_type": "stream",
     "text": [
      "1->2->2->1\n",
      "1->2->3->2->1\n"
     ]
    }
   ],
   "source": [
    "# palindrome problem\n",
    "# even example\n",
    "lst_even = SingleLinkedList()\n",
    "node1 = Node(1)\n",
    "node2 = Node(2)\n",
    "node4 = Node(2)\n",
    "node5 = Node(1)\n",
    "lst_even.head = node1\n",
    "lst_even.head.next = node2\n",
    "node2.next = node4\n",
    "node4.next = node5\n",
    "\n",
    "lst_even.traverse_list()\n",
    "\n",
    "# odd example\n",
    "lst_odd = SingleLinkedList()\n",
    "node1 = Node(1)\n",
    "node2 = Node(2)\n",
    "node3 = Node(3)\n",
    "node4 = Node(2)\n",
    "node5 = Node(1)\n",
    "lst_odd.head = node1\n",
    "lst_odd.head.next = node2\n",
    "node2.next = node3\n",
    "node3.next = node4\n",
    "node4.next = node5\n",
    "\n",
    "lst_odd.traverse_list()"
   ]
  },
  {
   "cell_type": "code",
   "execution_count": 67,
   "metadata": {},
   "outputs": [],
   "source": [
    "def reverse_list(head):\n",
    "    current_node = head\n",
    "    previous_node = None\n",
    "    next_node = None\n",
    "    while current_node:\n",
    "        next_node = current_node.next\n",
    "        current_node.next = previous_node\n",
    "        previous_node = current_node\n",
    "        current_node = next_node\n",
    "    \n",
    "    head = previous_node\n",
    "\n",
    "    return head\n",
    "\n",
    "# def is_palindrome(head):\n",
    "#     # create a copy of the list\n",
    "#     current_node = head\n",
    "#     new_list = SingleLinkedList()\n",
    "#     new_list.head = Node()\n",
    "#     new_list.head.val = current_node.val\n",
    "\n",
    "#     new_current_node = new_list.head\n",
    "\n",
    "\n",
    "#     while current_node.next:\n",
    "#         new_current_node.val = current_node.val\n",
    "#         new_current_node.next = Node()\n",
    "#         new_current_node = new_current_node.next\n",
    "#         current_node = current_node.next\n",
    "\n",
    "#     new_list.traverse_list()\n",
    "\n",
    "def is_palindrome(head):\n",
    "    # traverse and collect l_list data into a list\n",
    "    lst = []\n",
    "    while head:\n",
    "        lst.append(head.val)\n",
    "        head = head.next\n",
    "\n",
    "    # is_palndrm = False\n",
    "    # # compare the first and last elements \n",
    "    # while len(lst)>=1 and lst[0] == lst[-1]:\n",
    "    #     is_palndrm = True\n",
    "    #     # drop first and last elements, if equal\n",
    "    #     lst = lst[1:-1]\n",
    "        \n",
    "    # if len(lst) > 1:\n",
    "    #     is_palndrm = False\n",
    "        \n",
    "    # return is_palndrm\n",
    "\n",
    "    if len(lst) % 2 == 0:\n",
    "        mid = len(lst)//2\n",
    "        print(\"Even: \", lst[:mid], lst[mid:][::-1])\n",
    "        if lst[:mid] == lst[mid:][::-1]:\n",
    "            return True\n",
    "        else:\n",
    "            return False\n",
    "    else:\n",
    "        mid = len(lst)//2\n",
    "        print(\"Odd: \", lst[:mid], lst[mid+1:][::-1])\n",
    "        if lst[:mid] == lst[mid+1:][::-1]:\n",
    "            return True\n",
    "        else:\n",
    "            return False\n",
    "\n",
    "\n",
    "\n"
   ]
  },
  {
   "cell_type": "code",
   "execution_count": 70,
   "metadata": {},
   "outputs": [
    {
     "name": "stdout",
     "output_type": "stream",
     "text": [
      "Odd:  [1, 2] [1, 2]\n"
     ]
    },
    {
     "data": {
      "text/plain": [
       "True"
      ]
     },
     "execution_count": 70,
     "metadata": {},
     "output_type": "execute_result"
    }
   ],
   "source": [
    "# is_palindrome(lst_even.head)\n",
    "is_palindrome(lst_odd.head)"
   ]
  },
  {
   "cell_type": "code",
   "execution_count": 58,
   "metadata": {},
   "outputs": [
    {
     "name": "stdout",
     "output_type": "stream",
     "text": [
      "False\n"
     ]
    }
   ],
   "source": [
    "# lst = [1,2,3,2,1]\n",
    "\n",
    "# mid = len(lst)//2\n",
    "\n",
    "# print(lst[:mid] == lst[mid:][::-1])"
   ]
  },
  {
   "cell_type": "code",
   "execution_count": 1,
   "metadata": {},
   "outputs": [],
   "source": [
    "# lst[::-1]"
   ]
  },
  {
   "cell_type": "code",
   "execution_count": null,
   "metadata": {},
   "outputs": [],
   "source": []
  }
 ],
 "metadata": {
  "interpreter": {
   "hash": "916e78022459d02449eb0e919933c0dffe7558a101efc3cf53aea168c8e1e9f5"
  },
  "kernelspec": {
   "display_name": "Python 3.8.3 64-bit ('base': conda)",
   "name": "python3"
  },
  "language_info": {
   "codemirror_mode": {
    "name": "ipython",
    "version": 3
   },
   "file_extension": ".py",
   "mimetype": "text/x-python",
   "name": "python",
   "nbconvert_exporter": "python",
   "pygments_lexer": "ipython3",
   "version": "3.9.7"
  },
  "orig_nbformat": 4
 },
 "nbformat": 4,
 "nbformat_minor": 2
}
