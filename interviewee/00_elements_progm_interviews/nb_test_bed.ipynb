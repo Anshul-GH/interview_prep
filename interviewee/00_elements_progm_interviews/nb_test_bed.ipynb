{
 "cells": [
  {
   "cell_type": "code",
   "execution_count": 9,
   "metadata": {},
   "outputs": [],
   "source": [
    "# primitive types\n",
    "def count_bits(num):\n",
    "    counter = 0\n",
    "    while num:\n",
    "        counter += num & 1\n",
    "        print(\"num & 1: \", num & 1, end = \"|\")\n",
    "        num = num >> 1\n",
    "        print(\"new num: \", num)\n",
    "    return counter"
   ]
  },
  {
   "cell_type": "code",
   "execution_count": 36,
   "metadata": {},
   "outputs": [
    {
     "name": "stdout",
     "output_type": "stream",
     "text": [
      "num & 1:  1|new num:  2\n",
      "num & 1:  0|new num:  1\n",
      "num & 1:  1|new num:  0\n",
      "2\n"
     ]
    }
   ],
   "source": [
    "n = 5\n",
    "print(count_bits(n))"
   ]
  },
  {
   "cell_type": "code",
   "execution_count": 9,
   "metadata": {},
   "outputs": [],
   "source": [
    "def binary_equivalent(num):\n",
    "    bin_num = []\n",
    "    converted_num = [num]\n",
    "    while num:\n",
    "        # print(num & 1)\n",
    "        bin_num.append(str(num & 1))\n",
    "        num = num >> 1\n",
    "        converted_num.append(num)\n",
    "        bin_num = bin_num[::-1]\n",
    "\n",
    "    return bin_num, converted_num"
   ]
  },
  {
   "cell_type": "code",
   "execution_count": 10,
   "metadata": {},
   "outputs": [
    {
     "name": "stdout",
     "output_type": "stream",
     "text": [
      "(['1'], [1, 0]) 1\n",
      "(['1', '0'], [2, 1, 0]) 2\n",
      "(['1', '1'], [3, 1, 0]) 3\n",
      "(['1', '0', '0'], [4, 2, 1, 0]) 4\n",
      "(['1', '1', '0'], [5, 2, 1, 0]) 5\n",
      "(['1', '0', '1'], [6, 3, 1, 0]) 6\n",
      "(['1', '1', '1'], [7, 3, 1, 0]) 7\n",
      "(['1', '0', '0', '0'], [8, 4, 2, 1, 0]) 8\n"
     ]
    }
   ],
   "source": [
    "n = 1\n",
    "print(binary_equivalent(n), n)\n",
    "n = 2\n",
    "print(binary_equivalent(n), n)\n",
    "n = 3\n",
    "print(binary_equivalent(n), n)\n",
    "n = 4\n",
    "print(binary_equivalent(n), n)\n",
    "n = 5\n",
    "print(binary_equivalent(n), n)\n",
    "n = 6\n",
    "print(binary_equivalent(n), n)\n",
    "n = 7\n",
    "print(binary_equivalent(n), n)\n",
    "n = 8\n",
    "print(binary_equivalent(n), n)\n"
   ]
  },
  {
   "cell_type": "code",
   "execution_count": null,
   "metadata": {},
   "outputs": [],
   "source": []
  },
  {
   "cell_type": "code",
   "execution_count": null,
   "metadata": {},
   "outputs": [],
   "source": []
  },
  {
   "cell_type": "code",
   "execution_count": null,
   "metadata": {},
   "outputs": [],
   "source": []
  }
 ],
 "metadata": {
  "interpreter": {
   "hash": "fc384f7e1c802d762e8ae2d35493986cf4d8dfda21fbfcf3845d3480326ba56e"
  },
  "kernelspec": {
   "display_name": "Python 3.8.8 ('base')",
   "language": "python",
   "name": "python3"
  },
  "language_info": {
   "codemirror_mode": {
    "name": "ipython",
    "version": 3
   },
   "file_extension": ".py",
   "mimetype": "text/x-python",
   "name": "python",
   "nbconvert_exporter": "python",
   "pygments_lexer": "ipython3",
   "version": "3.8.8"
  },
  "orig_nbformat": 4
 },
 "nbformat": 4,
 "nbformat_minor": 2
}
