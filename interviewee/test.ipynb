{
 "cells": [
  {
   "cell_type": "code",
   "execution_count": null,
   "metadata": {},
   "outputs": [],
   "source": [
    "# test"
   ]
  },
  {
   "cell_type": "code",
   "execution_count": 29,
   "metadata": {},
   "outputs": [],
   "source": [
    "# nums = [0,0,1,1,1,2,2,3,3,4]\n",
    "nums = [1,1,2]\n",
    "# nums = [0,0,1,1,1,2,2,3,3,4,4,4]"
   ]
  },
  {
   "cell_type": "code",
   "execution_count": 30,
   "metadata": {},
   "outputs": [],
   "source": [
    "trimmed_list = [val for idx, val in enumerate(nums) if (((idx < len(nums)-1) and (val < nums[idx+1])) or (idx == len(nums)-1))]\n"
   ]
  },
  {
   "cell_type": "code",
   "execution_count": 31,
   "metadata": {},
   "outputs": [
    {
     "data": {
      "text/plain": [
       "[1, 2]"
      ]
     },
     "execution_count": 31,
     "metadata": {},
     "output_type": "execute_result"
    }
   ],
   "source": [
    "trimmed_list"
   ]
  },
  {
   "cell_type": "code",
   "execution_count": 37,
   "metadata": {},
   "outputs": [],
   "source": [
    "def removeDuplicates(nums):\n",
    "    nums = [val for idx, val in enumerate(nums) if (((idx < len(nums)-1) and (val < nums[idx+1])) or (idx == len(nums)-1))]\n",
    "    print(nums)\n",
    "    return len(nums)"
   ]
  },
  {
   "cell_type": "code",
   "execution_count": 38,
   "metadata": {},
   "outputs": [
    {
     "name": "stdout",
     "output_type": "stream",
     "text": [
      "[1, 2]\n"
     ]
    }
   ],
   "source": [
    "k = removeDuplicates(nums)"
   ]
  },
  {
   "cell_type": "code",
   "execution_count": 36,
   "metadata": {},
   "outputs": [
    {
     "data": {
      "text/plain": [
       "[1, 1, 2]"
      ]
     },
     "execution_count": 36,
     "metadata": {},
     "output_type": "execute_result"
    }
   ],
   "source": [
    "nums"
   ]
  },
  {
   "cell_type": "code",
   "execution_count": 8,
   "metadata": {},
   "outputs": [],
   "source": [
    "def climbing_stairs(n, memo={}):\n",
    "    if n in self.memo.keys():\n",
    "        return self.memo[n]\n",
    "    elif n <= 1:\n",
    "        return 1\n",
    "    else:\n",
    "        self.memo[n] = climbing_stairs(n-2, memo) + climbing_stairs(n-1, memo)\n",
    "        return self.memo[n]\n"
   ]
  },
  {
   "cell_type": "code",
   "execution_count": 9,
   "metadata": {},
   "outputs": [
    {
     "name": "stdout",
     "output_type": "stream",
     "text": [
      "1836311903\n"
     ]
    }
   ],
   "source": [
    "# n = 3\n",
    "# n = 2\n",
    "n = 45\n",
    "print(climbing_stairs(n))"
   ]
  },
  {
   "cell_type": "code",
   "execution_count": 2,
   "metadata": {},
   "outputs": [],
   "source": [
    "prices = [7,6,4,3,1]\n",
    "\n",
    "def max_profit(prices):\n",
    "    profit = 0\n",
    "    for i in range(1, len(prices)):\n",
    "        if prices[i] > prices[i-1]:\n",
    "            profit += prices[i] - prices[i-1]\n",
    "\n",
    "    return profit"
   ]
  },
  {
   "cell_type": "code",
   "execution_count": 3,
   "metadata": {},
   "outputs": [
    {
     "name": "stdout",
     "output_type": "stream",
     "text": [
      "0\n"
     ]
    }
   ],
   "source": [
    "print(max_profit(prices))"
   ]
  },
  {
   "cell_type": "code",
   "execution_count": 4,
   "metadata": {},
   "outputs": [],
   "source": [
    "from random import randint\n",
    "\n",
    "prices = [randint(0, 10000) for i in range(1, 100000)]"
   ]
  },
  {
   "cell_type": "code",
   "execution_count": 7,
   "metadata": {},
   "outputs": [
    {
     "name": "stdout",
     "output_type": "stream",
     "text": [
      "7\n"
     ]
    }
   ],
   "source": [
    "prices = [7,1,5,3,6,4]\n",
    "# print(max_profit(prices))\n",
    "\n",
    "# def maxProfit(prices):\n"
   ]
  },
  {
   "cell_type": "code",
   "execution_count": 15,
   "metadata": {},
   "outputs": [
    {
     "name": "stdout",
     "output_type": "stream",
     "text": [
      "10000\n"
     ]
    }
   ],
   "source": [
    "# prices = [7,1,5,3,6,4]\n",
    "prices = [randint(0, 10000) for i in range(1, 100000)] #56.1s\n",
    "# price_dict = dict(zip(range(1, len(prices)+1), prices))\n",
    "price_max = max(prices)\n",
    "# price_min = min(prices)\n",
    "\n",
    "# idx = prices.index(price_min)\n",
    "# if idx < len(prices)-1:\n",
    "#     rem_prices = [idx:]\n",
    "\n",
    "profit = 0\n",
    "\n",
    "for idx, val in enumerate(prices):\n",
    "    if val != price_max:\n",
    "        local_max = max(prices[idx:])\n",
    "        local_profit = (local_max - val)\n",
    "        if local_profit > profit:\n",
    "            profit = local_profit\n",
    "\n",
    "print(profit)"
   ]
  },
  {
   "cell_type": "code",
   "execution_count": 13,
   "metadata": {},
   "outputs": [
    {
     "data": {
      "text/plain": [
       "5"
      ]
     },
     "execution_count": 13,
     "metadata": {},
     "output_type": "execute_result"
    }
   ],
   "source": [
    "profit"
   ]
  },
  {
   "cell_type": "code",
   "execution_count": 3,
   "metadata": {},
   "outputs": [
    {
     "name": "stdout",
     "output_type": "stream",
     "text": [
      "1 3 2\n",
      "1 5 4\n",
      "4\n"
     ]
    }
   ],
   "source": [
    "prices = [7,1,5,3,6,4]\n",
    "\n",
    "max = 0\n",
    "\n",
    "for i in range(len(prices)):\n",
    "    start = prices[i]\n",
    "    for j in range(i+1, len(prices)-1):\n",
    "        end = prices[len(prices)-1 -j]\n",
    "        if max < end - start:\n",
    "            max = end - start\n",
    "            print(start, end, max)\n",
    "\n",
    "print(max)\n",
    "\n",
    "\n"
   ]
  },
  {
   "cell_type": "code",
   "execution_count": 2,
   "metadata": {},
   "outputs": [],
   "source": [
    "import random\n",
    "import string"
   ]
  },
  {
   "cell_type": "code",
   "execution_count": 4,
   "metadata": {},
   "outputs": [
    {
     "name": "stdout",
     "output_type": "stream",
     "text": [
      "w\n",
      "X\n",
      "T\n",
      "t\n",
      "U\n",
      "N\n",
      "W\n",
      "w\n",
      "l\n",
      "c\n"
     ]
    }
   ],
   "source": [
    "for _ in range(10):\n",
    "    print(random.choice(string.ascii_letters))"
   ]
  },
  {
   "cell_type": "code",
   "execution_count": 1,
   "metadata": {},
   "outputs": [],
   "source": [
    "phone_mapping = {\n",
    "    '2':  ['a', 'b', 'c'],\n",
    "    '3':  ['d', 'e', 'f'],\n",
    "    '4':  ['g', 'h', 'i'],\n",
    "    '5':  ['j', 'k', 'l'],\n",
    "    '6':  ['m', 'n', 'o'],\n",
    "    '7':  ['p', 'q', 'r', 's'],\n",
    "    '8':  ['t', 'u', 'v'],\n",
    "    '9':  ['w', 'x', 'y', 'z'],\n",
    "}"
   ]
  },
  {
   "cell_type": "code",
   "execution_count": 2,
   "metadata": {},
   "outputs": [
    {
     "name": "stdout",
     "output_type": "stream",
     "text": [
      "[['a', 'b', 'c'], ['d', 'e', 'f']]\n"
     ]
    }
   ],
   "source": [
    "digits=\"23\"\n",
    "arrays = []\n",
    "\n",
    "for num in digits:\n",
    "    arrays.append(phone_mapping[num])\n",
    "\n",
    "print(arrays)\n"
   ]
  },
  {
   "cell_type": "code",
   "execution_count": 5,
   "metadata": {},
   "outputs": [],
   "source": [
    "# [x*y for x, y in zip(arrays)]\n",
    "list(map(''.join, zip(*arrays)))"
   ]
  },
  {
   "cell_type": "code",
   "execution_count": 6,
   "metadata": {},
   "outputs": [
    {
     "data": {
      "text/plain": [
       "[['a', 'b', 'c'], ['d', 'e', 'f']]"
      ]
     },
     "execution_count": 6,
     "metadata": {},
     "output_type": "execute_result"
    }
   ],
   "source": [
    "arrays"
   ]
  },
  {
   "cell_type": "code",
   "execution_count": 8,
   "metadata": {},
   "outputs": [
    {
     "name": "stdout",
     "output_type": "stream",
     "text": [
      "['ad', 'ae', 'af', 'bd', 'be', 'bf', 'cd', 'ce', 'cf']\n"
     ]
    }
   ],
   "source": [
    "import itertools\n",
    "\n",
    "merged = list(itertools.product(*arrays))\n",
    "\n",
    "merged = [''.join(tup) for tup in merged]\n",
    "\n",
    "print(merged)"
   ]
  },
  {
   "cell_type": "code",
   "execution_count": 11,
   "metadata": {},
   "outputs": [
    {
     "name": "stdout",
     "output_type": "stream",
     "text": [
      "True\n"
     ]
    }
   ],
   "source": [
    "arrays = []\n",
    "\n",
    "if not arrays:\n",
    "    print(True)\n",
    "else:\n",
    "    print(False)"
   ]
  },
  {
   "cell_type": "code",
   "execution_count": 20,
   "metadata": {},
   "outputs": [],
   "source": [
    "digits=\"\"\n",
    "\n",
    "phone_mapping = {\n",
    "    '2':  ['a', 'b', 'c'],\n",
    "    '3':  ['d', 'e', 'f'],\n",
    "    '4':  ['g', 'h', 'i'],\n",
    "    '5':  ['j', 'k', 'l'],\n",
    "    '6':  ['m', 'n', 'o'],\n",
    "    '7':  ['p', 'q', 'r', 's'],\n",
    "    '8':  ['t', 'u', 'v'],\n",
    "    '9':  ['w', 'x', 'y', 'z'],\n",
    "}\n",
    "\n",
    "arrays = []\n",
    "\n",
    "for num in digits:\n",
    "    if num in phone_mapping.keys():\n",
    "        arrays.append(phone_mapping[num])\n",
    "\n",
    "if arrays:\n",
    "    merged = list(itertools.product(*arrays))\n",
    "else:\n",
    "    merged = []\n",
    "\n",
    "merged = [''.join(tup) for tup in merged]\n"
   ]
  },
  {
   "cell_type": "code",
   "execution_count": 21,
   "metadata": {},
   "outputs": [
    {
     "data": {
      "text/plain": [
       "[]"
      ]
     },
     "execution_count": 21,
     "metadata": {},
     "output_type": "execute_result"
    }
   ],
   "source": [
    "merged"
   ]
  },
  {
   "cell_type": "code",
   "execution_count": 7,
   "metadata": {},
   "outputs": [
    {
     "name": "stdout",
     "output_type": "stream",
     "text": [
      "5 [0, 1, '_', '_', 3, 0, 4, '_']\n"
     ]
    }
   ],
   "source": [
    "nums = [0,1,2,2,3,0,4,2]\n",
    "val = 2\n",
    "\n",
    "counter = 0\n",
    "for idx, num in enumerate(nums):\n",
    "    if num == val:\n",
    "        nums[idx] = \"_\"\n",
    "        counter += 1\n",
    "\n",
    "length = len(nums) - counter\n",
    "print(length, nums)\n"
   ]
  },
  {
   "cell_type": "code",
   "execution_count": 4,
   "metadata": {},
   "outputs": [
    {
     "name": "stdout",
     "output_type": "stream",
     "text": [
      "True\n"
     ]
    }
   ],
   "source": [
    "input = \"2\"\n",
    "\n",
    "if input.strip().isnumeric():\n",
    "    print(True)\n",
    "else:\n",
    "    print(False)"
   ]
  },
  {
   "cell_type": "code",
   "execution_count": null,
   "metadata": {},
   "outputs": [],
   "source": []
  }
 ],
 "metadata": {
  "kernelspec": {
   "display_name": "Python 3.9.6 64-bit",
   "language": "python",
   "name": "python3"
  },
  "language_info": {
   "codemirror_mode": {
    "name": "ipython",
    "version": 3
   },
   "file_extension": ".py",
   "mimetype": "text/x-python",
   "name": "python",
   "nbconvert_exporter": "python",
   "pygments_lexer": "ipython3",
   "version": "3.9.6"
  },
  "orig_nbformat": 4,
  "vscode": {
   "interpreter": {
    "hash": "31f2aee4e71d21fbe5cf8b01ff0e069b9275f58929596ceb00d14d90e3e16cd6"
   }
  }
 },
 "nbformat": 4,
 "nbformat_minor": 2
}
