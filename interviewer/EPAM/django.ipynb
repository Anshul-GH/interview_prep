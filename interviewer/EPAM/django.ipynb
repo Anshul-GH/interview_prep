{
 "cells": [
  {
   "cell_type": "code",
   "execution_count": null,
   "metadata": {},
   "outputs": [],
   "source": [
    "# 1. Django architecture\n",
    "# Django follows a Model-Template-View (MTV) architecture. It contains three different parts:\n",
    "\n",
    "#     Model: Logical data structure behind the entire app and signified by a database.\n",
    "#     Template: Deals with the presentation of data.\n",
    "#     View: It's a user interface. What you see when you visit a website is called a user interface. Represented by HTML/CSS/Javascript files.\n",
    "\n",
    "\n"
   ]
  }
 ],
 "metadata": {
  "language_info": {
   "name": "python"
  },
  "orig_nbformat": 4
 },
 "nbformat": 4,
 "nbformat_minor": 2
}
