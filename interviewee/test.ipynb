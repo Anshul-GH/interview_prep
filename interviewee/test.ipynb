{
 "cells": [
  {
   "cell_type": "code",
   "execution_count": null,
   "metadata": {},
   "outputs": [],
   "source": [
    "# test"
   ]
  },
  {
   "cell_type": "code",
   "execution_count": 29,
   "metadata": {},
   "outputs": [],
   "source": [
    "# nums = [0,0,1,1,1,2,2,3,3,4]\n",
    "nums = [1,1,2]\n",
    "# nums = [0,0,1,1,1,2,2,3,3,4,4,4]"
   ]
  },
  {
   "cell_type": "code",
   "execution_count": 30,
   "metadata": {},
   "outputs": [],
   "source": [
    "trimmed_list = [val for idx, val in enumerate(nums) if (((idx < len(nums)-1) and (val < nums[idx+1])) or (idx == len(nums)-1))]\n"
   ]
  },
  {
   "cell_type": "code",
   "execution_count": 31,
   "metadata": {},
   "outputs": [
    {
     "data": {
      "text/plain": [
       "[1, 2]"
      ]
     },
     "execution_count": 31,
     "metadata": {},
     "output_type": "execute_result"
    }
   ],
   "source": [
    "trimmed_list"
   ]
  },
  {
   "cell_type": "code",
   "execution_count": 37,
   "metadata": {},
   "outputs": [],
   "source": [
    "def removeDuplicates(nums):\n",
    "    nums = [val for idx, val in enumerate(nums) if (((idx < len(nums)-1) and (val < nums[idx+1])) or (idx == len(nums)-1))]\n",
    "    print(nums)\n",
    "    return len(nums)"
   ]
  },
  {
   "cell_type": "code",
   "execution_count": 38,
   "metadata": {},
   "outputs": [
    {
     "name": "stdout",
     "output_type": "stream",
     "text": [
      "[1, 2]\n"
     ]
    }
   ],
   "source": [
    "k = removeDuplicates(nums)"
   ]
  },
  {
   "cell_type": "code",
   "execution_count": 36,
   "metadata": {},
   "outputs": [
    {
     "data": {
      "text/plain": [
       "[1, 1, 2]"
      ]
     },
     "execution_count": 36,
     "metadata": {},
     "output_type": "execute_result"
    }
   ],
   "source": [
    "nums"
   ]
  },
  {
   "cell_type": "code",
   "execution_count": 8,
   "metadata": {},
   "outputs": [],
   "source": [
    "def climbing_stairs(n, memo={}):\n",
    "    if n in self.memo.keys():\n",
    "        return self.memo[n]\n",
    "    elif n <= 1:\n",
    "        return 1\n",
    "    else:\n",
    "        self.memo[n] = climbing_stairs(n-2, memo) + climbing_stairs(n-1, memo)\n",
    "        return self.memo[n]\n"
   ]
  },
  {
   "cell_type": "code",
   "execution_count": 9,
   "metadata": {},
   "outputs": [
    {
     "name": "stdout",
     "output_type": "stream",
     "text": [
      "1836311903\n"
     ]
    }
   ],
   "source": [
    "# n = 3\n",
    "# n = 2\n",
    "n = 45\n",
    "print(climbing_stairs(n))"
   ]
  },
  {
   "cell_type": "code",
   "execution_count": 2,
   "metadata": {},
   "outputs": [],
   "source": [
    "prices = [7,6,4,3,1]\n",
    "\n",
    "def max_profit(prices):\n",
    "    profit = 0\n",
    "    for i in range(1, len(prices)):\n",
    "        if prices[i] > prices[i-1]:\n",
    "            profit += prices[i] - prices[i-1]\n",
    "\n",
    "    return profit"
   ]
  },
  {
   "cell_type": "code",
   "execution_count": 3,
   "metadata": {},
   "outputs": [
    {
     "name": "stdout",
     "output_type": "stream",
     "text": [
      "0\n"
     ]
    }
   ],
   "source": [
    "print(max_profit(prices))"
   ]
  },
  {
   "cell_type": "code",
   "execution_count": 4,
   "metadata": {},
   "outputs": [],
   "source": [
    "from random import randint\n",
    "\n",
    "prices = [randint(0, 10000) for i in range(1, 100000)]"
   ]
  },
  {
   "cell_type": "code",
   "execution_count": 7,
   "metadata": {},
   "outputs": [
    {
     "name": "stdout",
     "output_type": "stream",
     "text": [
      "7\n"
     ]
    }
   ],
   "source": [
    "prices = [7,1,5,3,6,4]\n",
    "# print(max_profit(prices))\n",
    "\n",
    "# def maxProfit(prices):\n"
   ]
  },
  {
   "cell_type": "code",
   "execution_count": 15,
   "metadata": {},
   "outputs": [
    {
     "name": "stdout",
     "output_type": "stream",
     "text": [
      "10000\n"
     ]
    }
   ],
   "source": [
    "# prices = [7,1,5,3,6,4]\n",
    "prices = [randint(0, 10000) for i in range(1, 100000)] #56.1s\n",
    "# price_dict = dict(zip(range(1, len(prices)+1), prices))\n",
    "price_max = max(prices)\n",
    "# price_min = min(prices)\n",
    "\n",
    "# idx = prices.index(price_min)\n",
    "# if idx < len(prices)-1:\n",
    "#     rem_prices = [idx:]\n",
    "\n",
    "profit = 0\n",
    "\n",
    "for idx, val in enumerate(prices):\n",
    "    if val != price_max:\n",
    "        local_max = max(prices[idx:])\n",
    "        local_profit = (local_max - val)\n",
    "        if local_profit > profit:\n",
    "            profit = local_profit\n",
    "\n",
    "print(profit)"
   ]
  },
  {
   "cell_type": "code",
   "execution_count": 13,
   "metadata": {},
   "outputs": [
    {
     "data": {
      "text/plain": [
       "5"
      ]
     },
     "execution_count": 13,
     "metadata": {},
     "output_type": "execute_result"
    }
   ],
   "source": [
    "profit"
   ]
  },
  {
   "cell_type": "code",
   "execution_count": 3,
   "metadata": {},
   "outputs": [
    {
     "name": "stdout",
     "output_type": "stream",
     "text": [
      "1 3 2\n",
      "1 5 4\n",
      "4\n"
     ]
    }
   ],
   "source": [
    "prices = [7,1,5,3,6,4]\n",
    "\n",
    "max = 0\n",
    "\n",
    "for i in range(len(prices)):\n",
    "    start = prices[i]\n",
    "    for j in range(i+1, len(prices)-1):\n",
    "        end = prices[len(prices)-1 -j]\n",
    "        if max < end - start:\n",
    "            max = end - start\n",
    "            print(start, end, max)\n",
    "\n",
    "print(max)\n",
    "\n",
    "\n"
   ]
  },
  {
   "cell_type": "code",
   "execution_count": 2,
   "metadata": {},
   "outputs": [],
   "source": [
    "import random\n",
    "import string"
   ]
  },
  {
   "cell_type": "code",
   "execution_count": 4,
   "metadata": {},
   "outputs": [
    {
     "name": "stdout",
     "output_type": "stream",
     "text": [
      "w\n",
      "X\n",
      "T\n",
      "t\n",
      "U\n",
      "N\n",
      "W\n",
      "w\n",
      "l\n",
      "c\n"
     ]
    }
   ],
   "source": [
    "for _ in range(10):\n",
    "    print(random.choice(string.ascii_letters))"
   ]
  },
  {
   "cell_type": "code",
   "execution_count": 1,
   "metadata": {},
   "outputs": [],
   "source": [
    "phone_mapping = {\n",
    "    '2':  ['a', 'b', 'c'],\n",
    "    '3':  ['d', 'e', 'f'],\n",
    "    '4':  ['g', 'h', 'i'],\n",
    "    '5':  ['j', 'k', 'l'],\n",
    "    '6':  ['m', 'n', 'o'],\n",
    "    '7':  ['p', 'q', 'r', 's'],\n",
    "    '8':  ['t', 'u', 'v'],\n",
    "    '9':  ['w', 'x', 'y', 'z'],\n",
    "}"
   ]
  },
  {
   "cell_type": "code",
   "execution_count": 2,
   "metadata": {},
   "outputs": [
    {
     "name": "stdout",
     "output_type": "stream",
     "text": [
      "[['a', 'b', 'c'], ['d', 'e', 'f']]\n"
     ]
    }
   ],
   "source": [
    "digits=\"23\"\n",
    "arrays = []\n",
    "\n",
    "for num in digits:\n",
    "    arrays.append(phone_mapping[num])\n",
    "\n",
    "print(arrays)\n"
   ]
  },
  {
   "cell_type": "code",
   "execution_count": 5,
   "metadata": {},
   "outputs": [],
   "source": [
    "# [x*y for x, y in zip(arrays)]\n",
    "list(map(''.join, zip(*arrays)))"
   ]
  },
  {
   "cell_type": "code",
   "execution_count": 6,
   "metadata": {},
   "outputs": [
    {
     "data": {
      "text/plain": [
       "[['a', 'b', 'c'], ['d', 'e', 'f']]"
      ]
     },
     "execution_count": 6,
     "metadata": {},
     "output_type": "execute_result"
    }
   ],
   "source": [
    "arrays"
   ]
  },
  {
   "cell_type": "code",
   "execution_count": 8,
   "metadata": {},
   "outputs": [
    {
     "name": "stdout",
     "output_type": "stream",
     "text": [
      "['ad', 'ae', 'af', 'bd', 'be', 'bf', 'cd', 'ce', 'cf']\n"
     ]
    }
   ],
   "source": [
    "import itertools\n",
    "\n",
    "merged = list(itertools.product(*arrays))\n",
    "\n",
    "merged = [''.join(tup) for tup in merged]\n",
    "\n",
    "print(merged)"
   ]
  },
  {
   "cell_type": "code",
   "execution_count": 11,
   "metadata": {},
   "outputs": [
    {
     "name": "stdout",
     "output_type": "stream",
     "text": [
      "True\n"
     ]
    }
   ],
   "source": [
    "arrays = []\n",
    "\n",
    "if not arrays:\n",
    "    print(True)\n",
    "else:\n",
    "    print(False)"
   ]
  },
  {
   "cell_type": "code",
   "execution_count": 20,
   "metadata": {},
   "outputs": [],
   "source": [
    "digits=\"\"\n",
    "\n",
    "phone_mapping = {\n",
    "    '2':  ['a', 'b', 'c'],\n",
    "    '3':  ['d', 'e', 'f'],\n",
    "    '4':  ['g', 'h', 'i'],\n",
    "    '5':  ['j', 'k', 'l'],\n",
    "    '6':  ['m', 'n', 'o'],\n",
    "    '7':  ['p', 'q', 'r', 's'],\n",
    "    '8':  ['t', 'u', 'v'],\n",
    "    '9':  ['w', 'x', 'y', 'z'],\n",
    "}\n",
    "\n",
    "arrays = []\n",
    "\n",
    "for num in digits:\n",
    "    if num in phone_mapping.keys():\n",
    "        arrays.append(phone_mapping[num])\n",
    "\n",
    "if arrays:\n",
    "    merged = list(itertools.product(*arrays))\n",
    "else:\n",
    "    merged = []\n",
    "\n",
    "merged = [''.join(tup) for tup in merged]\n"
   ]
  },
  {
   "cell_type": "code",
   "execution_count": 21,
   "metadata": {},
   "outputs": [
    {
     "data": {
      "text/plain": [
       "[]"
      ]
     },
     "execution_count": 21,
     "metadata": {},
     "output_type": "execute_result"
    }
   ],
   "source": [
    "merged"
   ]
  },
  {
   "cell_type": "code",
   "execution_count": 7,
   "metadata": {},
   "outputs": [
    {
     "name": "stdout",
     "output_type": "stream",
     "text": [
      "5 [0, 1, '_', '_', 3, 0, 4, '_']\n"
     ]
    }
   ],
   "source": [
    "nums = [0,1,2,2,3,0,4,2]\n",
    "val = 2\n",
    "\n",
    "counter = 0\n",
    "for idx, num in enumerate(nums):\n",
    "    if num == val:\n",
    "        nums[idx] = \"_\"\n",
    "        counter += 1\n",
    "\n",
    "length = len(nums) - counter\n",
    "print(length, nums)\n"
   ]
  },
  {
   "cell_type": "code",
   "execution_count": 4,
   "metadata": {},
   "outputs": [
    {
     "name": "stdout",
     "output_type": "stream",
     "text": [
      "True\n"
     ]
    }
   ],
   "source": [
    "input = \"2\"\n",
    "\n",
    "if input.strip().isnumeric():\n",
    "    print(True)\n",
    "else:\n",
    "    print(False)"
   ]
  },
  {
   "cell_type": "code",
   "execution_count": 2,
   "metadata": {},
   "outputs": [
    {
     "name": "stdout",
     "output_type": "stream",
     "text": [
      "97\n",
      "101\n",
      "105\n",
      "111\n",
      "117\n"
     ]
    }
   ],
   "source": [
    "print(ord('a'))\n",
    "print(ord('e'))\n",
    "print(ord('i'))\n",
    "print(ord('o'))\n",
    "print(ord('u'))"
   ]
  },
  {
   "cell_type": "code",
   "execution_count": 3,
   "metadata": {},
   "outputs": [],
   "source": [
    "word = \"schtschurowskia\"\n",
    "\n",
    "word_lst = [ord(chr) for chr in word]"
   ]
  },
  {
   "cell_type": "code",
   "execution_count": 4,
   "metadata": {},
   "outputs": [
    {
     "data": {
      "text/plain": [
       "[115, 99, 104, 116, 115, 99, 104, 117, 114, 111, 119, 115, 107, 105, 97]"
      ]
     },
     "execution_count": 4,
     "metadata": {},
     "output_type": "execute_result"
    }
   ],
   "source": [
    "word_lst"
   ]
  },
  {
   "cell_type": "code",
   "execution_count": 5,
   "metadata": {},
   "outputs": [],
   "source": [
    "vowel_list = [ord('a'), ord('e'), ord('i'), ord('o'), ord('u')]"
   ]
  },
  {
   "cell_type": "code",
   "execution_count": 6,
   "metadata": {},
   "outputs": [
    {
     "data": {
      "text/plain": [
       "[97, 101, 105, 111, 117]"
      ]
     },
     "execution_count": 6,
     "metadata": {},
     "output_type": "execute_result"
    }
   ],
   "source": [
    "vowel_list"
   ]
  },
  {
   "cell_type": "code",
   "execution_count": null,
   "metadata": {},
   "outputs": [],
   "source": [
    "consonant_counter = 0\n",
    "\n",
    "for num in word_lst:\n",
    "    if num not in vowel_list:\n",
    "        consonant_counter += 0\n",
    "        if consonant_counter >= 4:\n",
    "            return True"
   ]
  },
  {
   "cell_type": "code",
   "execution_count": 8,
   "metadata": {},
   "outputs": [
    {
     "data": {
      "text/plain": [
       "True"
      ]
     },
     "execution_count": 8,
     "metadata": {},
     "output_type": "execute_result"
    }
   ],
   "source": [
    "[1, 2] == [1, 2]"
   ]
  },
  {
   "cell_type": "code",
   "execution_count": 12,
   "metadata": {},
   "outputs": [
    {
     "name": "stdout",
     "output_type": "stream",
     "text": [
      "0 2\n",
      "2 4\n"
     ]
    }
   ],
   "source": [
    "for i in range(0, 5-2, 2):\n",
    "    print(i, i+2)"
   ]
  },
  {
   "cell_type": "code",
   "execution_count": 8,
   "metadata": {},
   "outputs": [
    {
     "name": "stdout",
     "output_type": "stream",
     "text": [
      "[0, 1, 1, 2, 3, 4, '_', '_', '_', '_']\n"
     ]
    }
   ],
   "source": [
    "# Input: nums = [0,0,1,1,1,2,2,3,3,4]\n",
    "# Output: 5, nums = [0,1,2,3,4,_,_,_,_,_]\n",
    "\n",
    "nums = [0,0,1,1,1,2,2,3,3,4]\n",
    "FILLER = \"_\"\n",
    "\n",
    "nums.sort()\n",
    "\n",
    "for idx, val in enumerate(nums):\n",
    "    if idx+1 < len(nums):\n",
    "        if val == nums[idx+1] and val != FILLER:\n",
    "            nums[idx+1] = FILLER\n",
    "\n",
    "nums = sorted(nums, key=lambda x:not isinstance(x, int))\n",
    "print(nums)"
   ]
  },
  {
   "cell_type": "code",
   "execution_count": 13,
   "metadata": {},
   "outputs": [],
   "source": [
    "nums = [0,0,1,1,1,2,2,3,3,4]\n",
    "\n",
    "len_nums = len(nums)\n",
    "\n",
    "distinct_nums = list(set(nums))\n",
    "\n",
    "len_distinct = len(distinct_nums)\n",
    "\n",
    "len_diff = len_nums - len_distinct\n",
    "\n",
    "for _ in range(len_diff):\n",
    "    distinct_nums.append(\"_\")"
   ]
  },
  {
   "cell_type": "code",
   "execution_count": 14,
   "metadata": {},
   "outputs": [
    {
     "data": {
      "text/plain": [
       "[0, 1, 2, 3, 4, '_', '_', '_', '_', '_']"
      ]
     },
     "execution_count": 14,
     "metadata": {},
     "output_type": "execute_result"
    }
   ],
   "source": [
    "distinct_nums"
   ]
  },
  {
   "cell_type": "code",
   "execution_count": 15,
   "metadata": {},
   "outputs": [],
   "source": [
    "nums = [1,2,3,4,5,6,7]\n",
    "k = 10\n",
    "# output = [5,6,7,1,2,3,4]"
   ]
  },
  {
   "cell_type": "code",
   "execution_count": 16,
   "metadata": {},
   "outputs": [
    {
     "name": "stdout",
     "output_type": "stream",
     "text": [
      "3\n"
     ]
    }
   ],
   "source": [
    "actual_k = k % len(nums)\n",
    "nums[-actual_k:]+nums[:-actual_k]"
   ]
  },
  {
   "cell_type": "code",
   "execution_count": 20,
   "metadata": {},
   "outputs": [
    {
     "data": {
      "text/plain": [
       "[1, 2, 3, 4, 4]"
      ]
     },
     "execution_count": 20,
     "metadata": {},
     "output_type": "execute_result"
    }
   ],
   "source": [
    "elements = [1,2,3,4,5,6,7]\n",
    "\n",
    "rotate_by = k % len(elements)\n",
    "elements[:-rotate_by] + elements[rotate_by:-rotate_by]"
   ]
  },
  {
   "cell_type": "code",
   "execution_count": 24,
   "metadata": {},
   "outputs": [
    {
     "name": "stdout",
     "output_type": "stream",
     "text": [
      "0\n"
     ]
    }
   ],
   "source": [
    "# prices = [7,1,5,3,6,4]\n",
    "# prices = [1,2,3,4,5]\n",
    "# prices = [7,6,4,3,1]\n",
    "\n",
    "profit = 0\n",
    "\n",
    "for idx in range(1, len(prices)):\n",
    "    if prices[idx] > prices[idx-1]:\n",
    "        profit += prices[idx] - prices[idx-1]\n",
    "\n",
    "print(profit)"
   ]
  },
  {
   "cell_type": "code",
   "execution_count": 1,
   "metadata": {},
   "outputs": [],
   "source": []
  },
  {
   "cell_type": "code",
   "execution_count": 3,
   "metadata": {},
   "outputs": [],
   "source": []
  },
  {
   "cell_type": "code",
   "execution_count": 4,
   "metadata": {},
   "outputs": [
    {
     "data": {
      "text/plain": [
       "[2, 1, 4, 17]"
      ]
     },
     "execution_count": 4,
     "metadata": {},
     "output_type": "execute_result"
    }
   ],
   "source": [
    "input_split"
   ]
  },
  {
   "cell_type": "code",
   "execution_count": 5,
   "metadata": {},
   "outputs": [],
   "source": [
    "N = input_split[0]\n",
    "M = input_split[1]\n",
    "K = input_split[2]\n",
    "X = input_split[3]"
   ]
  },
  {
   "cell_type": "code",
   "execution_count": 12,
   "metadata": {},
   "outputs": [
    {
     "name": "stdout",
     "output_type": "stream",
     "text": [
      "True\n"
     ]
    }
   ],
   "source": [
    "is_MOB_year = False\n",
    "\n",
    "while X > 0:\n",
    "    counter = 0\n",
    "    while counter < K and X > 0:\n",
    "        X = X - N\n",
    "        counter += 1\n",
    "        is_MOB_year = False        \n",
    "\n",
    "    X = X - N - M\n",
    "    is_MOB_year = True\n",
    "\n",
    "print(is_MOB_year)"
   ]
  },
  {
   "cell_type": "code",
   "execution_count": 4,
   "metadata": {},
   "outputs": [
    {
     "name": "stdout",
     "output_type": "stream",
     "text": [
      "60 True\n"
     ]
    }
   ],
   "source": [
    "# input = \"2 1 4 17\"\n",
    "input = \"3 7 5 50\"\n",
    "input_split = input.split()\n",
    "input_split = [eval(i) for i in input_split]\n",
    "\n",
    "N = input_split[0]\n",
    "M = input_split[1]\n",
    "K = input_split[2]\n",
    "X = input_split[3]\n",
    "\n",
    "day_counter = 0\n",
    "is_MOB_year = False\n",
    "\n",
    "while day_counter < X-1:\n",
    "    for _ in range(K-1):\n",
    "        day_counter += N\n",
    "        if day_counter < X-1:\n",
    "            is_MOB_year = False\n",
    "        else:\n",
    "            is_MOB_year = False\n",
    "            break\n",
    "\n",
    "    day_counter += N+M\n",
    "    if day_counter < X-1:\n",
    "        is_MOB_year = True\n",
    "    \n",
    "\n",
    "print(day_counter, is_MOB_year)"
   ]
  },
  {
   "cell_type": "code",
   "execution_count": 8,
   "metadata": {},
   "outputs": [
    {
     "name": "stdout",
     "output_type": "stream",
     "text": [
      "True\n"
     ]
    }
   ],
   "source": [
    "input = \"2 1 4 17\"\n",
    "# input = \"3 7 5 50\"\n",
    "# input = \"3 7 5 61\"\n",
    "input_split = input.split()\n",
    "input_split = [eval(i) for i in input_split]\n",
    "\n",
    "N = input_split[0]\n",
    "M = input_split[1]\n",
    "K = input_split[2]\n",
    "X = input_split[3]\n",
    "\n",
    "is_mod_year = False\n",
    "\n",
    "day_counter = 0\n",
    "\n",
    "while day_counter < X:\n",
    "    for _ in range(K-1):\n",
    "        if day_counter < X:\n",
    "            day_counter += N\n",
    "        else:\n",
    "            is_mod_year = False\n",
    "            break\n",
    "    \n",
    "    if day_counter < X:\n",
    "        day_counter += (N+M)\n",
    "        is_mod_year = True\n",
    "    \n",
    "\n",
    "print(is_mod_year)"
   ]
  },
  {
   "cell_type": "code",
   "execution_count": 9,
   "metadata": {},
   "outputs": [
    {
     "data": {
      "text/plain": [
       "17"
      ]
     },
     "execution_count": 9,
     "metadata": {},
     "output_type": "execute_result"
    }
   ],
   "source": [
    "61 % 22"
   ]
  },
  {
   "cell_type": "code",
   "execution_count": 22,
   "metadata": {},
   "outputs": [
    {
     "name": "stdout",
     "output_type": "stream",
     "text": [
      "-1\n"
     ]
    }
   ],
   "source": [
    "# AVG problem\n",
    "\n",
    "# NKV = \"3 3 4\"\n",
    "# N = \"2 7 3\"\n",
    "\n",
    "# NKV = \"3 1 4\"\n",
    "# N = \"7 6 5\"\n",
    "\n",
    "NKV = \"3 3 4\"\n",
    "N = \"2 8 3\"\n",
    "\n",
    "count_N, count_K, V = map(int,NKV.split())\n",
    "values_N = list(map(int, N.split()))\n",
    "sum_N = sum(values_N)\n",
    "\n",
    "total_sum = V * (count_N + count_K)\n",
    "\n",
    "sum_K = total_sum - sum_N\n",
    "\n",
    "if sum_K % count_K == 0 and (int(sum_K / count_K)) >= 0:\n",
    "    value_K = int(sum_K / count_K)\n",
    "else:\n",
    "    value_K = -1\n",
    "\n",
    "print(value_K)"
   ]
  },
  {
   "cell_type": "code",
   "execution_count": 15,
   "metadata": {},
   "outputs": [
    {
     "data": {
      "text/plain": [
       "[2, 7, 3]"
      ]
     },
     "execution_count": 15,
     "metadata": {},
     "output_type": "execute_result"
    }
   ],
   "source": [
    "values_N"
   ]
  },
  {
   "cell_type": "code",
   "execution_count": 1,
   "metadata": {},
   "outputs": [
    {
     "name": "stdout",
     "output_type": "stream",
     "text": [
      "['l', 'o', 'v', 'e', 'l', 'e', 'e', 't', 'c', 'o', 'd', 'e']\n",
      "['o', 'd', 'v', 'e', 't', 'l', 'c']\n"
     ]
    }
   ],
   "source": [
    "s = \"loveleetcode\"\n",
    "\n",
    "s_list = list(s)\n",
    "s_unique = list(set(s_list))\n",
    "\n",
    "print(s_list)\n",
    "print(s_unique)"
   ]
  },
  {
   "cell_type": "code",
   "execution_count": 17,
   "metadata": {},
   "outputs": [
    {
     "data": {
      "text/plain": [
       "24"
      ]
     },
     "execution_count": 17,
     "metadata": {},
     "output_type": "execute_result"
    }
   ],
   "source": [
    "s_list_copy = s_list.copy()\n",
    "\n",
    "for elem in s_unique:\n",
    "    s_list.remove(elem)"
   ]
  },
  {
   "cell_type": "code",
   "execution_count": 1,
   "metadata": {},
   "outputs": [
    {
     "name": "stdout",
     "output_type": "stream",
     "text": [
      "[1, 1] [2, 2]\n"
     ]
    }
   ],
   "source": [
    "input = [1,2,1,2]\n",
    "\n",
    "odd = [i for i in input if i%2 != 0]\n",
    "even = [i for i in input if i%2 == 0]\n",
    "\n",
    "print(odd, even)"
   ]
  },
  {
   "cell_type": "code",
   "execution_count": null,
   "metadata": {},
   "outputs": [],
   "source": [
    "input.sort()\n",
    "\n",
    "s1 = 0\n",
    "s2 = 0\n",
    "for val in input:\n",
    "    if s1%2 == 0:\n",
    "        if val%2 != 0:\n",
    "            s1\n"
   ]
  },
  {
   "cell_type": "code",
   "execution_count": null,
   "metadata": {},
   "outputs": [],
   "source": [
    "is_odd_prod_possible = False\n",
    "\n",
    "odd_counter = 0\n",
    "even_counter = 0\n",
    "\n",
    "sum_1 = 0\n",
    "sum_2 = 0\n",
    "\n",
    "while odd_counter < len(odd) and len(odd) > 2:\n",
    "    sum_1 = odd[odd_counter]\n",
    "    odd_counter += 1\n",
    "    sum_2 = odd[odd_counter]\n",
    "    odd_counter += 1\n",
    "    is_odd_prod_possible = True\n",
    "    \n",
    "\n",
    "while odd_counter < len(odd) and even_counter < len(even):\n",
    "    sum += even[even_counter]\n",
    "\n",
    "    if "
   ]
  },
  {
   "cell_type": "code",
   "execution_count": null,
   "metadata": {},
   "outputs": [],
   "source": [
    "odd_counter = 0\n",
    "even_counter = 0\n",
    "if odd:\n",
    "    sum = odd[odd_counter]\n",
    "\n",
    "while odd_counter < len(odd) and even_counter < len(even):\n",
    "    sum += even[even_counter]\n",
    "\n",
    "    if "
   ]
  },
  {
   "cell_type": "code",
   "execution_count": 3,
   "metadata": {},
   "outputs": [
    {
     "data": {
      "text/plain": [
       "[2, 2]"
      ]
     },
     "execution_count": 3,
     "metadata": {},
     "output_type": "execute_result"
    }
   ],
   "source": [
    "# odd\n",
    "# even\n",
    "\n",
    "while odd_counter < len(odd) and even_counter < len(even):\n",
    "    if (len(even)%2 != 0 and len(odd) > 2) or len(odd) < 2:\n",
    "        is_odd_prod_possible = False\n",
    "        break\n",
    "     \n"
   ]
  },
  {
   "cell_type": "code",
   "execution_count": 12,
   "metadata": {},
   "outputs": [],
   "source": [
    "def add_two_digits(n1, n2, carry):\n",
    "    addn = n1 + n2 + carry\n",
    "    if addn > 9:\n",
    "        carry = int(addn//10)\n",
    "        addn = addn % 10\n",
    "\n",
    "    return addn, carry"
   ]
  },
  {
   "cell_type": "code",
   "execution_count": 14,
   "metadata": {},
   "outputs": [
    {
     "name": "stdout",
     "output_type": "stream",
     "text": [
      "[8, 9, 9, 9, 0, 0, 0, 1]\n"
     ]
    }
   ],
   "source": [
    "# l1 = [2, 4, 3]\n",
    "# l2 = [5, 6, 4]\n",
    "l1 = [9,9,9,9,9,9,9]\n",
    "l2 = [9,9,9,9]\n",
    "\n",
    "\n",
    "# logic\n",
    "if len(l1) < len(l2):\n",
    "    l1.extend([0]*(len(l2)-len(l1)))\n",
    "else:\n",
    "    l2.extend([0]*(len(l1)-len(l2)))\n",
    "\n",
    "carry = 0\n",
    "addn = 0\n",
    "result = []\n",
    "for i in range(len(l1)):\n",
    "    addn, carry = add_two_digits(l1[i], l2[i], carry)\n",
    "    result.append(addn)\n",
    "\n",
    "if carry > 0:\n",
    "    result.append(carry)\n",
    "\n",
    "print(result)\n",
    "\n",
    "\n",
    "\n",
    "# carry = 0\n",
    "# addn = 0\n",
    "\n",
    "# for i in range(counter):\n",
    "#     addn = carry\n",
    "#     if i < len(l1) and i < len(l2):\n",
    "#         new_addn, carry = add_two_digits(l1[i], l2[i])\n",
    "#     elif i < len(l1):\n",
    "#         new_addn, carry = add_two_digits(l1[i], 0)\n",
    "#     elif i < len(l2):\n",
    "#         new_addn, carry = add_two_digits(0, l2[i])\n",
    "        \n",
    "#     addn += new_addn\n",
    "#     result.append(addn)    \n",
    "\n",
    "# print(result)"
   ]
  },
  {
   "cell_type": "code",
   "execution_count": 8,
   "metadata": {},
   "outputs": [],
   "source": [
    "from typing import Optional\n",
    "\n",
    "# Definition for singly-linked list.\n",
    "class ListNode:\n",
    "    def __init__(self, val=0, next=None):\n",
    "        self.val = val\n",
    "        self.next = next\n",
    "\n",
    "def add_two_digits(n1, n2, carry):\n",
    "    addn = n1 + n2 + carry\n",
    "    if addn > 9:\n",
    "        carry = int(addn//10)\n",
    "        addn = addn % 10\n",
    "\n",
    "    return addn, carry\n",
    "\n",
    "\n",
    "def addTwoNumbers(l1: Optional[ListNode], l2: Optional[ListNode]) -> Optional[ListNode]:\n",
    "    carry = 0\n",
    "    addn = 0\n",
    "    result = ListNode()\n",
    "\n",
    "    while l1.next and l2.next:\n",
    "        addn, carry = add_two_digits(l1.val, l2.val, carry)\n",
    "        result.val = addn\n",
    "        result.next = ListNode()\n",
    "    else:\n",
    "        addn, carry = add_two_digits(l1.val, l2.val, carry)\n",
    "        result.val = addn\n",
    "        result.next = ListNode()  \n",
    "\n",
    "    if not l1.next:\n",
    "        while l2.next:\n",
    "            addn, carry = add_two_digits(0, l2.val, carry)\n",
    "            result.val = addn\n",
    "            result.next = ListNode()\n",
    "        else:\n",
    "            addn, carry = add_two_digits(0, l2.val, carry)\n",
    "            result.val = addn\n",
    "            result.next = ListNode()\n",
    "    elif not l2.next:\n",
    "        while l1.next:\n",
    "            addn, carry = add_two_digits(l1.val, 0, carry)\n",
    "            result.val = addn\n",
    "            result.next = ListNode()\n",
    "        else:\n",
    "            addn, carry = add_two_digits(l1.val, 0, carry)\n",
    "            result.val = addn\n",
    "            result.next = ListNode()\n",
    "\n",
    "    return result"
   ]
  },
  {
   "cell_type": "code",
   "execution_count": 9,
   "metadata": {},
   "outputs": [],
   "source": [
    "from typing import Optional\n",
    "\n",
    "# Definition for singly-linked list.\n",
    "class ListNode:\n",
    "    def __init__(self, val=0, next=None):\n",
    "        self.val = val\n",
    "        self.next = next\n",
    "\n",
    "l1 = ListNode()\n",
    "l2 = ListNode()\n",
    "\n",
    "lst1 = [9,9,9,9,9,9,9]\n",
    "# lst1 = [1,2,3,4,5,6,7]\n",
    "lst2 = [9,9,9,9]\n",
    "\n",
    "# for num in lst1:\n",
    "#     while l1.next:\n",
    "#         curr = l1.next\n",
    "    \n",
    "#     l1.val = num\n",
    "#     l1.next = ListNode()\n",
    "    \n",
    "\n",
    "# while l1.next:\n",
    "#     print(l1.val, l1.next)\n",
    "\n",
    "\n",
    "i = 0\n",
    "l1 = current = ListNode(lst1[0])\n",
    "for num in lst1[1:]:\n",
    "    current.next = ListNode(num)\n",
    "    current = current.next\n",
    "\n",
    "l2 = current = ListNode(lst2[0])\n",
    "for num in lst2[1:]:\n",
    "    current.next = ListNode(num)\n",
    "    current = current.next\n",
    "\n",
    "# traverse = l1\n",
    "# while traverse.next:\n",
    "#     print(traverse.val, traverse.next)\n",
    "#     traverse = traverse.next\n",
    "\n",
    "# print(traverse.val, traverse.next)\n",
    "\n"
   ]
  },
  {
   "cell_type": "code",
   "execution_count": 1,
   "metadata": {},
   "outputs": [],
   "source": [
    "## Start Here"
   ]
  },
  {
   "cell_type": "code",
   "execution_count": 62,
   "metadata": {},
   "outputs": [],
   "source": [
    "from typing import Optional\n",
    "\n",
    "# Definition for singly-linked list.\n",
    "class ListNode:\n",
    "    def __init__(self, val=0, next=None):\n",
    "        self.val = val\n",
    "        self.next = next\n",
    "\n",
    "def add_two_digits(n1, n2, carry):\n",
    "    addn = n1 + n2 + carry\n",
    "    carry = int(addn//10)\n",
    "    addn = addn % 10\n",
    "\n",
    "    return addn, carry\n",
    "\n",
    "\n",
    "def addTwoNumbers(l1: Optional[ListNode], l2: Optional[ListNode]) -> Optional[ListNode]:\n",
    "    carry = 0\n",
    "    addn = 0\n",
    "    result = ListNode()\n",
    "\n",
    "    traverse_l1 = l1\n",
    "    traverse_l2 = l2\n",
    "    traverse_result = result\n",
    "\n",
    "    while traverse_l1 and traverse_l2:\n",
    "        addn, carry = add_two_digits(traverse_l1.val, traverse_l2.val, carry)\n",
    "        traverse_result.val = addn\n",
    "        if traverse_l1.next or traverse_l2.next:\n",
    "            traverse_result.next = ListNode()\n",
    "        elif carry > 0:\n",
    "            traverse_result.next = ListNode(carry)\n",
    "        else:\n",
    "            traverse_result.next = None\n",
    "        traverse_l1 = traverse_l1.next\n",
    "        traverse_l2 = traverse_l2.next\n",
    "        traverse_result = traverse_result.next\n",
    " \n",
    "\n",
    "    if traverse_l2 and not traverse_l1:\n",
    "        while traverse_l2:\n",
    "            addn, carry = add_two_digits(0, traverse_l2.val, carry)\n",
    "            traverse_result.val = addn\n",
    "            if traverse_l2.next:\n",
    "                traverse_result.next = ListNode()\n",
    "            elif carry > 0:\n",
    "                traverse_result.next = ListNode(carry)\n",
    "            else:\n",
    "                traverse_result.next = None\n",
    "            traverse_l2 = traverse_l2.next\n",
    "            traverse_result = traverse_result.next\n",
    "    elif traverse_l1 and not traverse_l2:\n",
    "        while traverse_l1:\n",
    "            addn, carry = add_two_digits(traverse_l1.val, 0, carry)\n",
    "            traverse_result.val = addn\n",
    "            if traverse_l1.next:\n",
    "                traverse_result.next = ListNode()\n",
    "            elif carry > 0:\n",
    "                traverse_result.next = ListNode(carry)\n",
    "            else:\n",
    "                traverse_result.next = None\n",
    "            traverse_l1 = traverse_l1.next\n",
    "            traverse_result = traverse_result.next\n",
    "\n",
    "    # if not traverse_l1 and not traverse_l2 and carry > 0:    \n",
    "    #     traverse_result = ListNode(carry)\n",
    "\n",
    "    return result"
   ]
  },
  {
   "cell_type": "code",
   "execution_count": 65,
   "metadata": {},
   "outputs": [],
   "source": [
    "l1 = ListNode()\n",
    "l2 = ListNode()\n",
    "\n",
    "# lst1 = [9,9,9,9,9,9,9]\n",
    "# lst2 = [9,9,9,9]\n",
    "lst1 = [2, 4, 3]\n",
    "lst2 = [5, 6, 4]\n",
    "\n",
    "i = 0\n",
    "l1 = current = ListNode(lst1[0])\n",
    "for num in lst1[1:]:\n",
    "    current.next = ListNode(num)\n",
    "    current = current.next\n",
    "\n",
    "l2 = current = ListNode(lst2[0])\n",
    "for num in lst2[1:]:\n",
    "    current.next = ListNode(num)\n",
    "    current = current.next\n",
    "\n",
    "result = addTwoNumbers(l1, l2)"
   ]
  },
  {
   "cell_type": "code",
   "execution_count": 66,
   "metadata": {},
   "outputs": [
    {
     "name": "stdout",
     "output_type": "stream",
     "text": [
      "[7, 0, 8]\n"
     ]
    }
   ],
   "source": [
    "traverse = result\n",
    "result_lst = []\n",
    "while traverse:\n",
    "    result_lst.append(traverse.val)\n",
    "    traverse = traverse.next\n",
    "\n",
    "print(result_lst)"
   ]
  },
  {
   "cell_type": "code",
   "execution_count": 67,
   "metadata": {},
   "outputs": [],
   "source": [
    "\n",
    "\n"
   ]
  },
  {
   "cell_type": "code",
   "execution_count": 68,
   "metadata": {},
   "outputs": [
    {
     "data": {
      "text/plain": [
       "[0, 1, 2, 0, 1, 2, 1, 1]"
      ]
     },
     "execution_count": 68,
     "metadata": {},
     "output_type": "execute_result"
    }
   ],
   "source": [
    "s_num"
   ]
  },
  {
   "cell_type": "code",
   "execution_count": 78,
   "metadata": {},
   "outputs": [
    {
     "name": "stdout",
     "output_type": "stream",
     "text": [
      "1\n"
     ]
    }
   ],
   "source": [
    "# s = \"abcabcbb\"\n",
    "# s = \"bbbbb\"\n",
    "# s = \"pwwkew\"\n",
    "# s = \"dvdf\"\n",
    "s = \" \"\n",
    "\n",
    "s_num = [ord(val) for val in s]\n",
    "\n",
    "prev_max = 0\n",
    "max = 0\n",
    "log = []\n",
    "for num in s_num:\n",
    "    if num not in log:\n",
    "        max += 1\n",
    "        log.append(num)\n",
    "        if prev_max < max:\n",
    "            prev_max = max\n",
    "    else:\n",
    "        if prev_max < max:\n",
    "            prev_max = max\n",
    "        idx = log.index(num)\n",
    "        if idx+1 != len(log):\n",
    "            log = log[idx+1:]\n",
    "        else:\n",
    "            log = []\n",
    "        log.append(num)\n",
    "        max = len(log)\n",
    "\n",
    "print(prev_max)"
   ]
  },
  {
   "cell_type": "code",
   "execution_count": 91,
   "metadata": {},
   "outputs": [
    {
     "name": "stdout",
     "output_type": "stream",
     "text": [
      "2\n",
      "3\n"
     ]
    }
   ],
   "source": [
    "lst = [1,2,3,4]\n",
    "print(lst[len(lst)//2-1])\n",
    "print(lst[len(lst)//2])"
   ]
  },
  {
   "cell_type": "code",
   "execution_count": 96,
   "metadata": {},
   "outputs": [
    {
     "ename": "IndexError",
     "evalue": "list index out of range",
     "output_type": "error",
     "traceback": [
      "\u001b[0;31m---------------------------------------------------------------------------\u001b[0m",
      "\u001b[0;31mIndexError\u001b[0m                                Traceback (most recent call last)",
      "Cell \u001b[0;32mIn [96], line 35\u001b[0m\n\u001b[1;32m     32\u001b[0m \u001b[39mif\u001b[39;00m median2:\n\u001b[1;32m     33\u001b[0m     consolidated\u001b[39m.\u001b[39mappend(median2)\n\u001b[0;32m---> 35\u001b[0m median_result \u001b[39m=\u001b[39m getMedian(consolidated)\n\u001b[1;32m     36\u001b[0m \u001b[39mprint\u001b[39m(median_result)\n",
      "Cell \u001b[0;32mIn [96], line 17\u001b[0m, in \u001b[0;36mgetMedian\u001b[0;34m(lst)\u001b[0m\n\u001b[1;32m     15\u001b[0m     median \u001b[39m=\u001b[39m lst[\u001b[39mlen\u001b[39m(lst)\u001b[39m/\u001b[39m\u001b[39m/\u001b[39m\u001b[39m2\u001b[39m]\n\u001b[1;32m     16\u001b[0m \u001b[39melse\u001b[39;00m:\n\u001b[0;32m---> 17\u001b[0m     median \u001b[39m=\u001b[39m (lst[\u001b[39mlen\u001b[39;49m(lst)\u001b[39m/\u001b[39;49m\u001b[39m/\u001b[39;49m\u001b[39m2\u001b[39;49m\u001b[39m-\u001b[39;49m\u001b[39m1\u001b[39;49m]\u001b[39m+\u001b[39mlst[\u001b[39mlen\u001b[39m(lst)\u001b[39m/\u001b[39m\u001b[39m/\u001b[39m\u001b[39m2\u001b[39m])\u001b[39m/\u001b[39m\u001b[39m2\u001b[39m\n\u001b[1;32m     18\u001b[0m \u001b[39mreturn\u001b[39;00m median\n",
      "\u001b[0;31mIndexError\u001b[0m: list index out of range"
     ]
    }
   ],
   "source": [
    "# nums1 = [1,2]\n",
    "# nums2 = [3,4]\n",
    "\n",
    "# nums1 = [1,3]\n",
    "# nums2 = [2]\n",
    "\n",
    "# nums1 = []\n",
    "# nums2 = [1]\n",
    "\n",
    "nums1 = [0,0]\n",
    "nums2 = [0,0]\n",
    "\n",
    "def getMedian(lst):\n",
    "    if len(lst)%2 == 1:\n",
    "        median = lst[len(lst)//2]\n",
    "    else:\n",
    "        median = (lst[len(lst)//2-1]+lst[len(lst)//2])/2\n",
    "    return median\n",
    "\n",
    "if nums1:\n",
    "    median1 = getMedian(nums1)\n",
    "else:\n",
    "    median1 = None\n",
    "if nums2:\n",
    "    median2 = getMedian(nums2)\n",
    "else:\n",
    "    median2 = None\n",
    "\n",
    "consolidated = []\n",
    "if median1:\n",
    "    consolidated.append(median1)\n",
    "if median2:\n",
    "    consolidated.append(median2)\n",
    "\n",
    "if consolidated:\n",
    "    median_result = getMedian(consolidated)\n",
    "else:\n",
    "    median_result = 0\n",
    "print(median_result)"
   ]
  },
  {
   "cell_type": "code",
   "execution_count": 97,
   "metadata": {},
   "outputs": [],
   "source": [
    "# longest palindromic substring\n",
    "s = \"babad\"\n",
    "\n",
    "s_num = [ord(val) for val in s]"
   ]
  },
  {
   "cell_type": "code",
   "execution_count": 98,
   "metadata": {},
   "outputs": [
    {
     "data": {
      "text/plain": [
       "[98, 97, 98, 97, 100]"
      ]
     },
     "execution_count": 98,
     "metadata": {},
     "output_type": "execute_result"
    }
   ],
   "source": [
    "s_num"
   ]
  },
  {
   "cell_type": "code",
   "execution_count": 4,
   "metadata": {},
   "outputs": [],
   "source": [
    "# palindrome = []\n",
    "\n",
    "def check_palindrome(lst):    \n",
    "    while lst:\n",
    "        start = lst[0]\n",
    "        end = lst[-1]\n",
    "        if start == end:\n",
    "            lst = lst[start+1:end]\n",
    "            is_palindrome = True\n",
    "        else:\n",
    "            is_palindrome = False\n",
    "            break\n",
    "    else:\n",
    "        # blank list\n",
    "        is_palindrome = True\n",
    "    \n",
    "    return is_palindrome\n",
    "\n",
    "    \n",
    "\n",
    "# is_palindrome = True\n",
    "# for num in s_num:\n",
    "#     start = num\n",
    "#     rem_nums = s_num[s_num.index(num)+1:]\n",
    "#     if num in rem_nums:\n",
    "#         end = rem_nums.index(num)\n",
    "#         is_palindrome = check_palindrome(rem_nums[:end])\n",
    "    \n"
   ]
  },
  {
   "cell_type": "code",
   "execution_count": 28,
   "metadata": {},
   "outputs": [],
   "source": [
    "# longest palindromic substring\n",
    "# s = \"babad\"\n",
    "# s = \"cbbd\"\n",
    "# s = \"a\"\n",
    "s = \"ccccc\"\n",
    "\n",
    "is_palindrome = False\n",
    "if len(s) == 1:\n",
    "    is_palindrome = True\n",
    "    sublst = s\n",
    "else:\n",
    "    s_num = [ord(val) for val in s]\n",
    "    for num in s_num:\n",
    "        start = s_num.index(num)\n",
    "        rem_nums = s_num[start+1:][::-1]\n",
    "        if num in rem_nums:\n",
    "            end = rem_nums.index(num)+start+2\n",
    "            sublst = s_num[start:end]\n",
    "            is_palindrome = check_palindrome(sublst)\n",
    "\n",
    "if is_palindrome and len(s) > 1:\n",
    "    sublst = [chr(val) for val in sublst]\n",
    "    sublst = \"\".join(sublst)\n",
    "\n",
    "# print(max_len, sublst)"
   ]
  },
  {
   "cell_type": "code",
   "execution_count": null,
   "metadata": {},
   "outputs": [],
   "source": [
    "class Solution:\n",
    "    def check_palindrome(self, lst):    \n",
    "        while lst:\n",
    "            start = lst[0]\n",
    "            end = lst[-1]\n",
    "            if start == end:\n",
    "                lst = lst[start+1:end]\n",
    "                is_palindrome = True\n",
    "            else:\n",
    "                is_palindrome = False\n",
    "                break\n",
    "        else:\n",
    "            # blank list\n",
    "            is_palindrome = True\n",
    "        \n",
    "        return is_palindrome\n",
    "\n",
    "    def longestPalindrome(self, s: str) -> str:\n",
    "        is_palindrome = False\n",
    "        if len(s) == 1:\n",
    "            is_palindrome = True\n",
    "            sublst = s\n",
    "        else:\n",
    "            sublst = []\n",
    "            s_num = [ord(val) for val in s]\n",
    "            for num in s_num:\n",
    "                start = s_num.index(num)\n",
    "                rem_nums = s_num[start+1:][::-1]\n",
    "                if num in rem_nums:\n",
    "                    end = rem_nums.index(num)+start+2\n",
    "                    sublst = s_num[start:end]\n",
    "                    is_palindrome = self.check_palindrome(sublst)\n",
    "\n",
    "        if is_palindrome and len(s) > 1:\n",
    "            sublst = [chr(val) for val in sublst]\n",
    "            sublst = \"\".join(sublst)\n",
    "        elif not is_palindrome and s:\n",
    "            sublst = s[0]            \n",
    "        \n",
    "        return sublst"
   ]
  },
  {
   "cell_type": "code",
   "execution_count": 9,
   "metadata": {},
   "outputs": [],
   "source": [
    "# three sum triplets\n",
    "\n",
    "nums = [-1,0,1,2,-1,-4]\n",
    "nums.sort()\n",
    "\n",
    "solution_set = []\n",
    "\n",
    "for idx, val in enumerate(nums):\n",
    "    sum = (-1)*val\n",
    "    rem_nums = nums[:idx]+nums[idx+1:]\n",
    "    for idx1, val1 in enumerate(rem_nums):\n",
    "        sum1 = sum - val1\n",
    "        rem_nums1 = rem_nums[:idx]+rem_nums[idx+1:]\n",
    "        if sum1 in rem_nums1:\n",
    "            solution = [val, val1, sum1]\n",
    "            solution.sort()\n",
    "            if solution not in solution_set:\n",
    "                solution_set.append(solution)\n",
    "\n"
   ]
  },
  {
   "cell_type": "code",
   "execution_count": 8,
   "metadata": {},
   "outputs": [
    {
     "name": "stdout",
     "output_type": "stream",
     "text": [
      "[[-4, 2, 2], [-1, -1, 2], [-1, 0, 1]]\n"
     ]
    }
   ],
   "source": [
    "print(solution_set)"
   ]
  },
  {
   "cell_type": "code",
   "execution_count": 12,
   "metadata": {},
   "outputs": [
    {
     "name": "stdout",
     "output_type": "stream",
     "text": [
      "[[0, 0, 0]]\n"
     ]
    }
   ],
   "source": [
    "# nums = [-1,0,1,2,-1,-4]\n",
    "# nums = [0,1,1]\n",
    "nums = [0,0,0]\n",
    "\n",
    "solution = []\n",
    "solution_set = []\n",
    "\n",
    "sum = 0\n",
    "\n",
    "for idx1,num1 in enumerate(nums):\n",
    "    rem_nums1 = nums[:idx1]+nums[idx+1:]\n",
    "    for idx2,num2 in enumerate(rem_nums1):\n",
    "        rem_nums2 = rem_nums1[:idx2]+rem_nums1[idx2+1:]\n",
    "        rem_sum = sum - num1 - num2\n",
    "        if rem_sum in rem_nums2:\n",
    "            solution = [num1, num2, rem_sum]\n",
    "            solution.sort()\n",
    "            if solution not in solution_set:\n",
    "                solution_set.append(solution)\n",
    "\n",
    "# return solution_set\n",
    "print(solution_set)"
   ]
  },
  {
   "cell_type": "code",
   "execution_count": 1,
   "metadata": {},
   "outputs": [
    {
     "ename": "NameError",
     "evalue": "name 'N' is not defined",
     "output_type": "error",
     "traceback": [
      "\u001b[0;31m---------------------------------------------------------------------------\u001b[0m",
      "\u001b[0;31mNameError\u001b[0m                                 Traceback (most recent call last)",
      "Cell \u001b[0;32mIn [1], line 4\u001b[0m\n\u001b[1;32m      2\u001b[0m \u001b[39m# generate parenthesis\u001b[39;00m\n\u001b[1;32m      3\u001b[0m n \u001b[39m=\u001b[39m \u001b[39m3\u001b[39m\n\u001b[0;32m----> 4\u001b[0m max_len \u001b[39m=\u001b[39m \u001b[39m2\u001b[39m\u001b[39m*\u001b[39mN\n\u001b[1;32m      6\u001b[0m left \u001b[39m=\u001b[39m \u001b[39m1\u001b[39m\n\u001b[1;32m      7\u001b[0m right \u001b[39m=\u001b[39m \u001b[39m-\u001b[39m\u001b[39m1\u001b[39m\n",
      "\u001b[0;31mNameError\u001b[0m: name 'N' is not defined"
     ]
    }
   ],
   "source": [
    "from random import randint\n",
    "# generate parenthesis\n",
    "n = 3\n",
    "max_len = 2*n\n",
    "\n",
    "is_open = False\n",
    "\n",
    "lst = [0]*max_len\n",
    "\n",
    "all_lsts = []\n",
    "\n",
    "# default\n",
    "lst[0] = 1\n",
    "is_open = True\n",
    "counter = 1\n",
    "\n",
    "while counter < max_len:\n",
    "    inserted = False\n",
    "    while not inserted:\n",
    "        random_position = randint()\n",
    "\n",
    "\n",
    "\n",
    "\n",
    "\n"
   ]
  },
  {
   "cell_type": "code",
   "execution_count": 2,
   "metadata": {},
   "outputs": [],
   "source": [
    "n = 3\n",
    "max_len = 2*n\n",
    "\n",
    "# default\n",
    "lst = [0]*max_len\n",
    "lst[0] = 1\n",
    "lst[-1] = -1"
   ]
  },
  {
   "cell_type": "code",
   "execution_count": 3,
   "metadata": {},
   "outputs": [
    {
     "data": {
      "text/plain": [
       "[1, 0, 0, 0, 0, -1]"
      ]
     },
     "execution_count": 3,
     "metadata": {},
     "output_type": "execute_result"
    }
   ],
   "source": [
    "lst"
   ]
  },
  {
   "cell_type": "code",
   "execution_count": 5,
   "metadata": {},
   "outputs": [
    {
     "data": {
      "text/plain": [
       "[1, 1, -1, -1]"
      ]
     },
     "execution_count": 5,
     "metadata": {},
     "output_type": "execute_result"
    }
   ],
   "source": [
    "n = 3\n",
    "fillers = [1]*(n-1)+[-1]*(n-1)\n",
    "\n",
    "fillers"
   ]
  },
  {
   "cell_type": "code",
   "execution_count": 6,
   "metadata": {},
   "outputs": [
    {
     "data": {
      "text/plain": [
       "[1, 0, 0, 0, 0, -1]"
      ]
     },
     "execution_count": 6,
     "metadata": {},
     "output_type": "execute_result"
    }
   ],
   "source": [
    "lst"
   ]
  },
  {
   "cell_type": "code",
   "execution_count": 11,
   "metadata": {},
   "outputs": [
    {
     "data": {
      "text/plain": [
       "[(1, -1, -1, 1),\n",
       " (-1, 1, 1, -1),\n",
       " (1, -1, 1, -1),\n",
       " (-1, -1, 1, 1),\n",
       " (-1, 1, -1, 1),\n",
       " (1, 1, -1, -1)]"
      ]
     },
     "execution_count": 11,
     "metadata": {},
     "output_type": "execute_result"
    }
   ],
   "source": [
    "from itertools import permutations\n",
    "\n",
    "# lst_combinations = []\n",
    "\n",
    "# for n in range(len(fillers)+1):\n",
    "#     lst_combinations.append(list(combinations(fillers, n)))\n",
    "\n",
    "list(set(list(permutations(fillers))))\n"
   ]
  },
  {
   "cell_type": "code",
   "execution_count": 32,
   "metadata": {},
   "outputs": [],
   "source": [
    "def check_valid_parnthesis(lst):\n",
    "    counter = 0\n",
    "    sum = 0\n",
    "    is_valid = True\n",
    "    while sum > -1 and counter < len(lst):\n",
    "        sum += lst[counter]\n",
    "        counter += 1\n",
    "    if sum <= -2:\n",
    "        is_valid = False\n",
    "    \n",
    "    return is_valid"
   ]
  },
  {
   "cell_type": "code",
   "execution_count": 1,
   "metadata": {},
   "outputs": [
    {
     "name": "stdout",
     "output_type": "stream",
     "text": [
      "132\n"
     ]
    }
   ],
   "source": [
    "from itertools import permutations\n",
    "\n",
    "def check_valid_parnthesis(lst):\n",
    "    counter = 0\n",
    "    sum = 0\n",
    "    is_valid = True\n",
    "    while sum > -1 and counter < len(lst):\n",
    "        sum += lst[counter]\n",
    "        counter += 1\n",
    "    if sum <= -1:\n",
    "        is_valid = False\n",
    "    \n",
    "    return is_valid\n",
    "\n",
    "def replace_digits_with_bracket_string(lst):\n",
    "    lst = [str(se).replace(\"-1\", \")\").replace(\"1\", \"(\") for se in lst]\n",
    "    lst = \"\".join(lst)\n",
    "    return lst\n",
    "\n",
    "\n",
    "\n",
    "n = 7\n",
    "# max_len = 2 * n\n",
    "# template = [0]*max_len\n",
    "# template[0] = \"(\"\n",
    "# template[-1] = \")\"\n",
    "# fillers = [\"(\"]*(n-1) + [\")\"]*(n-1)\n",
    "fillers = [1]*(n-1) + [-1]*(n-1)\n",
    "# fillers = [1]*n + [-1]*n\n",
    "\n",
    "sub_elements = list(set(permutations(fillers)))\n",
    "# sub_elements = [list(se) for se in sub_elements]\n",
    "\n",
    "# print(sub_elements)\n",
    "\n",
    "# sub_elements = [[\"(\"] + se for se in sub_elements]\n",
    "# sub_elements = [se + [\")\"] for se in sub_elements]\n",
    "\n",
    "sub_elements = [list(se) for se in sub_elements if check_valid_parnthesis(se)]\n",
    "sub_elements = [[1] + se + [-1] for se in sub_elements]\n",
    "# replace numbers 0 and 1 with chars: '(' and ')'\n",
    "sub_elements = [replace_digits_with_bracket_string(se) for se in sub_elements]\n",
    "# sub_elements = [\"\".join(list(str(se).replace(\"-1\", \")\").replace(\"1\", \"(\"))) for se in sub_elements]\n",
    "\n",
    "\n",
    "print(len(sub_elements)) # 7:132, 34.4 secs"
   ]
  },
  {
   "cell_type": "code",
   "execution_count": 54,
   "metadata": {},
   "outputs": [
    {
     "data": {
      "text/plain": [
       "132"
      ]
     },
     "execution_count": 54,
     "metadata": {},
     "output_type": "execute_result"
    }
   ],
   "source": [
    "len(sub_elements)"
   ]
  },
  {
   "cell_type": "code",
   "execution_count": 38,
   "metadata": {},
   "outputs": [
    {
     "data": {
      "text/plain": [
       "[([1, 1, -1, -1, 1, -1], True),\n",
       " ([1, -1, 1, 1, -1, -1], True),\n",
       " ([1, 1, -1, 1, -1, -1], True),\n",
       " ([1, -1, -1, 1, 1, -1], False),\n",
       " ([1, -1, 1, -1, 1, -1], True),\n",
       " ([1, 1, 1, -1, -1, -1], True)]"
      ]
     },
     "execution_count": 38,
     "metadata": {},
     "output_type": "execute_result"
    }
   ],
   "source": [
    "def check_valid_parnthesis(lst):\n",
    "    counter = 0\n",
    "    sum = 0\n",
    "    is_valid = True\n",
    "    while sum > -1 and counter < len(lst):\n",
    "        sum += lst[counter]\n",
    "        counter += 1\n",
    "    if sum <= -1:\n",
    "        is_valid = False\n",
    "    \n",
    "    return is_valid\n",
    "\n",
    "# lst = [1, -1, -1, 1, 1, -1]\n",
    "result = []\n",
    "for elem in sub_elements:\n",
    "    result.append((elem, check_valid_parnthesis(elem)))\n",
    "\n",
    "result\n",
    "\n",
    "# print(check_valid_parnthesis(lst))"
   ]
  },
  {
   "cell_type": "code",
   "execution_count": 29,
   "metadata": {},
   "outputs": [
    {
     "data": {
      "text/plain": [
       "[[1, 1, -1, -1, 1, -1],\n",
       " [1, -1, 1, 1, -1, -1],\n",
       " [1, 1, -1, 1, -1, -1],\n",
       " [1, -1, -1, 1, 1, -1],\n",
       " [1, -1, 1, -1, 1, -1],\n",
       " [1, 1, 1, -1, -1, -1]]"
      ]
     },
     "execution_count": 29,
     "metadata": {},
     "output_type": "execute_result"
    }
   ],
   "source": [
    "sub_elements"
   ]
  },
  {
   "cell_type": "code",
   "execution_count": 5,
   "metadata": {},
   "outputs": [
    {
     "name": "stdout",
     "output_type": "stream",
     "text": [
      "['(((())))', '((()()))', '((())())', '((()))()', '(()(()))', '(()()())', '(()())()', '(())(())', '(())()()', '()((()))', '()(()())', '()(())()', '()()(())', '()()()()']\n"
     ]
    }
   ],
   "source": [
    "class Solution(object):\n",
    "   def generateParenthesis(self, n):\n",
    "      \"\"\"\n",
    "      :type n: int\n",
    "      :rtype: List[str]\n",
    "      \"\"\"\n",
    "      result = []\n",
    "      self.generateParenthesisUtil(n,n,\"\",result)\n",
    "      return result\n",
    "   def generateParenthesisUtil(self, left,right,temp,result):\n",
    "      if left == 0 and right == 0:\n",
    "         result.append(temp)\n",
    "         return\n",
    "      if left>0:\n",
    "         self.generateParenthesisUtil(left-1,right,temp+'(',result)\n",
    "      if right > left:\n",
    "         self.generateParenthesisUtil(left, right-1, temp + ')', result)\n",
    "ob = Solution()\n",
    "# print(len(ob.generateParenthesis(3)))\n",
    "print(ob.generateParenthesis(4))"
   ]
  },
  {
   "cell_type": "code",
   "execution_count": null,
   "metadata": {},
   "outputs": [],
   "source": []
  }
 ],
 "metadata": {
  "kernelspec": {
   "display_name": "Python 3.9.6 64-bit",
   "language": "python",
   "name": "python3"
  },
  "language_info": {
   "codemirror_mode": {
    "name": "ipython",
    "version": 3
   },
   "file_extension": ".py",
   "mimetype": "text/x-python",
   "name": "python",
   "nbconvert_exporter": "python",
   "pygments_lexer": "ipython3",
   "version": "3.9.6"
  },
  "orig_nbformat": 4,
  "vscode": {
   "interpreter": {
    "hash": "31f2aee4e71d21fbe5cf8b01ff0e069b9275f58929596ceb00d14d90e3e16cd6"
   }
  }
 },
 "nbformat": 4,
 "nbformat_minor": 2
}
