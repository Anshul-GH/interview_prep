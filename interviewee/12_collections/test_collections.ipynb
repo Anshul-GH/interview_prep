{
 "cells": [
  {
   "cell_type": "code",
   "execution_count": 1,
   "metadata": {},
   "outputs": [],
   "source": [
    "import collections\n"
   ]
  },
  {
   "cell_type": "code",
   "execution_count": 2,
   "metadata": {},
   "outputs": [
    {
     "name": "stdout",
     "output_type": "stream",
     "text": [
      "Counter({'j': 17, 'k': 15, 'a': 13, 'h': 13, 'b': 8, 'd': 8, 'i': 8, 'g': 7, 'c': 6, 's': 6, 'f': 5, 'o': 5, 'w': 5, 'e': 4, 'u': 3, 'q': 3, 'l': 3, 'n': 1, 'y': 1})\n"
     ]
    }
   ],
   "source": [
    "# Counter\n",
    "astr = \"aaaaabbbbbcgchjskkkdkjhjhdfhkjgkjashhskjhjdgjgiudhkbjbknskdjgjkjashdkgsdoiuyuqeioqoweohikhcjabckajfoajiqheiegifaadalilwjckwhfwjfcwl\"\n",
    "x = collections.Counter(astr)\n",
    "print(x)"
   ]
  },
  {
   "cell_type": "code",
   "execution_count": 3,
   "metadata": {},
   "outputs": [
    {
     "name": "stdout",
     "output_type": "stream",
     "text": [
      "4 d\n",
      "1 a\n",
      "3 c\n",
      "2 b\n",
      "OrderedDict([(4, 'd'), (1, 'a'), (3, 'c'), (2, 'b')])\n"
     ]
    }
   ],
   "source": [
    "# ordered dictionary\n",
    "x = collections.OrderedDict()\n",
    "\n",
    "x[4] = 'd'\n",
    "x[1] = 'a'\n",
    "x[3] = 'c'\n",
    "x[2] = 'b'\n",
    "\n",
    "for key, val in x.items():\n",
    "    print(key, val)\n",
    "\n",
    "print(x)"
   ]
  },
  {
   "cell_type": "code",
   "execution_count": 5,
   "metadata": {},
   "outputs": [],
   "source": [
    "# default dictionary\n",
    "\n",
    "y = collections.defaultdict(int)\n",
    "y[4] = 'd'\n",
    "y[1] = 'a'\n",
    "y[3] = 'c'\n",
    "y[2] = 'b'"
   ]
  },
  {
   "cell_type": "code",
   "execution_count": 6,
   "metadata": {},
   "outputs": [
    {
     "data": {
      "text/plain": [
       "0"
      ]
     },
     "execution_count": 6,
     "metadata": {},
     "output_type": "execute_result"
    }
   ],
   "source": [
    "y[5]"
   ]
  },
  {
   "cell_type": "code",
   "execution_count": null,
   "metadata": {},
   "outputs": [],
   "source": []
  }
 ],
 "metadata": {
  "kernelspec": {
   "display_name": "Python 3.10.4 64-bit",
   "language": "python",
   "name": "python3"
  },
  "language_info": {
   "codemirror_mode": {
    "name": "ipython",
    "version": 3
   },
   "file_extension": ".py",
   "mimetype": "text/x-python",
   "name": "python",
   "nbconvert_exporter": "python",
   "pygments_lexer": "ipython3",
   "version": "3.10.4"
  },
  "orig_nbformat": 4,
  "vscode": {
   "interpreter": {
    "hash": "aaa5c832b63eae91981a2a50352553a3961fa32ff189f781a6f1ad2872196c19"
   }
  }
 },
 "nbformat": 4,
 "nbformat_minor": 2
}
