{
 "cells": [
  {
   "cell_type": "code",
   "execution_count": null,
   "metadata": {},
   "outputs": [],
   "source": [
    "# 1. Django architecture\n",
    "# Django follows a Model-Template-View (MTV) architecture. It contains three different parts:\n",
    "\n",
    "#     Model: Logical data structure behind the entire app and signified by a database.\n",
    "#     Template: Deals with the presentation of data.\n",
    "#     View: It's a user interface. What you see when you visit a website is called a user interface. Represented by HTML/CSS/Javascript files.\n",
    "\n",
    "\n",
    "# 2. Static files in Django\n",
    "# Websites generally need to serve additional files such as images. Javascript or CSS. \n",
    "# In Django, these files are referred to as “static files”. \n",
    "# Apart from that Django provides django.contrib.staticfiles to manage these static files\n",
    "\n",
    "# 3. What is a URI? \n",
    "# Uniform Resource Identifier is the full form of URI which is used for identifying each resource of the REST architecture. URI is of the format:\n",
    "# Types:\n",
    "    # URN: Uniform Resource Name identifies the resource by means of a name that is both unique and persistent.\n",
    "    #     URN doesn’t always specify where to locate the resource on the internet. They are used as templates that are used by other parsers to identify the resource.\n",
    "    #     These follow the urn scheme and usually prefixed with urn:. Examples include\n",
    "    #         urn:isbn:1234567890 is used for identification of book based on the ISBN number in a library application.\n",
    "    #         urn:mpeg:mpeg7:schema:2001 is the default namespace rules for metadata of MPEG-7 video.\n",
    "    #     Whenever a URN identifies a document, they are easily translated into a URL by using “resolver” after which the document can be downloaded.\n",
    "    # URL: Uniform Resource Locator has the information regarding fetching of a resource from its location.\n",
    "    #     Examples include:\n",
    "    #         http://abc.com/samplePage.html\n",
    "    #         ftp://sampleServer.com/sampleFile.zip\n",
    "    #         file:///home/interviewbit/sampleFile.txt\n",
    "    #     URLs start with a protocol (like ftp, http etc) and they have the information of the network hostname (sampleServer.com) and the path to the document(/samplePage.html). It can also have query parameters.\n"
   ]
  },
  {
   "cell_type": "code",
   "execution_count": null,
   "metadata": {},
   "outputs": [],
   "source": [
    "\n",
    "\n",
    "# 1. What are JSON Web Tokens(JWTs)?\n",
    "# JSON web token (JWT), is an open standard that defines a compact and self-contained way for securely transmitting information between parties as a JSON object.\n",
    "# Because of its relatively small size, a JWT can be sent through a URL, through a POST parameter, or inside an HTTP header, and it is transmitted quickly. \n",
    "# A JWT contains all the required information about an entity to avoid querying a database more than once. The recipient of a JWT also does not need to call a server to validate the token.\n",
    "\n",
    "# 2. What are benefits of JWT?\n",
    "    # More compact: JSON is less verbose than XML, so when it is encoded, a JWT is smaller than a simple token. This makes JWT a good choice to be passed in HTML and HTTP environments.\n",
    "    # More secure: JWTs can use a public/private key pair for signing. A JWT can also be symmetrically signed by a shared secret using the HMAC algorithm.\n",
    "    # More common: JSON parsers are common in most programming languages because they map directly to objects.\n",
    "    # Easier to process: JWT is used at internet scale. This means that it is easier to process on user's devices, especially mobile.\n",
    "\n",
    "# 3. What are viewsets in DRF?\n",
    "# A viewset is a way to combine the logic for multiple related views into a single class. \n",
    "# In other words, one viewset can replace multiple views. \n",
    "# It is a class that is simply a type of class-based View, that does not provide any method handlers such as .get() or .post(), and instead provides actions such as .list() and .create().\n",
    "\n",
    "\n",
    "# 4. What is the difference between authentication and authorization?\n",
    "# Authentication confirms that users are who they say they are. Authorization gives those users permission to access a resource. In secure environments, authorization must always follow authentication. Users should first prove that their identities are genuine before an organization’s administrators grant them access to the requested resources.\n",
    "# Let's use an analogy to outline the differences.\n",
    "# Consider a person walking up to a locked door to provide care to a pet while the family is away on vacation. That person needs:\n",
    "# Authentication, in the form of a key. The lock on the door only grants access to someone with the correct key in much the same way that a system only grants access to users who have the correct credentials. Authorization, in the form of permissions. Once inside, the person has the authorization to access the kitchen and open the cupboard that holds the pet food. The person may not have permission to go into the bedroom for a quick nap.\n",
    "\n"
   ]
  }
 ],
 "metadata": {
  "language_info": {
   "name": "python"
  },
  "orig_nbformat": 4
 },
 "nbformat": 4,
 "nbformat_minor": 2
}
