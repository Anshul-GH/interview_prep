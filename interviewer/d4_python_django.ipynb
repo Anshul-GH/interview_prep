{
 "metadata": {
  "language_info": {
   "codemirror_mode": {
    "name": "ipython",
    "version": 3
   },
   "file_extension": ".py",
   "mimetype": "text/x-python",
   "name": "python",
   "nbconvert_exporter": "python",
   "pygments_lexer": "ipython3",
   "version": "3.9.0"
  },
  "orig_nbformat": 4,
  "kernelspec": {
   "name": "python3",
   "display_name": "Python 3.9.0 64-bit"
  },
  "interpreter": {
   "hash": "07e7546c8ab05cb33a05be587059aa2c513f9341d0d154e309e24d61ba5a29ea"
  }
 },
 "nbformat": 4,
 "nbformat_minor": 2,
 "cells": [
  {
   "source": [
    "1. Problem Solving (DS & Algo) - Expert"
   ],
   "cell_type": "markdown",
   "metadata": {}
  },
  {
   "cell_type": "code",
   "execution_count": null,
   "metadata": {},
   "outputs": [],
   "source": [
    "# 1. Given a list:\n",
    "[1,2,3,4,6,7,8,9,12,4,2,5,7,2,5,2,1,4,6,3]\n",
    "# Push all the even numbers to the front and odd numbers to the back\n",
    "# Output:\n",
    "[2,4,6,8,12,4,2,2,2,4,6,1,3,7,9,5,7,5,1,3]"
   ]
  },
  {
   "cell_type": "code",
   "execution_count": 8,
   "metadata": {},
   "outputs": [],
   "source": [
    "# a = [1,2,3,4]\n",
    "# b = [5,6,7,8]\n",
    "# ex = a.extend(b)"
   ]
  },
  {
   "cell_type": "code",
   "execution_count": 9,
   "metadata": {},
   "outputs": [],
   "source": [
    "ex"
   ]
  },
  {
   "cell_type": "code",
   "execution_count": null,
   "metadata": {},
   "outputs": [],
   "source": [
    "# 2a. Write a code to merge two lists iteratively in such a way that:\n",
    "# * For each iteration, one element will be picked up from each list and added to the output list\n",
    "# * After each iteration, the result in the output list should always be sorted\n",
    "# The lists can be of different lengths so if one gets exhausted, continue the iteration with the remaining elements of the other list\n",
    "# Example:\n",
    "# Iteration1: [11,90]\n",
    "# Iteration2: [4,11,55,90]\n",
    "# Iteration3: [4,11,55,66,88,90]\n",
    "# Iteration4: [4,11,33,55,66,66,88,90]\n",
    "# Iteration5: [4,11,22,33,55,66,66,88,90]\n",
    "# Iteration6: [4,11,22,33,55,66,66,88,90,99]\n",
    "list1 = [11, 4, 88, 66]\n",
    "list2 = [90, 55, 66, 33, 22, 99]"
   ]
  },
  {
   "cell_type": "code",
   "execution_count": null,
   "metadata": {},
   "outputs": [],
   "source": [
    "# 2b. Write a program to find two numbers such that they add up to the target.\n",
    "Example: \n",
    "l1 = [3, 5, 10, 2, 90, 9, 6, 12, 7, 6]\n",
    "target = 12\n",
    "Output: [[10,2], [3,9], [6,6], [5,7]]"
   ]
  },
  {
   "cell_type": "code",
   "execution_count": null,
   "metadata": {},
   "outputs": [],
   "source": [
    "# 2c. Fibonacci Series Using Generators\r\n",
    "# Solution:\r\n",
    "import itertools as it\r\n",
    "\r\n",
    "num_iterations = int(raw_input('How many? '))\r\n",
    "def fib():\r\n",
    "    a,b = 0,1\r\n",
    "    while True:\r\n",
    "        yield a\r\n",
    "        b = a+b\r\n",
    "        yield b\r\n",
    "        a = a+b\r\n",
    "\r\n",
    "for x in it.islice(fib(), num_iterations):\r\n",
    "    print x"
   ]
  },
  {
   "source": [
    "2. Core Python - Expert"
   ],
   "cell_type": "markdown",
   "metadata": {}
  },
  {
   "cell_type": "code",
   "execution_count": null,
   "metadata": {},
   "outputs": [],
   "source": [
    "# 3. What will be the output:\n",
    "singleton = 'hello',\n",
    "print(type(singleton))"
   ]
  },
  {
   "cell_type": "code",
   "execution_count": null,
   "metadata": {},
   "outputs": [],
   "source": [
    "# 4. Tuple containing values\n",
    "t2 = ([1,2,3,4], [5,6,7,8])\n",
    "# What will be the output\n",
    "t2[0].append(10)\n",
    "\n",
    "print(t2)"
   ]
  },
  {
   "cell_type": "code",
   "execution_count": null,
   "metadata": {},
   "outputs": [],
   "source": [
    "# 5. what will be the output\n",
    "a = set('abracadabra')\n",
    "print(a)"
   ]
  },
  {
   "cell_type": "code",
   "execution_count": null,
   "metadata": {},
   "outputs": [],
   "source": [
    "# 6. given a list, reverse the order using list slicing\n",
    "lst = [1,2,3,4,5]\n",
    "\n",
    "# Expected Output\n",
    "# [5,3,1]"
   ]
  },
  {
   "cell_type": "code",
   "execution_count": 11,
   "metadata": {},
   "outputs": [
    {
     "output_type": "execute_result",
     "data": {
      "text/plain": [
       "[1, 3, 5]"
      ]
     },
     "metadata": {},
     "execution_count": 11
    }
   ],
   "source": [
    "lst = [1,2,3,4,5]\n",
    "lst[::-2]\n",
    "lst[::2]"
   ]
  },
  {
   "source": [
    "3. OOP Concepts - Expert"
   ],
   "cell_type": "markdown",
   "metadata": {}
  },
  {
   "cell_type": "code",
   "execution_count": 4,
   "metadata": {},
   "outputs": [],
   "source": [
    "# 7. What will be the output\n",
    "class Employee:\n",
    "    def employeeDetails():\n",
    "        self.name = 'Matthew'\n",
    "        print(\"Name: \", self.name)\n",
    "        self.age = 30\n",
    "        print(\"Age: \", self.age)\n",
    "\n",
    "if __name__ == \"__main__\":\n",
    "    employee = Employee()\n",
    "    employee.employeeDetails()"
   ]
  },
  {
   "cell_type": "code",
   "execution_count": null,
   "metadata": {},
   "outputs": [],
   "source": [
    "# 8. What will be the output:\n",
    "class Employee:\n",
    "    def employeeDetails(self):\n",
    "        self.name = 'Matthew'\n",
    "        print(\"Name: \", self.name)\n",
    "        self.age = 30\n",
    "        print(\"Age: \", self.age)\n",
    "\n",
    "if __name__ == \"__main__\":\n",
    "    employee = Employee()\n",
    "    Employee.employeeDetails(employee)"
   ]
  },
  {
   "cell_type": "code",
   "execution_count": null,
   "metadata": {},
   "outputs": [],
   "source": [
    "# 9. How do we define a static function within a class?\n",
    "\n",
    "\n",
    "# Example:\n",
    "class Employee:\n",
    "    def employeeDetails(self):\n",
    "        self.name = 'Ben'\n",
    "\n",
    "    @staticmethod\n",
    "    def welcomeMessage():\n",
    "        print('Welcome to our organization!')"
   ]
  },
  {
   "cell_type": "code",
   "execution_count": null,
   "metadata": {},
   "outputs": [],
   "source": [
    "# 10. Multilevel and Multiple Inheritance?"
   ]
  },
  {
   "cell_type": "code",
   "execution_count": null,
   "metadata": {},
   "outputs": [],
   "source": [
    "# 11. What is the use of super keyword?"
   ]
  },
  {
   "source": [
    "4. Advance Python - Expert"
   ],
   "cell_type": "markdown",
   "metadata": {}
  },
  {
   "source": [
    "1. What are python iterators? <br />\n",
    "    Iterators are objects which can be traversed though or iterated upon.\n",
    "\n",
    "2. What is the difference between range & xrange? <br />\n",
    "    Xrange doesn’t actually generate a static list at run-time like range does. It creates the values as you need them with a special technique called yielding. This technique is used with a type of object known as generators. That means that if you have a really gigantic range you’d like to generate a list for, say one billion, xrange is the function to use.\n",
    "\n",
    "3. What does this mean: args, **kwargs? And why would we use it? <br />\n",
    "    We use args when we aren’t sure how many arguments are going to be passed to a function, or if we want to pass a stored list or tuple of arguments to a function. kwargs is used when we don’t know how many keyword arguments will be passed to a function, or it can be used to pass the values of a dictionary as keyword arguments. The identifiers args and kwargs are a convention, you could also use *bob and billy but that would not be wise.\n",
    "\n",
    "4. How is Multithreading achieved in Python? <br />\n",
    "    Python has a multi-threading package but if you want to multi-thread to speed your code up, then it’s usually not a good idea to use it. Python has a construct called the Global Interpreter Lock (GIL). The GIL makes sure that only one of your ‘threads’ can execute at any one time. A thread acquires the GIL, does a little work, then passes the GIL onto the next thread. This happens very quickly so to the human eye it may seem like your threads are executing in parallel, but they are really just taking turns using the same CPU core. All this GIL passing adds overhead to execution. This means that if you want to make your code run faster then using the threading package often isn’t a good idea."
   ],
   "cell_type": "markdown",
   "metadata": {}
  },
  {
   "source": [
    "5. Testing (TDD) - Expert\n",
    "- Unit Testing\n",
    "- Integration Testing\n",
    "- Load Testing"
   ],
   "cell_type": "markdown",
   "metadata": {}
  },
  {
   "cell_type": "code",
   "execution_count": null,
   "metadata": {},
   "outputs": [],
   "source": []
  }
 ]
}