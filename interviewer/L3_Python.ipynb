{
 "cells": [
  {
   "cell_type": "markdown",
   "metadata": {},
   "source": [
    "## Introduction\n",
    "\n",
    "1. Introduce yourself\n",
    "2. Ask how to pronounce the candidate's name\n",
    "3. Check if the candidate is ready and the audio and video devices work fine.\n",
    "4. Explain the interview flow and duration and ask if it works for the candidate."
   ]
  },
  {
   "cell_type": "markdown",
   "metadata": {},
   "source": [
    "## General Maturity Check\n",
    "\n",
    "1. Ask for candidate's current and most relevant projects\n",
    "- domain and purposes\n",
    "- process and team structures\n",
    "- sdlc and communication\n",
    "- roles and responsibilities\n",
    "\n",
    "2. Reveal the technologies - primary skillset as per the candidate\n",
    "\n",
    "3. Ask for the candidate's ambitions and desired roles."
   ]
  },
  {
   "cell_type": "markdown",
   "metadata": {},
   "source": [
    "## Technical Evaluation"
   ]
  },
  {
   "cell_type": "code",
   "execution_count": null,
   "metadata": {},
   "outputs": [],
   "source": [
    "# Basic/Intermediate\n",
    "\n",
    "# B1. Given a list:\n",
    "[1,2,3,4,6,7,8,9,12,4,2,5,7,2,5,2,1,4,6,3]\n",
    "# Push all the even numbers to the front and odd numbers to the back\n",
    "# Expected Output:\n",
    "[2,4,6,8,12,4,2,2,2,4,6,1,3,7,9,5,7,5,1,3]\n",
    "# The order of occourance of the numbers can change\n",
    "# Do not use any temporary variables.\n",
    "\n",
    "##################################################\n",
    "\n",
    "# B2. Given a list:\n",
    "[0,1,0,3,12]\n",
    "# Push all the zeros to the back\n",
    "# Expected Output:\n",
    "[1,3,12,0,0]\n",
    "# The order of occourance of the numbers can change\n",
    "# Do not use any temporary variables\n",
    "\n",
    "##################################################\n",
    "\n",
    "# B3. Given a list:\n",
    "lst = [0,2,1,3,5,5,6,8,7,9]\n",
    "# Print all the values where index == value\n",
    "# Output:\n",
    "[0, 3, 5, 6, 9]\n",
    "\n",
    "##################################################\n",
    "\n",
    "# B4. Given an array, rotate the array to the right by k steps, where k is non-negative.\n",
    "# k can be any finite integer value.\n",
    "# Input: \n",
    "nums = [1,2,3,4,5,6,7], k = 3\n",
    "# Output: \n",
    "[5,6,7,1,2,3,4]\n",
    "# Explanation:\n",
    "# rotate 1 steps to the right: [7,1,2,3,4,5,6]\n",
    "# rotate 2 steps to the right: [6,7,1,2,3,4,5]\n",
    "# rotate 3 steps to the right: [5,6,7,1,2,3,4]"
   ]
  },
  {
   "cell_type": "code",
   "execution_count": 2,
   "metadata": {},
   "outputs": [
    {
     "ename": "IndexError",
     "evalue": "list index out of range",
     "output_type": "error",
     "traceback": [
      "\u001b[1;31m---------------------------------------------------------------------------\u001b[0m",
      "\u001b[1;31mIndexError\u001b[0m                                Traceback (most recent call last)",
      "\u001b[1;32mC:\\Users\\ANSHUL~1\\AppData\\Local\\Temp/ipykernel_4228/3961771352.py\u001b[0m in \u001b[0;36m<module>\u001b[1;34m\u001b[0m\n\u001b[0;32m      3\u001b[0m     \u001b[1;32mif\u001b[0m \u001b[1;32mnot\u001b[0m  \u001b[0mi\u001b[0m \u001b[1;33m%\u001b[0m\u001b[1;36m2\u001b[0m \u001b[1;33m==\u001b[0m\u001b[1;36m0\u001b[0m\u001b[1;33m:\u001b[0m\u001b[1;33m\u001b[0m\u001b[1;33m\u001b[0m\u001b[0m\n\u001b[0;32m      4\u001b[0m         \u001b[0mlist1\u001b[0m\u001b[1;33m.\u001b[0m\u001b[0mremove\u001b[0m\u001b[1;33m(\u001b[0m\u001b[0mlist1\u001b[0m\u001b[1;33m[\u001b[0m\u001b[0mlist1\u001b[0m\u001b[1;33m[\u001b[0m\u001b[0mindex\u001b[0m\u001b[1;33m]\u001b[0m\u001b[1;33m]\u001b[0m\u001b[1;33m)\u001b[0m\u001b[1;33m\u001b[0m\u001b[1;33m\u001b[0m\u001b[0m\n\u001b[1;32m----> 5\u001b[1;33m         \u001b[0mlist1\u001b[0m\u001b[1;33m.\u001b[0m\u001b[0mappend\u001b[0m\u001b[1;33m(\u001b[0m\u001b[0mlist1\u001b[0m\u001b[1;33m[\u001b[0m\u001b[0mlist1\u001b[0m\u001b[1;33m[\u001b[0m\u001b[0mindex\u001b[0m\u001b[1;33m]\u001b[0m\u001b[1;33m]\u001b[0m\u001b[1;33m)\u001b[0m\u001b[1;33m\u001b[0m\u001b[1;33m\u001b[0m\u001b[0m\n\u001b[0m\u001b[0;32m      6\u001b[0m \u001b[1;33m\u001b[0m\u001b[0m\n\u001b[0;32m      7\u001b[0m \u001b[0mprint\u001b[0m\u001b[1;33m(\u001b[0m\u001b[0mlist1\u001b[0m\u001b[1;33m)\u001b[0m\u001b[1;33m\u001b[0m\u001b[1;33m\u001b[0m\u001b[0m\n",
      "\u001b[1;31mIndexError\u001b[0m: list index out of range"
     ]
    }
   ],
   "source": [
    "list1 = [1,2,3,4,6,7,8,9,12,4,2,5,7,2,5,2,1,4,6,3]\n",
    "for index,i in enumerate(list1):\n",
    "    if not  i %2 ==0:\n",
    "        list1.remove(list1[list1[index]])\n",
    "        list1.append(list1[list1[index]])\n",
    "\n",
    "print(list1)"
   ]
  },
  {
   "cell_type": "code",
   "execution_count": 7,
   "metadata": {},
   "outputs": [
    {
     "name": "stdout",
     "output_type": "stream",
     "text": [
      "[7, 6, 5, [1, 2, 3]]\n"
     ]
    }
   ],
   "source": [
    "nums = [1,2,3,4,5,6,7]\n",
    "k = 3\n",
    "# Output: \n",
    "#[5,6,7,1,2,3,4]\n",
    "# Explanation:\n",
    "# rotate 1 steps to the right: [7,1,2,3,4,5,6]\n",
    "# rotate 2 steps to the right: [6,7,1,2,3,4,5]\n",
    "# rotate 3 steps to the right: [5,6,7,1,2,3,4]\n",
    "count = 0\n",
    "op_list2=[]\n",
    "#op_list2 = [items for items in reverse(nums)]\n",
    "for items in reversed(nums):\n",
    "    count+=1\n",
    "    op_list2.append(items)\n",
    "    if count==k:\n",
    "        break\n",
    "op_list2.append(nums[:k])\n",
    "print(op_list2)"
   ]
  },
  {
   "cell_type": "code",
   "execution_count": 6,
   "metadata": {},
   "outputs": [
    {
     "data": {
      "text/plain": [
       "[7, 6, 5, 4, 3, 2, 1]"
      ]
     },
     "execution_count": 6,
     "metadata": {},
     "output_type": "execute_result"
    }
   ],
   "source": [
    "nums.reverse()\n",
    "nums"
   ]
  },
  {
   "cell_type": "code",
   "execution_count": 3,
   "metadata": {},
   "outputs": [
    {
     "name": "stdout",
     "output_type": "stream",
     "text": [
      "[1, 2, 3, 4, 5, [6, 7, 8, 9, 10]]\n"
     ]
    }
   ],
   "source": [
    "l1 = [1,2,3,4,5]\n",
    "l2 = [6,7,8,9,10]\n",
    "\n",
    "l3 = l1.append(l2[:])\n",
    "\n",
    "print(l1)"
   ]
  },
  {
   "cell_type": "code",
   "execution_count": 6,
   "metadata": {},
   "outputs": [
    {
     "name": "stdout",
     "output_type": "stream",
     "text": [
      "[1, 2, 3, 4, 5, 6, 7]\n"
     ]
    }
   ],
   "source": [
    "def rotate(nums, k):\n",
    "    l = len(nums)\n",
    "    offset = (k+1)%l\n",
    "    return nums[offset:] + nums[:offset]\n",
    "\n",
    "nums = [1,2,3,4,5,6,7] \n",
    "k = -1\n",
    "\n",
    "print(rotate(nums, k))"
   ]
  },
  {
   "cell_type": "code",
   "execution_count": 14,
   "metadata": {},
   "outputs": [
    {
     "name": "stdout",
     "output_type": "stream",
     "text": [
      "0\n",
      "[1, 2, 3, 4, 5, 6, 7]\n"
     ]
    }
   ],
   "source": [
    "nums = [1,2,3,4,5,6,7]\n",
    "k = 700000\n",
    "\n",
    "N = len(nums)\n",
    "\n",
    "change_in_pos = k%N\n",
    "print(change_in_pos)\n",
    "if change_in_pos:\n",
    "    new_list = nums[-change_in_pos:] + nums[:N-change_in_pos] \n",
    "else:\n",
    "    new_list = nums\n",
    "\n",
    "print(new_list)"
   ]
  },
  {
   "cell_type": "code",
   "execution_count": 6,
   "metadata": {},
   "outputs": [
    {
     "data": {
      "text/plain": [
       "[4, 5, 6, 7, 1, 2, 3]"
      ]
     },
     "execution_count": 6,
     "metadata": {},
     "output_type": "execute_result"
    }
   ],
   "source": [
    "nums = [1,2,3,4,5,6,7]\n",
    "k = 4\n",
    "length = len(nums)\n",
    "\n",
    "length_back = k % length\n",
    "# Get index of that particular number last --> length_back -- 5\n",
    "#slice array -- index to length\n",
    "#slice array from 0 to index\n",
    "#ocmbine array\n",
    "slice_1 = nums[length - length_back : length]\n",
    "slice_2 = nums[0: length - length_back]\n",
    "slice_1 + slice_2"
   ]
  },
  {
   "cell_type": "code",
   "execution_count": 2,
   "metadata": {},
   "outputs": [
    {
     "name": "stdout",
     "output_type": "stream",
     "text": [
      "None\n",
      "None\n",
      "None\n",
      "None\n"
     ]
    }
   ],
   "source": [
    "nums = [1,2,3,4,5,6,7]\n",
    "k = 4\n",
    "\n",
    "lst_tmp = list()\n",
    "for i in range(k):\n",
    "    val =nums.pop(-1)\n",
    "    # lst_tmp = \n",
    "    [val].extend(nums)\n",
    "    print([val].extend(nums))"
   ]
  },
  {
   "cell_type": "code",
   "execution_count": 1,
   "metadata": {},
   "outputs": [],
   "source": [
    "# def even_odd_replacing(elements):\n",
    "#     odd_counter = 0\n",
    "#     even_counter = 0\n",
    "#     for nr,item in enumerate(elements):\n",
    "#         if item % 2 == 0:\n",
    "#             temp_value = elements[even_counter]\n",
    "#             elements[even_counter] = item\n",
    "#             elements[nr] = temp_value\n",
    "#             even_counter += 1\n",
    "#         else:\n",
    "#             while elements[-odd_counter] % 2 == 1:\n",
    "#                 odd_counter += 1\n",
    "#             temp_value = elements[-odd_counter]\n",
    "#             elements[-odd_counter] = item\n",
    "#             elements[nr] = temp_value\n",
    "#             odd_counter += 1\n",
    "            \n",
    "\n",
    "# list_a = [1,2,3,40]\n",
    "# list_a.append(list_a.pop[0])\n",
    "\n",
    "\n",
    "# def index_is_value(elements):\n",
    "#     output_list = []\n",
    "#     for nr,item in enumerate(elements):\n",
    "#         if nr == item:\n",
    "#             output_list.append(item)\n",
    "#     return output_list  \n",
    "    \n",
    "    \n",
    "\n",
    "def rotate_array_by_k(elements,k):\n",
    "    rotate_by = k % len(elements)\n",
    "    return elements[:-rotate_by] + elements[rotate_by:-rotate_by]"
   ]
  },
  {
   "cell_type": "code",
   "execution_count": 7,
   "metadata": {},
   "outputs": [
    {
     "data": {
      "text/plain": [
       "[5, 6, 7, 1, 2, 3, 4]"
      ]
     },
     "execution_count": 7,
     "metadata": {},
     "output_type": "execute_result"
    }
   ],
   "source": [
    "# nums = [1,2,3,4,5,6,7]\n",
    "# k = 3\n",
    "# print(rotate_array_by_k(nums, k))\n",
    "\n",
    "nums[-3:] + nums[:4]"
   ]
  },
  {
   "cell_type": "code",
   "execution_count": 2,
   "metadata": {},
   "outputs": [
    {
     "data": {
      "text/plain": [
       "[5, 6, 7, 1, 2, 3, 4]"
      ]
     },
     "execution_count": 2,
     "metadata": {},
     "output_type": "execute_result"
    }
   ],
   "source": [
    "nums"
   ]
  },
  {
   "cell_type": "code",
   "execution_count": null,
   "metadata": {},
   "outputs": [],
   "source": [
    "# Moderate/Advanced\n",
    "\n",
    "# M1. Write a code to merge two lists iteratively in such a way that:\n",
    "# * For each iteration, one element will be picked up from each list and added to the output list\n",
    "# * After each iteration, the result in the output list should always be sorted\n",
    "# The lists can be of different lengths so if one gets exhausted, continue the iteration with the remaining elements of the other list\n",
    "# Example:\n",
    "# Iteration1: [11,90]\n",
    "# Iteration2: [4,11,55,90]\n",
    "# Iteration3: [4,11,55,66,88,90]\n",
    "# Iteration4: [4,11,33,55,66,66,88,90]\n",
    "# Iteration5: [4,11,22,33,55,66,66,88,90]\n",
    "# Iteration6: [4,11,22,33,55,66,66,88,90,99]\n",
    "list1 = [11, 4, 88, 66]\n",
    "list2 = [90, 55, 66, 33, 22, 99]\n",
    "\n",
    "##################################################\n",
    "\n",
    "# M2. Given two integer arrays nums1 and nums2, return an array of their intersection. \n",
    "# Each element in the result must appear as many times as it shows in both arrays and you may return the result in any order.\n",
    "# Example 1:\n",
    "# Input: \n",
    "nums1 = [1,2,2,1], nums2 = [2,2]\n",
    "# Output: \n",
    "[2,2]\n",
    "# Example 2:\n",
    "# Input: \n",
    "nums1 = [4,9,5], nums2 = [9,4,9,8,4]\n",
    "# Output: \n",
    "[4,9]\n",
    "# Explanation: [9,4] is also accepted.\n",
    "\n",
    "##################################################\n",
    "\n",
    "# M3. Fibonacci series using generators\n",
    "# Solution:\n",
    "import itertools as it\n",
    "\n",
    "num_iterations = int(raw_input('How many? '))\n",
    "def fib():\n",
    "    a,b = 0,1\n",
    "    while True:\n",
    "        yield a\n",
    "        b = a+b\n",
    "        yield b\n",
    "        a = a+b\n",
    "\n",
    "for x in it.islice(fib(), num_iterations):\n",
    "    print x\n",
    "\n",
    "##################################################\n",
    "\n",
    "# M4. \n",
    "# Given a signed 32-bit integer x, return x with its digits reversed. \n",
    "# If reversing x causes the value to go outside the signed 32-bit integer range [-2^31, 2^31 - 1], then return 0.\n",
    "# Assume the environment does not allow you to store 64-bit integers (signed or unsigned).\n",
    "\n",
    "# Example 1:\n",
    "# Input: x = 123\n",
    "# Output: 321\n",
    "\n",
    "# Example 2:\n",
    "# Input: x = -123\n",
    "# Output: -321\n",
    "\n",
    "# Example 3:\n",
    "# Input: x = 120\n",
    "# Output: 21\n",
    "\n",
    "# Example 4:\n",
    "# Input: x = 0\n",
    "# Output: 0\n",
    "\n",
    "# Constraints: -2^31 <= x <= 2^31 - 1\n",
    "\n",
    "def reverse(self, x: int) -> int:\n",
    "    neg = False\n",
    "    if x < 0:\n",
    "        neg = True\n",
    "    x_rev = list(str(abs(x)))\n",
    "    x_rev.reverse()\n",
    "    x_rev = int(''.join(x_rev))\n",
    "\n",
    "    if abs(x_rev) > (2**31 - 1):\n",
    "        return 0\n",
    "    elif neg:\n",
    "        x_rev = x_rev*-1\n",
    "        return x_rev\n",
    "    else:\n",
    "        return x_rev\n"
   ]
  },
  {
   "cell_type": "code",
   "execution_count": 12,
   "metadata": {},
   "outputs": [],
   "source": [
    "# def _revers_int (number):\n",
    "#     str_num = number\n",
    "#     rqrd_str = ''\n",
    "#     if str_num[0]=='-':\n",
    "#         rqrd_str+= str_num[0]\n",
    "#     str_num_revers = str_num[::-1]    \n",
    "#     rqrd_str+=str_num_revers\n",
    "#     if rqrd_str[0] == '0':\n",
    "#         return rqrd_str[1:]\n",
    "#     if str_num[0]=='0':\n",
    "#         return '0'\n",
    "\n",
    "def _revers_int (number):\n",
    "    str_num = number\n",
    "    rqrd_str = ''\n",
    "    if str_num[0]=='-':\n",
    "        rqrd_str+= str_num[0]\n",
    "    str_num_revers = str_num[::-1]    \n",
    "    if str_num_revers[0]=='0':\n",
    "        rqrd_str+=str_num_revers[1:]\n",
    "    rqrd_str+=str_num_revers\n",
    "    if str_num[0]=='0':\n",
    "        return '0'"
   ]
  },
  {
   "cell_type": "code",
   "execution_count": 13,
   "metadata": {},
   "outputs": [
    {
     "name": "stdout",
     "output_type": "stream",
     "text": [
      "None\n"
     ]
    }
   ],
   "source": [
    "print(_revers_int('-120'))"
   ]
  },
  {
   "cell_type": "code",
   "execution_count": 1,
   "metadata": {},
   "outputs": [
    {
     "data": {
      "text/plain": [
       "{2}"
      ]
     },
     "execution_count": 1,
     "metadata": {},
     "output_type": "execute_result"
    }
   ],
   "source": [
    "l1 = {1,2,2,1}\n",
    "l2 = {2,2}\n",
    "\n",
    "l1.intersection(l2)"
   ]
  },
  {
   "cell_type": "code",
   "execution_count": 1,
   "metadata": {},
   "outputs": [],
   "source": [
    "def fibonacci(n):\n",
    "    element1, element2 = 0, 1\n",
    "    for i in range(n):\n",
    "        yield element1\n",
    "        element1, element2 = element2, element1 + element2 "
   ]
  },
  {
   "cell_type": "code",
   "execution_count": 5,
   "metadata": {},
   "outputs": [
    {
     "name": "stdout",
     "output_type": "stream",
     "text": [
      "[0, 1, 1, 2, 3, 5, 8]\n"
     ]
    }
   ],
   "source": [
    "print(list(fibonacci(7)))"
   ]
  },
  {
   "cell_type": "code",
   "execution_count": 3,
   "metadata": {},
   "outputs": [
    {
     "name": "stdout",
     "output_type": "stream",
     "text": [
      "[11, 90]\n",
      "[4, 11, 55, 90]\n",
      "[4, 11, 55, 66, 88, 90]\n",
      "[4, 11, 33, 55, 66, 66, 88, 90]\n",
      "[4, 11, 22, 33, 55, 66, 66, 88, 90]\n",
      "[4, 11, 22, 33, 55, 66, 66, 88, 90, 99]\n"
     ]
    }
   ],
   "source": [
    "list1 = [11, 4, 88, 66]\n",
    "list2 = [90, 55, 66, 33, 22, 99]\n",
    "\n",
    "res = []\n",
    "\n",
    "length = [len(list1), len(list2)]\n",
    "length = sorted(length)\n",
    "\n",
    "l1_len = len(list1)\n",
    "l2_len = len(list2)\n",
    "\n",
    "for i in range(length[-1]):\n",
    "    if i < l1_len:\n",
    "        a = list1[i]\n",
    "        res.append(a)\n",
    "    \n",
    "    if i < l2_len:\n",
    "        b = list2[i]\n",
    "        res.append(b)\n",
    "        \n",
    "    res = sorted(res)\n",
    "    print(res)"
   ]
  },
  {
   "cell_type": "code",
   "execution_count": 2,
   "metadata": {},
   "outputs": [
    {
     "name": "stdout",
     "output_type": "stream",
     "text": [
      "<class 'tuple'>\n",
      "([1, 2, 3, 4, 10], [5, 6, 7, 8])\n",
      "{'c', 'a', 'd', 'b', 'r'}\n"
     ]
    }
   ],
   "source": [
    "# Python Core / Basic Concepts\n",
    "\n",
    "# C1. What will be the output:\n",
    "sample = 'hello',\n",
    "print(type(sample))\n",
    "\n",
    "##################################################\n",
    "\n",
    "# C2. Tuple containing values\n",
    "t2 = ([1,2,3,4], [5,6,7,8])\n",
    "# What will be the output\n",
    "t2[0].append(10)\n",
    "\n",
    "print(t2)\n",
    "\n",
    "##################################################\n",
    "\n",
    "# C3. what will be the output\n",
    "a = set('abracadabra')\n",
    "print(a)\n",
    "\n",
    "##################################################\n",
    "\n",
    "# C4. Given a list, use list slicing to get the expected output:\n",
    "lst = [1,2,3,4,5]\n",
    "\n",
    "# Expected Output\n",
    "# [5,3,1]\n",
    "\n",
    "##################################################"
   ]
  },
  {
   "cell_type": "code",
   "execution_count": 9,
   "metadata": {},
   "outputs": [
    {
     "data": {
      "text/plain": [
       "[5, 3]"
      ]
     },
     "execution_count": 9,
     "metadata": {},
     "output_type": "execute_result"
    }
   ],
   "source": [
    "lst = [1,2,3,4,5]\n",
    "lst[4:0:-2]"
   ]
  },
  {
   "cell_type": "code",
   "execution_count": 6,
   "metadata": {},
   "outputs": [
    {
     "name": "stdout",
     "output_type": "stream",
     "text": [
      "[1, 2, 3, 4, 5]\n"
     ]
    }
   ],
   "source": [
    "lst = [1,2,3,4,5]\n",
    "lst[::2].reverse()\n",
    "print(lst)"
   ]
  },
  {
   "cell_type": "code",
   "execution_count": null,
   "metadata": {},
   "outputs": [],
   "source": [
    "## Python OOPs\n",
    "\n",
    "# 1. How do we define a static function within a class? Can you write the syntax?\n",
    "# 2. Multilevel and Multiple Inheritance?\n",
    "# 3. What is the use of super keyword?\n",
    "# 4. What is the famous diamond shaped problem with inheritance?\n",
    "# 5. Can you identify the issue with the code below:\n",
    "class Employee:\n",
    "    def employeeDetails():\n",
    "        self.name = 'Matthew'\n",
    "        print(\"Name: \", self.name)\n",
    "        self.age = 30\n",
    "        print(\"Age: \", self.age)\n",
    "\n",
    "if __name__ == \"__main__\":\n",
    "    employee = Employee()\n",
    "    Employee.employeeDetails(employee)"
   ]
  },
  {
   "cell_type": "code",
   "execution_count": null,
   "metadata": {},
   "outputs": [],
   "source": [
    "# # Python Theoritical Concepts\n",
    "\n",
    "# 1. What are python iterators? <br />\n",
    "#     Iterators are objects which can be traversed though or iterated upon.\n",
    "\n",
    "# 2. What is the difference between range & xrange? <br />\n",
    "#     Xrange doesn’t actually generate a static list at run-time like range does. It creates the values as you need them with a special technique called yielding. This technique is used with a type of object known as generators. That means that if you have a really gigantic range you’d like to generate a list for, say one billion, xrange is the function to use.\n",
    "\n",
    "# 3. What does this mean: args, **kwargs? And why would we use it? <br />\n",
    "#     We use args when we aren’t sure how many arguments are going to be passed to a function, or if we want to pass a stored list or tuple of arguments to a function. kwargs is used when we don’t know how many keyword arguments will be passed to a function, or it can be used to pass the values of a dictionary as keyword arguments. The identifiers args and kwargs are a convention, you could also use *bob and billy but that would not be wise.\n",
    "\n",
    "# 4. How is Multithreading achieved in Python? <br />\n",
    "#     Python has a multi-threading package but if you want to multi-thread to speed your code up, then it’s usually not a good idea to use it. Python has a construct called the Global Interpreter Lock (GIL). The GIL makes sure that only one of your ‘threads’ can execute at any one time. A thread acquires the GIL, does a little work, then passes the GIL onto the next thread. This happens very quickly so to the human eye it may seem like your threads are executing in parallel, but they are really just taking turns using the same CPU core. All this GIL passing adds overhead to execution. This means that if you want to make your code run faster then using the threading package often isn’t a good idea."
   ]
  },
  {
   "cell_type": "markdown",
   "metadata": {},
   "source": [
    "## Questions\n",
    "\n",
    "\n",
    "    Ask if the candidate has any questions.\n",
    "    Be ready to answer the candidate's questions on technologies, projects and tasks, but remember not to disclose any confidential details.\n",
    "    Be prepared for questions about the company philosophy, mission, values, performance criteria, management style, culture, etc. This deck contains general overview of EPAM values.\n",
    "    In case you cannot provide the exact answer on any question, tell the candidate that this information can be discussed with the responsible recruiter who is to contact the candidate after the tech interview.\n",
    "\n",
    "\n"
   ]
  },
  {
   "cell_type": "markdown",
   "metadata": {},
   "source": [
    "## Closure\n",
    "\n",
    "\n",
    "\n",
    "    Explain the next steps:\n",
    "        The final decision is made by a hiring manager. \n",
    "        Results of a technical interview are usually provided within 1-5 business days by recruiters.\n",
    "        In case of any questions or delays, the candidate may contact the recruiter directly.\n",
    "    Thank a candidate for taking time to attend an interview.\n",
    "    Be gracious even if a person did not do well!\n",
    "\n"
   ]
  },
  {
   "cell_type": "markdown",
   "metadata": {},
   "source": []
  }
 ],
 "metadata": {
  "interpreter": {
   "hash": "07e7546c8ab05cb33a05be587059aa2c513f9341d0d154e309e24d61ba5a29ea"
  },
  "kernelspec": {
   "display_name": "Python 3.9.7 64-bit",
   "name": "python3"
  },
  "language_info": {
   "codemirror_mode": {
    "name": "ipython",
    "version": 3
   },
   "file_extension": ".py",
   "mimetype": "text/x-python",
   "name": "python",
   "nbconvert_exporter": "python",
   "pygments_lexer": "ipython3",
   "version": "3.9.7"
  },
  "orig_nbformat": 4
 },
 "nbformat": 4,
 "nbformat_minor": 2
}
