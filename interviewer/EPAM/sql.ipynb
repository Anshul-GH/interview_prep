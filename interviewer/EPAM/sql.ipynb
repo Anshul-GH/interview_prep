{
 "cells": [
  {
   "cell_type": "code",
   "execution_count": null,
   "metadata": {},
   "outputs": [],
   "source": [
    "## SQL\n",
    "\n",
    "# # EmployeeInfo Table: \n",
    "# EmpID\n",
    "# EmpFname\n",
    "# EmpLname\n",
    "# Department\n",
    "# Project\n",
    "# Address\n",
    "# DOB\n",
    "# Gender\n",
    "\n",
    "# Write the SQL qyery to fetch the department-wise count of \n",
    "# employees sorted by department’s count in ascending order.\n",
    "\n",
    "##################################################################################################################\n",
    "\n",
    "# # Table1 and Table2:\n",
    "# TABLE_1\n",
    "# COLUMN_1\n",
    "# 1\n",
    "# 1\n",
    "# 0\n",
    "# 0\n",
    "# 2\n",
    "# 3\n",
    "# null\n",
    "# null\n",
    "\n",
    "# TABLE_2\n",
    "# COLUMN_2\n",
    "# 0\n",
    "# 1\n",
    "# 1\n",
    "# 2\n",
    "# 4\n",
    "# null\n",
    "# null\n",
    "# null\n",
    "\n",
    "# What will be the output of below query:\n",
    "\n",
    "# Query:\n",
    "# SELECT count(*)\n",
    "# FROM TABLE_1 LEFT JOIN TABLE_2\n",
    "# ON TABLE_1.COLUMN_1 = TABLE_2.COLUMN_2;\n",
    "\n",
    "##################################################################################################################\n",
    "\n",
    "#3. Find duplicates in a table:\n",
    "\n",
    "# Solution:\n",
    "# select * from Employee a where rowid <>( select max(rowid) from Employee b where a.Employee_num=b.Employee_num);\n",
    "\n",
    "##################################################################################################################\n",
    "\n",
    "#4. Find second highest salary:\n",
    "# Given \n",
    "\n",
    "# Solution:\n",
    "# select distinct Salary from Employee e1 where 2=Select count(distinct Salary) from Employee e2 where e1.salary<=e2.salary;\n",
    "\n",
    "##################################################################################################################"
   ]
  },
  {
   "cell_type": "code",
   "execution_count": null,
   "metadata": {},
   "outputs": [],
   "source": [
    "# ORM:\n",
    "\n",
    "# Table: employee\n",
    "# Columns: emp_id, name, salary\n",
    "\n",
    "# ORM syntax to fetch all the employees \n",
    "# with the second highest salary"
   ]
  }
 ],
 "metadata": {
  "kernelspec": {
   "display_name": "Python 3.10.4 64-bit",
   "language": "python",
   "name": "python3"
  },
  "language_info": {
   "name": "python",
   "version": "3.10.6"
  },
  "orig_nbformat": 4,
  "vscode": {
   "interpreter": {
    "hash": "aaa5c832b63eae91981a2a50352553a3961fa32ff189f781a6f1ad2872196c19"
   }
  }
 },
 "nbformat": 4,
 "nbformat_minor": 2
}
