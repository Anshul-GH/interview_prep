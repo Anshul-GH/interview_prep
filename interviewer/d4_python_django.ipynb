{
 "cells": [
  {
   "cell_type": "markdown",
   "metadata": {},
   "source": [
    "1. Problem Solving (DS & Algo) - Expert"
   ]
  },
  {
   "cell_type": "code",
   "execution_count": null,
   "metadata": {},
   "outputs": [],
   "source": [
    "# 1. Given a list:\n",
    "[1,2,3,4,6,7,8,9,12,4,2,5,7,2,5,2,1,4,6,3]\n",
    "# Push all the even numbers to the front and odd numbers to the back\n",
    "# Output:\n",
    "[2,4,6,8,12,4,2,2,2,4,6,1,3,7,9,5,7,5,1,3]"
   ]
  },
  {
   "cell_type": "code",
   "execution_count": 12,
   "metadata": {},
   "outputs": [
    {
     "name": "stdout",
     "output_type": "stream",
     "text": [
      "None\n"
     ]
    }
   ],
   "source": [
    "lst = [1,2,3,4,6,7,8,9,12,4,2,5,7,2,5,2,1,4,6,3]\r\n",
    "# sorted(lst, key=lambda x: x % 2)\r\n",
    "print(lst.sort())"
   ]
  },
  {
   "cell_type": "code",
   "execution_count": 3,
   "metadata": {},
   "outputs": [
    {
     "data": {
      "text/plain": [
       "[2, 4, 6, 8, 12, 4, 2, 2, 2, 4, 6]"
      ]
     },
     "execution_count": 3,
     "metadata": {},
     "output_type": "execute_result"
    }
   ],
   "source": [
    "input_list = [1,2,3,4,6,7,8,9,12,4,2,5,7,2,5,2,1,4,6,3]\r\n",
    "even_list=list(filter(lambda x:x%2==0,input_list))\r\n",
    "even_list"
   ]
  },
  {
   "cell_type": "code",
   "execution_count": 8,
   "metadata": {},
   "outputs": [
    {
     "name": "stdout",
     "output_type": "stream",
     "text": [
      "[2, 4, 6, 8, 12, 4, 2, 7, 2, 2, 4, 6, 1, 7, 5, 1, 3, 5, 9, 3]\n"
     ]
    }
   ],
   "source": [
    "nums = [1,2,3,4,6,7,8,9,12,4,2,5,7,2,5,2,1,4,6,3]\r\n",
    "# Alternate Solution:\r\n",
    "# even_nums = list(filter(lambda x:x%2!=0, nums))\r\n",
    "# odd_nums = list(filter(lambda x:x%2==0, nums))\r\n",
    "# print(even_nums)\r\n",
    "# print(odd_nums)\r\n",
    "\r\n",
    "# Alternate Solution:\r\n",
    "# nums.sort(key=lambda x: x%2)\r\n",
    "\r\n",
    "# Alternate Solution:\r\n",
    "# for i in range(len(nums)):\r\n",
    "#     if nums[i] % 2 != 0:\r\n",
    "#         temp = nums.pop(i)\r\n",
    "#         nums.append(temp)\r\n",
    "\r\n",
    "# print(nums)"
   ]
  },
  {
   "cell_type": "code",
   "execution_count": 5,
   "metadata": {},
   "outputs": [
    {
     "data": {
      "text/plain": [
       "[2, 4, 6, 8, 12, 4, 2, 2, 2, 4, 6, 1, 3, 7, 9, 5, 7, 5, 1, 3]"
      ]
     },
     "execution_count": 5,
     "metadata": {},
     "output_type": "execute_result"
    }
   ],
   "source": [
    "nums"
   ]
  },
  {
   "cell_type": "code",
   "execution_count": 8,
   "metadata": {},
   "outputs": [],
   "source": [
    "# a = [1,2,3,4]\n",
    "# b = [5,6,7,8]\n",
    "# ex = a.extend(b)"
   ]
  },
  {
   "cell_type": "code",
   "execution_count": 9,
   "metadata": {},
   "outputs": [],
   "source": [
    "ex"
   ]
  },
  {
   "cell_type": "code",
   "execution_count": 9,
   "metadata": {},
   "outputs": [],
   "source": [
    "# 2a. Write a code to merge two lists iteratively in such a way that:\n",
    "# * For each iteration, one element will be picked up from each list and added to the output list\n",
    "# * After each iteration, the result in the output list should always be sorted\n",
    "# The lists can be of different lengths so if one gets exhausted, continue the iteration with the remaining elements of the other list\n",
    "# Example:\n",
    "# Iteration1: [11,90]\n",
    "# Iteration2: [4,11,55,90]\n",
    "# Iteration3: [4,11,55,66,88,90]\n",
    "# Iteration4: [4,11,33,55,66,66,88,90]\n",
    "# Iteration5: [4,11,22,33,55,66,66,88,90]\n",
    "# Iteration6: [4,11,22,33,55,66,66,88,90,99]\n",
    "list1 = [11, 4, 88, 66]\n",
    "list2 = [90, 55, 66, 33, 22, 99]"
   ]
  },
  {
   "cell_type": "code",
   "execution_count": null,
   "metadata": {},
   "outputs": [],
   "source": [
    "# len_l1 = len(list1)\r\n",
    "# len_l2 = len(list2)\r\n",
    "\r\n",
    "# for i in range(len_l2):\r\n"
   ]
  },
  {
   "cell_type": "code",
   "execution_count": null,
   "metadata": {},
   "outputs": [],
   "source": [
    "# 2b. Write a program to find two numbers such that they add up to the target.\r\n",
    "# Example:\r\n",
    "l1 = [3, 5, 10, 2, 90, 9, 6, 12, 7, 6]\r\n",
    "target = 12\r\n",
    "Output: [[10,2], [3,9], [6,6], [5,7]]"
   ]
  },
  {
   "cell_type": "code",
   "execution_count": 4,
   "metadata": {},
   "outputs": [
    {
     "name": "stdout",
     "output_type": "stream",
     "text": [
      "(3, 9)\n",
      "(4, 8)\n",
      "(6, 6)\n",
      "(7, 5)\n",
      "(7, 5)\n",
      "(8, 4)\n",
      "(8, 4)\n",
      "(9, 3)\n",
      "(5, 7)\n",
      "(7, 5)\n"
     ]
    }
   ],
   "source": [
    "from itertools import combinations\r\n",
    "\r\n",
    "pair_list=list(combinations(input_list,2))\r\n",
    "sum=12\r\n",
    "\r\n",
    "for i in pair_list:\r\n",
    "    if i[0]+i[1] ==12:\r\n",
    "        print(i)"
   ]
  },
  {
   "cell_type": "code",
   "execution_count": null,
   "metadata": {},
   "outputs": [],
   "source": [
    "# 2c. Fibonacci Series Using Generators\r\n",
    "# Solution:\r\n",
    "import itertools as it\r\n",
    "\r\n",
    "num_iterations = int(raw_input('How many? '))\r\n",
    "def fib():\r\n",
    "    a,b = 0,1\r\n",
    "    while True:\r\n",
    "        yield a\r\n",
    "        b = a+b\r\n",
    "        yield b\r\n",
    "        a = a+b\r\n",
    "\r\n",
    "for x in it.islice(fib(), num_iterations):\r\n",
    "    print x"
   ]
  },
  {
   "cell_type": "markdown",
   "metadata": {},
   "source": [
    "2. Core Python - Expert"
   ]
  },
  {
   "cell_type": "code",
   "execution_count": null,
   "metadata": {},
   "outputs": [],
   "source": [
    "# 3. What will be the output:\n",
    "singleton = 'hello',\n",
    "print(type(singleton))"
   ]
  },
  {
   "cell_type": "code",
   "execution_count": null,
   "metadata": {},
   "outputs": [],
   "source": [
    "# 4. Tuple containing values\n",
    "t2 = ([1,2,3,4], [5,6,7,8])\n",
    "# What will be the output\n",
    "t2[0].append(10)\n",
    "\n",
    "print(t2)"
   ]
  },
  {
   "cell_type": "code",
   "execution_count": null,
   "metadata": {},
   "outputs": [],
   "source": [
    "# 5. what will be the output\n",
    "a = set('abracadabra')\n",
    "print(a)"
   ]
  },
  {
   "cell_type": "code",
   "execution_count": null,
   "metadata": {},
   "outputs": [],
   "source": [
    "# 6. given a list, reverse the order using list slicing\n",
    "lst = [1,2,3,4,5]\n",
    "\n",
    "# Expected Output\n",
    "# [5,3,1]"
   ]
  },
  {
   "cell_type": "code",
   "execution_count": 7,
   "metadata": {},
   "outputs": [
    {
     "data": {
      "text/plain": [
       "[5, 3]"
      ]
     },
     "execution_count": 7,
     "metadata": {},
     "output_type": "execute_result"
    }
   ],
   "source": [
    "lst = [1,2,3,4,5]\r\n",
    "lst[::-2]\r\n",
    "# lst[::2]\r\n",
    "# lst[::3]\r\n",
    "\r\n",
    "# lst[-1:0:-2]\r\n",
    "lst[-1:-4:-2]"
   ]
  },
  {
   "cell_type": "markdown",
   "metadata": {},
   "source": [
    "3. OOP Concepts - Expert"
   ]
  },
  {
   "cell_type": "code",
   "execution_count": 4,
   "metadata": {},
   "outputs": [],
   "source": [
    "# 7. What will be the output\r\n",
    "class Employee:\r\n",
    "    def __init__(self):\r\n",
    "        pass\r\n",
    "    \r\n",
    "    def employeeDetails():\r\n",
    "        self.name = 'Matthew'\r\n",
    "        print(\"Name: \", self.name)\r\n",
    "        self.age = 30\r\n",
    "        print(\"Age: \", self.age)\r\n",
    "\r\n",
    "if __name__ == \"__main__\":\r\n",
    "    employee = Employee()\r\n",
    "    employee.employeeDetails()"
   ]
  },
  {
   "cell_type": "code",
   "execution_count": null,
   "metadata": {},
   "outputs": [],
   "source": [
    "# 8. What will be the output:\r\n",
    "class Employee:\r\n",
    "    def employeeDetails(self):\r\n",
    "        self.name = 'Matthew'\r\n",
    "        print(\"Name: \", self.name)\r\n",
    "        self.age = 30\r\n",
    "        print(\"Age: \", self.age)\r\n",
    "\r\n",
    "if __name__ == \"__main__\":\r\n",
    "    employee = Employee()\r\n",
    "    Employee.employeeDetails(employee)\r\n",
    "    employee.employeeDetails()"
   ]
  },
  {
   "cell_type": "code",
   "execution_count": null,
   "metadata": {},
   "outputs": [],
   "source": [
    "# 9. How do we define a static function within a class?\n",
    "\n",
    "\n",
    "# Example:\n",
    "class Employee:\n",
    "    def employeeDetails(self):\n",
    "        self.name = 'Ben'\n",
    "\n",
    "    @staticmethod\n",
    "    def welcomeMessage():\n",
    "        print('Welcome to our organization!')"
   ]
  },
  {
   "cell_type": "code",
   "execution_count": null,
   "metadata": {},
   "outputs": [],
   "source": [
    "# 10. Multilevel and Multiple Inheritance?"
   ]
  },
  {
   "cell_type": "code",
   "execution_count": null,
   "metadata": {},
   "outputs": [],
   "source": [
    "# 11. What is the use of super keyword?"
   ]
  },
  {
   "cell_type": "markdown",
   "metadata": {},
   "source": [
    "4. Advance Python - Expert"
   ]
  },
  {
   "cell_type": "markdown",
   "metadata": {},
   "source": [
    "1. What are python iterators? <br />\n",
    "    Iterators are objects which can be traversed though or iterated upon.\n",
    "\n",
    "2. What is the difference between range & xrange? <br />\n",
    "    Xrange doesn’t actually generate a static list at run-time like range does. It creates the values as you need them with a special technique called yielding. This technique is used with a type of object known as generators. That means that if you have a really gigantic range you’d like to generate a list for, say one billion, xrange is the function to use.\n",
    "\n",
    "3. What does this mean: args, **kwargs? And why would we use it? <br />\n",
    "    We use args when we aren’t sure how many arguments are going to be passed to a function, or if we want to pass a stored list or tuple of arguments to a function. kwargs is used when we don’t know how many keyword arguments will be passed to a function, or it can be used to pass the values of a dictionary as keyword arguments. The identifiers args and kwargs are a convention, you could also use *bob and billy but that would not be wise.\n",
    "\n",
    "4. How is Multithreading achieved in Python? <br />\n",
    "    Python has a multi-threading package but if you want to multi-thread to speed your code up, then it’s usually not a good idea to use it. Python has a construct called the Global Interpreter Lock (GIL). The GIL makes sure that only one of your ‘threads’ can execute at any one time. A thread acquires the GIL, does a little work, then passes the GIL onto the next thread. This happens very quickly so to the human eye it may seem like your threads are executing in parallel, but they are really just taking turns using the same CPU core. All this GIL passing adds overhead to execution. This means that if you want to make your code run faster then using the threading package often isn’t a good idea."
   ]
  },
  {
   "cell_type": "markdown",
   "metadata": {},
   "source": [
    "5. Testing (TDD) - Expert\n",
    "- Unit Testing\n",
    "- Integration Testing\n",
    "- Load Testing"
   ]
  },
  {
   "cell_type": "code",
   "execution_count": null,
   "metadata": {},
   "outputs": [],
   "source": []
  }
 ],
 "metadata": {
  "interpreter": {
   "hash": "916e78022459d02449eb0e919933c0dffe7558a101efc3cf53aea168c8e1e9f5"
  },
  "kernelspec": {
   "display_name": "Python 3.8.3 64-bit ('base': conda)",
   "name": "python3"
  },
  "language_info": {
   "codemirror_mode": {
    "name": "ipython",
    "version": 3
   },
   "file_extension": ".py",
   "mimetype": "text/x-python",
   "name": "python",
   "nbconvert_exporter": "python",
   "pygments_lexer": "ipython3",
   "version": "3.8.3"
  },
  "orig_nbformat": 4
 },
 "nbformat": 4,
 "nbformat_minor": 2
}