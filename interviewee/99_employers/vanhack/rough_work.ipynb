{
 "cells": [
  {
   "cell_type": "code",
   "execution_count": 38,
   "metadata": {},
   "outputs": [
    {
     "name": "stdout",
     "output_type": "stream",
     "text": [
      "['\"str', 'a', 'b', \"'bin\", 'fn', \"'''next\"]\n"
     ]
    }
   ],
   "source": [
    "# src = \"\"\"\n",
    "# def fn():\n",
    "#     str = 42\n",
    "#     a, b = 1, 2\n",
    "#     print(str, a, b)\n",
    "# \"\"\"\n",
    "\n",
    "# src = \"\"\"\n",
    "# def fn():\n",
    "#     \"str = 42\"\n",
    "#     '''next=42'''\n",
    "#     'bin = dir = next = list'\n",
    "#     next == 42\n",
    "#     a, b = str, list\n",
    "#     print(str, a, b)\n",
    "# \"\"\"\n",
    "\n",
    "# src = \"\"\"\n",
    "# def fn():\n",
    "#     next = 42\n",
    "#     str = next\n",
    "#     a, b = tuple, list\n",
    "# \"\"\"\n",
    "\n",
    "# src = \"\"\"\n",
    "# def fn(): \n",
    "#     next,dir,list,dir = 1,2,3,\"bin = 4\"\n",
    "# str = 45\n",
    "# \"\"\"\n",
    "\n",
    "# src = \"def reverse(str): return str[::-1]\"\n",
    "\n",
    "# src = \"\"\"\n",
    "# def list(str, foo, iter): \n",
    "#     def bin(set): \n",
    "#         dict = 42 \n",
    "#         foo = zip\n",
    "#         bar = 0\n",
    "#     return str[::-1]\n",
    "# \"\"\"\n",
    "\n",
    "# src = \"\"\"\n",
    "# class str: \n",
    "#     def __init__(self, list): \n",
    "#         def next(foo, iter=42, baz=1): bin = 2\n",
    "# \"\"\"\n",
    "\n",
    "src = \"\"\"\n",
    "def fn():\n",
    "    \"str = 42\"\n",
    "    '''next=42'''\n",
    "    'bin = dir = next = list'\n",
    "    next == 42\n",
    "    a, b = str, list\n",
    "    print(str, a, b)\n",
    "\"\"\"\n",
    "\n",
    "# replace colon with newline to eliminate inline code\n",
    "new_src = src.replace(':', '\\n')\n",
    "# split all the lines of code into separate strings\n",
    "new_src = new_src.split('\\n')\n",
    "# strip all lines to eliminate indentation and spaces\n",
    "new_src = [val.strip() for val in new_src if len(val.strip()) != 0]\n",
    "\n",
    "val_to_check = [] # hold values to be tested with target\n",
    "\n",
    "# scenarios\n",
    "for val in new_src:\n",
    "    # check function name\n",
    "    if 'def ' in val:\n",
    "        idx = val.index('(')\n",
    "        val_to_check.append(val[4:idx])\n",
    "        # check function parameters\n",
    "        if '(' in val and ')' in val:\n",
    "            idx_opn = val.index('(')\n",
    "            idx_cls = val.index(')')\n",
    "\n",
    "            if idx_opn+1 != idx_cls:\n",
    "                new_val = val[idx_opn+1:idx_cls]\n",
    "                if ',' in new_val:\n",
    "                    extnd = new_val.split(',')\n",
    "                    extnd = [vl.strip() for vl in extnd]                \n",
    "                    val_to_check.extend(extnd)\n",
    "                else:\n",
    "                    val_to_check.append(val[idx_opn+1:idx_cls])\n",
    "    # check class name\n",
    "    if 'class ' in val:\n",
    "        val_to_check.append(val.split()[-1])\n",
    "    # check assignments\n",
    "    if '=' in val:\n",
    "        idx = val.index('=')\n",
    "        if val[idx+1] != '=':            \n",
    "            val_to_check.append(val[:idx].strip())\n",
    "\n",
    "# split multiple variable assignments in same line\n",
    "for val in val_to_check:\n",
    "    if ',' in val:\n",
    "        extnd = val.split(',')\n",
    "        extnd = [vl.strip() for vl in extnd]\n",
    "        val_to_check.remove(val)\n",
    "        val_to_check.extend(extnd)\n",
    "\n",
    "# eliminate duplicates\n",
    "val_to_check = list(set(val_to_check))\n",
    "print(val_to_check)"
   ]
  },
  {
   "cell_type": "code",
   "execution_count": 42,
   "metadata": {},
   "outputs": [
    {
     "data": {
      "text/plain": [
       "[4, 2, 1, 3]"
      ]
     },
     "execution_count": 42,
     "metadata": {},
     "output_type": "execute_result"
    }
   ],
   "source": [
    "# minimum swaps\n",
    "# inp = [3,1,2]\n",
    "inp = [3,1,2,4]\n",
    "\n",
    "# outp = inp.sort(reverse=True)\n",
    "# print(inp)\n",
    "\n",
    "outp = inp[::-1]\n",
    "outp"
   ]
  },
  {
   "cell_type": "code",
   "execution_count": 54,
   "metadata": {},
   "outputs": [
    {
     "name": "stdout",
     "output_type": "stream",
     "text": [
      "[2, 4, 3, 1]\n",
      "[1, 2, 3, 4]\n",
      "2\n"
     ]
    }
   ],
   "source": [
    "inp = [3,1,2,4]\n",
    "\n",
    "# get the rating complement value\n",
    "outp = [len(inp)-val+1 for val in inp]\n",
    "print(outp)\n",
    "\n",
    "len_arr = len(outp)\n",
    "\n",
    "i = 0\n",
    "counter = 0\n",
    "while i < len_arr:\n",
    "    if outp[i] != (i+1):        \n",
    "        outp[outp[i]-1], outp[i] = outp[i], outp[outp[i]-1]\n",
    "        counter += 1\n",
    "\n",
    "    i += 1\n",
    "print(outp)\n",
    "print(counter)\n",
    "\n",
    "        \n"
   ]
  },
  {
   "cell_type": "code",
   "execution_count": 50,
   "metadata": {},
   "outputs": [
    {
     "name": "stdout",
     "output_type": "stream",
     "text": [
      "[1, 3, 2, 0]\n"
     ]
    }
   ],
   "source": [
    "inp = [3,1,2,4]\n",
    "outp = [len(inp)-val for val in inp]\n",
    "print(outp)"
   ]
  },
  {
   "cell_type": "code",
   "execution_count": null,
   "metadata": {},
   "outputs": [],
   "source": []
  }
 ],
 "metadata": {
  "interpreter": {
   "hash": "fc384f7e1c802d762e8ae2d35493986cf4d8dfda21fbfcf3845d3480326ba56e"
  },
  "kernelspec": {
   "display_name": "Python 3.8.8 64-bit ('base': conda)",
   "language": "python",
   "name": "python3"
  },
  "language_info": {
   "codemirror_mode": {
    "name": "ipython",
    "version": 3
   },
   "file_extension": ".py",
   "mimetype": "text/x-python",
   "name": "python",
   "nbconvert_exporter": "python",
   "pygments_lexer": "ipython3",
   "version": "3.8.8"
  },
  "orig_nbformat": 4
 },
 "nbformat": 4,
 "nbformat_minor": 2
}
