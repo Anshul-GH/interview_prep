{
 "cells": [
  {
   "cell_type": "code",
   "execution_count": null,
   "metadata": {},
   "outputs": [],
   "source": [
    "# What will be the output:\n",
    "sample = 'hello',\n",
    "print(type(sample))\n",
    "\n",
    "# What will be the output:\n",
    "t2 = ([1,2,3,4], [5,6,7,8])\n",
    "t2[0].append(10)\n",
    "print(t2)\n",
    "\n",
    "# What will be the output:\n",
    "a = set('abracadabra')\n",
    "print(a)\n",
    "\n",
    "# Given a list, use list slicing to get the expected output:\n",
    "lst = [1,2,3,4,5]\n",
    "# Expected Output: [5, 3, 1]"
   ]
  },
  {
   "cell_type": "code",
   "execution_count": 1,
   "metadata": {},
   "outputs": [
    {
     "ename": "TypeError",
     "evalue": "list indices must be integers or slices, not tuple",
     "output_type": "error",
     "traceback": [
      "\u001b[1;31m---------------------------------------------------------------------------\u001b[0m",
      "\u001b[1;31mTypeError\u001b[0m                                 Traceback (most recent call last)",
      "\u001b[1;32mc:\\Code\\Personal\\interview_prep\\interviewer\\EPAM\\python_core.ipynb Cell 2\u001b[0m in \u001b[0;36m<cell line: 12>\u001b[1;34m()\u001b[0m\n\u001b[0;32m      <a href='vscode-notebook-cell:/c%3A/Code/Personal/interview_prep/interviewer/EPAM/python_core.ipynb#ch0000001?line=0'>1</a>\u001b[0m lst \u001b[39m=\u001b[39m [\u001b[39m1\u001b[39m,\u001b[39m2\u001b[39m,\u001b[39m3\u001b[39m,\u001b[39m4\u001b[39m,\u001b[39m5\u001b[39m]\n\u001b[0;32m      <a href='vscode-notebook-cell:/c%3A/Code/Personal/interview_prep/interviewer/EPAM/python_core.ipynb#ch0000001?line=1'>2</a>\u001b[0m \u001b[39m# lst[::2][::-1]\u001b[39;00m\n\u001b[0;32m      <a href='vscode-notebook-cell:/c%3A/Code/Personal/interview_prep/interviewer/EPAM/python_core.ipynb#ch0000001?line=2'>3</a>\u001b[0m \u001b[39m# lst [::-1][::2]\u001b[39;00m\n\u001b[0;32m      <a href='vscode-notebook-cell:/c%3A/Code/Personal/interview_prep/interviewer/EPAM/python_core.ipynb#ch0000001?line=3'>4</a>\u001b[0m \u001b[39m# lst[::-2]\u001b[39;00m\n\u001b[1;32m   (...)\u001b[0m\n\u001b[0;32m      <a href='vscode-notebook-cell:/c%3A/Code/Personal/interview_prep/interviewer/EPAM/python_core.ipynb#ch0000001?line=8'>9</a>\u001b[0m \u001b[39m# lst[-1::2]\u001b[39;00m\n\u001b[0;32m     <a href='vscode-notebook-cell:/c%3A/Code/Personal/interview_prep/interviewer/EPAM/python_core.ipynb#ch0000001?line=9'>10</a>\u001b[0m \u001b[39m# lst[-4::2]\u001b[39;00m\n\u001b[1;32m---> <a href='vscode-notebook-cell:/c%3A/Code/Personal/interview_prep/interviewer/EPAM/python_core.ipynb#ch0000001?line=11'>12</a>\u001b[0m lst[\u001b[39m-\u001b[39;49m\u001b[39m1\u001b[39;49m:\u001b[39m-\u001b[39;49m\u001b[39m6\u001b[39;49m,\u001b[39m2\u001b[39;49m]\n",
      "\u001b[1;31mTypeError\u001b[0m: list indices must be integers or slices, not tuple"
     ]
    }
   ],
   "source": [
    "lst = [1,2,3,4,5]\n",
    "# lst[::2][::-1]\n",
    "# lst [::-1][::2]\n",
    "# lst[::-2]\n",
    "# lst[-1:-5:2]\n",
    "# lst[-4::2]\n",
    "# lst[-1::-2]\n",
    "# lst[-1:-3]\n",
    "# lst[-1::2]\n",
    "# lst[-4::2]\n",
    "\n",
    "lst[-1:-6,2]"
   ]
  },
  {
   "cell_type": "code",
   "execution_count": 1,
   "metadata": {},
   "outputs": [
    {
     "data": {
      "text/plain": [
       "[5, 3]"
      ]
     },
     "execution_count": 1,
     "metadata": {},
     "output_type": "execute_result"
    }
   ],
   "source": [
    "lst = [1,2,3,4,5]\n",
    "# lst[-1::-2]\n",
    "lst[-1:0:-2]"
   ]
  },
  {
   "cell_type": "code",
   "execution_count": null,
   "metadata": {},
   "outputs": [],
   "source": []
  }
 ],
 "metadata": {
  "interpreter": {
   "hash": "aaa5c832b63eae91981a2a50352553a3961fa32ff189f781a6f1ad2872196c19"
  },
  "kernelspec": {
   "display_name": "Python 3.10.4 64-bit",
   "language": "python",
   "name": "python3"
  },
  "language_info": {
   "codemirror_mode": {
    "name": "ipython",
    "version": 3
   },
   "file_extension": ".py",
   "mimetype": "text/x-python",
   "name": "python",
   "nbconvert_exporter": "python",
   "pygments_lexer": "ipython3",
   "version": "3.10.4"
  },
  "orig_nbformat": 4
 },
 "nbformat": 4,
 "nbformat_minor": 2
}
