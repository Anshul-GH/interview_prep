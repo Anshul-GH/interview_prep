{
 "cells": [
  {
   "cell_type": "code",
   "execution_count": null,
   "source": [],
   "outputs": [],
   "metadata": {}
  },
  {
   "cell_type": "code",
   "execution_count": 3,
   "source": [
    "def two_sum(nums, target):\r\n",
    "    for i in range(len(nums)):\r\n",
    "        num = nums[i]\r\n",
    "        rem_lst = nums[0:i] + nums[i+1:]\r\n",
    "        if (target - num) in rem_lst:\r\n",
    "            return [nums.index(num), nums.index(target - num)]\r\n",
    "        else:\r\n",
    "            continue"
   ],
   "outputs": [],
   "metadata": {}
  },
  {
   "cell_type": "code",
   "execution_count": 6,
   "source": [
    "nums = [3,3] # [3,2,4] # [2,7,11,15]\r\n",
    "target = 6 #9\r\n",
    "\r\n",
    "# [2,7,11,15]\r\n",
    "# 9\r\n",
    "# [3,2,4]\r\n",
    "# 6\r\n",
    "# [3,3]\r\n",
    "# 6\r\n",
    "\r\n",
    "result = two_sum(nums, target)\r\n",
    "print(result)"
   ],
   "outputs": [
    {
     "output_type": "stream",
     "name": "stdout",
     "text": [
      "[0, 0]\n"
     ]
    }
   ],
   "metadata": {}
  },
  {
   "cell_type": "code",
   "execution_count": 9,
   "source": [
    "prices = [7,6,4,3,1]"
   ],
   "outputs": [],
   "metadata": {}
  },
  {
   "cell_type": "code",
   "execution_count": null,
   "source": [
    "def maxProfit(prices):\r\n",
    "    max_profit = 0\r\n",
    "    buy = True\r\n",
    "    for val in prices:\r\n",
    "        "
   ],
   "outputs": [],
   "metadata": {}
  },
  {
   "cell_type": "code",
   "execution_count": 2,
   "source": [
    "prices - 7"
   ],
   "outputs": [
    {
     "output_type": "error",
     "ename": "TypeError",
     "evalue": "unsupported operand type(s) for -: 'list' and 'int'",
     "traceback": [
      "\u001b[1;31m---------------------------------------------------------------------------\u001b[0m",
      "\u001b[1;31mTypeError\u001b[0m                                 Traceback (most recent call last)",
      "\u001b[1;32m<ipython-input-2-0d71bf5c4630>\u001b[0m in \u001b[0;36m<module>\u001b[1;34m\u001b[0m\n\u001b[1;32m----> 1\u001b[1;33m \u001b[0mprices\u001b[0m \u001b[1;33m-\u001b[0m \u001b[1;36m7\u001b[0m\u001b[1;33m\u001b[0m\u001b[1;33m\u001b[0m\u001b[0m\n\u001b[0m",
      "\u001b[1;31mTypeError\u001b[0m: unsupported operand type(s) for -: 'list' and 'int'"
     ]
    }
   ],
   "metadata": {}
  },
  {
   "cell_type": "code",
   "execution_count": 4,
   "source": [
    "prices_mod = [(val - 7) for val in prices]"
   ],
   "outputs": [],
   "metadata": {}
  },
  {
   "cell_type": "code",
   "execution_count": 5,
   "source": [
    "prices_mod"
   ],
   "outputs": [
    {
     "output_type": "execute_result",
     "data": {
      "text/plain": [
       "[0, -1, -3, -4, -6]"
      ]
     },
     "metadata": {},
     "execution_count": 5
    }
   ],
   "metadata": {}
  },
  {
   "cell_type": "code",
   "execution_count": 20,
   "source": [
    "# prices = [7,6,4,3,1]\r\n",
    "prices = [7,1,5,3,6,4]\r\n",
    "\r\n",
    "max_profit = 0\r\n",
    "for idx,val in enumerate(prices):\r\n",
    "    max_profit = max(max_profit, max([(amt - val) for amt in prices[idx:]]))\r\n",
    "\r\n",
    "print(max_profit)"
   ],
   "outputs": [
    {
     "output_type": "stream",
     "name": "stdout",
     "text": [
      "6\n"
     ]
    }
   ],
   "metadata": {}
  },
  {
   "cell_type": "code",
   "execution_count": 21,
   "source": [
    "for idx, val in enumerate(prices):\r\n",
    "    tmp = [(amt - val) for amt in prices[idx:]]\r\n",
    "    print(tmp)"
   ],
   "outputs": [
    {
     "output_type": "stream",
     "name": "stdout",
     "text": [
      "[0, -6, -2, -4, -1, -3]\n",
      "[0, 4, 2, 5, 3]\n",
      "[0, -2, 1, -1]\n",
      "[0, 3, 1]\n",
      "[0, -2]\n",
      "[0]\n"
     ]
    }
   ],
   "metadata": {}
  },
  {
   "cell_type": "code",
   "execution_count": 17,
   "source": [
    "tmp"
   ],
   "outputs": [
    {
     "output_type": "execute_result",
     "data": {
      "text/plain": [
       "[0]"
      ]
     },
     "metadata": {},
     "execution_count": 17
    }
   ],
   "metadata": {}
  },
  {
   "cell_type": "code",
   "execution_count": 22,
   "source": [],
   "outputs": [],
   "metadata": {}
  },
  {
   "cell_type": "code",
   "execution_count": 28,
   "source": [
    "nums = [1,2,3,4,5,6,7]\r\n",
    "k = 3\r\n",
    "for i in range(k):\r\n",
    "    nums.insert(0, nums[-1])\r\n",
    "    nums.pop()\r\n",
    "    "
   ],
   "outputs": [],
   "metadata": {}
  },
  {
   "cell_type": "code",
   "execution_count": 29,
   "source": [
    "nums"
   ],
   "outputs": [
    {
     "output_type": "execute_result",
     "data": {
      "text/plain": [
       "[5, 6, 7, 1, 2, 3, 4]"
      ]
     },
     "metadata": {},
     "execution_count": 29
    }
   ],
   "metadata": {}
  },
  {
   "cell_type": "code",
   "execution_count": 30,
   "source": [
    "def containsDuplicate(nums):\r\n",
    "    mod_nums = list(set(nums))\r\n",
    "    if len(mod_nums) == len(nums):\r\n",
    "        return False\r\n",
    "    else:\r\n",
    "        return True"
   ],
   "outputs": [],
   "metadata": {}
  },
  {
   "cell_type": "code",
   "execution_count": 33,
   "source": [
    "nums = [1,2,3,1] #[1,2,3,4] #[1,1,1,3,3,4,3,2,4,2]\r\n",
    "containsDuplicate(nums)"
   ],
   "outputs": [
    {
     "output_type": "execute_result",
     "data": {
      "text/plain": [
       "True"
      ]
     },
     "metadata": {},
     "execution_count": 33
    }
   ],
   "metadata": {}
  },
  {
   "cell_type": "code",
   "execution_count": 34,
   "source": [
    "nums = [4,1,2,1,2]"
   ],
   "outputs": [],
   "metadata": {}
  },
  {
   "cell_type": "code",
   "execution_count": 35,
   "source": [
    "nums.sort()"
   ],
   "outputs": [],
   "metadata": {}
  },
  {
   "cell_type": "code",
   "execution_count": 36,
   "source": [
    "nums"
   ],
   "outputs": [
    {
     "output_type": "execute_result",
     "data": {
      "text/plain": [
       "[1, 1, 2, 2, 4]"
      ]
     },
     "metadata": {},
     "execution_count": 36
    }
   ],
   "metadata": {}
  },
  {
   "cell_type": "code",
   "execution_count": 41,
   "source": [
    "nums = [1] #[4,1,2,1,2] #[2,2,1]\r\n",
    "nums.sort()\r\n",
    "\r\n",
    "unique = -1\r\n",
    "count = 0\r\n",
    "\r\n",
    "while count<len(nums)-1:\r\n",
    "    if nums[count] == nums[count+1]:\r\n",
    "        count += 2\r\n",
    "        continue\r\n",
    "    else:\r\n",
    "        unique = nums[count]\r\n",
    "        break\r\n",
    "\r\n",
    "if unique == -1:\r\n",
    "    unique = nums[-1]\r\n",
    "\r\n",
    "print(unique)"
   ],
   "outputs": [
    {
     "output_type": "stream",
     "name": "stdout",
     "text": [
      "1\n"
     ]
    }
   ],
   "metadata": {}
  },
  {
   "cell_type": "code",
   "execution_count": null,
   "source": [],
   "outputs": [],
   "metadata": {}
  }
 ],
 "metadata": {
  "orig_nbformat": 4,
  "language_info": {
   "name": "python",
   "version": "3.8.8",
   "mimetype": "text/x-python",
   "codemirror_mode": {
    "name": "ipython",
    "version": 3
   },
   "pygments_lexer": "ipython3",
   "nbconvert_exporter": "python",
   "file_extension": ".py"
  },
  "kernelspec": {
   "name": "python3",
   "display_name": "Python 3.8.8 64-bit ('base': conda)"
  },
  "interpreter": {
   "hash": "fb2ca98df18ba1f3c1db60bd7435d0a612e6157c1ffca13c86bf86151280787f"
  }
 },
 "nbformat": 4,
 "nbformat_minor": 2
}