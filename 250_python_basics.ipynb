{
 "metadata": {
  "language_info": {
   "codemirror_mode": {
    "name": "ipython",
    "version": 3
   },
   "file_extension": ".py",
   "mimetype": "text/x-python",
   "name": "python",
   "nbconvert_exporter": "python",
   "pygments_lexer": "ipython3",
   "version": "3.8.5"
  },
  "orig_nbformat": 2,
  "kernelspec": {
   "name": "python385jvsc74a57bd027c864c23e117f40a7a4f2f1a3201837d7329c7e3e4f87e64f2d40e2cb9d4f12",
   "display_name": "Python 3.8.5 64-bit ('base': conda)"
  },
  "metadata": {
   "interpreter": {
    "hash": "27c864c23e117f40a7a4f2f1a3201837d7329c7e3e4f87e64f2d40e2cb9d4f12"
   }
  }
 },
 "nbformat": 4,
 "nbformat_minor": 2,
 "cells": [
  {
   "cell_type": "code",
   "execution_count": null,
   "metadata": {},
   "outputs": [],
   "source": [
    "#1: Find the location of 'B' in my_string.\n",
    "my_string = \"In 2010, someone paid 10k Bitcoin for two pizzas.\"\n",
    "print(my_string.)"
   ]
  },
  {
   "cell_type": "code",
   "execution_count": 1,
   "metadata": {},
   "outputs": [
    {
     "output_type": "stream",
     "name": "stdout",
     "text": [
      "26\n"
     ]
    }
   ],
   "source": [
    "# Solution: \n",
    "my_string = \"In 2010, someone paid 10k Bitcoin for two pizzas.\"\n",
    "print(my_string.index('B'))"
   ]
  },
  {
   "source": [
    "----------------------"
   ],
   "cell_type": "markdown",
   "metadata": {}
  },
  {
   "cell_type": "code",
   "execution_count": null,
   "metadata": {},
   "outputs": [],
   "source": [
    "#2: Find the number of occourances of the letter 'o' in the string\n",
    "my_string = \"In 2010, someone paid 10k Bitcoin for two pizzas.\"\n",
    "print(my_string.)"
   ]
  },
  {
   "cell_type": "code",
   "execution_count": 2,
   "metadata": {},
   "outputs": [
    {
     "output_type": "stream",
     "name": "stdout",
     "text": [
      "5\n"
     ]
    }
   ],
   "source": [
    "# Solution:\n",
    "my_string = \"In 2010, someone paid 10k Bitcoin for two pizzas.\"\n",
    "print(my_string.count('o'))"
   ]
  },
  {
   "source": [
    "---"
   ],
   "cell_type": "markdown",
   "metadata": {}
  },
  {
   "cell_type": "code",
   "execution_count": null,
   "metadata": {},
   "outputs": [],
   "source": [
    "#3: Convert all the letters of the string to uppercase.\n",
    "my_string = \"In 2010, someone paid 10k Bitcoin for two pizzas.\"\n",
    "print(my_string.)"
   ]
  },
  {
   "cell_type": "code",
   "execution_count": 4,
   "metadata": {},
   "outputs": [
    {
     "output_type": "stream",
     "name": "stdout",
     "text": [
      "IN 2010, SOMEONE PAID 10K BITCOIN FOR TWO PIZZAS.\n"
     ]
    }
   ],
   "source": [
    "# Solution:\n",
    "my_string = \"In 2010, someone paid 10k Bitcoin for two pizzas.\"\n",
    "print(my_string.upper())"
   ]
  },
  {
   "source": [
    "---"
   ],
   "cell_type": "markdown",
   "metadata": {}
  },
  {
   "cell_type": "code",
   "execution_count": null,
   "metadata": {},
   "outputs": [],
   "source": [
    "#4: Find the index at which the string 'Bitcoin' starts\n",
    "my_string = \"In 2010, someone paid 10k Bitcoin for two pizzas.\"\n",
    "print(my_string.)"
   ]
  },
  {
   "cell_type": "code",
   "execution_count": 5,
   "metadata": {},
   "outputs": [
    {
     "output_type": "stream",
     "name": "stdout",
     "text": [
      "26\n"
     ]
    }
   ],
   "source": [
    "# Solution:\n",
    "my_string = \"In 2010, someone paid 10k Bitcoin for two pizzas.\"\n",
    "print(my_string.find('Bitcoin'))"
   ]
  },
  {
   "source": [
    "---"
   ],
   "cell_type": "markdown",
   "metadata": {}
  },
  {
   "cell_type": "code",
   "execution_count": null,
   "metadata": {},
   "outputs": [],
   "source": [
    "#5: Check if the string starts with letter 'X'\n",
    "my_string = \"In 2010, someone paid 10k Bitcoin for two pizzas.\"\n",
    "print(my_string.)"
   ]
  },
  {
   "cell_type": "code",
   "execution_count": 6,
   "metadata": {},
   "outputs": [
    {
     "output_type": "stream",
     "name": "stdout",
     "text": [
      "False\n"
     ]
    }
   ],
   "source": [
    "# Solution:\n",
    "my_string = \"In 2010, someone paid 10k Bitcoin for two pizzas.\"\n",
    "print(my_string.startswith('X'))"
   ]
  },
  {
   "source": [
    "---"
   ],
   "cell_type": "markdown",
   "metadata": {}
  },
  {
   "cell_type": "code",
   "execution_count": null,
   "metadata": {},
   "outputs": [],
   "source": [
    "#6: Convert all the uppercase letters to lowercase and lowercase to uppercase.\n",
    "my_string = \"In 2010, someone paid 10k Bitcoin for two pizzas.\"\n",
    "print(my_string.)"
   ]
  },
  {
   "cell_type": "code",
   "execution_count": 7,
   "metadata": {},
   "outputs": [
    {
     "output_type": "stream",
     "name": "stdout",
     "text": [
      "iN 2010, SOMEONE PAID 10K bITCOIN FOR TWO PIZZAS.\n"
     ]
    }
   ],
   "source": [
    "# Solution:\n",
    "my_string = \"In 2010, someone paid 10k Bitcoin for two pizzas.\"\n",
    "print(my_string.swapcase())"
   ]
  },
  {
   "source": [
    "---"
   ],
   "cell_type": "markdown",
   "metadata": {}
  },
  {
   "cell_type": "code",
   "execution_count": null,
   "metadata": {},
   "outputs": [],
   "source": [
    "#7: Remove all the spaces from the string\n",
    "my_string = \"In 2010, someone paid 10k Bitcoin for two pizzas.\"\n",
    "print(my_string.)"
   ]
  },
  {
   "cell_type": "code",
   "execution_count": 9,
   "metadata": {},
   "outputs": [
    {
     "output_type": "stream",
     "name": "stdout",
     "text": [
      "In2010,someonepaid10kBitcoinfortwopizzas.\n"
     ]
    }
   ],
   "source": [
    "# Solution:\n",
    "my_string = \"In 2010, someone paid 10k Bitcoin for two pizzas.\"\n",
    "print(my_string.replace(' ', ''))"
   ]
  },
  {
   "source": [
    "---"
   ],
   "cell_type": "markdown",
   "metadata": {}
  },
  {
   "cell_type": "code",
   "execution_count": null,
   "metadata": {},
   "outputs": [],
   "source": [
    "#8: Replace all the characters 'i' with 'btc'\n",
    "my_string = \"In 2010, someone paid 10k Bitcoin for two pizzas.\"\n",
    "print(my_string.)"
   ]
  },
  {
   "cell_type": "code",
   "execution_count": 10,
   "metadata": {},
   "outputs": [
    {
     "output_type": "stream",
     "name": "stdout",
     "text": [
      "In 2010, someone pabtcd 10k Bbtctcobtcn for two pbtczzas.\n"
     ]
    }
   ],
   "source": [
    "# Solution:\n",
    "my_string = \"In 2010, someone paid 10k Bitcoin for two pizzas.\"\n",
    "print(my_string.replace('i', 'btc'))"
   ]
  },
  {
   "source": [
    "---"
   ],
   "cell_type": "markdown",
   "metadata": {}
  },
  {
   "cell_type": "code",
   "execution_count": null,
   "metadata": {},
   "outputs": [],
   "source": [
    "#9: Split the strings into two parts using ',' as the delimiter\n",
    "my_string = \"In 2010, someone paid 10k Bitcoin for two pizzas.\"\n",
    "print(my_string.)"
   ]
  },
  {
   "cell_type": "code",
   "execution_count": 11,
   "metadata": {},
   "outputs": [
    {
     "output_type": "stream",
     "name": "stdout",
     "text": [
      "['In 2010', ' someone paid 10k Bitcoin for two pizzas.']\n"
     ]
    }
   ],
   "source": [
    "# Solution:\n",
    "my_string = \"In 2010, someone paid 10k Bitcoin for two pizzas.\"\n",
    "print(my_string.split(','))"
   ]
  },
  {
   "source": [
    "---"
   ],
   "cell_type": "markdown",
   "metadata": {}
  },
  {
   "cell_type": "code",
   "execution_count": null,
   "metadata": {},
   "outputs": [],
   "source": [
    "#10: Concatenate the two strings\n",
    "my_string = \"In 2010, someone paid 10k Bitcoin for two pizzas.\"\n",
    "my_other_string = \"Poor guy!\""
   ]
  },
  {
   "cell_type": "code",
   "execution_count": 15,
   "metadata": {},
   "outputs": [
    {
     "output_type": "stream",
     "name": "stdout",
     "text": [
      "In 2010, someone paid 10k Bitcoin for two pizzas.Poor guy!\n"
     ]
    }
   ],
   "source": [
    "# Solution:\n",
    "my_string = \"In 2010, someone paid 10k Bitcoin for two pizzas.\"\n",
    "my_other_string = \"Poor guy!\"\n",
    "print(my_string+my_other_string)"
   ]
  },
  {
   "source": [
    "---"
   ],
   "cell_type": "markdown",
   "metadata": {}
  },
  {
   "cell_type": "code",
   "execution_count": null,
   "metadata": {},
   "outputs": [],
   "source": [
    "#11: Convert first letter of each word in the string to uppercase\n",
    "my_string = \"In 2010, someone paid 10k Bitcoin for two pizzas.\"\n",
    "print(my_string.)"
   ]
  },
  {
   "cell_type": "code",
   "execution_count": 18,
   "metadata": {},
   "outputs": [
    {
     "output_type": "stream",
     "name": "stdout",
     "text": [
      "In 2010, Someone Paid 10K Bitcoin For Two Pizzas.\n"
     ]
    }
   ],
   "source": [
    "# Solution:\n",
    "my_string = \"In 2010, someone paid 10k Bitcoin for two pizzas.\"\n",
    "print(my_string.title())"
   ]
  },
  {
   "source": [
    "---"
   ],
   "cell_type": "markdown",
   "metadata": {}
  },
  {
   "cell_type": "code",
   "execution_count": null,
   "metadata": {},
   "outputs": [],
   "source": [
    "#12: Return first 12 characters of the string\n",
    "my_string = \"In 2010, someone paid 10k Bitcoin for two pizzas.\"\n",
    "print(my_string)"
   ]
  },
  {
   "cell_type": "code",
   "execution_count": 20,
   "metadata": {},
   "outputs": [
    {
     "output_type": "stream",
     "name": "stdout",
     "text": [
      "In 2010, som\n"
     ]
    }
   ],
   "source": [
    "# Solution:\n",
    "my_string = \"In 2010, someone paid 10k Bitcoin for two pizzas.\"\n",
    "print(my_string[:12])"
   ]
  },
  {
   "source": [
    "---"
   ],
   "cell_type": "markdown",
   "metadata": {}
  },
  {
   "cell_type": "code",
   "execution_count": null,
   "metadata": {},
   "outputs": [],
   "source": [
    "#13: Return every 7th character of the string starting with the first one.\n",
    "my_string = \"In 2010, someone paid 10k Bitcoin for two pizzas.\"\n",
    "print()"
   ]
  },
  {
   "cell_type": "code",
   "execution_count": 23,
   "metadata": {},
   "outputs": [
    {
     "output_type": "stream",
     "name": "stdout",
     "text": [
      "I,n top\n"
     ]
    }
   ],
   "source": [
    "# Solution:\n",
    "my_string = \"In 2010, someone paid 10k Bitcoin for two pizzas.\"\n",
    "print(my_string[::7])"
   ]
  },
  {
   "source": [
    "---"
   ],
   "cell_type": "markdown",
   "metadata": {}
  },
  {
   "cell_type": "code",
   "execution_count": null,
   "metadata": {},
   "outputs": [],
   "source": []
  }
 ]
}