{
 "cells": [
  {
   "cell_type": "code",
   "execution_count": null,
   "source": [],
   "outputs": [],
   "metadata": {}
  },
  {
   "cell_type": "code",
   "execution_count": 3,
   "source": [
    "def two_sum(nums, target):\r\n",
    "    for i in range(len(nums)):\r\n",
    "        num = nums[i]\r\n",
    "        rem_lst = nums[0:i] + nums[i+1:]\r\n",
    "        if (target - num) in rem_lst:\r\n",
    "            return [nums.index(num), nums.index(target - num)]\r\n",
    "        else:\r\n",
    "            continue"
   ],
   "outputs": [],
   "metadata": {}
  },
  {
   "cell_type": "code",
   "execution_count": 6,
   "source": [
    "nums = [3,3] # [3,2,4] # [2,7,11,15]\r\n",
    "target = 6 #9\r\n",
    "\r\n",
    "# [2,7,11,15]\r\n",
    "# 9\r\n",
    "# [3,2,4]\r\n",
    "# 6\r\n",
    "# [3,3]\r\n",
    "# 6\r\n",
    "\r\n",
    "result = two_sum(nums, target)\r\n",
    "print(result)"
   ],
   "outputs": [
    {
     "output_type": "stream",
     "name": "stdout",
     "text": [
      "[0, 0]\n"
     ]
    }
   ],
   "metadata": {}
  },
  {
   "cell_type": "code",
   "execution_count": null,
   "source": [],
   "outputs": [],
   "metadata": {}
  }
 ],
 "metadata": {
  "orig_nbformat": 4,
  "language_info": {
   "name": "python",
   "version": "3.8.8",
   "mimetype": "text/x-python",
   "codemirror_mode": {
    "name": "ipython",
    "version": 3
   },
   "pygments_lexer": "ipython3",
   "nbconvert_exporter": "python",
   "file_extension": ".py"
  },
  "kernelspec": {
   "name": "python3",
   "display_name": "Python 3.8.8 64-bit ('base': conda)"
  },
  "interpreter": {
   "hash": "fb2ca98df18ba1f3c1db60bd7435d0a612e6157c1ffca13c86bf86151280787f"
  }
 },
 "nbformat": 4,
 "nbformat_minor": 2
}