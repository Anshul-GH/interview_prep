{
 "cells": [
  {
   "cell_type": "markdown",
   "metadata": {},
   "source": [
    "## Programming - Basic"
   ]
  },
  {
   "cell_type": "code",
   "execution_count": null,
   "metadata": {},
   "outputs": [],
   "source": [
    "# Given a list:\n",
    "lst = [1,2,3,4,6,7,8,9,12,4,2,5,7,2,5,2,1,4,6,3]\n",
    "# Push all the even numbers to the front and odd numbers to the back\n",
    "# Expected Output (one possibility):\n",
    "output = [6,8,4,2,4,2,12,2,4,2,6,7,1,5,3,9,7,3,5,1]\n",
    "# Note:\n",
    "# 1. The order of occourance of the numbers can change\n",
    "# 2. Do not use any temporary variables."
   ]
  },
  {
   "cell_type": "code",
   "execution_count": 4,
   "metadata": {},
   "outputs": [
    {
     "data": {
      "text/plain": [
       "[2, 4, 6, 8, 12, 4, 2, 2, 2, 4, 6, 1, 3, 7, 9, 5, 7, 5, 1, 3]"
      ]
     },
     "execution_count": 4,
     "metadata": {},
     "output_type": "execute_result"
    }
   ],
   "source": [
    "# Test the solution:\n",
    "lst = [1,2,3,4,6,7,8,9,12,4,2,5,7,2,5,2,1,4,6,3]\n",
    "sorted(lst, key=lambda x:x % 2)"
   ]
  },
  {
   "cell_type": "markdown",
   "metadata": {},
   "source": [
    "----------------------------------------------------------------"
   ]
  },
  {
   "cell_type": "code",
   "execution_count": null,
   "metadata": {},
   "outputs": [],
   "source": [
    "# Given a list:\n",
    "lst = [0,2,1,3,5,5,6,8,7,9]\n",
    "# Print all the values where index == value\n",
    "# Output:\n",
    "output = [0, 3, 5, 6, 9]\n"
   ]
  },
  {
   "cell_type": "code",
   "execution_count": 5,
   "metadata": {},
   "outputs": [
    {
     "data": {
      "text/plain": [
       "[0, 3, 5, 6, 9]"
      ]
     },
     "execution_count": 5,
     "metadata": {},
     "output_type": "execute_result"
    }
   ],
   "source": [
    "# Test the solution:\n",
    "lst = [0,2,1,3,5,5,6,8,7,9]\n",
    "[idx for idx, val in enumerate(lst) if idx==val]"
   ]
  },
  {
   "cell_type": "markdown",
   "metadata": {},
   "source": [
    "----------------------------------------------------------------"
   ]
  },
  {
   "cell_type": "code",
   "execution_count": null,
   "metadata": {},
   "outputs": [],
   "source": [
    "# Given a list:\n",
    "lst = [0, 1, 0, 3, 12, 0, 6, 4, 0, 5, 9, 0, 2, 3, 0]\n",
    "# Push all the zeros to the back\n",
    "# Expected Output:\n",
    "output = [1, 3, 12, 6, 4, 5, 9, 2, 3, 0, 0, 0, 0, 0, 0]\n",
    "# Note:\n",
    "# 1. The order of occourance of the numbers can change\n",
    "# 2. Do not use any temporary variables"
   ]
  },
  {
   "cell_type": "code",
   "execution_count": 3,
   "metadata": {},
   "outputs": [
    {
     "data": {
      "text/plain": [
       "[1, 3, 12, 6, 4, 5, 9, 2, 3, 0, 0, 0, 0, 0, 0]"
      ]
     },
     "execution_count": 3,
     "metadata": {},
     "output_type": "execute_result"
    }
   ],
   "source": [
    "# Test the solution:\n",
    "lst = [0, 1, 0, 3, 12, 0, 6, 4, 0, 5, 9, 0, 2, 3, 0]\n",
    "sorted(lst, key=lambda x: x == 0)"
   ]
  },
  {
   "cell_type": "markdown",
   "metadata": {},
   "source": [
    "----------------------------------------------------------------"
   ]
  },
  {
   "cell_type": "markdown",
   "metadata": {},
   "source": [
    "## Programming - Intermediate/Advanced"
   ]
  },
  {
   "cell_type": "code",
   "execution_count": null,
   "metadata": {},
   "outputs": [],
   "source": [
    "# Given an array, rotate the array to the right by k steps, where k is non-negative.\n",
    "# k can be any finite integer value.\n",
    "# Input: \n",
    "nums = [1,2,3,4,5,6,7]\n",
    "k = 3\n",
    "# Output: \n",
    "[5,6,7,1,2,3,4]\n",
    "# Explanation:\n",
    "# rotate 1 steps to the right: [7,1,2,3,4,5,6]\n",
    "# rotate 2 steps to the right: [6,7,1,2,3,4,5]\n",
    "# rotate 3 steps to the right: [5,6,7,1,2,3,4]"
   ]
  },
  {
   "cell_type": "code",
   "execution_count": null,
   "metadata": {},
   "outputs": [],
   "source": [
    "# Test the solution:\n",
    "def rotate_array_by_k(elements,k):\n",
    "    rotate_by = k % len(elements)\n",
    "    return elements[:-rotate_by] + elements[rotate_by:-rotate_by]"
   ]
  },
  {
   "cell_type": "markdown",
   "metadata": {},
   "source": [
    "----------------------------------------------------------------"
   ]
  },
  {
   "cell_type": "code",
   "execution_count": null,
   "metadata": {},
   "outputs": [],
   "source": [
    "# Write a code to merge two lists iteratively in such a way that:\n",
    "# * For each iteration, one element will be picked up from each list and added to the output list\n",
    "# * After each iteration, the result in the output list should always be sorted\n",
    "# The lists can be of different lengths so if one gets exhausted, continue the iteration with the remaining elements of the other list\n",
    "# Example:\n",
    "# Iteration1: [11,90]\n",
    "# Iteration2: [4,11,55,90]\n",
    "# Iteration3: [4,11,55,66,88,90]\n",
    "# Iteration4: [4,11,33,55,66,66,88,90]\n",
    "# Iteration5: [4,11,22,33,55,66,66,88,90]\n",
    "# Iteration6: [4,11,22,33,55,66,66,88,90,99]\n",
    "list1 = [11, 4, 88, 66]\n",
    "list2 = [90, 55, 66, 33, 22, 99]"
   ]
  },
  {
   "cell_type": "code",
   "execution_count": null,
   "metadata": {},
   "outputs": [],
   "source": [
    "# Test the solution:\n",
    "list1 = [11, 4, 88, 66]\n",
    "list2 = [90, 55, 66, 33, 22, 99]\n",
    "\n",
    "res = []\n",
    "\n",
    "length = [len(list1), len(list2)]\n",
    "length = sorted(length)\n",
    "\n",
    "l1_len = len(list1)\n",
    "l2_len = len(list2)\n",
    "\n",
    "for i in range(length[-1]):\n",
    "    if i < l1_len:\n",
    "        a = list1[i]\n",
    "        res.append(a)\n",
    "    \n",
    "    if i < l2_len:\n",
    "        b = list2[i]\n",
    "        res.append(b)\n",
    "        \n",
    "    res = sorted(res)\n",
    "    print(res)"
   ]
  },
  {
   "cell_type": "markdown",
   "metadata": {},
   "source": [
    "----------------------------------------------------------------"
   ]
  },
  {
   "cell_type": "code",
   "execution_count": null,
   "metadata": {},
   "outputs": [],
   "source": [
    "# Fibonacci series using generators"
   ]
  },
  {
   "cell_type": "code",
   "execution_count": null,
   "metadata": {},
   "outputs": [],
   "source": [
    "# Test the solution:\n",
    "def fib():\n",
    "    a,b = 0,1\n",
    "    while True:\n",
    "        yield a\n",
    "        b = a+b\n",
    "        yield b\n",
    "        a = a+b"
   ]
  },
  {
   "cell_type": "markdown",
   "metadata": {},
   "source": [
    "-----------------------------"
   ]
  },
  {
   "cell_type": "code",
   "execution_count": null,
   "metadata": {},
   "outputs": [],
   "source": [
    "# Given a signed 32-bit integer x, return x with its digits reversed. \n",
    "# If reversing x causes the value to go outside the signed 32-bit integer range [-2^31, 2^31 - 1], then return 0.\n",
    "# Assume the environment does not allow you to store 64-bit integers (signed or unsigned).\n",
    "\n",
    "# Example 1:\n",
    "# Input: x = 123\n",
    "# Output: 321\n",
    "\n",
    "# Example 2:\n",
    "# Input: x = -123\n",
    "# Output: -321\n",
    "\n",
    "# Example 3:\n",
    "# Input: x = 120\n",
    "# Output: 21\n",
    "\n",
    "# Example 4:\n",
    "# Input: x = 0\n",
    "# Output: 0\n",
    "\n",
    "# Constraints: -2^31 <= x <= 2^31 - 1"
   ]
  },
  {
   "cell_type": "code",
   "execution_count": null,
   "metadata": {},
   "outputs": [],
   "source": [
    "# Test the solution:\n",
    "def reverse(self, x: int) -> int:\n",
    "    neg = False\n",
    "    if x < 0:\n",
    "        neg = True\n",
    "    x_rev = list(str(abs(x)))\n",
    "    x_rev.reverse()\n",
    "    x_rev = int(''.join(x_rev))\n",
    "\n",
    "    if abs(x_rev) > (2**31 - 1):\n",
    "        return 0\n",
    "    elif neg:\n",
    "        x_rev = x_rev*-1\n",
    "        return x_rev\n",
    "    else:\n",
    "        return x_rev"
   ]
  },
  {
   "cell_type": "markdown",
   "metadata": {},
   "source": [
    "-----------"
   ]
  }
 ],
 "metadata": {
  "interpreter": {
   "hash": "fc384f7e1c802d762e8ae2d35493986cf4d8dfda21fbfcf3845d3480326ba56e"
  },
  "kernelspec": {
   "display_name": "Python 3.8.8 64-bit ('base': conda)",
   "language": "python",
   "name": "python3"
  },
  "language_info": {
   "codemirror_mode": {
    "name": "ipython",
    "version": 3
   },
   "file_extension": ".py",
   "mimetype": "text/x-python",
   "name": "python",
   "nbconvert_exporter": "python",
   "pygments_lexer": "ipython3",
   "version": "3.8.8"
  },
  "orig_nbformat": 4
 },
 "nbformat": 4,
 "nbformat_minor": 2
}
