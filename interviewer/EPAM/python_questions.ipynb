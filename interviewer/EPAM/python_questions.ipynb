{
 "cells": [
  {
   "cell_type": "code",
   "execution_count": null,
   "metadata": {},
   "outputs": [],
   "source": [
    "# Given a list:\n",
    "lst = [1,2,3,4,6,7,8,9,12,4,2,5,7,2,5,2,1,4,6,3]\n",
    "# Push all the even numbers to the front and odd numbers to the back\n",
    "# Expected Output (one possibility):\n",
    "output = [6,8,4,2,4,2,12,2,4,2,6,7,1,5,3,9,7,3,5,1]\n",
    "# Note:\n",
    "# 1. The order of occurrence of the numbers can change\n",
    "# 2. Do not use any new/temporary lists.\n",
    "\n",
    "#############################################\n",
    "\n",
    "# Write a code to merge two lists iteratively in such a way that:\n",
    "# * For each iteration, one element will be picked up from each list and added to the output list\n",
    "# * After each iteration, the result in the output list should always be sorted\n",
    "# The lists can be of different lengths so if one gets exhausted, continue the iteration with the remaining elements of the other list\n",
    "list1 = [11, 4, 88, 66]\n",
    "list2 = [90, 55, 66, 33, 22, 99]\n",
    "# Example:\n",
    "# Iteration1: [11,90]\n",
    "# Iteration2: [4,11,55,90]\n",
    "# Iteration3: [4,11,55,66,88,90]\n",
    "# Iteration4: [4,11,33,55,66,66,88,90]\n",
    "# Iteration5: [4,11,22,33,55,66,66,88,90]\n",
    "# Iteration6: [4,11,22,33,55,66,66,88,90,99]\n",
    "\n",
    "\n",
    "#############################################\n",
    "\n",
    "## INTER/ADVNC\n",
    "\n",
    "# Write a function to find the longest common prefix string amongst an array of strings.\n",
    "# If there is no common prefix, return an empty string \"\".\n",
    "\n",
    "# Example 1:\n",
    "# Input: strs = [\"flower\",\"flow\",\"flight\"]\n",
    "# Output: \"fl\"\n",
    "\n",
    "# Example 2:\n",
    "# Input: strs = [\"dog\",\"racecar\",\"car\"]\n",
    "# Output: \"\"\n",
    "# Explanation: There is no common prefix among the input strings.\n",
    "\n",
    "# Example 3:\n",
    "# Input: strs = [\"vet\",\"veteran\",\"vetter\"]\n",
    "# Output: \"vet\"\n",
    "\n",
    "# Example 4:\n",
    "# Input: strs = [\"apple\",\"crapple\",\"grapple\"]\n",
    "# Output: \"\"\n",
    "\n",
    "# Constraints:\n",
    "#     1 <= strs.length <= 200\n",
    "#     0 <= strs[i].length <= 200\n",
    "#     strs[i] consists of only lower-case English letters.\n",
    "\n",
    "#############################################\n",
    "\n",
    "# Fibonacci series using dynamic programming\n",
    "# Fibonacci: 1, 1, 2, 3, 5, 8, 13 .....\n",
    "# Write a function fib(n) such that, it will print the nth element of the fibonacci series\n",
    "# Example:\n",
    "# fib(2) -> 1\n",
    "# fib(4) -> 3\n",
    "# fib(6) -> 8\n",
    "# fib(7) -> 13\n",
    "# etc\n",
    "\n",
    "#############################################"
   ]
  },
  {
   "cell_type": "markdown",
   "metadata": {},
   "source": [
    "## Solutions"
   ]
  },
  {
   "cell_type": "code",
   "execution_count": 5,
   "metadata": {},
   "outputs": [
    {
     "name": "stdout",
     "output_type": "stream",
     "text": [
      "[2, 4, 6, 8, 10]\n"
     ]
    },
    {
     "ename": "IndexError",
     "evalue": "list index out of range",
     "output_type": "error",
     "traceback": [
      "\u001b[1;31m---------------------------------------------------------------------------\u001b[0m",
      "\u001b[1;31mIndexError\u001b[0m                                Traceback (most recent call last)",
      "\u001b[1;32mc:\\Code\\Personal\\interview_prep\\interviewer\\EPAM\\python_questions.ipynb Cell 4'\u001b[0m in \u001b[0;36m<cell line: 12>\u001b[1;34m()\u001b[0m\n\u001b[0;32m     <a href='vscode-notebook-cell:/c%3A/Code/Personal/interview_prep/interviewer/EPAM/python_questions.ipynb#ch0000002?line=11'>12</a>\u001b[0m \u001b[39mwhile\u001b[39;00m (i \u001b[39m<\u001b[39m j):\n\u001b[0;32m     <a href='vscode-notebook-cell:/c%3A/Code/Personal/interview_prep/interviewer/EPAM/python_questions.ipynb#ch0000002?line=12'>13</a>\u001b[0m     \u001b[39mwhile\u001b[39;00m(\u001b[39mTrue\u001b[39;00m):\n\u001b[1;32m---> <a href='vscode-notebook-cell:/c%3A/Code/Personal/interview_prep/interviewer/EPAM/python_questions.ipynb#ch0000002?line=13'>14</a>\u001b[0m         \u001b[39mif\u001b[39;00m lst[i] \u001b[39m&\u001b[39m \u001b[39m1\u001b[39m \u001b[39m==\u001b[39m \u001b[39m0\u001b[39m:\n\u001b[0;32m     <a href='vscode-notebook-cell:/c%3A/Code/Personal/interview_prep/interviewer/EPAM/python_questions.ipynb#ch0000002?line=14'>15</a>\u001b[0m             i \u001b[39m+\u001b[39m\u001b[39m=\u001b[39m \u001b[39m1\u001b[39m\n\u001b[0;32m     <a href='vscode-notebook-cell:/c%3A/Code/Personal/interview_prep/interviewer/EPAM/python_questions.ipynb#ch0000002?line=15'>16</a>\u001b[0m         \u001b[39melse\u001b[39;00m:\n",
      "\u001b[1;31mIndexError\u001b[0m: list index out of range"
     ]
    }
   ],
   "source": [
    "# lst = [1,3,5,7,9,11,13,2,4,6,8,10,12,14,13,1,2,3,4,5,6,7,8,9]\n",
    "# lst = [1,3,5,7,9,11]\n",
    "# lst = [2,4,6,8,10]\n",
    "# lst = [1,2,3,4,6,7,8,9,12,4,2,5,7,2,5,2,1,4,6,3]\n",
    "\n",
    "\n",
    "\n",
    "i = 0\n",
    "j = len(lst) - 1\n",
    "\n",
    "print(lst)\n",
    "\n",
    "while (i < j):\n",
    "    while(True):\n",
    "        if lst[i] & 1 == 0:\n",
    "            i += 1\n",
    "        else:\n",
    "            break\n",
    "    while(True):\n",
    "        if lst[j] & 1 == 1:\n",
    "            j -= 1\n",
    "        else:\n",
    "            break\n",
    "    \n",
    "    lst[i], lst[j] = lst[j], lst[i]\n",
    "    i += 1\n",
    "    j -= 1\n",
    "\n",
    "print(lst)\n",
    "\n",
    "# print(lst)\n",
    "# print(set(lst))\n",
    "\n",
    "# def arrangement(lst):\n",
    "#     left, right = 0, len(lst)-1\n",
    "\n",
    "#     while left < right:\n",
    "#         while (lst[left] % 2 == 0 and left < right):\n",
    "#             left += 1\n",
    "#         while (lst[right] % 2 == 1 and left < right):\n",
    "#             right -= 1\n",
    "#         if left < right:\n",
    "#             lst[left], lst[right] = lst[right], lst[left]\n",
    "#             left += 1\n",
    "#             right -= 1\n",
    "\n",
    "# arrangement(lst)\n",
    "\n",
    "# print(lst)\n",
    "# print(set(lst))\n",
    "\n",
    "# print(lst)\n",
    "\n",
    "# def sortd(lst):\n",
    "#     left, right = 0, len(lst) - 1\n",
    "\n",
    "#     while left < right:\n",
    "#         while lst[left] % 2 == 0 and left < right:\n",
    "#             left += 1\n",
    "#         while lst[left] % 2 == 1 and left < right:\n",
    "#             right -= 1\n",
    "#         if left < right:\n",
    "#             lst[left], lst[right] = lst[right], lst[left]\n",
    "#             left += 1\n",
    "#             right -= 1\n",
    "    \n",
    "#     return lst\n",
    "\n",
    "# print(sortd(lst))\n",
    "\n",
    "# for i in range(len(lst)):\n",
    "#     for j in range(i+1, len(lst)):\n",
    "#         if lst[j] % 2 == 0:\n",
    "#             lst[i], lst[j] = lst[j], lst[i]\n",
    "\n",
    "# print(lst)\n",
    "\n",
    "# def reformat_list(inp_lst):\n",
    "#     i = 0\n",
    "#     j = len(inp_lst)-1\n",
    "\n",
    "#     while(i != j):\n",
    "#         if inp_lst[i] % 2 != 0 and inp_lst[j] % 2 == 0:\n",
    "#             inp_lst[i], inp_lst[j] = inp_lst[j], inp_lst[i]\n",
    "#         elif inp_lst[i] % 2 != 0:\n",
    "#             j -= 1\n",
    "#         elif inp_lst[j] % 2 != 0:\n",
    "#             i += 1\n",
    "\n",
    "#     return inp_lst\n",
    "\n",
    "# print(reformat_list(lst))\n",
    "\n",
    "\n",
    "\n",
    "\n",
    "\n",
    "# lst1 = filter(lambda x: x % 2 != 0, lst)\n",
    "# lst2 = filter(lambda x: x % 2 == 0, lst)\n",
    "\n",
    "# def oddEven(a, n):\n",
    "#     i = 0\n",
    "#     j = n-1\n",
    "#     while j >= i:\n",
    "#         if a[i] % 2 != 0:\n",
    "#             if a[j] % 2 == 0:\n",
    "#                 a[i], a[j] = a[j], a[i]\n",
    "#                 i += 1\n",
    "#                 j -= 1\n",
    "#             else:\n",
    "#                 j -= 1\n",
    "#         else:\n",
    "#             i += 1\n",
    "\n",
    "#     return a\n",
    "\n",
    "# oddEven(lst, len(lst))"
   ]
  },
  {
   "cell_type": "code",
   "execution_count": 9,
   "metadata": {},
   "outputs": [
    {
     "name": "stdout",
     "output_type": "stream",
     "text": [
      "0\n",
      "1\n",
      "2\n",
      "3\n",
      "5\n",
      "8\n",
      "13\n",
      "6765\n"
     ]
    }
   ],
   "source": [
    "def fib(a,b,n):\n",
    "    sum = 0\n",
    "    if n == 0 or n == 2:\n",
    "        return 1\n",
    "    \n",
    "    for i in range(2, n):\n",
    "        sum = a + b\n",
    "        a = b\n",
    "        b = sum\n",
    "    \n",
    "    return sum\n",
    "\n",
    "print(fib(1,1,1))\n",
    "print(fib(1,1,2))\n",
    "print(fib(1,1,3))\n",
    "print(fib(1,1,4))\n",
    "print(fib(1,1,5))\n",
    "print(fib(1,1,6))\n",
    "print(fib(1,1,7))\n",
    "print(fib(1,1,20))\n",
    "\n",
    "# fib_series = dict()\n",
    "# fib_series[0] = 1\n",
    "# fib_series[1] = 1\n",
    "\n",
    "# def get_nth_fib_value(n):\n",
    "#     global \n",
    "\n",
    "# def fib(n):\n",
    "#     p, q = 0, 1\n",
    "#     while p < n:\n",
    "#         yield p\n",
    "#         p, q = q, p + q"
   ]
  },
  {
   "cell_type": "code",
   "execution_count": 15,
   "metadata": {},
   "outputs": [
    {
     "name": "stdout",
     "output_type": "stream",
     "text": [
      "[0, 1, 1, 2, 3, 5, 8, 13]\n"
     ]
    }
   ],
   "source": [
    "n = 20\n",
    "lst = []\n",
    "\n",
    "for i in fib(n):\n",
    "    lst.append(i)\n",
    "\n",
    "print(lst)"
   ]
  },
  {
   "cell_type": "code",
   "execution_count": 8,
   "metadata": {},
   "outputs": [
    {
     "name": "stdout",
     "output_type": "stream",
     "text": [
      "1\n",
      "3\n",
      "8\n",
      "13\n"
     ]
    }
   ],
   "source": [
    "def fib(n):\n",
    "    if n <= 1:\n",
    "        return n\n",
    "    return fib(n-1) + fib(n-2)\n",
    "\n",
    "print(fib(2))\n",
    "print(fib(4))\n",
    "print(fib(6))\n",
    "print(fib(7))\n"
   ]
  },
  {
   "cell_type": "code",
   "execution_count": 6,
   "metadata": {},
   "outputs": [],
   "source": [
    "def segregation(arr):\n",
    "    left, right = 0, len(arr) - 1\n",
    "    while left < right:\n",
    "        while(arr[left] % 2 == 0 and left < right):\n",
    "            left += 1\n",
    "        while(arr[right] % 2 == 1 and left < right):\n",
    "            right -= 1\n",
    "        if left < right:\n",
    "            arr[left], arr[right] = arr[right], arr[left]\n",
    "            left += 1\n",
    "            right -= 1\n",
    "    print(arr)\n",
    "    return arr"
   ]
  },
  {
   "cell_type": "code",
   "execution_count": 7,
   "metadata": {},
   "outputs": [
    {
     "name": "stdout",
     "output_type": "stream",
     "text": [
      "[6, 2, 4, 4, 6, 2, 8, 2, 12, 4, 2, 5, 7, 9, 5, 7, 1, 3, 1, 3]\n",
      "[6, 2, 4, 4, 6, 2, 8, 2, 12, 4, 2, 5, 7, 9, 5, 7, 1, 3, 1, 3]\n"
     ]
    }
   ],
   "source": [
    "lst = [1,2,3,4,6,7,8,9,12,4,2,5,7,2,5,2,1,4,6,3]\n",
    "\n",
    "print(segregation(lst))"
   ]
  },
  {
   "cell_type": "code",
   "execution_count": null,
   "metadata": {},
   "outputs": [],
   "source": []
  }
 ],
 "metadata": {
  "interpreter": {
   "hash": "aaa5c832b63eae91981a2a50352553a3961fa32ff189f781a6f1ad2872196c19"
  },
  "kernelspec": {
   "display_name": "Python 3.10.4 64-bit",
   "language": "python",
   "name": "python3"
  },
  "language_info": {
   "codemirror_mode": {
    "name": "ipython",
    "version": 3
   },
   "file_extension": ".py",
   "mimetype": "text/x-python",
   "name": "python",
   "nbconvert_exporter": "python",
   "pygments_lexer": "ipython3",
   "version": "3.10.4"
  },
  "orig_nbformat": 4
 },
 "nbformat": 4,
 "nbformat_minor": 2
}
