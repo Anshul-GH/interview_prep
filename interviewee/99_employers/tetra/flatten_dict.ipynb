{
 "cells": [
  {
   "cell_type": "code",
   "execution_count": 1,
   "metadata": {},
   "outputs": [],
   "source": [
    "inp_dict = {\n",
    "    \"a\": \"aa\",\n",
    "    \"b\": {\n",
    "        \"bb1\": \"d\",\n",
    "        \"bb2\": \"d2\"\n",
    "    },\n",
    "    \"c\": [\n",
    "        {\n",
    "            \"cc1\": \"d\"\n",
    "        },\n",
    "        {\n",
    "            \"cc1\": \"d2\",\n",
    "            \"cc2\": [\n",
    "                {\n",
    "                    \"e\": \"f\"\n",
    "                }\n",
    "            ]\n",
    "        }\n",
    "    ],\n",
    "    \"g\": [\"h\", \"i\"]\n",
    "}"
   ]
  },
  {
   "cell_type": "code",
   "execution_count": null,
   "metadata": {},
   "outputs": [],
   "source": [
    "def flatten_list(inp_lst, prefix=None):\n",
    "    out_dict = {}\n",
    "    for val in inp_lst:\n",
    "        if prefix:\n",
    "                key = \".\".join([prefix, str(key)])\n",
    "        if isinstance(val, str):            \n",
    "            out_dict[key] = val\n",
    "        elif isinstance(val, dict):\n",
    "            out_dict[key] = flatten_dict(val, prefix=key)\n",
    "        elif isinstance(val, list):\n",
    "\n",
    "def flatten_dict(inp_dict, prefix=None):\n",
    "    for key, value in inp_dict.items():\n",
    "        if isinstance(value, str):\n",
    "            if prefix:\n",
    "                key = \".\".join([prefix, str(key)])\n",
    "            return {key: value}\n",
    "            # out_dict[key] = value\n",
    "        elif isinstance(value, dict):\n",
    "            return flatten_dict(value, prefix=key)\n",
    "        elif isinstance(value, list):\n",
    "            return flatten_list(value, key)\n"
   ]
  },
  {
   "cell_type": "code",
   "execution_count": 2,
   "metadata": {},
   "outputs": [],
   "source": [
    "inp_str = {\n",
    "    \"a\": \"aa\",\n",
    "    \"b\": {\n",
    "        \"bb1\": \"d\",\n",
    "        \"bb2\": \"d2\"\n",
    "    },\n",
    "    \"c\": [\n",
    "        {\n",
    "            \"cc1\": \"d\"\n",
    "        },\n",
    "        {\n",
    "            \"cc1\": \"d2\",\n",
    "            \"cc2\": [\n",
    "                {\n",
    "                    \"e\": \"f\"\n",
    "                }\n",
    "            ]\n",
    "        }\n",
    "    ],\n",
    "    \"g\": [\"h\", \"i\"]\n",
    "}\n"
   ]
  },
  {
   "cell_type": "code",
   "execution_count": 3,
   "metadata": {},
   "outputs": [],
   "source": [
    "mod_str = inp_str.replace(\" \", \"\")"
   ]
  },
  {
   "cell_type": "code",
   "execution_count": 8,
   "metadata": {},
   "outputs": [
    {
     "name": "stdout",
     "output_type": "stream",
     "text": [
      "{\"a\":\"aa\",\"b\":{\"bb1\":\"d\",\"bb2\":\"d2\"},\"c\":[{\"cc1\":\"d\"},{\"cc1\":\"d2\",\"cc2\":[{\"e\":\"f\"}]}],\"g\":[\"h\",\"i\"]}\n"
     ]
    }
   ],
   "source": [
    "mod_str = mod_str.replace(\"\\n\", \"\")\n",
    "print(mod_str)"
   ]
  },
  {
   "cell_type": "code",
   "execution_count": 11,
   "metadata": {},
   "outputs": [],
   "source": [
    "# new_str = mod_str.split(':')\n",
    "new_str = mod_str.replace()"
   ]
  },
  {
   "cell_type": "code",
   "execution_count": 12,
   "metadata": {},
   "outputs": [
    {
     "data": {
      "text/plain": [
       "['{\"a\"',\n",
       " '\"aa\",\"b\"',\n",
       " '{\"bb1\"',\n",
       " '\"d\",\"bb2\"',\n",
       " '\"d2\"},\"c\"',\n",
       " '[{\"cc1\"',\n",
       " '\"d\"},{\"cc1\"',\n",
       " '\"d2\",\"cc2\"',\n",
       " '[{\"e\"',\n",
       " '\"f\"}]}],\"g\"',\n",
       " '[\"h\",\"i\"]}']"
      ]
     },
     "execution_count": 12,
     "metadata": {},
     "output_type": "execute_result"
    }
   ],
   "source": [
    "new_str"
   ]
  },
  {
   "cell_type": "code",
   "execution_count": 13,
   "metadata": {},
   "outputs": [],
   "source": [
    "class JsonParser:\n",
    "    def __init__(connector=\".\"):\n",
    "        self.connector = connector\n",
    "    \n",
    "    def parse_json(self, inp_json):\n",
    "\n",
    "\n",
    "\n"
   ]
  },
  {
   "cell_type": "code",
   "execution_count": 19,
   "metadata": {},
   "outputs": [],
   "source": [
    "import pandas as pd\n",
    "import json\n",
    "\n",
    "inp_dict = {\n",
    "    \"a\": \"aa\",\n",
    "    \"b\": {\n",
    "        \"bb1\": \"d\",\n",
    "        \"bb2\": \"d2\"\n",
    "    },\n",
    "    \"c\": [\n",
    "        {\n",
    "            \"cc1\": \"d\"\n",
    "        },\n",
    "        {\n",
    "            \"cc1\": \"d2\",\n",
    "            \"cc2\": [\n",
    "                {\n",
    "                    \"e\": \"f\"\n",
    "                }\n",
    "            ]\n",
    "        }\n",
    "    ],\n",
    "    \"g\": [\"h\", \"i\"]\n",
    "}\n",
    "\n",
    "inp_json = json.dumps(inp_dict)\n",
    "\n",
    "# df = pd.read_json(inp_json)"
   ]
  },
  {
   "cell_type": "code",
   "execution_count": 21,
   "metadata": {},
   "outputs": [
    {
     "ename": "NotImplementedError",
     "evalue": "",
     "output_type": "error",
     "traceback": [
      "\u001b[0;31m---------------------------------------------------------------------------\u001b[0m",
      "\u001b[0;31mNotImplementedError\u001b[0m                       Traceback (most recent call last)",
      "\u001b[1;32m/Users/anshul_jain/Data/Personal/interview_prep/interviewee/99_employers/tetra/flatten_dict.ipynb Cell 10\u001b[0m in \u001b[0;36m<cell line: 1>\u001b[0;34m()\u001b[0m\n\u001b[0;32m----> <a href='vscode-notebook-cell:/Users/anshul_jain/Data/Personal/interview_prep/interviewee/99_employers/tetra/flatten_dict.ipynb#X12sZmlsZQ%3D%3D?line=0'>1</a>\u001b[0m df \u001b[39m=\u001b[39m pd\u001b[39m.\u001b[39;49mjson_normalize(inp_json)\n",
      "File \u001b[0;32m~/opt/anaconda3/lib/python3.9/site-packages/pandas/io/json/_normalize.py:443\u001b[0m, in \u001b[0;36m_json_normalize\u001b[0;34m(data, record_path, meta, meta_prefix, record_prefix, errors, sep, max_level)\u001b[0m\n\u001b[1;32m    441\u001b[0m     data \u001b[39m=\u001b[39m \u001b[39mlist\u001b[39m(data)\n\u001b[1;32m    442\u001b[0m \u001b[39melse\u001b[39;00m:\n\u001b[0;32m--> 443\u001b[0m     \u001b[39mraise\u001b[39;00m \u001b[39mNotImplementedError\u001b[39;00m\n\u001b[1;32m    445\u001b[0m \u001b[39m# check to see if a simple recursive function is possible to\u001b[39;00m\n\u001b[1;32m    446\u001b[0m \u001b[39m# improve performance (see #15621) but only for cases such\u001b[39;00m\n\u001b[1;32m    447\u001b[0m \u001b[39m# as pd.Dataframe(data) or pd.Dataframe(data, sep)\u001b[39;00m\n\u001b[1;32m    448\u001b[0m \u001b[39mif\u001b[39;00m (\n\u001b[1;32m    449\u001b[0m     record_path \u001b[39mis\u001b[39;00m \u001b[39mNone\u001b[39;00m\n\u001b[1;32m    450\u001b[0m     \u001b[39mand\u001b[39;00m meta \u001b[39mis\u001b[39;00m \u001b[39mNone\u001b[39;00m\n\u001b[0;32m   (...)\u001b[0m\n\u001b[1;32m    453\u001b[0m     \u001b[39mand\u001b[39;00m max_level \u001b[39mis\u001b[39;00m \u001b[39mNone\u001b[39;00m\n\u001b[1;32m    454\u001b[0m ):\n",
      "\u001b[0;31mNotImplementedError\u001b[0m: "
     ]
    }
   ],
   "source": [
    "df = pd.json_normalize(inp_json)"
   ]
  },
  {
   "cell_type": "code",
   "execution_count": 2,
   "metadata": {},
   "outputs": [
    {
     "ename": "NotImplementedError",
     "evalue": "",
     "output_type": "error",
     "traceback": [
      "\u001b[0;31m---------------------------------------------------------------------------\u001b[0m",
      "\u001b[0;31mNotImplementedError\u001b[0m                       Traceback (most recent call last)",
      "\u001b[1;32m/Users/anshul_jain/Data/Personal/interview_prep/interviewee/99_employers/tetra/flatten_dict.ipynb Cell 11\u001b[0m in \u001b[0;36m<cell line: 3>\u001b[0;34m()\u001b[0m\n\u001b[1;32m      <a href='vscode-notebook-cell:/Users/anshul_jain/Data/Personal/interview_prep/interviewee/99_employers/tetra/flatten_dict.ipynb#X13sZmlsZQ%3D%3D?line=0'>1</a>\u001b[0m \u001b[39mimport\u001b[39;00m \u001b[39mpandas\u001b[39;00m \u001b[39mas\u001b[39;00m \u001b[39mpd\u001b[39;00m\n\u001b[0;32m----> <a href='vscode-notebook-cell:/Users/anshul_jain/Data/Personal/interview_prep/interviewee/99_employers/tetra/flatten_dict.ipynb#X13sZmlsZQ%3D%3D?line=2'>3</a>\u001b[0m df \u001b[39m=\u001b[39m pd\u001b[39m.\u001b[39;49mjson_normalize(\u001b[39m\"\u001b[39;49m\u001b[39m/Users/anshul_jain/Data/Personal/interview_prep/interviewee/99_employers/tetra/sample.json\u001b[39;49m\u001b[39m\"\u001b[39;49m)\n",
      "File \u001b[0;32m~/opt/anaconda3/lib/python3.9/site-packages/pandas/io/json/_normalize.py:443\u001b[0m, in \u001b[0;36m_json_normalize\u001b[0;34m(data, record_path, meta, meta_prefix, record_prefix, errors, sep, max_level)\u001b[0m\n\u001b[1;32m    441\u001b[0m     data \u001b[39m=\u001b[39m \u001b[39mlist\u001b[39m(data)\n\u001b[1;32m    442\u001b[0m \u001b[39melse\u001b[39;00m:\n\u001b[0;32m--> 443\u001b[0m     \u001b[39mraise\u001b[39;00m \u001b[39mNotImplementedError\u001b[39;00m\n\u001b[1;32m    445\u001b[0m \u001b[39m# check to see if a simple recursive function is possible to\u001b[39;00m\n\u001b[1;32m    446\u001b[0m \u001b[39m# improve performance (see #15621) but only for cases such\u001b[39;00m\n\u001b[1;32m    447\u001b[0m \u001b[39m# as pd.Dataframe(data) or pd.Dataframe(data, sep)\u001b[39;00m\n\u001b[1;32m    448\u001b[0m \u001b[39mif\u001b[39;00m (\n\u001b[1;32m    449\u001b[0m     record_path \u001b[39mis\u001b[39;00m \u001b[39mNone\u001b[39;00m\n\u001b[1;32m    450\u001b[0m     \u001b[39mand\u001b[39;00m meta \u001b[39mis\u001b[39;00m \u001b[39mNone\u001b[39;00m\n\u001b[0;32m   (...)\u001b[0m\n\u001b[1;32m    453\u001b[0m     \u001b[39mand\u001b[39;00m max_level \u001b[39mis\u001b[39;00m \u001b[39mNone\u001b[39;00m\n\u001b[1;32m    454\u001b[0m ):\n",
      "\u001b[0;31mNotImplementedError\u001b[0m: "
     ]
    }
   ],
   "source": [
    "import pandas as pd\n",
    "\n",
    "df = pd.json_normalize(\"/Users/anshul_jain/Data/Personal/interview_prep/interviewee/99_employers/tetra/sample.json\")"
   ]
  },
  {
   "cell_type": "code",
   "execution_count": 3,
   "metadata": {},
   "outputs": [],
   "source": [
    "from collections.abc import MutableMapping\n",
    "\n",
    "\n",
    "def yield_elements(mapping, in_key, connector):\n",
    "    for key, value in mapping.items():\n",
    "        mod_key = key\n",
    "        if in_key:\n",
    "            mod_key = in_key + connector + key\n",
    "            connector = \".\"\n",
    "        if isinstance(value, MutableMapping):\n",
    "            yield from flatten_dict(value, mod_key, connector).items()\n",
    "        else:\n",
    "            yield mod_key, value\n",
    "\n",
    "\n",
    "def flatten_dict(mapping, in_key=None, connector=\".\"):\n",
    "    return dict(yield_elements(mapping, in_key, connector))\n",
    "\n",
    "\n",
    "if __name__ == \"__main__\":\n",
    "    inp_dict = {\n",
    "        \"a\": \"aa\",\n",
    "        \"b\": {\n",
    "            \"bb1\": \"d\",\n",
    "            \"bb2\": \"d2\"\n",
    "        },\n",
    "        \"c\": [\n",
    "            {\n",
    "                \"cc1\": \"d\"\n",
    "            },\n",
    "            {\n",
    "                \"cc1\": \"d2\",\n",
    "                \"cc2\": [\n",
    "                    {\n",
    "                        \"e\": \"f\"\n",
    "                    }\n",
    "                ]\n",
    "            }\n",
    "        ],\n",
    "        \"g\": [\"h\", \"i\"]\n",
    "    }\n",
    "\n",
    "    mod_dict = flatten_dict(inp_dict)"
   ]
  },
  {
   "cell_type": "code",
   "execution_count": 4,
   "metadata": {},
   "outputs": [
    {
     "data": {
      "text/plain": [
       "{'a': 'aa',\n",
       " 'b.bb1': 'd',\n",
       " 'b.bb2': 'd2',\n",
       " 'c': [{'cc1': 'd'}, {'cc1': 'd2', 'cc2': [{'e': 'f'}]}],\n",
       " 'g': ['h', 'i']}"
      ]
     },
     "execution_count": 4,
     "metadata": {},
     "output_type": "execute_result"
    }
   ],
   "source": [
    "mod_dict"
   ]
  },
  {
   "cell_type": "code",
   "execution_count": 7,
   "metadata": {},
   "outputs": [
    {
     "name": "stdout",
     "output_type": "stream",
     "text": [
      "{'cc1': 'd'}\n",
      "------\n",
      "{'cc1': 'd2', 'cc2': [{'e': 'f'}]}\n",
      "------\n",
      "------\n",
      "------\n"
     ]
    }
   ],
   "source": [
    "for val in mod_dict.values():\n",
    "    if isinstance(val, list):\n",
    "        for key, elem in val:\n",
    "            if isinstance(elem, dict):\n",
    "                print(flatten_dict(elem))\n",
    "            print(\"------\")"
   ]
  },
  {
   "cell_type": "code",
   "execution_count": 8,
   "metadata": {},
   "outputs": [],
   "source": [
    "inp_dict = {\n",
    "    \"a\": \"aa\",\n",
    "    \"b\": {\n",
    "        \"bb1\": \"d\",\n",
    "        \"bb2\": \"d2\"\n",
    "    },\n",
    "    \"c\": [\n",
    "        {\n",
    "            \"cc1\": \"d\"\n",
    "        },\n",
    "        {\n",
    "            \"cc1\": \"d2\",\n",
    "            \"cc2\": [\n",
    "                {\n",
    "                    \"e\": \"f\"\n",
    "                }\n",
    "            ]\n",
    "        }\n",
    "    ],\n",
    "    \"g\": [\"h\", \"i\"]\n",
    "}"
   ]
  },
  {
   "cell_type": "code",
   "execution_count": 12,
   "metadata": {},
   "outputs": [],
   "source": [
    "from flatten_json import flatten"
   ]
  },
  {
   "cell_type": "code",
   "execution_count": 11,
   "metadata": {},
   "outputs": [],
   "source": [
    "# !pip install flatten_json"
   ]
  },
  {
   "cell_type": "code",
   "execution_count": 21,
   "metadata": {},
   "outputs": [
    {
     "name": "stdout",
     "output_type": "stream",
     "text": [
      "{'a': 'aa', 'b.bb1': 'd', 'b.bb2': 'd2', 'c.0.cc1': 'd', 'c.1.cc1': 'd2', 'c.1.cc2.0.e': 'f', 'g.0': 'h', 'g.1': 'i'}\n"
     ]
    }
   ],
   "source": [
    "flat_json = flatten(nested_dict=inp_dict,separator=\".\")\n",
    "print(flat_json)"
   ]
  },
  {
   "cell_type": "code",
   "execution_count": 16,
   "metadata": {},
   "outputs": [
    {
     "name": "stdout",
     "output_type": "stream",
     "text": [
      "[{'key': 'a', 'value': 'aa'}, {'key': 'b.bb1', 'value': 'd'}, {'key': 'b.bb2', 'value': 'd2'}, {'key': 'c.0.cc1', 'value': 'd'}, {'key': 'c.1.cc1', 'value': 'd2'}, {'key': 'c.1.cc2.0.e', 'value': 'f'}, {'key': 'g.0', 'value': 'h'}, {'key': 'g.1', 'value': 'i'}]\n"
     ]
    }
   ],
   "source": [
    "\n",
    "\n",
    "out_dict = []\n",
    "for item in flat_json.items():\n",
    "    \n",
    "    element = {\n",
    "        \"key\": item[0],\n",
    "        \"value\": item[1]\n",
    "    }\n",
    "    out_dict.append(element)\n",
    "\n",
    "print(out_dict)"
   ]
  },
  {
   "cell_type": "code",
   "execution_count": 17,
   "metadata": {},
   "outputs": [
    {
     "data": {
      "text/plain": [
       "[{'key': 'a', 'value': 'aa'},\n",
       " {'key': 'b.bb1', 'value': 'd'},\n",
       " {'key': 'b.bb2', 'value': 'd2'},\n",
       " {'key': 'c.0.cc1', 'value': 'd'},\n",
       " {'key': 'c.1.cc1', 'value': 'd2'},\n",
       " {'key': 'c.1.cc2.0.e', 'value': 'f'},\n",
       " {'key': 'g.0', 'value': 'h'},\n",
       " {'key': 'g.1', 'value': 'i'}]"
      ]
     },
     "execution_count": 17,
     "metadata": {},
     "output_type": "execute_result"
    }
   ],
   "source": [
    "out_dict"
   ]
  },
  {
   "cell_type": "code",
   "execution_count": 1,
   "metadata": {},
   "outputs": [],
   "source": [
    "CONNECTOR='.'\n",
    "\n",
    "def flatten(elem, name='', out={}):\n",
    "\n",
    "    # If the Nested key-value\n",
    "    # pair is of dict type\n",
    "    if isinstance(elem, dict):\n",
    "\n",
    "        for a in elem:\n",
    "            flatten(elem[a], name + a + CONNECTOR, out)\n",
    "\n",
    "    # If the Nested key-value\n",
    "    # pair is of list type\n",
    "    elif isinstance(elem, list): \n",
    "        i = 0 \n",
    "        for a in elem:\n",
    "            flatten(a, name + '[' + str(i) + '].', out)\n",
    "            i += 1\n",
    "    else:\n",
    "        out[name[:-1]] = elem\n",
    "\n",
    "def flatten_json(inp_dict):\n",
    "    name=''\n",
    "    out={}\n",
    "    flatten(inp_dict, name, out)\n",
    "    return out"
   ]
  },
  {
   "cell_type": "code",
   "execution_count": 2,
   "metadata": {},
   "outputs": [
    {
     "name": "stdout",
     "output_type": "stream",
     "text": [
      "{'a': 'aa', 'b.bb1': 'd', 'b.bb2': 'd2', 'c.[0].cc1': 'd', 'c.[1].cc1': 'd2', 'c.[1].cc2.[0].e': 'f', 'g.[0]': 'h', 'g.[1]': 'i'}\n"
     ]
    }
   ],
   "source": [
    "inp_dict = {\n",
    "    \"a\": \"aa\",\n",
    "    \"b\": {\n",
    "        \"bb1\": \"d\",\n",
    "        \"bb2\": \"d2\"\n",
    "    },\n",
    "    \"c\": [\n",
    "        {\n",
    "            \"cc1\": \"d\"\n",
    "        },\n",
    "        {\n",
    "            \"cc1\": \"d2\",\n",
    "            \"cc2\": [\n",
    "                {\n",
    "                    \"e\": \"f\"\n",
    "                }\n",
    "            ]\n",
    "        }\n",
    "    ],\n",
    "    \"g\": [\"h\", \"i\"]\n",
    "}\n",
    "\n",
    "flat_json = flatten_json(inp_dict)"
   ]
  },
  {
   "cell_type": "code",
   "execution_count": null,
   "metadata": {},
   "outputs": [],
   "source": [
    "output = []\n",
    "for item in flat_json.items():\n",
    "    \n",
    "    element = {\n",
    "        \"key\": item[0],\n",
    "        \"value\": item[1]\n",
    "    }\n",
    "    output.append(element)\n",
    "\n",
    "print(output)"
   ]
  }
 ],
 "metadata": {
  "kernelspec": {
   "display_name": "Python 3.9.12 ('base')",
   "language": "python",
   "name": "python3"
  },
  "language_info": {
   "codemirror_mode": {
    "name": "ipython",
    "version": 3
   },
   "file_extension": ".py",
   "mimetype": "text/x-python",
   "name": "python",
   "nbconvert_exporter": "python",
   "pygments_lexer": "ipython3",
   "version": "3.9.12"
  },
  "orig_nbformat": 4,
  "vscode": {
   "interpreter": {
    "hash": "0e52070d4b81082243dbff9dce5218bc772acaf751673494d2244e64e0ce79b2"
   }
  }
 },
 "nbformat": 4,
 "nbformat_minor": 2
}
