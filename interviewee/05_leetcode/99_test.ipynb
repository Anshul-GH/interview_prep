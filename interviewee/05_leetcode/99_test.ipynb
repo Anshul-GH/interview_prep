{
 "cells": [
  {
   "cell_type": "code",
   "execution_count": 7,
   "source": [
    "digits = [4,3,2,1]\r\n",
    "\r\n",
    "def increment_number(digits):\r\n",
    "    rev = digits[::-1]\r\n",
    "    int_num = 0\r\n",
    "    dec = 0\r\n",
    "    for num in rev:\r\n",
    "        int_num += num * (10**dec)\r\n",
    "        dec += 1\r\n",
    "    \r\n",
    "    # increment the number by 1\r\n",
    "    int_num += 1\r\n",
    "\r\n",
    "    # convert number into a list\r\n",
    "    new_digits = str(int_num)\r\n",
    "    new_digits = [int(digit) for digit in new_digits]\r\n",
    "    \r\n",
    "    return new_digits"
   ],
   "outputs": [],
   "metadata": {}
  },
  {
   "cell_type": "code",
   "execution_count": 11,
   "source": [
    "digits = [3,9,9,9]\r\n",
    "number = increment_number(digits)\r\n",
    "print(number)"
   ],
   "outputs": [
    {
     "output_type": "stream",
     "name": "stdout",
     "text": [
      "[4, 0, 0, 0]\n"
     ]
    }
   ],
   "metadata": {}
  },
  {
   "cell_type": "code",
   "execution_count": 1,
   "source": [
    "nums = [0,1,0,3,12]\r\n"
   ],
   "outputs": [],
   "metadata": {}
  },
  {
   "cell_type": "code",
   "execution_count": 10,
   "source": [
    "nums = [0,1,0,3,12] # [0] # [0,1,0,3,12]\r\n",
    "nums = sorted(nums, key=lambda x:x==0)"
   ],
   "outputs": [],
   "metadata": {}
  },
  {
   "cell_type": "code",
   "execution_count": 11,
   "source": [
    "nums"
   ],
   "outputs": [
    {
     "output_type": "execute_result",
     "data": {
      "text/plain": [
       "[1, 3, 12, 0, 0]"
      ]
     },
     "metadata": {},
     "execution_count": 11
    }
   ],
   "metadata": {}
  },
  {
   "cell_type": "code",
   "execution_count": 12,
   "source": [
    "nums = [0,1,0,3,12]\r\n",
    "nums.sort(key=lambda x:x==0)"
   ],
   "outputs": [],
   "metadata": {}
  },
  {
   "cell_type": "code",
   "execution_count": 13,
   "source": [
    "nums"
   ],
   "outputs": [
    {
     "output_type": "execute_result",
     "data": {
      "text/plain": [
       "[1, 3, 12, 0, 0]"
      ]
     },
     "metadata": {},
     "execution_count": 13
    }
   ],
   "metadata": {}
  },
  {
   "cell_type": "code",
   "execution_count": 30,
   "source": [
    "nums = [3,3] #[3,2,4] #[2,7,11,15]\r\n",
    "target = 6 #9"
   ],
   "outputs": [],
   "metadata": {}
  },
  {
   "cell_type": "code",
   "execution_count": 31,
   "source": [
    "for idx, val in enumerate(nums):\r\n",
    "    remain_num = target - val\r\n",
    "    remain_nums = nums[:idx] + nums[idx+1:] \r\n",
    "    if remain_num in remain_nums:\r\n",
    "        pair = [idx, remain_nums.index(remain_num)+1]\r\n",
    "        break"
   ],
   "outputs": [],
   "metadata": {}
  },
  {
   "cell_type": "code",
   "execution_count": 32,
   "source": [
    "pair"
   ],
   "outputs": [
    {
     "output_type": "execute_result",
     "data": {
      "text/plain": [
       "[0, 1]"
      ]
     },
     "metadata": {},
     "execution_count": 32
    }
   ],
   "metadata": {}
  },
  {
   "cell_type": "code",
   "execution_count": 26,
   "source": [
    "remain_nums"
   ],
   "outputs": [
    {
     "output_type": "execute_result",
     "data": {
      "text/plain": [
       "[7, 11, 15]"
      ]
     },
     "metadata": {},
     "execution_count": 26
    }
   ],
   "metadata": {}
  },
  {
   "cell_type": "code",
   "execution_count": 36,
   "source": [
    "nums[5:]"
   ],
   "outputs": [
    {
     "output_type": "execute_result",
     "data": {
      "text/plain": [
       "[]"
      ]
     },
     "metadata": {},
     "execution_count": 36
    }
   ],
   "metadata": {}
  },
  {
   "cell_type": "code",
   "execution_count": 26,
   "source": [
    "# board = [\r\n",
    "#     [\"5\",\"3\",\".\",\".\",\"7\",\".\",\".\",\".\",\".\"]\r\n",
    "#     ,[\"6\",\".\",\".\",\"1\",\"9\",\"5\",\".\",\".\",\".\"]\r\n",
    "#     ,[\".\",\"9\",\"8\",\".\",\".\",\".\",\".\",\"6\",\".\"]\r\n",
    "#     ,[\"8\",\".\",\".\",\".\",\"6\",\".\",\".\",\".\",\"3\"]\r\n",
    "#     ,[\"4\",\".\",\".\",\"8\",\".\",\"3\",\".\",\".\",\"1\"]\r\n",
    "#     ,[\"7\",\".\",\".\",\".\",\"2\",\".\",\".\",\".\",\"6\"]\r\n",
    "#     ,[\".\",\"6\",\".\",\".\",\".\",\".\",\"2\",\"8\",\".\"]\r\n",
    "#     ,[\".\",\".\",\".\",\"4\",\"1\",\"9\",\".\",\".\",\"5\"]\r\n",
    "#     ,[\".\",\".\",\".\",\".\",\"8\",\".\",\".\",\"7\",\"9\"]\r\n",
    "# ]\r\n",
    "\r\n",
    "board = [[\"8\",\"3\",\".\",\".\",\"7\",\".\",\".\",\".\",\".\"]\r\n",
    ",[\"6\",\".\",\".\",\"1\",\"9\",\"5\",\".\",\".\",\".\"]\r\n",
    ",[\".\",\"9\",\"8\",\".\",\".\",\".\",\".\",\"6\",\".\"]\r\n",
    ",[\"8\",\".\",\".\",\".\",\"6\",\".\",\".\",\".\",\"3\"]\r\n",
    ",[\"4\",\".\",\".\",\"8\",\".\",\"3\",\".\",\".\",\"1\"]\r\n",
    ",[\"7\",\".\",\".\",\".\",\"2\",\".\",\".\",\".\",\"6\"]\r\n",
    ",[\".\",\"6\",\".\",\".\",\".\",\".\",\"2\",\"8\",\".\"]\r\n",
    ",[\".\",\".\",\".\",\"4\",\"1\",\"9\",\".\",\".\",\"5\"]\r\n",
    ",[\".\",\".\",\".\",\".\",\"8\",\".\",\".\",\"7\",\"9\"]]"
   ],
   "outputs": [],
   "metadata": {}
  },
  {
   "cell_type": "code",
   "execution_count": 27,
   "source": [
    "# checking horizontal rows\r\n",
    "valid = True\r\n",
    "for row in board:\r\n",
    "    trimmed_num = [int(num) for num in row if num.isdigit()]\r\n",
    "    # print(trimmed_num)\r\n",
    "    if any((x > 9 for x in trimmed_num)):\r\n",
    "        valid = False\r\n",
    "        break\r\n",
    "    if len(set(trimmed_num)) != len(trimmed_num):\r\n",
    "        valid = False\r\n",
    "        break\r\n",
    "\r\n",
    "# if above test is pass, checking vertical rows\r\n",
    "if valid:\r\n",
    "    for row in board:\r\n",
    "        trimmed_num = [int(num) for num in row if num.isdigit()]\r\n",
    "        # print(trimmed_num)\r\n",
    "        if any((x > 9 for x in trimmed_num)):\r\n",
    "            valid = False\r\n",
    "            break\r\n",
    "        if len(set(trimmed_num)) != len(trimmed_num):\r\n",
    "            valid = False\r\n",
    "            break\r\n",
    "\r\n",
    "# if above test is pass, check for individual 3X3 matrix to be valid\r\n",
    "if valid:\r\n",
    "    for k in range(3):    \r\n",
    "        for i in range(3):\r\n",
    "            row = []\r\n",
    "            h_shft = i*3\r\n",
    "            for j in range(3):\r\n",
    "                v_shft = j*1 + k*3\r\n",
    "                row += board[v_shft][h_shft:h_shft+3]\r\n",
    "                trimmed_num = [int(num) for num in row if num.isdigit()]\r\n",
    "                if any((x > 9 for x in trimmed_num)):\r\n",
    "                    valid = False\r\n",
    "                    break\r\n",
    "                if len(set(trimmed_num)) != len(trimmed_num):\r\n",
    "                    valid = False\r\n",
    "                    break\r\n",
    "\r\n",
    "print(valid)\r\n",
    "    \r\n"
   ],
   "outputs": [
    {
     "output_type": "stream",
     "name": "stdout",
     "text": [
      "False\n"
     ]
    }
   ],
   "metadata": {}
  },
  {
   "cell_type": "code",
   "execution_count": 23,
   "source": [
    "# # checking each 3X3 matrix\r\n",
    "# valid = True\r\n",
    "# h_shft = 0\r\n",
    "# v_shft = 3*2\r\n",
    "# # for h_shift in range(3):\r\n",
    "# #     matrix = board[3*h_shft:3*h_shft+3][v_shft:v_shft+3]\r\n",
    "# #     print(matrix)\r\n",
    "\r\n",
    "# # while h_shft <= 9 & v_shft <= 9:\r\n",
    "# #     for i in range(3):\r\n",
    "# #         matrix = board[i*h_shft:h_shft+3][v_shft:v_shft+3]\r\n",
    "# #         print(matrix)\r\n",
    "\r\n",
    "# while h_shft < 3:\r\n",
    "#     print(board[h_shft][v_shft:v_shft+3])\r\n",
    "#     h_shft = h_shft+1\r\n",
    "\r\n"
   ],
   "outputs": [
    {
     "output_type": "stream",
     "name": "stdout",
     "text": [
      "['5', '3', '.', '6', '.', '.', '.', '9', '8']\n",
      "-------------\n",
      "['.', '7', '.', '1', '9', '5', '.', '.', '.']\n",
      "-------------\n",
      "['.', '.', '.', '.', '.', '.', '.', '6', '.']\n",
      "-------------\n",
      "['8', '.', '.', '4', '.', '.', '7', '.', '.']\n",
      "-------------\n",
      "['.', '6', '.', '8', '.', '3', '.', '2', '.']\n",
      "-------------\n",
      "['.', '.', '3', '.', '.', '1', '.', '.', '6']\n",
      "-------------\n",
      "['.', '6', '.', '.', '.', '.', '.', '.', '.']\n",
      "-------------\n",
      "['.', '.', '.', '4', '1', '9', '.', '8', '.']\n",
      "-------------\n",
      "['2', '8', '.', '.', '.', '5', '.', '7', '9']\n",
      "-------------\n"
     ]
    }
   ],
   "metadata": {}
  },
  {
   "cell_type": "code",
   "execution_count": 18,
   "source": [
    "for k in range(1,4):\r\n",
    "    print(k)"
   ],
   "outputs": [
    {
     "output_type": "stream",
     "name": "stdout",
     "text": [
      "1\n",
      "2\n",
      "3\n"
     ]
    }
   ],
   "metadata": {}
  },
  {
   "cell_type": "code",
   "execution_count": null,
   "source": [
    "# ['5', '3', '.']\r\n",
    "# ['6', '.', '.']\r\n",
    "# ['.', '9', '8']\r\n",
    "\r\n",
    "# ['.', '7', '.']\r\n",
    "# ['1', '9', '5']\r\n",
    "# ['.', '.', '.']\r\n",
    "\r\n",
    "# ['.', '.', '.']\r\n",
    "# ['.', '.', '.']\r\n",
    "# ['.', '6', '.']"
   ],
   "outputs": [],
   "metadata": {}
  },
  {
   "cell_type": "code",
   "execution_count": 1,
   "source": [
    "board = [\r\n",
    "    [\".\",\".\",\"4\",\".\",\".\",\".\",\"6\",\"3\",\".\"],\r\n",
    "    [\".\",\".\",\".\",\".\",\".\",\".\",\".\",\".\",\".\"],\r\n",
    "    [\"5\",\".\",\".\",\".\",\".\",\".\",\".\",\"9\",\".\"],\r\n",
    "    [\".\",\".\",\".\",\"5\",\"6\",\".\",\".\",\".\",\".\"],\r\n",
    "    [\"4\",\".\",\"3\",\".\",\".\",\".\",\".\",\".\",\"1\"],\r\n",
    "    [\".\",\".\",\".\",\"7\",\".\",\".\",\".\",\".\",\".\"],\r\n",
    "    [\".\",\".\",\".\",\"5\",\".\",\".\",\".\",\".\",\".\"],\r\n",
    "    [\".\",\".\",\".\",\".\",\".\",\".\",\".\",\".\",\".\"],\r\n",
    "    [\".\",\".\",\".\",\".\",\".\",\".\",\".\",\".\",\".\"]\r\n",
    "]\r\n",
    "\r\n",
    "# [\r\n",
    "#     [\".\",\".\",\"4\",\".\",\".\",\".\",\"6\",\"3\",\".\"],\r\n",
    "#     [\".\",\".\",\".\",\".\",\".\",\".\",\".\",\".\",\".\"],\r\n",
    "#     [\"5\",\".\",\".\",\".\",\".\",\".\",\".\",\"9\",\".\"],\r\n",
    "#     [\".\",\".\",\".\",\"5\",\"6\",\".\",\".\",\".\",\".\"],\r\n",
    "#     [\"4\",\".\",\"3\",\".\",\".\",\".\",\".\",\".\",\"1\"],\r\n",
    "#     [\".\",\".\",\".\",\"7\",\".\",\".\",\".\",\".\",\".\"],\r\n",
    "#     [\".\",\".\",\".\",\"5\",\".\",\".\",\".\",\".\",\".\"],\r\n",
    "#     [\".\",\".\",\".\",\".\",\".\",\".\",\".\",\".\",\".\"],\r\n",
    "#     [\".\",\".\",\".\",\".\",\".\",\".\",\".\",\".\",\".\"]\r\n",
    "# ]"
   ],
   "outputs": [],
   "metadata": {}
  },
  {
   "cell_type": "code",
   "execution_count": 8,
   "source": [
    "def transpose(A,B):\r\n",
    "    N = len(A)\r\n",
    "    for i in range(N):\r\n",
    "        for j in range(N):\r\n",
    "            B[i][j] = A[j][i]\r\n",
    "    "
   ],
   "outputs": [],
   "metadata": {}
  },
  {
   "cell_type": "code",
   "execution_count": 9,
   "source": [
    "board_t = board[:][:]\r\n",
    "\r\n",
    "transpose(board, board_t)"
   ],
   "outputs": [],
   "metadata": {}
  },
  {
   "cell_type": "code",
   "execution_count": 7,
   "source": [
    "len(board)"
   ],
   "outputs": [
    {
     "output_type": "execute_result",
     "data": {
      "text/plain": [
       "9"
      ]
     },
     "metadata": {},
     "execution_count": 7
    }
   ],
   "metadata": {}
  },
  {
   "cell_type": "code",
   "execution_count": 10,
   "source": [
    "board_t"
   ],
   "outputs": [
    {
     "output_type": "execute_result",
     "data": {
      "text/plain": [
       "[['.', '.', '5', '.', '4', '.', '.', '.', '.'],\n",
       " ['.', '.', '.', '.', '.', '.', '.', '.', '.'],\n",
       " ['5', '.', '.', '.', '3', '.', '.', '.', '.'],\n",
       " ['.', '.', '.', '5', '.', '7', '5', '.', '.'],\n",
       " ['4', '.', '3', '.', '.', '.', '.', '.', '.'],\n",
       " ['.', '.', '.', '7', '.', '.', '.', '.', '.'],\n",
       " ['.', '.', '.', '5', '.', '.', '.', '.', '.'],\n",
       " ['.', '.', '.', '.', '.', '.', '.', '.', '.'],\n",
       " ['.', '.', '.', '.', '.', '.', '.', '.', '.']]"
      ]
     },
     "metadata": {},
     "execution_count": 10
    }
   ],
   "metadata": {}
  },
  {
   "cell_type": "code",
   "execution_count": 21,
   "source": [
    "board = [\r\n",
    "    [\".\",\".\",\"4\",\".\",\".\",\".\",\"6\",\"3\",\".\"],\r\n",
    "    [\".\",\".\",\".\",\".\",\".\",\".\",\".\",\".\",\".\"],\r\n",
    "    [\"5\",\".\",\".\",\".\",\".\",\".\",\".\",\"9\",\".\"],\r\n",
    "    [\".\",\".\",\".\",\"5\",\"6\",\".\",\".\",\".\",\".\"],\r\n",
    "    [\"4\",\".\",\"3\",\".\",\".\",\".\",\".\",\".\",\"1\"],\r\n",
    "    [\".\",\".\",\".\",\"7\",\".\",\".\",\".\",\".\",\".\"],\r\n",
    "    [\".\",\".\",\".\",\"5\",\".\",\".\",\".\",\".\",\".\"],\r\n",
    "    [\".\",\".\",\".\",\".\",\".\",\".\",\".\",\".\",\".\"],\r\n",
    "    [\".\",\".\",\".\",\".\",\".\",\".\",\".\",\".\",\".\"]\r\n",
    "]"
   ],
   "outputs": [],
   "metadata": {}
  },
  {
   "cell_type": "code",
   "execution_count": 22,
   "source": [
    "# checking horizontal rows\r\n",
    "valid = True\r\n",
    "for row in board:\r\n",
    "    trimmed_num = [int(num) for num in row if num.isdigit()]\r\n",
    "    if any((x > 9 for x in trimmed_num)):\r\n",
    "        valid = False\r\n",
    "        break\r\n",
    "    if len(set(trimmed_num)) != len(trimmed_num):\r\n",
    "        valid = False\r\n",
    "        break\r\n",
    "\r\n",
    "# if above test is pass, checking vertical rows\r\n",
    "if valid:\r\n",
    "    # transpose the matrix\r\n",
    "    board_t = [[board[j][i] for j in range(len(board))] for i in range(len(board[0]))]\r\n",
    "    for row in board_t:\r\n",
    "        trimmed_num = [int(num) for num in row if num.isdigit()]\r\n",
    "        if any((x > 9 for x in trimmed_num)):\r\n",
    "            valid = False\r\n",
    "            break\r\n",
    "        if len(set(trimmed_num)) != len(trimmed_num):\r\n",
    "            valid = False\r\n",
    "            break\r\n",
    "\r\n",
    "# if above test is pass, check for individual 3X3 matrix to be valid\r\n",
    "if valid:\r\n",
    "    for k in range(3):    \r\n",
    "        for i in range(3):\r\n",
    "            row = []\r\n",
    "            h_shft = i*3\r\n",
    "            for j in range(3):\r\n",
    "                v_shft = j*1 + k*3\r\n",
    "                row += board[v_shft][h_shft:h_shft+3]\r\n",
    "                trimmed_num = [int(num) for num in row if num.isdigit()]\r\n",
    "                if any((x > 9 for x in trimmed_num)):\r\n",
    "                    valid = False\r\n",
    "                    break\r\n",
    "                if len(set(trimmed_num)) != len(trimmed_num):\r\n",
    "                    valid = False\r\n",
    "                    break\r\n",
    "\r\n",
    "print(valid)"
   ],
   "outputs": [
    {
     "output_type": "stream",
     "name": "stdout",
     "text": [
      "False\n"
     ]
    }
   ],
   "metadata": {}
  },
  {
   "cell_type": "code",
   "execution_count": null,
   "source": [],
   "outputs": [],
   "metadata": {}
  },
  {
   "cell_type": "code",
   "execution_count": 17,
   "source": [
    "board_t = [[board[j][i] for j in range(len(board))] for i in range(len(board[0]))]"
   ],
   "outputs": [],
   "metadata": {}
  },
  {
   "cell_type": "code",
   "execution_count": 18,
   "source": [
    "board_t"
   ],
   "outputs": [
    {
     "output_type": "execute_result",
     "data": {
      "text/plain": [
       "[['.', '.', '5', '.', '4', '.', '.', '.', '.'],\n",
       " ['.', '.', '.', '.', '.', '.', '.', '.', '.'],\n",
       " ['4', '.', '.', '.', '3', '.', '.', '.', '.'],\n",
       " ['.', '.', '.', '5', '.', '7', '5', '.', '.'],\n",
       " ['.', '.', '.', '6', '.', '.', '.', '.', '.'],\n",
       " ['.', '.', '.', '.', '.', '.', '.', '.', '.'],\n",
       " ['6', '.', '.', '.', '.', '.', '.', '.', '.'],\n",
       " ['3', '.', '9', '.', '.', '.', '.', '.', '.'],\n",
       " ['.', '.', '.', '.', '1', '.', '.', '.', '.']]"
      ]
     },
     "metadata": {},
     "execution_count": 18
    }
   ],
   "metadata": {}
  },
  {
   "cell_type": "code",
   "execution_count": 14,
   "source": [
    "for r in board_t:\r\n",
    "    print(r)"
   ],
   "outputs": [
    {
     "output_type": "stream",
     "name": "stdout",
     "text": [
      "['.', '.', '5', '.', '4', '.', '.', '.', '.']\n",
      "['.', '.', '.', '.', '.', '.', '.', '.', '.']\n",
      "['5', '.', '.', '.', '3', '.', '.', '.', '.']\n",
      "['.', '.', '.', '5', '.', '7', '5', '.', '.']\n",
      "['4', '.', '3', '.', '.', '.', '.', '.', '.']\n",
      "['.', '.', '.', '7', '.', '.', '.', '.', '.']\n",
      "['.', '.', '.', '5', '.', '.', '.', '.', '.']\n",
      "['.', '.', '.', '.', '.', '.', '.', '.', '.']\n",
      "['.', '.', '.', '.', '.', '.', '.', '.', '.']\n"
     ]
    }
   ],
   "metadata": {}
  },
  {
   "cell_type": "code",
   "execution_count": 15,
   "source": [
    "for r in board:\r\n",
    "    print(r)"
   ],
   "outputs": [
    {
     "output_type": "stream",
     "name": "stdout",
     "text": [
      "['.', '.', '5', '.', '4', '.', '.', '.', '.']\n",
      "['.', '.', '.', '.', '.', '.', '.', '.', '.']\n",
      "['5', '.', '.', '.', '3', '.', '.', '.', '.']\n",
      "['.', '.', '.', '5', '.', '7', '5', '.', '.']\n",
      "['4', '.', '3', '.', '.', '.', '.', '.', '.']\n",
      "['.', '.', '.', '7', '.', '.', '.', '.', '.']\n",
      "['.', '.', '.', '5', '.', '.', '.', '.', '.']\n",
      "['.', '.', '.', '.', '.', '.', '.', '.', '.']\n",
      "['.', '.', '.', '.', '.', '.', '.', '.', '.']\n"
     ]
    }
   ],
   "metadata": {}
  },
  {
   "cell_type": "code",
   "execution_count": 33,
   "source": [
    "mat = [[5,1,9,11],[2,4,8,10],[13,3,6,7],[15,14,12,16]] #[[1,2],[3,4]]"
   ],
   "outputs": [],
   "metadata": {}
  },
  {
   "cell_type": "code",
   "execution_count": 34,
   "source": [
    "mat_t = [[mat[j][i] for j in range(len(mat))][::-1] for i in range(len(mat[0]))]\r\n"
   ],
   "outputs": [],
   "metadata": {}
  },
  {
   "cell_type": "code",
   "execution_count": 35,
   "source": [
    "mat_t"
   ],
   "outputs": [
    {
     "output_type": "execute_result",
     "data": {
      "text/plain": [
       "[[15, 13, 2, 5], [14, 3, 4, 1], [12, 6, 8, 9], [16, 7, 10, 11]]"
      ]
     },
     "metadata": {},
     "execution_count": 35
    }
   ],
   "metadata": {}
  },
  {
   "cell_type": "code",
   "execution_count": 36,
   "source": [
    "for val in mat:\r\n",
    "    print(val)"
   ],
   "outputs": [
    {
     "output_type": "stream",
     "name": "stdout",
     "text": [
      "[5, 1, 9, 11]\n",
      "[2, 4, 8, 10]\n",
      "[13, 3, 6, 7]\n",
      "[15, 14, 12, 16]\n"
     ]
    }
   ],
   "metadata": {}
  },
  {
   "cell_type": "code",
   "execution_count": 37,
   "source": [
    "for val in mat_t:\r\n",
    "    print(val)"
   ],
   "outputs": [
    {
     "output_type": "stream",
     "name": "stdout",
     "text": [
      "[15, 13, 2, 5]\n",
      "[14, 3, 4, 1]\n",
      "[12, 6, 8, 9]\n",
      "[16, 7, 10, 11]\n"
     ]
    }
   ],
   "metadata": {}
  },
  {
   "cell_type": "code",
   "execution_count": 38,
   "source": [
    "matrix = [[5,1,9,11],[2,4,8,10],[13,3,6,7],[15,14,12,16]]\r\n",
    "print(matrix)\r\n",
    "matrix = [[matrix[j][i] for j in range(len(matrix))][::-1] for i in range(len(matrix[0]))]\r\n",
    "print(matrix)"
   ],
   "outputs": [
    {
     "output_type": "stream",
     "name": "stdout",
     "text": [
      "[[5, 1, 9, 11], [2, 4, 8, 10], [13, 3, 6, 7], [15, 14, 12, 16]]\n",
      "[[15, 13, 2, 5], [14, 3, 4, 1], [12, 6, 8, 9], [16, 7, 10, 11]]\n"
     ]
    }
   ],
   "metadata": {}
  },
  {
   "cell_type": "code",
   "execution_count": 2,
   "source": [
    "# remove duplicates in sorted array\r\n",
    "nums = [0,0,1,1,1,2,2,3,3,4] # [1,1,2]\r\n",
    "# nums.sort(key=lambda x:)"
   ],
   "outputs": [],
   "metadata": {}
  },
  {
   "cell_type": "code",
   "execution_count": 5,
   "source": [
    "mask = [(lambda idx:nums[idx] != nums[idx+1])(idx) for idx in range(len(nums)-1)] + [True]"
   ],
   "outputs": [],
   "metadata": {}
  },
  {
   "cell_type": "code",
   "execution_count": 6,
   "source": [
    "mask"
   ],
   "outputs": [
    {
     "output_type": "execute_result",
     "data": {
      "text/plain": [
       "[False, True, False, False, True, False, True, False, True, True]"
      ]
     },
     "metadata": {},
     "execution_count": 6
    }
   ],
   "metadata": {}
  },
  {
   "cell_type": "code",
   "execution_count": 10,
   "source": [
    "list(filter((lambda idx:nums[idx] != nums[idx+1])(idx) for idx in range(len(nums)-1), nums))"
   ],
   "outputs": [
    {
     "output_type": "error",
     "ename": "SyntaxError",
     "evalue": "Generator expression must be parenthesized (<ipython-input-10-753536e440da>, line 1)",
     "traceback": [
      "\u001b[1;36m  File \u001b[1;32m\"<ipython-input-10-753536e440da>\"\u001b[1;36m, line \u001b[1;32m1\u001b[0m\n\u001b[1;33m    list(filter((lambda idx:nums[idx] != nums[idx+1])(idx) for idx in range(len(nums)-1), nums))\u001b[0m\n\u001b[1;37m                ^\u001b[0m\n\u001b[1;31mSyntaxError\u001b[0m\u001b[1;31m:\u001b[0m Generator expression must be parenthesized\n"
     ]
    }
   ],
   "metadata": {}
  },
  {
   "cell_type": "code",
   "execution_count": null,
   "source": [],
   "outputs": [],
   "metadata": {}
  },
  {
   "cell_type": "code",
   "execution_count": null,
   "source": [],
   "outputs": [],
   "metadata": {}
  },
  {
   "cell_type": "code",
   "execution_count": null,
   "source": [],
   "outputs": [],
   "metadata": {}
  },
  {
   "cell_type": "code",
   "execution_count": 6,
   "source": [
    "f = lambda x: x*x\r\n",
    "[f(x) for x in range(10)]"
   ],
   "outputs": [
    {
     "output_type": "execute_result",
     "data": {
      "text/plain": [
       "[0, 1, 4, 9, 16, 25, 36, 49, 64, 81]"
      ]
     },
     "metadata": {},
     "execution_count": 6
    }
   ],
   "metadata": {}
  },
  {
   "cell_type": "code",
   "execution_count": 7,
   "source": [
    "[lambda x: x*x for x in range(10)]"
   ],
   "outputs": [
    {
     "output_type": "execute_result",
     "data": {
      "text/plain": [
       "[<function __main__.<listcomp>.<lambda>(x)>,\n",
       " <function __main__.<listcomp>.<lambda>(x)>,\n",
       " <function __main__.<listcomp>.<lambda>(x)>,\n",
       " <function __main__.<listcomp>.<lambda>(x)>,\n",
       " <function __main__.<listcomp>.<lambda>(x)>,\n",
       " <function __main__.<listcomp>.<lambda>(x)>,\n",
       " <function __main__.<listcomp>.<lambda>(x)>,\n",
       " <function __main__.<listcomp>.<lambda>(x)>,\n",
       " <function __main__.<listcomp>.<lambda>(x)>,\n",
       " <function __main__.<listcomp>.<lambda>(x)>]"
      ]
     },
     "metadata": {},
     "execution_count": 7
    }
   ],
   "metadata": {}
  },
  {
   "cell_type": "code",
   "execution_count": 1,
   "source": [
    "# stock trading\r\n",
    "prices = [7,1,5,3,6,4]"
   ],
   "outputs": [],
   "metadata": {}
  },
  {
   "cell_type": "code",
   "execution_count": 4,
   "source": [
    "diff_dict = {}\r\n",
    "\r\n",
    "for idx, val in enumerate(prices):\r\n",
    "    diff_dict[val] = [0]*len(prices)\r\n",
    "    for i in range(idx+1, len(prices)):\r\n",
    "        diff_dict[val][i] = prices[i] - val"
   ],
   "outputs": [],
   "metadata": {}
  },
  {
   "cell_type": "code",
   "execution_count": 5,
   "source": [
    "diff_dict"
   ],
   "outputs": [
    {
     "output_type": "execute_result",
     "data": {
      "text/plain": [
       "{7: [0, -6, -2, -4, -1, -3],\n",
       " 1: [0, 0, 4, 2, 5, 3],\n",
       " 5: [0, 0, 0, -2, 1, -1],\n",
       " 3: [0, 0, 0, 0, 3, 1],\n",
       " 6: [0, 0, 0, 0, 0, -2],\n",
       " 4: [0, 0, 0, 0, 0, 0]}"
      ]
     },
     "metadata": {},
     "execution_count": 5
    }
   ],
   "metadata": {}
  },
  {
   "cell_type": "code",
   "execution_count": 11,
   "source": [
    "mat = [[5,1,9,11],[2,4,8,10],[13,3,6,7],[15,14,12,16]]"
   ],
   "outputs": [],
   "metadata": {}
  },
  {
   "cell_type": "code",
   "execution_count": 7,
   "source": [
    "map(list, zip(*mat))"
   ],
   "outputs": [
    {
     "output_type": "execute_result",
     "data": {
      "text/plain": [
       "<map at 0x1ff5bdfcac0>"
      ]
     },
     "metadata": {},
     "execution_count": 7
    }
   ],
   "metadata": {}
  },
  {
   "cell_type": "code",
   "execution_count": 9,
   "source": [
    "mat.sort()"
   ],
   "outputs": [],
   "metadata": {}
  },
  {
   "cell_type": "code",
   "execution_count": 10,
   "source": [
    "mat"
   ],
   "outputs": [
    {
     "output_type": "execute_result",
     "data": {
      "text/plain": [
       "[[2, 4, 8, 10], [5, 1, 9, 11], [13, 3, 6, 7], [15, 14, 12, 16]]"
      ]
     },
     "metadata": {},
     "execution_count": 10
    }
   ],
   "metadata": {}
  },
  {
   "cell_type": "code",
   "execution_count": 1,
   "source": [
    "s = [\"h\",\"e\",\"l\",\"l\",\"o\"]"
   ],
   "outputs": [],
   "metadata": {}
  },
  {
   "cell_type": "code",
   "execution_count": 2,
   "source": [
    "s.reverse()"
   ],
   "outputs": [],
   "metadata": {}
  },
  {
   "cell_type": "code",
   "execution_count": 3,
   "source": [
    "s"
   ],
   "outputs": [
    {
     "output_type": "execute_result",
     "data": {
      "text/plain": [
       "['o', 'l', 'l', 'e', 'h']"
      ]
     },
     "metadata": {},
     "execution_count": 3
    }
   ],
   "metadata": {}
  },
  {
   "cell_type": "code",
   "execution_count": 11,
   "source": [
    "x = 123\r\n",
    "\r\n",
    "# x_rev = int(''.join(list(str(x)).reverse()))"
   ],
   "outputs": [],
   "metadata": {}
  },
  {
   "cell_type": "code",
   "execution_count": 2,
   "source": [
    "x = -2**32 #210 # 123\r\n",
    "# print(x)\r\n",
    "if x < 0:\r\n",
    "    neg = True\r\n",
    "x_rev = list(str(abs(x)))\r\n",
    "x_rev.reverse()\r\n",
    "x_rev = int(''.join(x_rev))\r\n",
    "\r\n",
    "if abs(x_rev) > (2**31 - 1):\r\n",
    "    print(0)\r\n",
    "elif neg:\r\n",
    "    x_rev = x_rev*-1\r\n",
    "else:\r\n",
    "    print(x_rev)"
   ],
   "outputs": [
    {
     "output_type": "stream",
     "name": "stdout",
     "text": [
      "0\n"
     ]
    }
   ],
   "metadata": {}
  },
  {
   "cell_type": "code",
   "execution_count": 11,
   "source": [
    "def reverse(x):\r\n",
    "    if x < 0:\r\n",
    "        neg = True\r\n",
    "    x_rev = list(str(abs(x)))\r\n",
    "    x_rev.reverse()\r\n",
    "    x_rev = int(''.join(x_rev))\r\n",
    "\r\n",
    "    if abs(x_rev) > (2**31 - 1):\r\n",
    "        return 0\r\n",
    "    elif neg:\r\n",
    "        x_rev = x_rev*-1\r\n",
    "        return x_rev\r\n",
    "    else:\r\n",
    "        return x_rev"
   ],
   "outputs": [],
   "metadata": {}
  },
  {
   "cell_type": "code",
   "execution_count": 12,
   "source": [
    "# reverse(-2**32)\r\n",
    "reverse(-2**31-2)"
   ],
   "outputs": [
    {
     "output_type": "execute_result",
     "data": {
      "text/plain": [
       "-563847412"
      ]
     },
     "metadata": {},
     "execution_count": 12
    }
   ],
   "metadata": {}
  },
  {
   "cell_type": "code",
   "execution_count": 1,
   "source": [
    "s = \"leetcode\"\r\n",
    "\r\n",
    "s_list = list(s)"
   ],
   "outputs": [],
   "metadata": {}
  },
  {
   "cell_type": "code",
   "execution_count": 2,
   "source": [
    "s_list"
   ],
   "outputs": [
    {
     "output_type": "execute_result",
     "data": {
      "text/plain": [
       "['l', 'e', 'e', 't', 'c', 'o', 'd', 'e']"
      ]
     },
     "metadata": {},
     "execution_count": 2
    }
   ],
   "metadata": {}
  },
  {
   "cell_type": "code",
   "execution_count": 25,
   "source": [
    "def firstUniqChar(s):\r\n",
    "    s_list = list(s)\r\n",
    "    pos = -1\r\n",
    "    # for idx, val in enumerate(s_list):\r\n",
    "    idx = 0\r\n",
    "    while len(s_list) > 0:\r\n",
    "        val = s_list[idx]\r\n",
    "        new_list = s_list[:idx]+s_list[idx+1:]\r\n",
    "        print(s_list, val, new_list) \r\n",
    "        if val in new_list:\r\n",
    "            s_list = list(filter(lambda a: a != val, s_list))\r\n",
    "            print(s_list)\r\n",
    "        else:\r\n",
    "            pos = idx\r\n",
    "            break\r\n",
    "    \r\n",
    "    return pos"
   ],
   "outputs": [],
   "metadata": {}
  },
  {
   "cell_type": "code",
   "execution_count": 26,
   "source": [
    "# s = \"leetcode\"\r\n",
    "# s = \"loveleetcode\"\r\n",
    "s = \"aabb\"\r\n",
    "firstUniqChar(s)"
   ],
   "outputs": [
    {
     "output_type": "stream",
     "name": "stdout",
     "text": [
      "['a', 'a', 'b', 'b'] a ['a', 'b', 'b']\n",
      "['b', 'b']\n",
      "['b', 'b'] a ['b']\n"
     ]
    },
    {
     "output_type": "execute_result",
     "data": {
      "text/plain": [
       "1"
      ]
     },
     "metadata": {},
     "execution_count": 26
    }
   ],
   "metadata": {}
  },
  {
   "cell_type": "code",
   "execution_count": null,
   "source": [],
   "outputs": [],
   "metadata": {}
  }
 ],
 "metadata": {
  "orig_nbformat": 4,
  "language_info": {
   "name": "python",
   "version": "3.8.3",
   "mimetype": "text/x-python",
   "codemirror_mode": {
    "name": "ipython",
    "version": 3
   },
   "pygments_lexer": "ipython3",
   "nbconvert_exporter": "python",
   "file_extension": ".py"
  },
  "kernelspec": {
   "name": "python3",
   "display_name": "Python 3.8.3 64-bit"
  },
  "interpreter": {
   "hash": "916e78022459d02449eb0e919933c0dffe7558a101efc3cf53aea168c8e1e9f5"
  }
 },
 "nbformat": 4,
 "nbformat_minor": 2
}