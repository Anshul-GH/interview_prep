{
 "cells": [
  {
   "cell_type": "code",
   "execution_count": null,
   "metadata": {},
   "outputs": [],
   "source": [
    "# Given a list:\n",
    "lst = [1,2,3,4,6,7,8,9,12,4,2,5,7,2,5,2,1,4,6,3]\n",
    "# Push all the even numbers to the front and odd numbers to the back\n",
    "# Expected Output (one possibility):\n",
    "output = [6,8,4,2,4,2,12,2,4,2,6,7,1,5,3,9,7,3,5,1]\n",
    "# Note:\n",
    "# 1. The order of occurrence of the numbers can change\n",
    "# 2. Do not use any new/temporary lists.\n",
    "\n",
    "#############################################\n",
    "\n",
    "# Write a code to merge two lists iteratively in such a way that:\n",
    "# * For each iteration, one element will be picked up from each list and added to the output list\n",
    "# * After each iteration, the result in the output list should always be sorted\n",
    "# The lists can be of different lengths so if one gets exhausted, continue the iteration with the remaining elements of the other list\n",
    "list1 = [11, 4, 88, 66]\n",
    "list2 = [90, 55, 66, 33, 22, 99]\n",
    "# Example:\n",
    "# Iteration1: [11,90]\n",
    "# Iteration2: [4,11,55,90]\n",
    "# Iteration3: [4,11,55,66,88,90]\n",
    "# Iteration4: [4,11,33,55,66,66,88,90]\n",
    "# Iteration5: [4,11,22,33,55,66,66,88,90]\n",
    "# Iteration6: [4,11,22,33,55,66,66,88,90,99]\n",
    "\n",
    "\n",
    "#############################################\n",
    "\n",
    "## INTER/ADVNC\n",
    "\n",
    "# Write a function to find the longest common prefix string amongst an array of strings.\n",
    "# If there is no common prefix, return an empty string \"\".\n",
    "\n",
    "# Example 1:\n",
    "# Input: strs = [\"flower\",\"flow\",\"flight\"]\n",
    "# Output: \"fl\"\n",
    "\n",
    "# Example 2:\n",
    "# Input: strs = [\"dog\",\"racecar\",\"car\"]\n",
    "# Output: \"\"\n",
    "# Explanation: There is no common prefix among the input strings.\n",
    "\n",
    "# Example 3:\n",
    "# Input: strs = [\"vet\",\"veteran\",\"vetter\"]\n",
    "# Output: \"vet\"\n",
    "\n",
    "# Example 4:\n",
    "# Input: strs = [\"apple\",\"crapple\",\"grapple\"]\n",
    "# Output: \"\"\n",
    "\n",
    "# Constraints:\n",
    "#     1 <= strs.length <= 200\n",
    "#     0 <= strs[i].length <= 200\n",
    "#     strs[i] consists of only lower-case English letters.\n",
    "\n",
    "#############################################\n",
    "\n",
    "# Fibonacci series using dynamic programming\n",
    "# Fibonacci: 1, 1, 2, 3, 5, 8, 13 .....\n",
    "# Write a function fib(n) such that, it will print the nth element of the fibonacci series\n",
    "# Example:\n",
    "# fib(2) -> 1\n",
    "# fib(4) -> 3\n",
    "# fib(6) -> 8\n",
    "# fib(7) -> 13\n",
    "# etc\n",
    "\n",
    "#############################################"
   ]
  },
  {
   "cell_type": "markdown",
   "metadata": {},
   "source": [
    "## Solutions"
   ]
  },
  {
   "cell_type": "code",
   "execution_count": 1,
   "metadata": {},
   "outputs": [
    {
     "name": "stdout",
     "output_type": "stream",
     "text": [
      "1\n",
      "3\n",
      "8\n",
      "13\n"
     ]
    }
   ],
   "source": [
    "def fib(n):\n",
    "    if n <= 2:\n",
    "        return 1\n",
    "    return fib(n-1) + fib(n-2)\n",
    "\n",
    "print(fib(2))\n",
    "print(fib(4))\n",
    "print(fib(6))\n",
    "print(fib(7))\n"
   ]
  },
  {
   "cell_type": "markdown",
   "metadata": {},
   "source": []
  }
 ],
 "metadata": {
  "interpreter": {
   "hash": "aaa5c832b63eae91981a2a50352553a3961fa32ff189f781a6f1ad2872196c19"
  },
  "kernelspec": {
   "display_name": "Python 3.10.4 64-bit",
   "language": "python",
   "name": "python3"
  },
  "language_info": {
   "codemirror_mode": {
    "name": "ipython",
    "version": 3
   },
   "file_extension": ".py",
   "mimetype": "text/x-python",
   "name": "python",
   "nbconvert_exporter": "python",
   "pygments_lexer": "ipython3",
   "version": "3.10.4"
  },
  "orig_nbformat": 4
 },
 "nbformat": 4,
 "nbformat_minor": 2
}
