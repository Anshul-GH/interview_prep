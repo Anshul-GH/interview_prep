{
 "cells": [
  {
   "cell_type": "code",
   "execution_count": 7,
   "metadata": {},
   "outputs": [],
   "source": [
    "digits = [4,3,2,1]\n",
    "\n",
    "def increment_number(digits):\n",
    "    rev = digits[::-1]\n",
    "    int_num = 0\n",
    "    dec = 0\n",
    "    for num in rev:\n",
    "        int_num += num * (10**dec)\n",
    "        dec += 1\n",
    "    \n",
    "    # increment the number by 1\n",
    "    int_num += 1\n",
    "\n",
    "    # convert number into a list\n",
    "    new_digits = str(int_num)\n",
    "    new_digits = [int(digit) for digit in new_digits]\n",
    "    \n",
    "    return new_digits"
   ]
  },
  {
   "cell_type": "code",
   "execution_count": 11,
   "metadata": {},
   "outputs": [
    {
     "name": "stdout",
     "output_type": "stream",
     "text": [
      "[4, 0, 0, 0]\n"
     ]
    }
   ],
   "source": [
    "digits = [3,9,9,9]\n",
    "number = increment_number(digits)\n",
    "print(number)"
   ]
  },
  {
   "cell_type": "code",
   "execution_count": 1,
   "metadata": {},
   "outputs": [],
   "source": [
    "nums = [0,1,0,3,12]\n"
   ]
  },
  {
   "cell_type": "code",
   "execution_count": 10,
   "metadata": {},
   "outputs": [],
   "source": [
    "nums = [0,1,0,3,12] # [0] # [0,1,0,3,12]\n",
    "nums = sorted(nums, key=lambda x:x==0)"
   ]
  },
  {
   "cell_type": "code",
   "execution_count": 11,
   "metadata": {},
   "outputs": [
    {
     "data": {
      "text/plain": [
       "[1, 3, 12, 0, 0]"
      ]
     },
     "execution_count": 11,
     "metadata": {},
     "output_type": "execute_result"
    }
   ],
   "source": [
    "nums"
   ]
  },
  {
   "cell_type": "code",
   "execution_count": 12,
   "metadata": {},
   "outputs": [],
   "source": [
    "nums = [0,1,0,3,12]\n",
    "nums.sort(key=lambda x:x==0)"
   ]
  },
  {
   "cell_type": "code",
   "execution_count": 13,
   "metadata": {},
   "outputs": [
    {
     "data": {
      "text/plain": [
       "[1, 3, 12, 0, 0]"
      ]
     },
     "execution_count": 13,
     "metadata": {},
     "output_type": "execute_result"
    }
   ],
   "source": [
    "nums"
   ]
  },
  {
   "cell_type": "code",
   "execution_count": 30,
   "metadata": {},
   "outputs": [],
   "source": [
    "nums = [3,3] #[3,2,4] #[2,7,11,15]\n",
    "target = 6 #9"
   ]
  },
  {
   "cell_type": "code",
   "execution_count": 31,
   "metadata": {},
   "outputs": [],
   "source": [
    "for idx, val in enumerate(nums):\n",
    "    remain_num = target - val\n",
    "    remain_nums = nums[:idx] + nums[idx+1:] \n",
    "    if remain_num in remain_nums:\n",
    "        pair = [idx, remain_nums.index(remain_num)+1]\n",
    "        break"
   ]
  },
  {
   "cell_type": "code",
   "execution_count": 32,
   "metadata": {},
   "outputs": [
    {
     "data": {
      "text/plain": [
       "[0, 1]"
      ]
     },
     "execution_count": 32,
     "metadata": {},
     "output_type": "execute_result"
    }
   ],
   "source": [
    "pair"
   ]
  },
  {
   "cell_type": "code",
   "execution_count": 26,
   "metadata": {},
   "outputs": [
    {
     "data": {
      "text/plain": [
       "[7, 11, 15]"
      ]
     },
     "execution_count": 26,
     "metadata": {},
     "output_type": "execute_result"
    }
   ],
   "source": [
    "remain_nums"
   ]
  },
  {
   "cell_type": "code",
   "execution_count": 36,
   "metadata": {},
   "outputs": [
    {
     "data": {
      "text/plain": [
       "[]"
      ]
     },
     "execution_count": 36,
     "metadata": {},
     "output_type": "execute_result"
    }
   ],
   "source": [
    "nums[5:]"
   ]
  },
  {
   "cell_type": "code",
   "execution_count": 26,
   "metadata": {},
   "outputs": [],
   "source": [
    "# board = [\n",
    "#     [\"5\",\"3\",\".\",\".\",\"7\",\".\",\".\",\".\",\".\"]\n",
    "#     ,[\"6\",\".\",\".\",\"1\",\"9\",\"5\",\".\",\".\",\".\"]\n",
    "#     ,[\".\",\"9\",\"8\",\".\",\".\",\".\",\".\",\"6\",\".\"]\n",
    "#     ,[\"8\",\".\",\".\",\".\",\"6\",\".\",\".\",\".\",\"3\"]\n",
    "#     ,[\"4\",\".\",\".\",\"8\",\".\",\"3\",\".\",\".\",\"1\"]\n",
    "#     ,[\"7\",\".\",\".\",\".\",\"2\",\".\",\".\",\".\",\"6\"]\n",
    "#     ,[\".\",\"6\",\".\",\".\",\".\",\".\",\"2\",\"8\",\".\"]\n",
    "#     ,[\".\",\".\",\".\",\"4\",\"1\",\"9\",\".\",\".\",\"5\"]\n",
    "#     ,[\".\",\".\",\".\",\".\",\"8\",\".\",\".\",\"7\",\"9\"]\n",
    "# ]\n",
    "\n",
    "board = [[\"8\",\"3\",\".\",\".\",\"7\",\".\",\".\",\".\",\".\"]\n",
    ",[\"6\",\".\",\".\",\"1\",\"9\",\"5\",\".\",\".\",\".\"]\n",
    ",[\".\",\"9\",\"8\",\".\",\".\",\".\",\".\",\"6\",\".\"]\n",
    ",[\"8\",\".\",\".\",\".\",\"6\",\".\",\".\",\".\",\"3\"]\n",
    ",[\"4\",\".\",\".\",\"8\",\".\",\"3\",\".\",\".\",\"1\"]\n",
    ",[\"7\",\".\",\".\",\".\",\"2\",\".\",\".\",\".\",\"6\"]\n",
    ",[\".\",\"6\",\".\",\".\",\".\",\".\",\"2\",\"8\",\".\"]\n",
    ",[\".\",\".\",\".\",\"4\",\"1\",\"9\",\".\",\".\",\"5\"]\n",
    ",[\".\",\".\",\".\",\".\",\"8\",\".\",\".\",\"7\",\"9\"]]"
   ]
  },
  {
   "cell_type": "code",
   "execution_count": 27,
   "metadata": {},
   "outputs": [
    {
     "name": "stdout",
     "output_type": "stream",
     "text": [
      "False\n"
     ]
    }
   ],
   "source": [
    "# checking horizontal rows\n",
    "valid = True\n",
    "for row in board:\n",
    "    trimmed_num = [int(num) for num in row if num.isdigit()]\n",
    "    # print(trimmed_num)\n",
    "    if any((x > 9 for x in trimmed_num)):\n",
    "        valid = False\n",
    "        break\n",
    "    if len(set(trimmed_num)) != len(trimmed_num):\n",
    "        valid = False\n",
    "        break\n",
    "\n",
    "# if above test is pass, checking vertical rows\n",
    "if valid:\n",
    "    for row in board:\n",
    "        trimmed_num = [int(num) for num in row if num.isdigit()]\n",
    "        # print(trimmed_num)\n",
    "        if any((x > 9 for x in trimmed_num)):\n",
    "            valid = False\n",
    "            break\n",
    "        if len(set(trimmed_num)) != len(trimmed_num):\n",
    "            valid = False\n",
    "            break\n",
    "\n",
    "# if above test is pass, check for individual 3X3 matrix to be valid\n",
    "if valid:\n",
    "    for k in range(3):    \n",
    "        for i in range(3):\n",
    "            row = []\n",
    "            h_shft = i*3\n",
    "            for j in range(3):\n",
    "                v_shft = j*1 + k*3\n",
    "                row += board[v_shft][h_shft:h_shft+3]\n",
    "                trimmed_num = [int(num) for num in row if num.isdigit()]\n",
    "                if any((x > 9 for x in trimmed_num)):\n",
    "                    valid = False\n",
    "                    break\n",
    "                if len(set(trimmed_num)) != len(trimmed_num):\n",
    "                    valid = False\n",
    "                    break\n",
    "\n",
    "print(valid)\n",
    "    \n"
   ]
  },
  {
   "cell_type": "code",
   "execution_count": 23,
   "metadata": {},
   "outputs": [
    {
     "name": "stdout",
     "output_type": "stream",
     "text": [
      "['5', '3', '.', '6', '.', '.', '.', '9', '8']\n",
      "-------------\n",
      "['.', '7', '.', '1', '9', '5', '.', '.', '.']\n",
      "-------------\n",
      "['.', '.', '.', '.', '.', '.', '.', '6', '.']\n",
      "-------------\n",
      "['8', '.', '.', '4', '.', '.', '7', '.', '.']\n",
      "-------------\n",
      "['.', '6', '.', '8', '.', '3', '.', '2', '.']\n",
      "-------------\n",
      "['.', '.', '3', '.', '.', '1', '.', '.', '6']\n",
      "-------------\n",
      "['.', '6', '.', '.', '.', '.', '.', '.', '.']\n",
      "-------------\n",
      "['.', '.', '.', '4', '1', '9', '.', '8', '.']\n",
      "-------------\n",
      "['2', '8', '.', '.', '.', '5', '.', '7', '9']\n",
      "-------------\n"
     ]
    }
   ],
   "source": [
    "# # checking each 3X3 matrix\n",
    "# valid = True\n",
    "# h_shft = 0\n",
    "# v_shft = 3*2\n",
    "# # for h_shift in range(3):\n",
    "# #     matrix = board[3*h_shft:3*h_shft+3][v_shft:v_shft+3]\n",
    "# #     print(matrix)\n",
    "\n",
    "# # while h_shft <= 9 & v_shft <= 9:\n",
    "# #     for i in range(3):\n",
    "# #         matrix = board[i*h_shft:h_shft+3][v_shft:v_shft+3]\n",
    "# #         print(matrix)\n",
    "\n",
    "# while h_shft < 3:\n",
    "#     print(board[h_shft][v_shft:v_shft+3])\n",
    "#     h_shft = h_shft+1\n",
    "\n"
   ]
  },
  {
   "cell_type": "code",
   "execution_count": 18,
   "metadata": {},
   "outputs": [
    {
     "name": "stdout",
     "output_type": "stream",
     "text": [
      "1\n",
      "2\n",
      "3\n"
     ]
    }
   ],
   "source": [
    "for k in range(1,4):\n",
    "    print(k)"
   ]
  },
  {
   "cell_type": "code",
   "execution_count": null,
   "metadata": {},
   "outputs": [],
   "source": [
    "# ['5', '3', '.']\n",
    "# ['6', '.', '.']\n",
    "# ['.', '9', '8']\n",
    "\n",
    "# ['.', '7', '.']\n",
    "# ['1', '9', '5']\n",
    "# ['.', '.', '.']\n",
    "\n",
    "# ['.', '.', '.']\n",
    "# ['.', '.', '.']\n",
    "# ['.', '6', '.']"
   ]
  },
  {
   "cell_type": "code",
   "execution_count": 1,
   "metadata": {},
   "outputs": [],
   "source": [
    "board = [\n",
    "    [\".\",\".\",\"4\",\".\",\".\",\".\",\"6\",\"3\",\".\"],\n",
    "    [\".\",\".\",\".\",\".\",\".\",\".\",\".\",\".\",\".\"],\n",
    "    [\"5\",\".\",\".\",\".\",\".\",\".\",\".\",\"9\",\".\"],\n",
    "    [\".\",\".\",\".\",\"5\",\"6\",\".\",\".\",\".\",\".\"],\n",
    "    [\"4\",\".\",\"3\",\".\",\".\",\".\",\".\",\".\",\"1\"],\n",
    "    [\".\",\".\",\".\",\"7\",\".\",\".\",\".\",\".\",\".\"],\n",
    "    [\".\",\".\",\".\",\"5\",\".\",\".\",\".\",\".\",\".\"],\n",
    "    [\".\",\".\",\".\",\".\",\".\",\".\",\".\",\".\",\".\"],\n",
    "    [\".\",\".\",\".\",\".\",\".\",\".\",\".\",\".\",\".\"]\n",
    "]\n",
    "\n",
    "# [\n",
    "#     [\".\",\".\",\"4\",\".\",\".\",\".\",\"6\",\"3\",\".\"],\n",
    "#     [\".\",\".\",\".\",\".\",\".\",\".\",\".\",\".\",\".\"],\n",
    "#     [\"5\",\".\",\".\",\".\",\".\",\".\",\".\",\"9\",\".\"],\n",
    "#     [\".\",\".\",\".\",\"5\",\"6\",\".\",\".\",\".\",\".\"],\n",
    "#     [\"4\",\".\",\"3\",\".\",\".\",\".\",\".\",\".\",\"1\"],\n",
    "#     [\".\",\".\",\".\",\"7\",\".\",\".\",\".\",\".\",\".\"],\n",
    "#     [\".\",\".\",\".\",\"5\",\".\",\".\",\".\",\".\",\".\"],\n",
    "#     [\".\",\".\",\".\",\".\",\".\",\".\",\".\",\".\",\".\"],\n",
    "#     [\".\",\".\",\".\",\".\",\".\",\".\",\".\",\".\",\".\"]\n",
    "# ]"
   ]
  },
  {
   "cell_type": "code",
   "execution_count": 8,
   "metadata": {},
   "outputs": [],
   "source": [
    "def transpose(A,B):\n",
    "    N = len(A)\n",
    "    for i in range(N):\n",
    "        for j in range(N):\n",
    "            B[i][j] = A[j][i]\n",
    "    "
   ]
  },
  {
   "cell_type": "code",
   "execution_count": 9,
   "metadata": {},
   "outputs": [],
   "source": [
    "board_t = board[:][:]\n",
    "\n",
    "transpose(board, board_t)"
   ]
  },
  {
   "cell_type": "code",
   "execution_count": 7,
   "metadata": {},
   "outputs": [
    {
     "data": {
      "text/plain": [
       "9"
      ]
     },
     "execution_count": 7,
     "metadata": {},
     "output_type": "execute_result"
    }
   ],
   "source": [
    "len(board)"
   ]
  },
  {
   "cell_type": "code",
   "execution_count": 10,
   "metadata": {},
   "outputs": [
    {
     "data": {
      "text/plain": [
       "[['.', '.', '5', '.', '4', '.', '.', '.', '.'],\n",
       " ['.', '.', '.', '.', '.', '.', '.', '.', '.'],\n",
       " ['5', '.', '.', '.', '3', '.', '.', '.', '.'],\n",
       " ['.', '.', '.', '5', '.', '7', '5', '.', '.'],\n",
       " ['4', '.', '3', '.', '.', '.', '.', '.', '.'],\n",
       " ['.', '.', '.', '7', '.', '.', '.', '.', '.'],\n",
       " ['.', '.', '.', '5', '.', '.', '.', '.', '.'],\n",
       " ['.', '.', '.', '.', '.', '.', '.', '.', '.'],\n",
       " ['.', '.', '.', '.', '.', '.', '.', '.', '.']]"
      ]
     },
     "execution_count": 10,
     "metadata": {},
     "output_type": "execute_result"
    }
   ],
   "source": [
    "board_t"
   ]
  },
  {
   "cell_type": "code",
   "execution_count": 21,
   "metadata": {},
   "outputs": [],
   "source": [
    "board = [\n",
    "    [\".\",\".\",\"4\",\".\",\".\",\".\",\"6\",\"3\",\".\"],\n",
    "    [\".\",\".\",\".\",\".\",\".\",\".\",\".\",\".\",\".\"],\n",
    "    [\"5\",\".\",\".\",\".\",\".\",\".\",\".\",\"9\",\".\"],\n",
    "    [\".\",\".\",\".\",\"5\",\"6\",\".\",\".\",\".\",\".\"],\n",
    "    [\"4\",\".\",\"3\",\".\",\".\",\".\",\".\",\".\",\"1\"],\n",
    "    [\".\",\".\",\".\",\"7\",\".\",\".\",\".\",\".\",\".\"],\n",
    "    [\".\",\".\",\".\",\"5\",\".\",\".\",\".\",\".\",\".\"],\n",
    "    [\".\",\".\",\".\",\".\",\".\",\".\",\".\",\".\",\".\"],\n",
    "    [\".\",\".\",\".\",\".\",\".\",\".\",\".\",\".\",\".\"]\n",
    "]"
   ]
  },
  {
   "cell_type": "code",
   "execution_count": 22,
   "metadata": {},
   "outputs": [
    {
     "name": "stdout",
     "output_type": "stream",
     "text": [
      "False\n"
     ]
    }
   ],
   "source": [
    "# checking horizontal rows\n",
    "valid = True\n",
    "for row in board:\n",
    "    trimmed_num = [int(num) for num in row if num.isdigit()]\n",
    "    if any((x > 9 for x in trimmed_num)):\n",
    "        valid = False\n",
    "        break\n",
    "    if len(set(trimmed_num)) != len(trimmed_num):\n",
    "        valid = False\n",
    "        break\n",
    "\n",
    "# if above test is pass, checking vertical rows\n",
    "if valid:\n",
    "    # transpose the matrix\n",
    "    board_t = [[board[j][i] for j in range(len(board))] for i in range(len(board[0]))]\n",
    "    for row in board_t:\n",
    "        trimmed_num = [int(num) for num in row if num.isdigit()]\n",
    "        if any((x > 9 for x in trimmed_num)):\n",
    "            valid = False\n",
    "            break\n",
    "        if len(set(trimmed_num)) != len(trimmed_num):\n",
    "            valid = False\n",
    "            break\n",
    "\n",
    "# if above test is pass, check for individual 3X3 matrix to be valid\n",
    "if valid:\n",
    "    for k in range(3):    \n",
    "        for i in range(3):\n",
    "            row = []\n",
    "            h_shft = i*3\n",
    "            for j in range(3):\n",
    "                v_shft = j*1 + k*3\n",
    "                row += board[v_shft][h_shft:h_shft+3]\n",
    "                trimmed_num = [int(num) for num in row if num.isdigit()]\n",
    "                if any((x > 9 for x in trimmed_num)):\n",
    "                    valid = False\n",
    "                    break\n",
    "                if len(set(trimmed_num)) != len(trimmed_num):\n",
    "                    valid = False\n",
    "                    break\n",
    "\n",
    "print(valid)"
   ]
  },
  {
   "cell_type": "code",
   "execution_count": null,
   "metadata": {},
   "outputs": [],
   "source": []
  },
  {
   "cell_type": "code",
   "execution_count": 17,
   "metadata": {},
   "outputs": [],
   "source": [
    "board_t = [[board[j][i] for j in range(len(board))] for i in range(len(board[0]))]"
   ]
  },
  {
   "cell_type": "code",
   "execution_count": 18,
   "metadata": {},
   "outputs": [
    {
     "data": {
      "text/plain": [
       "[['.', '.', '5', '.', '4', '.', '.', '.', '.'],\n",
       " ['.', '.', '.', '.', '.', '.', '.', '.', '.'],\n",
       " ['4', '.', '.', '.', '3', '.', '.', '.', '.'],\n",
       " ['.', '.', '.', '5', '.', '7', '5', '.', '.'],\n",
       " ['.', '.', '.', '6', '.', '.', '.', '.', '.'],\n",
       " ['.', '.', '.', '.', '.', '.', '.', '.', '.'],\n",
       " ['6', '.', '.', '.', '.', '.', '.', '.', '.'],\n",
       " ['3', '.', '9', '.', '.', '.', '.', '.', '.'],\n",
       " ['.', '.', '.', '.', '1', '.', '.', '.', '.']]"
      ]
     },
     "execution_count": 18,
     "metadata": {},
     "output_type": "execute_result"
    }
   ],
   "source": [
    "board_t"
   ]
  },
  {
   "cell_type": "code",
   "execution_count": 14,
   "metadata": {},
   "outputs": [
    {
     "name": "stdout",
     "output_type": "stream",
     "text": [
      "['.', '.', '5', '.', '4', '.', '.', '.', '.']\n",
      "['.', '.', '.', '.', '.', '.', '.', '.', '.']\n",
      "['5', '.', '.', '.', '3', '.', '.', '.', '.']\n",
      "['.', '.', '.', '5', '.', '7', '5', '.', '.']\n",
      "['4', '.', '3', '.', '.', '.', '.', '.', '.']\n",
      "['.', '.', '.', '7', '.', '.', '.', '.', '.']\n",
      "['.', '.', '.', '5', '.', '.', '.', '.', '.']\n",
      "['.', '.', '.', '.', '.', '.', '.', '.', '.']\n",
      "['.', '.', '.', '.', '.', '.', '.', '.', '.']\n"
     ]
    }
   ],
   "source": [
    "for r in board_t:\n",
    "    print(r)"
   ]
  },
  {
   "cell_type": "code",
   "execution_count": 15,
   "metadata": {},
   "outputs": [
    {
     "name": "stdout",
     "output_type": "stream",
     "text": [
      "['.', '.', '5', '.', '4', '.', '.', '.', '.']\n",
      "['.', '.', '.', '.', '.', '.', '.', '.', '.']\n",
      "['5', '.', '.', '.', '3', '.', '.', '.', '.']\n",
      "['.', '.', '.', '5', '.', '7', '5', '.', '.']\n",
      "['4', '.', '3', '.', '.', '.', '.', '.', '.']\n",
      "['.', '.', '.', '7', '.', '.', '.', '.', '.']\n",
      "['.', '.', '.', '5', '.', '.', '.', '.', '.']\n",
      "['.', '.', '.', '.', '.', '.', '.', '.', '.']\n",
      "['.', '.', '.', '.', '.', '.', '.', '.', '.']\n"
     ]
    }
   ],
   "source": [
    "for r in board:\n",
    "    print(r)"
   ]
  },
  {
   "cell_type": "code",
   "execution_count": 33,
   "metadata": {},
   "outputs": [],
   "source": [
    "mat = [[5,1,9,11],[2,4,8,10],[13,3,6,7],[15,14,12,16]] #[[1,2],[3,4]]"
   ]
  },
  {
   "cell_type": "code",
   "execution_count": 34,
   "metadata": {},
   "outputs": [],
   "source": [
    "mat_t = [[mat[j][i] for j in range(len(mat))][::-1] for i in range(len(mat[0]))]\n"
   ]
  },
  {
   "cell_type": "code",
   "execution_count": 35,
   "metadata": {},
   "outputs": [
    {
     "data": {
      "text/plain": [
       "[[15, 13, 2, 5], [14, 3, 4, 1], [12, 6, 8, 9], [16, 7, 10, 11]]"
      ]
     },
     "execution_count": 35,
     "metadata": {},
     "output_type": "execute_result"
    }
   ],
   "source": [
    "mat_t"
   ]
  },
  {
   "cell_type": "code",
   "execution_count": 36,
   "metadata": {},
   "outputs": [
    {
     "name": "stdout",
     "output_type": "stream",
     "text": [
      "[5, 1, 9, 11]\n",
      "[2, 4, 8, 10]\n",
      "[13, 3, 6, 7]\n",
      "[15, 14, 12, 16]\n"
     ]
    }
   ],
   "source": [
    "for val in mat:\n",
    "    print(val)"
   ]
  },
  {
   "cell_type": "code",
   "execution_count": 37,
   "metadata": {},
   "outputs": [
    {
     "name": "stdout",
     "output_type": "stream",
     "text": [
      "[15, 13, 2, 5]\n",
      "[14, 3, 4, 1]\n",
      "[12, 6, 8, 9]\n",
      "[16, 7, 10, 11]\n"
     ]
    }
   ],
   "source": [
    "for val in mat_t:\n",
    "    print(val)"
   ]
  },
  {
   "cell_type": "code",
   "execution_count": 38,
   "metadata": {},
   "outputs": [
    {
     "name": "stdout",
     "output_type": "stream",
     "text": [
      "[[5, 1, 9, 11], [2, 4, 8, 10], [13, 3, 6, 7], [15, 14, 12, 16]]\n",
      "[[15, 13, 2, 5], [14, 3, 4, 1], [12, 6, 8, 9], [16, 7, 10, 11]]\n"
     ]
    }
   ],
   "source": [
    "matrix = [[5,1,9,11],[2,4,8,10],[13,3,6,7],[15,14,12,16]]\n",
    "print(matrix)\n",
    "matrix = [[matrix[j][i] for j in range(len(matrix))][::-1] for i in range(len(matrix[0]))]\n",
    "print(matrix)"
   ]
  },
  {
   "cell_type": "code",
   "execution_count": 2,
   "metadata": {},
   "outputs": [],
   "source": [
    "# remove duplicates in sorted array\n",
    "nums = [0,0,1,1,1,2,2,3,3,4] # [1,1,2]\n",
    "# nums.sort(key=lambda x:)"
   ]
  },
  {
   "cell_type": "code",
   "execution_count": 5,
   "metadata": {},
   "outputs": [],
   "source": [
    "mask = [(lambda idx:nums[idx] != nums[idx+1])(idx) for idx in range(len(nums)-1)] + [True]"
   ]
  },
  {
   "cell_type": "code",
   "execution_count": 6,
   "metadata": {},
   "outputs": [
    {
     "data": {
      "text/plain": [
       "[False, True, False, False, True, False, True, False, True, True]"
      ]
     },
     "execution_count": 6,
     "metadata": {},
     "output_type": "execute_result"
    }
   ],
   "source": [
    "mask"
   ]
  },
  {
   "cell_type": "code",
   "execution_count": 10,
   "metadata": {},
   "outputs": [
    {
     "ename": "SyntaxError",
     "evalue": "Generator expression must be parenthesized (<ipython-input-10-753536e440da>, line 1)",
     "output_type": "error",
     "traceback": [
      "\u001b[1;36m  File \u001b[1;32m\"<ipython-input-10-753536e440da>\"\u001b[1;36m, line \u001b[1;32m1\u001b[0m\n\u001b[1;33m    list(filter((lambda idx:nums[idx] != nums[idx+1])(idx) for idx in range(len(nums)-1), nums))\u001b[0m\n\u001b[1;37m                ^\u001b[0m\n\u001b[1;31mSyntaxError\u001b[0m\u001b[1;31m:\u001b[0m Generator expression must be parenthesized\n"
     ]
    }
   ],
   "source": [
    "list(filter((lambda idx:nums[idx] != nums[idx+1])(idx) for idx in range(len(nums)-1), nums))"
   ]
  },
  {
   "cell_type": "code",
   "execution_count": null,
   "metadata": {},
   "outputs": [],
   "source": []
  },
  {
   "cell_type": "code",
   "execution_count": null,
   "metadata": {},
   "outputs": [],
   "source": []
  },
  {
   "cell_type": "code",
   "execution_count": null,
   "metadata": {},
   "outputs": [],
   "source": []
  },
  {
   "cell_type": "code",
   "execution_count": 6,
   "metadata": {},
   "outputs": [
    {
     "data": {
      "text/plain": [
       "[0, 1, 4, 9, 16, 25, 36, 49, 64, 81]"
      ]
     },
     "execution_count": 6,
     "metadata": {},
     "output_type": "execute_result"
    }
   ],
   "source": [
    "f = lambda x: x*x\n",
    "[f(x) for x in range(10)]"
   ]
  },
  {
   "cell_type": "code",
   "execution_count": 7,
   "metadata": {},
   "outputs": [
    {
     "data": {
      "text/plain": [
       "[<function __main__.<listcomp>.<lambda>(x)>,\n",
       " <function __main__.<listcomp>.<lambda>(x)>,\n",
       " <function __main__.<listcomp>.<lambda>(x)>,\n",
       " <function __main__.<listcomp>.<lambda>(x)>,\n",
       " <function __main__.<listcomp>.<lambda>(x)>,\n",
       " <function __main__.<listcomp>.<lambda>(x)>,\n",
       " <function __main__.<listcomp>.<lambda>(x)>,\n",
       " <function __main__.<listcomp>.<lambda>(x)>,\n",
       " <function __main__.<listcomp>.<lambda>(x)>,\n",
       " <function __main__.<listcomp>.<lambda>(x)>]"
      ]
     },
     "execution_count": 7,
     "metadata": {},
     "output_type": "execute_result"
    }
   ],
   "source": [
    "[lambda x: x*x for x in range(10)]"
   ]
  },
  {
   "cell_type": "code",
   "execution_count": 1,
   "metadata": {},
   "outputs": [],
   "source": [
    "# stock trading\n",
    "prices = [7,1,5,3,6,4]"
   ]
  },
  {
   "cell_type": "code",
   "execution_count": 4,
   "metadata": {},
   "outputs": [],
   "source": [
    "diff_dict = {}\n",
    "\n",
    "for idx, val in enumerate(prices):\n",
    "    diff_dict[val] = [0]*len(prices)\n",
    "    for i in range(idx+1, len(prices)):\n",
    "        diff_dict[val][i] = prices[i] - val"
   ]
  },
  {
   "cell_type": "code",
   "execution_count": 5,
   "metadata": {},
   "outputs": [
    {
     "data": {
      "text/plain": [
       "{7: [0, -6, -2, -4, -1, -3],\n",
       " 1: [0, 0, 4, 2, 5, 3],\n",
       " 5: [0, 0, 0, -2, 1, -1],\n",
       " 3: [0, 0, 0, 0, 3, 1],\n",
       " 6: [0, 0, 0, 0, 0, -2],\n",
       " 4: [0, 0, 0, 0, 0, 0]}"
      ]
     },
     "execution_count": 5,
     "metadata": {},
     "output_type": "execute_result"
    }
   ],
   "source": [
    "diff_dict"
   ]
  },
  {
   "cell_type": "code",
   "execution_count": 11,
   "metadata": {},
   "outputs": [],
   "source": [
    "mat = [[5,1,9,11],[2,4,8,10],[13,3,6,7],[15,14,12,16]]"
   ]
  },
  {
   "cell_type": "code",
   "execution_count": 7,
   "metadata": {},
   "outputs": [
    {
     "data": {
      "text/plain": [
       "<map at 0x1ff5bdfcac0>"
      ]
     },
     "execution_count": 7,
     "metadata": {},
     "output_type": "execute_result"
    }
   ],
   "source": [
    "map(list, zip(*mat))"
   ]
  },
  {
   "cell_type": "code",
   "execution_count": 9,
   "metadata": {},
   "outputs": [],
   "source": [
    "mat.sort()"
   ]
  },
  {
   "cell_type": "code",
   "execution_count": 10,
   "metadata": {},
   "outputs": [
    {
     "data": {
      "text/plain": [
       "[[2, 4, 8, 10], [5, 1, 9, 11], [13, 3, 6, 7], [15, 14, 12, 16]]"
      ]
     },
     "execution_count": 10,
     "metadata": {},
     "output_type": "execute_result"
    }
   ],
   "source": [
    "mat"
   ]
  },
  {
   "cell_type": "code",
   "execution_count": 1,
   "metadata": {},
   "outputs": [],
   "source": [
    "s = [\"h\",\"e\",\"l\",\"l\",\"o\"]"
   ]
  },
  {
   "cell_type": "code",
   "execution_count": 2,
   "metadata": {},
   "outputs": [],
   "source": [
    "s.reverse()"
   ]
  },
  {
   "cell_type": "code",
   "execution_count": 3,
   "metadata": {},
   "outputs": [
    {
     "data": {
      "text/plain": [
       "['o', 'l', 'l', 'e', 'h']"
      ]
     },
     "execution_count": 3,
     "metadata": {},
     "output_type": "execute_result"
    }
   ],
   "source": [
    "s"
   ]
  },
  {
   "cell_type": "code",
   "execution_count": 11,
   "metadata": {},
   "outputs": [],
   "source": [
    "x = 123\n",
    "\n",
    "# x_rev = int(''.join(list(str(x)).reverse()))"
   ]
  },
  {
   "cell_type": "code",
   "execution_count": 2,
   "metadata": {},
   "outputs": [
    {
     "name": "stdout",
     "output_type": "stream",
     "text": [
      "0\n"
     ]
    }
   ],
   "source": [
    "x = -2**32 #210 # 123\n",
    "# print(x)\n",
    "if x < 0:\n",
    "    neg = True\n",
    "x_rev = list(str(abs(x)))\n",
    "x_rev.reverse()\n",
    "x_rev = int(''.join(x_rev))\n",
    "\n",
    "if abs(x_rev) > (2**31 - 1):\n",
    "    print(0)\n",
    "elif neg:\n",
    "    x_rev = x_rev*-1\n",
    "else:\n",
    "    print(x_rev)"
   ]
  },
  {
   "cell_type": "code",
   "execution_count": 11,
   "metadata": {},
   "outputs": [],
   "source": [
    "def reverse(x):\n",
    "    if x < 0:\n",
    "        neg = True\n",
    "    x_rev = list(str(abs(x)))\n",
    "    x_rev.reverse()\n",
    "    x_rev = int(''.join(x_rev))\n",
    "\n",
    "    if abs(x_rev) > (2**31 - 1):\n",
    "        return 0\n",
    "    elif neg:\n",
    "        x_rev = x_rev*-1\n",
    "        return x_rev\n",
    "    else:\n",
    "        return x_rev"
   ]
  },
  {
   "cell_type": "code",
   "execution_count": 12,
   "metadata": {},
   "outputs": [
    {
     "data": {
      "text/plain": [
       "-563847412"
      ]
     },
     "execution_count": 12,
     "metadata": {},
     "output_type": "execute_result"
    }
   ],
   "source": [
    "# reverse(-2**32)\n",
    "reverse(-2**31-2)"
   ]
  },
  {
   "cell_type": "code",
   "execution_count": 1,
   "metadata": {},
   "outputs": [],
   "source": [
    "s = \"leetcode\"\n",
    "\n",
    "s_list = list(s)"
   ]
  },
  {
   "cell_type": "code",
   "execution_count": 2,
   "metadata": {},
   "outputs": [
    {
     "data": {
      "text/plain": [
       "['l', 'e', 'e', 't', 'c', 'o', 'd', 'e']"
      ]
     },
     "execution_count": 2,
     "metadata": {},
     "output_type": "execute_result"
    }
   ],
   "source": [
    "s_list"
   ]
  },
  {
   "cell_type": "code",
   "execution_count": 25,
   "metadata": {},
   "outputs": [],
   "source": [
    "def firstUniqChar(s):\n",
    "    s_list = list(s)\n",
    "    pos = -1\n",
    "    # for idx, val in enumerate(s_list):\n",
    "    idx = 0\n",
    "    while len(s_list) > 0:\n",
    "        val = s_list[idx]\n",
    "        new_list = s_list[:idx]+s_list[idx+1:]\n",
    "        print(s_list, val, new_list) \n",
    "        if val in new_list:\n",
    "            s_list = list(filter(lambda a: a != val, s_list))\n",
    "            print(s_list)\n",
    "        else:\n",
    "            pos = idx\n",
    "            break\n",
    "    \n",
    "    return pos"
   ]
  },
  {
   "cell_type": "code",
   "execution_count": 26,
   "metadata": {},
   "outputs": [
    {
     "name": "stdout",
     "output_type": "stream",
     "text": [
      "['a', 'a', 'b', 'b'] a ['a', 'b', 'b']\n",
      "['b', 'b']\n",
      "['b', 'b'] a ['b']\n"
     ]
    },
    {
     "data": {
      "text/plain": [
       "1"
      ]
     },
     "execution_count": 26,
     "metadata": {},
     "output_type": "execute_result"
    }
   ],
   "source": [
    "# s = \"leetcode\"\n",
    "# s = \"loveleetcode\"\n",
    "s = \"aabb\"\n",
    "firstUniqChar(s)"
   ]
  },
  {
   "cell_type": "code",
   "execution_count": 2,
   "metadata": {},
   "outputs": [
    {
     "data": {
      "text/plain": [
       "'Aman,aplan,acanal:Panama'"
      ]
     },
     "execution_count": 2,
     "metadata": {},
     "output_type": "execute_result"
    }
   ],
   "source": [
    "s = \"A man, a plan, a canal: Panama\"\n",
    "\n",
    "s.replace(' ','')"
   ]
  },
  {
   "cell_type": "code",
   "execution_count": 5,
   "metadata": {},
   "outputs": [
    {
     "data": {
      "text/plain": [
       "'amanaplanacanalpanama'"
      ]
     },
     "execution_count": 5,
     "metadata": {},
     "output_type": "execute_result"
    }
   ],
   "source": [
    "''.join(ch.lower() for ch in s if ch.isalpha())"
   ]
  },
  {
   "cell_type": "code",
   "execution_count": 7,
   "metadata": {},
   "outputs": [
    {
     "data": {
      "text/plain": [
       "'amanaplanacanalpanama'"
      ]
     },
     "execution_count": 7,
     "metadata": {},
     "output_type": "execute_result"
    }
   ],
   "source": [
    "s_clean = ''.join(ch.lower() for ch in s if ch.isalpha())\n",
    "s_rev = s_clean[::-1]\n",
    "s_rev"
   ]
  },
  {
   "cell_type": "code",
   "execution_count": 11,
   "metadata": {},
   "outputs": [],
   "source": [
    "def check_palindrome(s):\n",
    "    s_clean = ''.join(ch.lower() for ch in s if ch.isalnum())\n",
    "    s_rev = s_clean[::-1]\n",
    "    if s_rev == s_clean:\n",
    "        return True\n",
    "    else:\n",
    "        return False"
   ]
  },
  {
   "cell_type": "code",
   "execution_count": 12,
   "metadata": {},
   "outputs": [
    {
     "name": "stdout",
     "output_type": "stream",
     "text": [
      "False\n"
     ]
    }
   ],
   "source": [
    "# s = \"A man, a plan, a canal: Panama\"\n",
    "s = \"race a car\"\n",
    "s = '0P'\n",
    "\n",
    "print(check_palindrome(s))"
   ]
  },
  {
   "cell_type": "code",
   "execution_count": 10,
   "metadata": {},
   "outputs": [
    {
     "name": "stdout",
     "output_type": "stream",
     "text": [
      "['c']\n",
      "['c', 'a']\n",
      "['c', 'a', 'b']\n",
      "['a', 'b']\n",
      "['a', 'b', 'd']\n",
      "['a', 'b', 'd', 'e']\n",
      "['a', 'b', 'd', 'e', 'f']\n",
      "['b', 'd', 'e', 'f']\n",
      "['b', 'd', 'e', 'f', 'g']\n",
      "['b', 'd', 'e', 'f', 'g', 'h']\n",
      "5\n"
     ]
    }
   ],
   "source": [
    "# s = 'abcabcbb'\n",
    "# s = \"pwwkew\"\n",
    "# s = \"asdfghjk\"\n",
    "s = \"cabcbdeffgh\"\n",
    "\n",
    "sstr = []\n",
    "\n",
    "ss_len = 0\n",
    "for chr in s:\n",
    "    if chr not in sstr:\n",
    "        sstr.append(chr)\n",
    "        print(sstr)\n",
    "    elif len(sstr) > ss_len:\n",
    "        ss_len = len(sstr)\n",
    "        sstr = sstr[1:]\n",
    "        print(sstr)\n",
    "\n",
    "if ss_len == 0:\n",
    "    ss_len = len(sstr)\n",
    "\n",
    "print(ss_len)\n"
   ]
  },
  {
   "cell_type": "code",
   "execution_count": 6,
   "metadata": {},
   "outputs": [],
   "source": [
    "from typing import Optional\n",
    "\n",
    "class ListNode:\n",
    "    def __init__(self, val=0, next=None):\n",
    "        self.val = val\n",
    "        self.next = next\n",
    "\n",
    "\n",
    "class Solution:\n",
    "    def addTwoNumbers(self, l1: Optional[ListNode], l2: Optional[ListNode]) -> Optional[ListNode]:\n",
    "        len_l1 = len(l1)\n",
    "        len_l2 = len(l2)\n",
    "\n",
    "        outp = []\n",
    "        carry = 0\n",
    "        if len_l1 == len_l2:\n",
    "            for i in range(len_l1):\n",
    "                n1 = l1[i]\n",
    "                n2 = l2[i]\n",
    "                sum = n1+n2+carry\n",
    "                if sum > 9:\n",
    "                    carry = sum // 10\n",
    "                    sum = sum % 10\n",
    "                outp.append(sum)\n",
    "\n",
    "        return outp\n"
   ]
  },
  {
   "cell_type": "code",
   "execution_count": 8,
   "metadata": {},
   "outputs": [
    {
     "name": "stdout",
     "output_type": "stream",
     "text": [
      "[0]\n"
     ]
    }
   ],
   "source": [
    "sol = Solution()\n",
    "\n",
    "# l1 = [2, 4, 3]\n",
    "# l2 = [5, 6, 4]\n",
    "l1 = [0]\n",
    "l2 = [0]\n",
    "\n",
    "print(sol.addTwoNumbers(l1, l2))"
   ]
  },
  {
   "cell_type": "code",
   "execution_count": 1,
   "metadata": {},
   "outputs": [
    {
     "data": {
      "text/plain": [
       "3"
      ]
     },
     "execution_count": 1,
     "metadata": {},
     "output_type": "execute_result"
    }
   ],
   "source": [
    "13%10"
   ]
  },
  {
   "cell_type": "code",
   "execution_count": 3,
   "metadata": {},
   "outputs": [
    {
     "data": {
      "text/plain": [
       "1"
      ]
     },
     "execution_count": 3,
     "metadata": {},
     "output_type": "execute_result"
    }
   ],
   "source": [
    "13//10"
   ]
  },
  {
   "cell_type": "code",
   "execution_count": 17,
   "metadata": {},
   "outputs": [],
   "source": [
    "class Solution:\n",
    "    def lengthOfLongestSubstring(self, s: str) -> int:\n",
    "        sstr = []\n",
    "\n",
    "        ss_len = 0\n",
    "        for chr in s:            \n",
    "            if chr not in sstr:\n",
    "                sstr.append(chr)\n",
    "            elif len(sstr) > ss_len:\n",
    "                ss_len = len(sstr)\n",
    "                # find the index of the duplicate char\n",
    "                idx = sstr.index(chr)\n",
    "                if idx < len(sstr):\n",
    "                    sstr = sstr[idx+1:]\n",
    "                    sstr.append(chr)\n",
    "                else:\n",
    "                    sstr = []\n",
    "                ss_len = len(sstr)\n",
    "                print(sstr)\n",
    "\n",
    "        if ss_len == 0:\n",
    "            ss_len = len(sstr)\n",
    "\n",
    "        return ss_len"
   ]
  },
  {
   "cell_type": "code",
   "execution_count": 18,
   "metadata": {},
   "outputs": [
    {
     "name": "stdout",
     "output_type": "stream",
     "text": [
      "['a']\n",
      "1\n"
     ]
    }
   ],
   "source": [
    "sol = Solution()\n",
    "\n",
    "# s = \"abccbabb\"\n",
    "# s = \"pwwkew\"\n",
    "# s = \"bbbbb\"\n",
    "s = \"aab\"\n",
    "\n",
    "print(sol.lengthOfLongestSubstring(s))"
   ]
  },
  {
   "cell_type": "code",
   "execution_count": 25,
   "metadata": {},
   "outputs": [
    {
     "name": "stdout",
     "output_type": "stream",
     "text": [
      "['a']\n",
      "1\n",
      "['a']\n",
      "1\n",
      "['a', 'b']\n",
      "2\n"
     ]
    }
   ],
   "source": [
    "# s = \"abccbabb\"\n",
    "s = 'aab'\n",
    "\n",
    "leng = 0\n",
    "sstrg = []\n",
    "for chr in s:\n",
    "    if chr not in sstrg:\n",
    "        sstrg.append(chr)\n",
    "        if leng < len(sstrg):\n",
    "            leng = len(sstrg)\n",
    "    else:\n",
    "        if leng < len(sstrg):\n",
    "            leng = len(sstrg)\n",
    "        idx = sstrg.index(chr)\n",
    "        if idx == len(sstrg)-1:\n",
    "            sstrg = []\n",
    "            sstrg.append(chr)\n",
    "        else:\n",
    "            sstrg = sstrg[idx+1:]\n",
    "\n",
    "    print(sstrg)\n",
    "    print(leng)"
   ]
  },
  {
   "cell_type": "code",
   "execution_count": 28,
   "metadata": {},
   "outputs": [],
   "source": [
    "class Solution:\n",
    "    def lengthOfLongestSubstring(self, s: str) -> int:\n",
    "        sstr = []\n",
    "\n",
    "        ss_len = 0\n",
    "        for chr in s:            \n",
    "            if chr not in sstr:\n",
    "                sstr.append(chr)\n",
    "                if ss_len < len(sstr):\n",
    "                    ss_len = len(sstr)\n",
    "            elif len(sstr) > ss_len:\n",
    "                ss_len = len(sstr)\n",
    "                # find the index of the duplicate char\n",
    "                idx = sstr.index(chr)\n",
    "                if idx != len(sstrg)-1:\n",
    "                    sstr = sstr[idx+1:]\n",
    "                    sstr.append(chr)\n",
    "                else:\n",
    "                    sstr = []\n",
    "\n",
    "        if ss_len == 0:\n",
    "            ss_len = len(sstr)\n",
    "\n",
    "        return ss_len"
   ]
  },
  {
   "cell_type": "code",
   "execution_count": 29,
   "metadata": {},
   "outputs": [
    {
     "name": "stdout",
     "output_type": "stream",
     "text": [
      "4\n"
     ]
    }
   ],
   "source": [
    "sol = Solution()\n",
    "\n",
    "s = 'pwwkew'\n",
    "\n",
    "print(sol.lengthOfLongestSubstring(s))"
   ]
  },
  {
   "cell_type": "code",
   "execution_count": null,
   "metadata": {},
   "outputs": [],
   "source": [
    "s = \"babad\"\n",
    "\n",
    "pal = []\n",
    "for chr in s:\n",
    "    leng = 0\n",
    "    pal.append(chr)\n",
    "    if \"\".join(pal) == \"\".join(pal[::-1]):\n",
    "        leng = len(pal)\n",
    "    else:\n",
    "        \n",
    "\n",
    "\n"
   ]
  },
  {
   "cell_type": "code",
   "execution_count": 41,
   "metadata": {},
   "outputs": [],
   "source": [
    "s = \"PAYPALISHIRING\"\n",
    "row = 3\n",
    "\n",
    "split_rows = [[]] * row"
   ]
  },
  {
   "cell_type": "code",
   "execution_count": 48,
   "metadata": {},
   "outputs": [
    {
     "name": "stdout",
     "output_type": "stream",
     "text": [
      "0 P\n",
      "[['P'], [], []]\n",
      "1 A\n",
      "[['P'], ['A'], []]\n",
      "2 Y\n",
      "[['P'], ['A'], ['Y']]\n",
      "0 P\n",
      "[['P', 'P'], ['A'], ['Y']]\n",
      "1 A\n",
      "[['P', 'P'], ['A', 'A'], ['Y']]\n",
      "2 L\n",
      "[['P', 'P'], ['A', 'A'], ['Y', 'L']]\n",
      "0 I\n",
      "[['P', 'P', 'I'], ['A', 'A'], ['Y', 'L']]\n",
      "1 S\n",
      "[['P', 'P', 'I'], ['A', 'A', 'S'], ['Y', 'L']]\n",
      "2 H\n",
      "[['P', 'P', 'I'], ['A', 'A', 'S'], ['Y', 'L', 'H']]\n",
      "0 I\n",
      "[['P', 'P', 'I', 'I'], ['A', 'A', 'S'], ['Y', 'L', 'H']]\n",
      "1 R\n",
      "[['P', 'P', 'I', 'I'], ['A', 'A', 'S', 'R'], ['Y', 'L', 'H']]\n",
      "2 I\n",
      "[['P', 'P', 'I', 'I'], ['A', 'A', 'S', 'R'], ['Y', 'L', 'H', 'I']]\n",
      "0 N\n",
      "[['P', 'P', 'I', 'I', 'N'], ['A', 'A', 'S', 'R'], ['Y', 'L', 'H', 'I']]\n",
      "1 G\n",
      "[['P', 'P', 'I', 'I', 'N'], ['A', 'A', 'S', 'R', 'G'], ['Y', 'L', 'H', 'I']]\n"
     ]
    }
   ],
   "source": [
    "s = \"PAYPALISHIRING\"\n",
    "row = 3\n",
    "\n",
    "split_rows = []\n",
    "for i in range(row):\n",
    "    split_rows.append([])\n",
    "\n",
    "\n",
    "len_s = len(s)\n",
    "\n",
    "for i in range(len_s):\n",
    "    row_no = i % row\n",
    "    print(row_no, s[i])\n",
    "    split_rows[row_no].append(s[i])\n",
    "    print(split_rows)\n",
    "\n"
   ]
  },
  {
   "cell_type": "code",
   "execution_count": 37,
   "metadata": {},
   "outputs": [
    {
     "data": {
      "text/plain": [
       "[['P', 'A', 'Y', 'P', 'A', 'L', 'I', 'S', 'H', 'I', 'R', 'I', 'N', 'G'],\n",
       " ['P', 'A', 'Y', 'P', 'A', 'L', 'I', 'S', 'H', 'I', 'R', 'I', 'N', 'G'],\n",
       " ['P', 'A', 'Y', 'P', 'A', 'L', 'I', 'S', 'H', 'I', 'R', 'I', 'N', 'G']]"
      ]
     },
     "execution_count": 37,
     "metadata": {},
     "output_type": "execute_result"
    }
   ],
   "source": [
    "split_rows"
   ]
  },
  {
   "cell_type": "code",
   "execution_count": 69,
   "metadata": {},
   "outputs": [],
   "source": [
    "s = \"PAYPALISHIRING\"\n",
    "row = 3\n",
    "\n",
    "split_rows = []\n",
    "for i in range(row):\n",
    "    split_rows.append([])\n",
    "\n",
    "pos_fill_order = list(range(row))\n",
    "\n",
    "pos_fill_order = pos_fill_order + pos_fill_order[::-1][1:-1]\n",
    "\n",
    "\n",
    "factor = (len(s) // len(pos_fill_order) + 1)\n",
    "\n",
    "pos_fill_order = pos_fill_order * factor\n",
    "\n",
    "\n",
    "for idx, val in enumerate(s):\n",
    "    split_rows[pos_fill_order[idx]].append(val)\n",
    "    \n",
    "\n",
    "# merge into a single string\n",
    "split_rows = [\"\".join(lst) for lst in split_rows]\n",
    "output = \"\".join(split_rows)"
   ]
  },
  {
   "cell_type": "code",
   "execution_count": 70,
   "metadata": {},
   "outputs": [
    {
     "data": {
      "text/plain": [
       "'PAHNAPLSIIGYIR'"
      ]
     },
     "execution_count": 70,
     "metadata": {},
     "output_type": "execute_result"
    }
   ],
   "source": [
    "output"
   ]
  },
  {
   "cell_type": "code",
   "execution_count": 66,
   "metadata": {},
   "outputs": [
    {
     "data": {
      "text/plain": [
       "[['P', 'A', 'H', 'N'], ['A', 'P', 'L', 'S', 'I', 'I', 'G'], ['Y', 'I', 'R']]"
      ]
     },
     "execution_count": 66,
     "metadata": {},
     "output_type": "execute_result"
    }
   ],
   "source": [
    "split_rows"
   ]
  },
  {
   "cell_type": "code",
   "execution_count": 62,
   "metadata": {},
   "outputs": [
    {
     "name": "stdout",
     "output_type": "stream",
     "text": [
      "4\n",
      "[0, 1, 2, 1, 0, 1, 2, 1, 0, 1, 2, 1, 0, 1, 2, 1]\n"
     ]
    }
   ],
   "source": [
    "factor = (len(s) // len(pos_fill_order) + 1)\n",
    "print(factor)\n",
    "print(pos_fill_order * factor)\n"
   ]
  },
  {
   "cell_type": "code",
   "execution_count": 63,
   "metadata": {},
   "outputs": [
    {
     "ename": "IndexError",
     "evalue": "list index out of range",
     "output_type": "error",
     "traceback": [
      "\u001b[0;31m---------------------------------------------------------------------------\u001b[0m",
      "\u001b[0;31mIndexError\u001b[0m                                Traceback (most recent call last)",
      "Cell \u001b[0;32mIn [63], line 2\u001b[0m\n\u001b[1;32m      1\u001b[0m \u001b[39mfor\u001b[39;00m idx, val \u001b[39min\u001b[39;00m \u001b[39menumerate\u001b[39m(s):\n\u001b[0;32m----> 2\u001b[0m     split_rows[pos_fill_order[idx]]\u001b[39m.\u001b[39mappend(val)\n",
      "\u001b[0;31mIndexError\u001b[0m: list index out of range"
     ]
    }
   ],
   "source": [
    "for idx, val in enumerate(s):\n",
    "    split_rows[pos_fill_order[idx]].append(val)"
   ]
  },
  {
   "cell_type": "code",
   "execution_count": 64,
   "metadata": {},
   "outputs": [
    {
     "data": {
      "text/plain": [
       "[['P'], ['A', 'P'], ['Y']]"
      ]
     },
     "execution_count": 64,
     "metadata": {},
     "output_type": "execute_result"
    }
   ],
   "source": [
    "split_rows"
   ]
  },
  {
   "cell_type": "code",
   "execution_count": 71,
   "metadata": {},
   "outputs": [],
   "source": [
    "x = 121\n",
    "\n",
    "lst_x = list(str(x))\n",
    "revl_x = lst_x[::-1]\n",
    "\n",
    "new_x = \"\".join(lst_x)\n",
    "rev_x = \"\".join(revl_x)\n",
    "\n",
    "if rev_x == new_x:\n",
    "    return True\n",
    "else:\n",
    "    return False"
   ]
  },
  {
   "cell_type": "code",
   "execution_count": 72,
   "metadata": {},
   "outputs": [
    {
     "name": "stdout",
     "output_type": "stream",
     "text": [
      "['1', '2', '1']\n",
      "['1', '2', '1']\n"
     ]
    }
   ],
   "source": []
  },
  {
   "cell_type": "code",
   "execution_count": 20,
   "metadata": {},
   "outputs": [
    {
     "name": "stdout",
     "output_type": "stream",
     "text": [
      "1 9 9 4\n",
      "MCMXCIV\n"
     ]
    }
   ],
   "source": [
    "input = 1994\n",
    "\n",
    "output = \"\"\n",
    "\n",
    "# ones = input % 10\n",
    "# tens = input // 10\n",
    "# cents = input // 100\n",
    "\n",
    "\n",
    "thsnd = input // 1000\n",
    "input = input % 1000\n",
    "\n",
    "hndrd = input // 100\n",
    "input = input % 100\n",
    "\n",
    "tens = input // 10\n",
    "\n",
    "ones = input % 10\n",
    "\n",
    "\n",
    "print(thsnd, hndrd, tens, ones)\n",
    "\n",
    "\n",
    "if thsnd < 4:\n",
    "    for i in range(thsnd):\n",
    "        output+= \"M\"\n",
    "\n",
    "if hndrd < 4:\n",
    "    for i in range(hndrd):\n",
    "        output+= \"C\"\n",
    "elif hndrd == 4:\n",
    "    output+= \"CD\"\n",
    "elif hndrd > 4 and hndrd < 9:\n",
    "    output+= \"D\"\n",
    "    remaining = hndrd - 5\n",
    "    for i in range(remaining):\n",
    "        output+= \"C\"\n",
    "else:\n",
    "    # catering to 900\n",
    "    output += \"CM\"\n",
    "\n",
    "\n",
    "if tens < 4:\n",
    "    for i in range(tens):\n",
    "        output+= \"X\"\n",
    "elif tens == 4:\n",
    "    output+= \"XL\"\n",
    "elif tens > 4 and tens < 9:\n",
    "    output+= \"L\"\n",
    "    remaining = tens - 5\n",
    "    for i in range(remaining):\n",
    "        output+= \"X\"\n",
    "else:\n",
    "    # catering to 90\n",
    "    output += \"XC\"\n",
    "\n",
    "if ones < 4:\n",
    "    for i in range(ones):\n",
    "        output+= \"I\"\n",
    "elif ones == 4:\n",
    "    output+= \"IV\"\n",
    "elif ones > 4 and ones < 9:\n",
    "    output+= \"V\"\n",
    "    remaining = ones - 5\n",
    "    for i in range(remaining):\n",
    "            output+= \"I\"\n",
    "else:\n",
    "    # catering to 9\n",
    "    output += \"IX\"\n",
    "print(output)\n",
    "\n"
   ]
  },
  {
   "cell_type": "code",
   "execution_count": 25,
   "metadata": {},
   "outputs": [],
   "source": [
    "def convert_to_roman(number, small, medium=\"\", large=\"\"):\n",
    "    output = \"\"    \n",
    "    if number < 4:\n",
    "        for i in range(number):\n",
    "            output += small\n",
    "    elif number == 4:\n",
    "        output = output + small + medium\n",
    "    elif number > 4 and number < 9:\n",
    "        output += medium\n",
    "        remaining = number - 5\n",
    "        for i in range(remaining):\n",
    "            output += small\n",
    "    else:\n",
    "        output += small + large\n",
    "\n",
    "    return output\n"
   ]
  },
  {
   "cell_type": "code",
   "execution_count": 32,
   "metadata": {},
   "outputs": [
    {
     "name": "stdout",
     "output_type": "stream",
     "text": [
      "3 9 9 9\n",
      "MMMCMXCIX\n"
     ]
    }
   ],
   "source": [
    "input = 3999\n",
    "\n",
    "output = \"\"\n",
    "\n",
    "thsnd = input // 1000\n",
    "input = input % 1000\n",
    "\n",
    "hndrd = input // 100\n",
    "input = input % 100\n",
    "\n",
    "tens = input // 10\n",
    "\n",
    "ones = input % 10\n",
    "\n",
    "print(thsnd, hndrd, tens, ones)\n",
    "\n",
    "output += convert_to_roman(thsnd, \"M\")\n",
    "output += convert_to_roman(hndrd, \"C\", \"D\", \"M\")\n",
    "output += convert_to_roman(tens, \"X\", \"L\", \"C\")\n",
    "output += convert_to_roman(ones, \"I\", \"V\", \"X\")\n",
    "\n",
    "print(output)\n"
   ]
  },
  {
   "cell_type": "code",
   "execution_count": null,
   "metadata": {},
   "outputs": [],
   "source": []
  }
 ],
 "metadata": {
  "kernelspec": {
   "display_name": "Python 3.9.6 64-bit",
   "language": "python",
   "name": "python3"
  },
  "language_info": {
   "codemirror_mode": {
    "name": "ipython",
    "version": 3
   },
   "file_extension": ".py",
   "mimetype": "text/x-python",
   "name": "python",
   "nbconvert_exporter": "python",
   "pygments_lexer": "ipython3",
   "version": "3.9.6"
  },
  "orig_nbformat": 4,
  "vscode": {
   "interpreter": {
    "hash": "31f2aee4e71d21fbe5cf8b01ff0e069b9275f58929596ceb00d14d90e3e16cd6"
   }
  }
 },
 "nbformat": 4,
 "nbformat_minor": 2
}
