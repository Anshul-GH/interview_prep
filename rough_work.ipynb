{
 "cells": [
  {
   "cell_type": "code",
   "execution_count": null,
   "metadata": {},
   "outputs": [],
   "source": []
  },
  {
   "cell_type": "code",
   "execution_count": 3,
   "metadata": {},
   "outputs": [],
   "source": [
    "def two_sum(nums, target):\n",
    "    for i in range(len(nums)):\n",
    "        num = nums[i]\n",
    "        rem_lst = nums[0:i] + nums[i+1:]\n",
    "        if (target - num) in rem_lst:\n",
    "            return [nums.index(num), nums.index(target - num)]\n",
    "        else:\n",
    "            continue"
   ]
  },
  {
   "cell_type": "code",
   "execution_count": 6,
   "metadata": {},
   "outputs": [
    {
     "name": "stdout",
     "output_type": "stream",
     "text": [
      "[0, 0]\n"
     ]
    }
   ],
   "source": [
    "nums = [3,3] # [3,2,4] # [2,7,11,15]\n",
    "target = 6 #9\n",
    "\n",
    "# [2,7,11,15]\n",
    "# 9\n",
    "# [3,2,4]\n",
    "# 6\n",
    "# [3,3]\n",
    "# 6\n",
    "\n",
    "result = two_sum(nums, target)\n",
    "print(result)"
   ]
  },
  {
   "cell_type": "code",
   "execution_count": 9,
   "metadata": {},
   "outputs": [],
   "source": [
    "prices = [7,6,4,3,1]"
   ]
  },
  {
   "cell_type": "code",
   "execution_count": null,
   "metadata": {},
   "outputs": [],
   "source": [
    "def maxProfit(prices):\n",
    "    max_profit = 0\n",
    "    buy = True\n",
    "    for val in prices:\n",
    "        "
   ]
  },
  {
   "cell_type": "code",
   "execution_count": 2,
   "metadata": {},
   "outputs": [
    {
     "ename": "TypeError",
     "evalue": "unsupported operand type(s) for -: 'list' and 'int'",
     "output_type": "error",
     "traceback": [
      "\u001b[1;31m---------------------------------------------------------------------------\u001b[0m",
      "\u001b[1;31mTypeError\u001b[0m                                 Traceback (most recent call last)",
      "\u001b[1;32m<ipython-input-2-0d71bf5c4630>\u001b[0m in \u001b[0;36m<module>\u001b[1;34m\u001b[0m\n\u001b[1;32m----> 1\u001b[1;33m \u001b[0mprices\u001b[0m \u001b[1;33m-\u001b[0m \u001b[1;36m7\u001b[0m\u001b[1;33m\u001b[0m\u001b[1;33m\u001b[0m\u001b[0m\n\u001b[0m",
      "\u001b[1;31mTypeError\u001b[0m: unsupported operand type(s) for -: 'list' and 'int'"
     ]
    }
   ],
   "source": [
    "prices - 7"
   ]
  },
  {
   "cell_type": "code",
   "execution_count": 4,
   "metadata": {},
   "outputs": [],
   "source": [
    "prices_mod = [(val - 7) for val in prices]"
   ]
  },
  {
   "cell_type": "code",
   "execution_count": 5,
   "metadata": {},
   "outputs": [
    {
     "data": {
      "text/plain": [
       "[0, -1, -3, -4, -6]"
      ]
     },
     "execution_count": 5,
     "metadata": {},
     "output_type": "execute_result"
    }
   ],
   "source": [
    "prices_mod"
   ]
  },
  {
   "cell_type": "code",
   "execution_count": 20,
   "metadata": {},
   "outputs": [
    {
     "name": "stdout",
     "output_type": "stream",
     "text": [
      "6\n"
     ]
    }
   ],
   "source": [
    "# prices = [7,6,4,3,1]\n",
    "prices = [7,1,5,3,6,4]\n",
    "\n",
    "max_profit = 0\n",
    "for idx,val in enumerate(prices):\n",
    "    max_profit = max(max_profit, max([(amt - val) for amt in prices[idx:]]))\n",
    "\n",
    "print(max_profit)"
   ]
  },
  {
   "cell_type": "code",
   "execution_count": 21,
   "metadata": {},
   "outputs": [
    {
     "name": "stdout",
     "output_type": "stream",
     "text": [
      "[0, -6, -2, -4, -1, -3]\n",
      "[0, 4, 2, 5, 3]\n",
      "[0, -2, 1, -1]\n",
      "[0, 3, 1]\n",
      "[0, -2]\n",
      "[0]\n"
     ]
    }
   ],
   "source": [
    "for idx, val in enumerate(prices):\n",
    "    tmp = [(amt - val) for amt in prices[idx:]]\n",
    "    print(tmp)"
   ]
  },
  {
   "cell_type": "code",
   "execution_count": 17,
   "metadata": {},
   "outputs": [
    {
     "data": {
      "text/plain": [
       "[0]"
      ]
     },
     "execution_count": 17,
     "metadata": {},
     "output_type": "execute_result"
    }
   ],
   "source": [
    "tmp"
   ]
  },
  {
   "cell_type": "code",
   "execution_count": 22,
   "metadata": {},
   "outputs": [],
   "source": []
  },
  {
   "cell_type": "code",
   "execution_count": 28,
   "metadata": {},
   "outputs": [],
   "source": [
    "nums = [1,2,3,4,5,6,7]\n",
    "k = 3\n",
    "for i in range(k):\n",
    "    nums.insert(0, nums[-1])\n",
    "    nums.pop()\n",
    "    "
   ]
  },
  {
   "cell_type": "code",
   "execution_count": 29,
   "metadata": {},
   "outputs": [
    {
     "data": {
      "text/plain": [
       "[5, 6, 7, 1, 2, 3, 4]"
      ]
     },
     "execution_count": 29,
     "metadata": {},
     "output_type": "execute_result"
    }
   ],
   "source": [
    "nums"
   ]
  },
  {
   "cell_type": "code",
   "execution_count": 30,
   "metadata": {},
   "outputs": [],
   "source": [
    "def containsDuplicate(nums):\n",
    "    mod_nums = list(set(nums))\n",
    "    if len(mod_nums) == len(nums):\n",
    "        return False\n",
    "    else:\n",
    "        return True"
   ]
  },
  {
   "cell_type": "code",
   "execution_count": 33,
   "metadata": {},
   "outputs": [
    {
     "data": {
      "text/plain": [
       "True"
      ]
     },
     "execution_count": 33,
     "metadata": {},
     "output_type": "execute_result"
    }
   ],
   "source": [
    "nums = [1,2,3,1] #[1,2,3,4] #[1,1,1,3,3,4,3,2,4,2]\n",
    "containsDuplicate(nums)"
   ]
  },
  {
   "cell_type": "code",
   "execution_count": 34,
   "metadata": {},
   "outputs": [],
   "source": [
    "nums = [4,1,2,1,2]"
   ]
  },
  {
   "cell_type": "code",
   "execution_count": 35,
   "metadata": {},
   "outputs": [],
   "source": [
    "nums.sort()"
   ]
  },
  {
   "cell_type": "code",
   "execution_count": 36,
   "metadata": {},
   "outputs": [
    {
     "data": {
      "text/plain": [
       "[1, 1, 2, 2, 4]"
      ]
     },
     "execution_count": 36,
     "metadata": {},
     "output_type": "execute_result"
    }
   ],
   "source": [
    "nums"
   ]
  },
  {
   "cell_type": "code",
   "execution_count": 41,
   "metadata": {},
   "outputs": [
    {
     "name": "stdout",
     "output_type": "stream",
     "text": [
      "1\n"
     ]
    }
   ],
   "source": [
    "nums = [1] #[4,1,2,1,2] #[2,2,1]\n",
    "nums.sort()\n",
    "\n",
    "unique = -1\n",
    "count = 0\n",
    "\n",
    "while count<len(nums)-1:\n",
    "    if nums[count] == nums[count+1]:\n",
    "        count += 2\n",
    "        continue\n",
    "    else:\n",
    "        unique = nums[count]\n",
    "        break\n",
    "\n",
    "if unique == -1:\n",
    "    unique = nums[-1]\n",
    "\n",
    "print(unique)"
   ]
  },
  {
   "cell_type": "code",
   "execution_count": 8,
   "metadata": {},
   "outputs": [],
   "source": [
    "def intersect(nums1, nums2):\n",
    "    len1 = len(nums1)\n",
    "    len2 = len(nums2)\n",
    "    \n",
    "    intersec = []\n",
    "    if len1 < len2:\n",
    "        for val in nums1:\n",
    "            if val in nums2:\n",
    "                intersec.append(val)\n",
    "                nums2.remove(val)\n",
    "    else:\n",
    "        for val in nums2:\n",
    "            if val in nums1:\n",
    "                intersec.append(val)\n",
    "                nums1.remove(val)\n",
    "    \n",
    "    return intersec\n"
   ]
  },
  {
   "cell_type": "code",
   "execution_count": 11,
   "metadata": {},
   "outputs": [],
   "source": [
    "nums1 = [4,9,5] #[1,2] #[4,9,5] #[1,2,2,1]\n",
    "nums2 = [9,4,9,8,4] #[1,1] #[9,4,9,8,4] # [2,2]\n",
    "\n",
    "inter = intersect(nums1, nums2)"
   ]
  },
  {
   "cell_type": "code",
   "execution_count": 12,
   "metadata": {},
   "outputs": [
    {
     "data": {
      "text/plain": [
       "[4, 9]"
      ]
     },
     "execution_count": 12,
     "metadata": {},
     "output_type": "execute_result"
    }
   ],
   "source": [
    "inter"
   ]
  },
  {
   "cell_type": "code",
   "execution_count": 13,
   "metadata": {},
   "outputs": [],
   "source": [
    "def plusOne(digits):\n",
    "    rem = (digit[-1]+1) % 10\n",
    "    carry = int((digit[-1]+1) / 10)\n",
    "    digits[-1] = rem\n",
    "    \n",
    "    return digits"
   ]
  },
  {
   "cell_type": "code",
   "execution_count": 19,
   "metadata": {},
   "outputs": [
    {
     "data": {
      "text/plain": [
       "[10]"
      ]
     },
     "execution_count": 19,
     "metadata": {},
     "output_type": "execute_result"
    }
   ],
   "source": [
    "digits = [9] #[0] #[1,2,3] #[4,3,2,1]\n",
    "next_digits = plusOne(digits)\n",
    "next_digits"
   ]
  },
  {
   "cell_type": "code",
   "execution_count": 22,
   "metadata": {},
   "outputs": [
    {
     "data": {
      "text/plain": [
       "1"
      ]
     },
     "execution_count": 22,
     "metadata": {},
     "output_type": "execute_result"
    }
   ],
   "source": [
    "int(10/10)"
   ]
  },
  {
   "cell_type": "code",
   "execution_count": 1,
   "metadata": {},
   "outputs": [
    {
     "name": "stdout",
     "output_type": "stream",
     "text": [
      "[{'src_img_uri': 'gs://trn03-us-east1-open-bucket//bfs_redact//roi-detection/images//bus.jpg', 'des_dir': 'gs://trn03-us-east1-open-bucket//bfs_redact//roi-detection//results'}]\n"
     ]
    }
   ],
   "source": [
    "input_data = {\n",
    "\t'instances': [\n",
    "\t\t{\n",
    "\t\t\t'src_img_uri': 'gs://trn03-us-east1-open-bucket//bfs_redact//roi-detection/images//bus.jpg', \n",
    "\t\t\t'des_dir': 'gs://trn03-us-east1-open-bucket//bfs_redact//roi-detection//results'\n",
    "\t\t}\n",
    "\t]\n",
    "}\n",
    "\n",
    "files = input_data['instances']\n",
    "\n",
    "print(files)"
   ]
  },
  {
   "cell_type": "code",
   "execution_count": 2,
   "metadata": {},
   "outputs": [],
   "source": [
    "import json\n",
    "\n",
    "data = json.dumps({\"instances\": files})"
   ]
  },
  {
   "cell_type": "code",
   "execution_count": 3,
   "metadata": {},
   "outputs": [
    {
     "data": {
      "text/plain": [
       "'{\"instances\": [{\"src_img_uri\": \"gs://trn03-us-east1-open-bucket//bfs_redact//roi-detection/images//bus.jpg\", \"des_dir\": \"gs://trn03-us-east1-open-bucket//bfs_redact//roi-detection//results\"}]}'"
      ]
     },
     "execution_count": 3,
     "metadata": {},
     "output_type": "execute_result"
    }
   ],
   "source": [
    "data"
   ]
  },
  {
   "cell_type": "code",
   "execution_count": 22,
   "metadata": {},
   "outputs": [],
   "source": [
    "# def myAtoi(s):\n",
    "#     int_range = (-2**31, 2**31 -1)\n",
    "\n",
    "#     # int_range[0]\n",
    "#     # int_range[-1]\n",
    "\n",
    "#     # eliminate white spaces\n",
    "#     s = s.strip()\n",
    "\n",
    "#     # preserve the sign\n",
    "#     negative = False\n",
    "\n",
    "#     if len(s) > 1:\n",
    "#         if s[0] == '-':\n",
    "#             negative = True\n",
    "#             s = s[1:]\n",
    "\n",
    "#     if not negative:\n",
    "#         number = ''\n",
    "#     else:\n",
    "#         number = '-'\n",
    "\n",
    "#     digit_found = False\n",
    "\n",
    "#     count = 0\n",
    "#     chr = s[count]\n",
    "#     number += chr\n",
    "#     while chr.isdigit() and count < len(s)-1:\n",
    "#         count += 1        \n",
    "#         chr = s[count]\n",
    "#         number += chr\n",
    "\n",
    "#     print(number)      \n"
   ]
  },
  {
   "cell_type": "code",
   "execution_count": 26,
   "metadata": {},
   "outputs": [
    {
     "name": "stdout",
     "output_type": "stream",
     "text": [
      "4193 \n",
      "w\n"
     ]
    }
   ],
   "source": [
    "# # myAtoi('-10293')\n",
    "# # myAtoi(\"   -42\")\n",
    "# # myAtoi(\"4193 with words\")\n",
    "# myAtoi()"
   ]
  },
  {
   "cell_type": "code",
   "execution_count": 44,
   "metadata": {},
   "outputs": [],
   "source": [
    "\n",
    "def myAtoi(strg):\n",
    "    strg = strg.strip()\n",
    "    int_range = (-2**31, 2**31 -1)    \n",
    "    number = '0'\n",
    "\n",
    "    count = 0\n",
    "    if len(strg) > 0:\n",
    "        while count < len(strg):\n",
    "            if ord(strg[count]) == 45 and strg[count+1].isdigit():                \n",
    "                number = '-'\n",
    "                count += 1\n",
    "            elif 48 <= ord(strg[count]) <= 57:\n",
    "                if number == '0':\n",
    "                    number = strg[count]\n",
    "                else:\n",
    "                    number += strg[count]\n",
    "                count += 1\n",
    "                while count < len(strg) and 48 <= ord(strg[count]) <= 57:\n",
    "                    number += strg[count]\n",
    "                    count += 1\n",
    "                break\n",
    "            else:\n",
    "                # count += 1\n",
    "                break\n",
    "\n",
    "    number = int(number)\n",
    "    if int(number) < int_range[0]:\n",
    "        number = int_range[0]\n",
    "    elif int(number) > int_range[-1]:\n",
    "        number = int_range[-1]\n",
    "\n",
    "    return number\n"
   ]
  },
  {
   "cell_type": "code",
   "execution_count": 45,
   "metadata": {},
   "outputs": [
    {
     "data": {
      "text/plain": [
       "0"
      ]
     },
     "execution_count": 45,
     "metadata": {},
     "output_type": "execute_result"
    }
   ],
   "source": [
    "s = \"words and 987 test txt\"\n",
    "# s = '-10293'\n",
    "# s = \"   -42\"\n",
    "# s = \"4193 with words\"\n",
    "# s = \"-91283472332\"\n",
    "# s = \" ajdalsdj lanmd lajd jasldl aljdj alsl dslad 2147483648 aldjaslj daklsdal dldj aklsdl a\"\n",
    "\n",
    "myAtoi(s)"
   ]
  },
  {
   "cell_type": "code",
   "execution_count": 47,
   "metadata": {},
   "outputs": [
    {
     "name": "stdout",
     "output_type": "stream",
     "text": [
      "-42\n"
     ]
    }
   ],
   "source": [
    "s = '    -42'\n",
    "s = s.strip()\n",
    "\n",
    "print(s)"
   ]
  },
  {
   "cell_type": "code",
   "execution_count": 5,
   "metadata": {},
   "outputs": [],
   "source": [
    "haystack = \"hello\"\n",
    "needle = \"ll\"\n",
    "\n",
    "def strStr(haystack, needle):\n",
    "    found = False\n",
    "    if len(needle) == 0:\n",
    "        found = True\n",
    "        index = 0\n",
    "    else:\n",
    "        length = len(needle)\n",
    "        index = 0        \n",
    "        while (index + length < len(haystack)):\n",
    "            if haystack[index:index + length] == needle:\n",
    "                found = True\n",
    "                break\n",
    "            else:\n",
    "                index += 1\n",
    "    \n",
    "    if not found:\n",
    "        index = -1\n",
    "\n",
    "    return index\n",
    "        "
   ]
  },
  {
   "cell_type": "code",
   "execution_count": 9,
   "metadata": {},
   "outputs": [
    {
     "name": "stdout",
     "output_type": "stream",
     "text": [
      "0\n"
     ]
    }
   ],
   "source": [
    "haystack = \"hello\"\n",
    "needle = \"ll\"\n",
    "\n",
    "haystack = \"aaaaa\"\n",
    "needle = \"bba\"\n",
    "\n",
    "haystack = \"\"\n",
    "needle = \"\"\n",
    "\n",
    "print(strStr(haystack, needle))"
   ]
  },
  {
   "cell_type": "code",
   "execution_count": 13,
   "metadata": {},
   "outputs": [],
   "source": [
    "def say_the_number(num):    \n",
    "    number_to_say = ''\n",
    "    counter = 1\n",
    "\n",
    "    for idx, val in enumerate(num):\n",
    "        if idx < len(num)-1 and val == num[idx+1]:\n",
    "            counter += 1\n",
    "        else:\n",
    "            number_to_say += str(counter) + str(num[idx])\n",
    "            counter = 1\n",
    "\n",
    "    return number_to_say\n",
    "\n",
    "def countAndSay(n):\n",
    "    counter = 1\n",
    "    number = str(counter)\n",
    "    while counter < n:\n",
    "        number = say_the_number(number)\n",
    "        counter += 1\n",
    "\n",
    "    return number\n",
    "        \n",
    "    \n",
    "\n",
    "        \n",
    "\n",
    "#     for intj in num:\n",
    "#         num_to_be_said[int]\n",
    "\n",
    "\n",
    "# def countAndSay(n):\n",
    "#     if n == 1:\n",
    "#         return \"1\"\n",
    "#     else:\n",
    "#         return countAndSay(n-1)"
   ]
  },
  {
   "cell_type": "code",
   "execution_count": 6,
   "metadata": {},
   "outputs": [
    {
     "name": "stdout",
     "output_type": "stream",
     "text": [
      "111221\n"
     ]
    }
   ],
   "source": [
    "# # num = '1211'\n",
    "# num = '1'\n",
    "# num = '11'\n",
    "# num = '21'\n",
    "# num = '1211'\n",
    "# say_the_number(num)"
   ]
  },
  {
   "cell_type": "code",
   "execution_count": 14,
   "metadata": {},
   "outputs": [
    {
     "name": "stdout",
     "output_type": "stream",
     "text": [
      "1\n",
      "11\n",
      "21\n",
      "1211\n"
     ]
    }
   ],
   "source": [
    "print(countAndSay(1))\n",
    "print(countAndSay(2))\n",
    "print(countAndSay(3))\n",
    "print(countAndSay(4))"
   ]
  },
  {
   "cell_type": "code",
   "execution_count": 25,
   "metadata": {},
   "outputs": [],
   "source": [
    "strs = [\"flight\",\"flower\",\"flow\"]\n",
    "\n",
    "strs_len = [len(txt) for txt in strs]\n"
   ]
  },
  {
   "cell_type": "code",
   "execution_count": 26,
   "metadata": {},
   "outputs": [],
   "source": [
    "min_len = min(strs_len)"
   ]
  },
  {
   "cell_type": "code",
   "execution_count": 27,
   "metadata": {},
   "outputs": [
    {
     "name": "stdout",
     "output_type": "stream",
     "text": [
      "flig\n"
     ]
    }
   ],
   "source": [
    "lcp = ''\n",
    "for i in (range(min_len)):\n",
    "    for j in range(len(strs)-1):\n",
    "        if strs[j][i] != strs[j+1][i]:\n",
    "            break\n",
    "    lcp += strs[j][i]\n",
    "            \n",
    "\n",
    "print(lcp)"
   ]
  },
  {
   "cell_type": "code",
   "execution_count": 31,
   "metadata": {},
   "outputs": [],
   "source": [
    "lcp = ''\n",
    "strs = [\"flight\",\"flower\",\"flow\"]\n",
    "strs = [\"dog\",\"racecar\",\"car\"]\n",
    "\n",
    "min_len = min([len(txt) for txt in strs])\n",
    "\n",
    "for i in range(min_len):    \n",
    "    result = all(txt[:i] == strs[0][:i] for txt in strs)\n",
    "    if result:\n",
    "        lcp = strs[0][:i]\n",
    "    else:\n",
    "        break"
   ]
  },
  {
   "cell_type": "code",
   "execution_count": 32,
   "metadata": {},
   "outputs": [
    {
     "name": "stdout",
     "output_type": "stream",
     "text": [
      "\n"
     ]
    }
   ],
   "source": [
    "print(lcp)"
   ]
  },
  {
   "cell_type": "code",
   "execution_count": 1,
   "metadata": {},
   "outputs": [],
   "source": [
    "class ListNode:\n",
    "    def __init__(self, x):\n",
    "        self.val = x\n",
    "        self.next = None\n",
    "\n",
    "\n",
    "\n",
    "# class Solution:\n",
    "#     def deleteNode(self, node):\n",
    "#         \"\"\"\n",
    "#         :type node: ListNode\n",
    "#         :rtype: void Do not return anything, modify node in-place instead.\n",
    "#         \"\"\""
   ]
  },
  {
   "cell_type": "code",
   "execution_count": 2,
   "metadata": {},
   "outputs": [
    {
     "ename": "SyntaxError",
     "evalue": "unexpected EOF while parsing (<ipython-input-2-b07a12330658>, line 6)",
     "output_type": "error",
     "traceback": [
      "\u001b[0;36m  File \u001b[0;32m\"<ipython-input-2-b07a12330658>\"\u001b[0;36m, line \u001b[0;32m6\u001b[0m\n\u001b[0;31m    for element in head:\u001b[0m\n\u001b[0m                        ^\u001b[0m\n\u001b[0;31mSyntaxError\u001b[0m\u001b[0;31m:\u001b[0m unexpected EOF while parsing\n"
     ]
    }
   ],
   "source": [
    "head = [1,2,3,4]\n",
    "\n",
    "# tail element \n",
    "my_lst = ListNode(1)\n",
    "\n",
    "for element in head:\n",
    "    my_list = ListNode(element)\n",
    "    my_lst.next = my_list\n",
    "    \n"
   ]
  },
  {
   "cell_type": "code",
   "execution_count": null,
   "metadata": {},
   "outputs": [],
   "source": []
  }
 ],
 "metadata": {
  "interpreter": {
   "hash": "916e78022459d02449eb0e919933c0dffe7558a101efc3cf53aea168c8e1e9f5"
  },
  "kernelspec": {
   "display_name": "Python 3.8.3 64-bit ('base': conda)",
   "name": "python3"
  },
  "language_info": {
   "codemirror_mode": {
    "name": "ipython",
    "version": 3
   },
   "file_extension": ".py",
   "mimetype": "text/x-python",
   "name": "python",
   "nbconvert_exporter": "python",
   "pygments_lexer": "ipython3",
   "version": "3.8.8"
  },
  "orig_nbformat": 4
 },
 "nbformat": 4,
 "nbformat_minor": 2
}
