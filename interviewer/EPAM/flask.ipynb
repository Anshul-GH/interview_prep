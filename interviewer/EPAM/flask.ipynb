{
 "cells": [
  {
   "cell_type": "code",
   "execution_count": null,
   "metadata": {},
   "outputs": [],
   "source": [
    "# 1. Why is Flask called a Microframework?\n",
    "# Answer: Flask is called a microframework because Flask only provides core features such as request, routing, and blueprints. \n",
    "# For other features, such as Caching, ORM, forms, etc., we need to make use of Flask-Extensions.\n",
    "\n",
    "# 2. What do you mean by template engines in the Flask framework?\n",
    "# Answer: A template is a file that contains two types of data, i.e., static and dynamic. \n",
    "# Dynamic data in a template is populated during run time. \n",
    "# Flask makes use of Jinja2 template engine to let developers create HTML templates with placeholders for dynamic data.\n",
    "# These placeholders can be filled during run time by using Flask’s render_template method with required parameters and values\n",
    "\n"
   ]
  }
 ],
 "metadata": {
  "kernelspec": {
   "display_name": "Python 3.9.12 ('base')",
   "language": "python",
   "name": "python3"
  },
  "language_info": {
   "name": "python",
   "version": "3.9.12"
  },
  "orig_nbformat": 4,
  "vscode": {
   "interpreter": {
    "hash": "0e52070d4b81082243dbff9dce5218bc772acaf751673494d2244e64e0ce79b2"
   }
  }
 },
 "nbformat": 4,
 "nbformat_minor": 2
}
